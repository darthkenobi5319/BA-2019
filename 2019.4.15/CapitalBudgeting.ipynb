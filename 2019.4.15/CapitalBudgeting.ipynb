{
 "cells": [
  {
   "cell_type": "code",
   "execution_count": 1,
   "metadata": {},
   "outputs": [],
   "source": [
    "# Formulation:\n",
    "#\n",
    "#       min cx\n",
    "# s.t. Gx <= h, x[B] Binanry\n",
    "#      Ax == b, x[I] Integer\n",
    "#     \n",
    "# max    16000X1 + 8000X2 + 10000X3+ 19500X4 + 22000X5 + 12000X6 + 7500X7\n",
    "# s.t \n",
    "#        5000X1 + 2500X2 +  3500X3 + 6000X4 + 7000X5 + 4500X6 + 3000X7 <= 15000\n",
    "#                          \n",
    "#\n",
    "#    Xi (i = 1...9) >= 0, Xi=0,1\n",
    "\n",
    "\n",
    "\n"
   ]
  },
  {
   "cell_type": "code",
   "execution_count": 2,
   "metadata": {},
   "outputs": [
    {
     "name": "stdout",
     "output_type": "stream",
     "text": [
      "[ 1.60e+04]\n",
      "[ 8.00e+03]\n",
      "[ 1.00e+04]\n",
      "[ 1.95e+04]\n",
      "[ 2.20e+04]\n",
      "[ 1.20e+04]\n",
      "[ 7.50e+03]\n",
      "\n"
     ]
    }
   ],
   "source": [
    "from cvxopt.glpk import ilp\n",
    "import numpy as np\n",
    "from cvxopt import matrix\n",
    "c = matrix([[16000, 8000, 10000, 19500, 22000, 12000,7500]], tc='d') #coefficient of the NPV function\n",
    "print(c)"
   ]
  },
  {
   "cell_type": "code",
   "execution_count": 3,
   "metadata": {},
   "outputs": [
    {
     "name": "stdout",
     "output_type": "stream",
     "text": [
      "[ 5.00e+03  2.50e+03  3.50e+03  6.00e+03  7.00e+03  4.50e+03  3.00e+03]\n",
      "\n"
     ]
    }
   ],
   "source": [
    "## Define the LHS of the constraints\n",
    "\n",
    "coeff=np.array([[5000,2500,3500,6000,7000,4500,3000]],dtype=float) ##dtype: the data type, float stands for real numbers\n",
    "A=matrix(coeff)\n",
    "print(A)"
   ]
  },
  {
   "cell_type": "code",
   "execution_count": 4,
   "metadata": {},
   "outputs": [
    {
     "name": "stdout",
     "output_type": "stream",
     "text": [
      "[ 1.50e+04]\n",
      "\n"
     ]
    }
   ],
   "source": [
    "## Define the RHS of the constraint\n",
    "b = matrix([15000], tc='d')\n",
    "print(b)\n",
    "## All decision variables must be integers and binary variables\n",
    "I=set(range(7))\n",
    "B=set(range(7))\n",
    " "
   ]
  },
  {
   "cell_type": "code",
   "execution_count": 5,
   "metadata": {},
   "outputs": [],
   "source": [
    "(status,x)=ilp(-c,A,b,matrix(1.,(0,7)),matrix(1.,(0,1)),I,B) # -c is because we are maximizing the total NPV"
   ]
  },
  {
   "cell_type": "code",
   "execution_count": 6,
   "metadata": {},
   "outputs": [
    {
     "data": {
      "text/plain": [
       "'optimal'"
      ]
     },
     "execution_count": 6,
     "metadata": {},
     "output_type": "execute_result"
    }
   ],
   "source": [
    "status"
   ]
  },
  {
   "cell_type": "code",
   "execution_count": 7,
   "metadata": {},
   "outputs": [
    {
     "name": "stdout",
     "output_type": "stream",
     "text": [
      "[ 1.00e+00]\n",
      "[ 1.00e+00]\n",
      "[ 0.00e+00]\n",
      "[ 0.00e+00]\n",
      "[ 1.00e+00]\n",
      "[ 0.00e+00]\n",
      "[ 0.00e+00]\n",
      "\n"
     ]
    }
   ],
   "source": [
    "print(x)"
   ]
  },
  {
   "cell_type": "code",
   "execution_count": null,
   "metadata": {},
   "outputs": [],
   "source": []
  }
 ],
 "metadata": {
  "kernelspec": {
   "display_name": "Python 3",
   "language": "python",
   "name": "python3"
  },
  "language_info": {
   "codemirror_mode": {
    "name": "ipython",
    "version": 3
   },
   "file_extension": ".py",
   "mimetype": "text/x-python",
   "name": "python",
   "nbconvert_exporter": "python",
   "pygments_lexer": "ipython3",
   "version": "3.7.1"
  }
 },
 "nbformat": 4,
 "nbformat_minor": 2
}
