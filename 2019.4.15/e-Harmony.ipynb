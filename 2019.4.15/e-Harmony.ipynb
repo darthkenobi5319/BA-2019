{
 "cells": [
  {
   "cell_type": "code",
   "execution_count": 1,
   "metadata": {},
   "outputs": [],
   "source": [
    "# Formulation:\n",
    "#\n",
    "#       min cx\n",
    "# s.t. Gx <= h, x[B] Binanry\n",
    "#      Ax == b, x[I] Integer\n",
    "#     \n",
    "# max    X1 + 3X2 + 5X3 + 4X4 + 2X5 + 2X6 + X7 + 5X8 + 3X9\n",
    "# s.t \n",
    "#        X1 + X2 +  X3                                    <= 1\n",
    "#                          X4 + X5 + X6                   <= 1\n",
    "#                                           X7 + X8 +  X9 <= 1\n",
    "#        X1              + X4             + X7            <= 1\n",
    "#           + X2              + X5             + X8       <= 1\n",
    "#                   X3             + X6             +  X9 <= 1\n",
    "#\n",
    "#    Xi (i = 1...9) >= 0\n",
    "\n",
    "\n",
    "\n"
   ]
  },
  {
   "cell_type": "code",
   "execution_count": 7,
   "metadata": {
    "scrolled": true
   },
   "outputs": [
    {
     "name": "stdout",
     "output_type": "stream",
     "text": [
      "Help on built-in function ilp in module cvxopt.glpk:\n",
      "\n",
      "ilp(...)\n",
      "    Solves a mixed integer linear program using GLPK.\n",
      "    \n",
      "    (status, x) = ilp(c, G, h, A, b, I, B)\n",
      "    \n",
      "    PURPOSE\n",
      "    Solves the mixed integer linear programming problem\n",
      "    \n",
      "        minimize    c'*x\n",
      "        subject to  G*x <= h\n",
      "                    A*x = b\n",
      "                    x[k] is integer for k in I\n",
      "                    x[k] is binary for k in B\n",
      "    \n",
      "    ARGUMENTS\n",
      "    c            nx1 dense 'd' matrix with n>=1\n",
      "    \n",
      "    G            mxn dense or sparse 'd' matrix with m>=1\n",
      "    \n",
      "    h            mx1 dense 'd' matrix\n",
      "    \n",
      "    A            pxn dense or sparse 'd' matrix with p>=0\n",
      "    \n",
      "    b            px1 dense 'd' matrix\n",
      "    \n",
      "    I            set of indices of integer variables\n",
      "    \n",
      "    B            set of indices of binary variables\n",
      "    \n",
      "    status       if status is 'optimal', 'feasible', or 'undefined',\n",
      "                 a value of x is returned and the status string \n",
      "                 gives the status of x.  Other possible values of              status are:  'invalid formulation', \n",
      "                 'infeasible problem', 'LP relaxation is primal \n",
      "                 infeasible', 'LP relaxation is dual infeasible', \n",
      "                 'unknown'.\n",
      "    \n",
      "    x            a (sub-)optimal solution if status is 'optimal', \n",
      "                 'feasible', or 'undefined'.  None otherwise\n",
      "\n",
      "None\n",
      "[ 1.00e+00]\n",
      "[ 3.00e+00]\n",
      "[ 5.00e+00]\n",
      "[ 4.00e+00]\n",
      "[ 2.00e+00]\n",
      "[ 2.00e+00]\n",
      "[ 1.00e+00]\n",
      "[ 5.00e+00]\n",
      "[ 3.00e+00]\n",
      "\n"
     ]
    }
   ],
   "source": [
    "from cvxopt.glpk import ilp\n",
    "import numpy as np\n",
    "from cvxopt import matrix\n",
    "print (help(ilp))\n",
    "c = matrix([[1,3,5,4,2,2,1,5,3]], tc='d') #coefficient of cost function, 9 variables\n",
    "print(c)"
   ]
  },
  {
   "cell_type": "code",
   "execution_count": 8,
   "metadata": {},
   "outputs": [
    {
     "name": "stdout",
     "output_type": "stream",
     "text": [
      "[ 1.00e+00  1.00e+00  1.00e+00  0.00e+00  0.00e+00  0.00e+00  0.00e+00 ... ]\n",
      "[ 0.00e+00  0.00e+00  0.00e+00  1.00e+00  1.00e+00  1.00e+00  0.00e+00 ... ]\n",
      "[ 0.00e+00  0.00e+00  0.00e+00  0.00e+00  0.00e+00  0.00e+00  1.00e+00 ... ]\n",
      "[ 1.00e+00  0.00e+00  0.00e+00  1.00e+00  0.00e+00  0.00e+00  1.00e+00 ... ]\n",
      "[ 0.00e+00  1.00e+00  0.00e+00  0.00e+00  1.00e+00  0.00e+00  0.00e+00 ... ]\n",
      "[ 0.00e+00  0.00e+00  1.00e+00  0.00e+00  0.00e+00  1.00e+00  0.00e+00 ... ]\n",
      "\n"
     ]
    }
   ],
   "source": [
    "## Input the coefficient (left-hand side) matrix of the constraints \n",
    "coeff=np.array([[1,1,1,0,0,0,0,0,0],\n",
    "                [0,0,0,1,1,1,0,0,0],\n",
    "                [0,0,0,0,0,0,1,1,1],\n",
    "                [1,0,0,1,0,0,1,0,0],\n",
    "                [0,1,0,0,1,0,0,1,0],\n",
    "                [0,0,1,0,0,1,0,0,1]\n",
    "                ],dtype=float)\n",
    "A=matrix(coeff)\n",
    "print(A)"
   ]
  },
  {
   "cell_type": "code",
   "execution_count": 9,
   "metadata": {},
   "outputs": [
    {
     "name": "stdout",
     "output_type": "stream",
     "text": [
      "[ 1.00e+00]\n",
      "[ 1.00e+00]\n",
      "[ 1.00e+00]\n",
      "[ 1.00e+00]\n",
      "[ 1.00e+00]\n",
      "[ 1.00e+00]\n",
      "\n",
      "{0, 1, 2, 3, 4, 5, 6, 7, 8}\n",
      "{0, 1, 2, 3, 4, 5, 6, 7, 8}\n"
     ]
    }
   ],
   "source": [
    "##Input the right-hand side vector of the constraint\n",
    "\n",
    "b = matrix([1,1,1,1,1,1], tc='d')\n",
    "print(b)\n",
    "\n",
    "## I is the set of decision variables that take integer values\n",
    "## B is the set of decision variables that take binary values\n",
    "\n",
    "I=set(range(9))\n",
    "B=set(range(9))\n",
    "\n",
    "print(I)\n",
    "print(B)"
   ]
  },
  {
   "cell_type": "code",
   "execution_count": 10,
   "metadata": {},
   "outputs": [],
   "source": [
    "(status,x)=ilp(-c,A,b,A,b,I,B) # -c is because we are maximizing the total compatibility score between matches"
   ]
  },
  {
   "cell_type": "code",
   "execution_count": 11,
   "metadata": {},
   "outputs": [
    {
     "data": {
      "text/plain": [
       "'optimal'"
      ]
     },
     "execution_count": 11,
     "metadata": {},
     "output_type": "execute_result"
    }
   ],
   "source": [
    "status"
   ]
  },
  {
   "cell_type": "code",
   "execution_count": 12,
   "metadata": {},
   "outputs": [
    {
     "name": "stdout",
     "output_type": "stream",
     "text": [
      "[ 0.00e+00]\n",
      "[ 0.00e+00]\n",
      "[ 1.00e+00]\n",
      "[ 1.00e+00]\n",
      "[ 0.00e+00]\n",
      "[ 0.00e+00]\n",
      "[ 0.00e+00]\n",
      "[ 1.00e+00]\n",
      "[ 0.00e+00]\n",
      "\n"
     ]
    }
   ],
   "source": [
    "print(x)"
   ]
  },
  {
   "cell_type": "code",
   "execution_count": 13,
   "metadata": {},
   "outputs": [
    {
     "name": "stdout",
     "output_type": "stream",
     "text": [
      "[ 1.00e+00  1.00e+00  1.00e+00  0.00e+00  0.00e+00  0.00e+00  0.00e+00 ... ]\n",
      "[ 0.00e+00  0.00e+00  0.00e+00  1.00e+00  1.00e+00  1.00e+00  0.00e+00 ... ]\n",
      "[ 0.00e+00  0.00e+00  0.00e+00  0.00e+00  0.00e+00  0.00e+00  1.00e+00 ... ]\n",
      "[ 1.00e+00  0.00e+00  0.00e+00  1.00e+00  0.00e+00  0.00e+00  1.00e+00 ... ]\n",
      "[ 0.00e+00  1.00e+00  0.00e+00  0.00e+00  1.00e+00  0.00e+00  0.00e+00 ... ]\n",
      "[ 0.00e+00  0.00e+00  1.00e+00  0.00e+00  0.00e+00  1.00e+00  0.00e+00 ... ]\n",
      "[-1.00e+00  0.00e+00  0.00e+00  0.00e+00  0.00e+00  0.00e+00  0.00e+00 ... ]\n",
      "[ 0.00e+00 -1.00e+00  0.00e+00  0.00e+00  0.00e+00  0.00e+00  0.00e+00 ... ]\n",
      "[ 0.00e+00  0.00e+00 -1.00e+00  0.00e+00  0.00e+00  0.00e+00  0.00e+00 ... ]\n",
      "[ 0.00e+00  0.00e+00  0.00e+00 -1.00e+00  0.00e+00  0.00e+00  0.00e+00 ... ]\n",
      "[ 0.00e+00  0.00e+00  0.00e+00  0.00e+00 -1.00e+00  0.00e+00  0.00e+00 ... ]\n",
      "[ 0.00e+00  0.00e+00  0.00e+00  0.00e+00  0.00e+00 -1.00e+00  0.00e+00 ... ]\n",
      "[ 0.00e+00  0.00e+00  0.00e+00  0.00e+00  0.00e+00  0.00e+00 -1.00e+00 ... ]\n",
      "[ 0.00e+00  0.00e+00  0.00e+00  0.00e+00  0.00e+00  0.00e+00  0.00e+00 ... ]\n",
      "[ 0.00e+00  0.00e+00  0.00e+00  0.00e+00  0.00e+00  0.00e+00  0.00e+00 ... ]\n",
      "\n",
      "     pcost       dcost       gap    pres   dres   k/t\n",
      " 0: -7.4286e+00 -2.7571e+01  1e+01  0e+00  1e+00  1e+00\n",
      " 1: -1.3016e+01 -1.6902e+01  2e+00  2e-16  2e-01  1e-01\n",
      " 2: -1.3972e+01 -1.4068e+01  5e-02  2e-16  5e-03  3e-03\n",
      " 3: -1.4000e+01 -1.4001e+01  5e-04  2e-16  5e-05  3e-05\n",
      " 4: -1.4000e+01 -1.4000e+01  5e-06  3e-16  5e-07  3e-07\n",
      " 5: -1.4000e+01 -1.4000e+01  5e-08  3e-16  5e-09  3e-09\n",
      "Optimal solution found.\n",
      "[ 1.30e-10]\n",
      "[ 6.83e-10]\n",
      "[ 1.00e+00]\n",
      "[ 1.00e+00]\n",
      "[ 2.95e-10]\n",
      "[ 2.95e-10]\n",
      "[ 1.30e-10]\n",
      "[ 1.00e+00]\n",
      "[ 6.83e-10]\n",
      "\n"
     ]
    }
   ],
   "source": [
    "### Relax the integer/binary constraint\n",
    "\n",
    "from cvxopt import solvers\n",
    "Coeff_LP = matrix([[1,0,0,1,0,0,-1,0,0,0,0,0,0,0,0], [1,0,0,0,1,0,0,-1,0,0,0,0,0,0,0],[1,0,0,0,0,1,0,0,-1,0,0,0,0,0,0],\n",
    "            [0,1,0,1,0,0,0,0,0,-1,0,0,0,0,0],[0,1,0,0,1,0,0,0,0,0,-1,0,0,0,0],\n",
    "            [0,1,0,0,0,1,0,0,0,0,0,-1,0,0,0],[0,0,1,1,0,0,0,0,0,0,0,0,-1,0,0],\n",
    "            [0,0,1,0,1,0,0,0,0,0,0,0,0,-1,0],[0,0,1,0,0,1,0,0,0,0,0,0,0,0,-1]],tc='d')\n",
    "print(Coeff_LP)\n",
    "RHS_LP = matrix([1,1,1,1,1,1,0,0,0,0,0,0,0,0,0],tc='d')\n",
    "\n",
    "sol = solvers.lp(-c, Coeff_LP, RHS_LP) # We use -c because we are maximizing revenue\n",
    "print (sol['x'])"
   ]
  },
  {
   "cell_type": "code",
   "execution_count": null,
   "metadata": {},
   "outputs": [],
   "source": []
  }
 ],
 "metadata": {
  "kernelspec": {
   "display_name": "Python 3",
   "language": "python",
   "name": "python3"
  },
  "language_info": {
   "codemirror_mode": {
    "name": "ipython",
    "version": 3
   },
   "file_extension": ".py",
   "mimetype": "text/x-python",
   "name": "python",
   "nbconvert_exporter": "python",
   "pygments_lexer": "ipython3",
   "version": "3.7.1"
  }
 },
 "nbformat": 4,
 "nbformat_minor": 2
}
