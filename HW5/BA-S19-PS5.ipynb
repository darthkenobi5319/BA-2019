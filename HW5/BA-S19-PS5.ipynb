{
 "cells": [
  {
   "cell_type": "markdown",
   "metadata": {},
   "source": [
    "## Question 1\n",
    "\n",
    "### (A)"
   ]
  },
  {
   "cell_type": "code",
   "execution_count": 1,
   "metadata": {},
   "outputs": [],
   "source": [
    "#Import necessary Python packages\n",
    "import pandas as pd\n",
    "import numpy as np\n",
    "import matplotlib.pyplot as plt\n",
    "%matplotlib inline\n",
    "from sklearn import datasets, linear_model\n",
    "from sklearn.metrics import mean_squared_error, r2_score"
   ]
  },
  {
   "cell_type": "code",
   "execution_count": 10,
   "metadata": {},
   "outputs": [],
   "source": [
    "X =  np.array([0,1,3,4,8,9]).reshape(-1,1)"
   ]
  },
  {
   "cell_type": "code",
   "execution_count": 11,
   "metadata": {},
   "outputs": [
    {
     "name": "stdout",
     "output_type": "stream",
     "text": [
      "[[0]\n",
      " [1]\n",
      " [3]\n",
      " [4]\n",
      " [8]\n",
      " [9]]\n"
     ]
    }
   ],
   "source": [
    "print(X)"
   ]
  },
  {
   "cell_type": "code",
   "execution_count": 12,
   "metadata": {},
   "outputs": [
    {
     "data": {
      "text/plain": [
       "array([2, 2, 1, 1, 0, 0], dtype=int64)"
      ]
     },
     "execution_count": 12,
     "metadata": {},
     "output_type": "execute_result"
    }
   ],
   "source": [
    "from sklearn.cluster import AgglomerativeClustering\n",
    "clustering1 = AgglomerativeClustering(n_clusters=3,linkage='ward').fit(X)\n",
    "clustering1.labels_"
   ]
  },
  {
   "cell_type": "code",
   "execution_count": 13,
   "metadata": {},
   "outputs": [],
   "source": [
    "def plot_dendrogram(model, **kwargs):\n",
    "    from scipy.cluster.hierarchy import dendrogram, linkage\n",
    "    from sklearn.cluster import AgglomerativeClustering\n",
    "    from sklearn.datasets import load_iris\n",
    "    # Children of hierarchical clustering\n",
    "    children = model.children_\n",
    "    distance = np.arange(children.shape[0])\n",
    "    # The number of observations contained in each cluster level\n",
    "    no_of_observations = np.arange(2, children.shape[0]+2)\n",
    "    # Create linkage matrix and then plot the dendrogram\n",
    "    linkage_matrix = np.column_stack([children, distance, no_of_observations]).astype(float)\n",
    "    # Plot the corresponding dendrogram\n",
    "    dendrogram(linkage_matrix, **kwargs)\n",
    "    return"
   ]
  },
  {
   "cell_type": "code",
   "execution_count": 14,
   "metadata": {},
   "outputs": [
    {
     "data": {
      "image/png": "[encoded data removed]",
      "text/plain": [
       "<Figure size 432x288 with 1 Axes>"
      ]
     },
     "metadata": {
      "needs_background": "light"
     },
     "output_type": "display_data"
    }
   ],
   "source": [
    "plt.title('Hierarchical Clustering Dendrogram')\n",
    "plot_dendrogram(clustering1, labels=clustering1.labels_)\n",
    "plt.show()"
   ]
  },
  {
   "cell_type": "markdown",
   "metadata": {},
   "source": [
    "### (C)"
   ]
  },
  {
   "cell_type": "code",
   "execution_count": 16,
   "metadata": {},
   "outputs": [
    {
     "name": "stdout",
     "output_type": "stream",
     "text": [
      "[0 0 0 1 1 1]\n",
      "[0 0 0 1 1 1]\n",
      "[[1.33333333 2.        ]\n",
      " [7.         5.        ]]\n"
     ]
    },
    {
     "name": "stderr",
     "output_type": "stream",
     "text": [
      "C:\\Users\\pc\\Anaconda3\\lib\\site-packages\\sklearn\\cluster\\k_means_.py:896: RuntimeWarning: Explicit initial center position passed: performing only one init in k-means instead of n_init=10\n",
      "  return_n_iter=True)\n"
     ]
    }
   ],
   "source": [
    "#Train k-means model\n",
    "\n",
    "from sklearn.cluster import KMeans\n",
    "kinit = np.array([[3,3],[4,4]])\n",
    "kmeans = KMeans(n_clusters=2, random_state=0, max_iter=1000,init = kinit).fit(X)\n",
    "print(kmeans.labels_)\n",
    "##For a new data point, predict which cluster it belongs to.\n",
    "print(kmeans.predict(X))\n",
    "##The center of each cluster\n",
    "print(kmeans.cluster_centers_)"
   ]
  },
  {
   "cell_type": "markdown",
   "metadata": {},
   "source": [
    "## Question 2"
   ]
  },
  {
   "cell_type": "code",
   "execution_count": 15,
   "metadata": {},
   "outputs": [
    {
     "data": {
      "text/html": [
       "<div>\n",
       "<style scoped>\n",
       "    .dataframe tbody tr th:only-of-type {\n",
       "        vertical-align: middle;\n",
       "    }\n",
       "\n",
       "    .dataframe tbody tr th {\n",
       "        vertical-align: top;\n",
       "    }\n",
       "\n",
       "    .dataframe thead th {\n",
       "        text-align: right;\n",
       "    }\n",
       "</style>\n",
       "<table border=\"1\" class=\"dataframe\">\n",
       "  <thead>\n",
       "    <tr style=\"text-align: right;\">\n",
       "      <th></th>\n",
       "      <th>ReturnJan</th>\n",
       "      <th>ReturnFeb</th>\n",
       "      <th>ReturnMar</th>\n",
       "      <th>ReturnApr</th>\n",
       "      <th>ReturnMay</th>\n",
       "      <th>ReturnJune</th>\n",
       "      <th>ReturnJuly</th>\n",
       "      <th>ReturnAug</th>\n",
       "      <th>ReturnSep</th>\n",
       "      <th>ReturnOct</th>\n",
       "      <th>ReturnNov</th>\n",
       "      <th>PositiveDec</th>\n",
       "    </tr>\n",
       "  </thead>\n",
       "  <tbody>\n",
       "    <tr>\n",
       "      <th>0</th>\n",
       "      <td>0.080678</td>\n",
       "      <td>0.066250</td>\n",
       "      <td>0.032941</td>\n",
       "      <td>0.183099</td>\n",
       "      <td>0.130334</td>\n",
       "      <td>-0.017642</td>\n",
       "      <td>-0.020517</td>\n",
       "      <td>0.024676</td>\n",
       "      <td>-0.020408</td>\n",
       "      <td>-0.173318</td>\n",
       "      <td>-0.025385</td>\n",
       "      <td>0</td>\n",
       "    </tr>\n",
       "    <tr>\n",
       "      <th>1</th>\n",
       "      <td>-0.010680</td>\n",
       "      <td>0.102115</td>\n",
       "      <td>0.145496</td>\n",
       "      <td>-0.084428</td>\n",
       "      <td>-0.327300</td>\n",
       "      <td>-0.359266</td>\n",
       "      <td>-0.025321</td>\n",
       "      <td>0.211290</td>\n",
       "      <td>-0.580003</td>\n",
       "      <td>-0.267141</td>\n",
       "      <td>-0.151235</td>\n",
       "      <td>0</td>\n",
       "    </tr>\n",
       "    <tr>\n",
       "      <th>2</th>\n",
       "      <td>0.047742</td>\n",
       "      <td>0.035990</td>\n",
       "      <td>0.039702</td>\n",
       "      <td>-0.162353</td>\n",
       "      <td>-0.147427</td>\n",
       "      <td>0.048589</td>\n",
       "      <td>-0.135385</td>\n",
       "      <td>0.033392</td>\n",
       "      <td>0.000000</td>\n",
       "      <td>0.091696</td>\n",
       "      <td>-0.059561</td>\n",
       "      <td>0</td>\n",
       "    </tr>\n",
       "    <tr>\n",
       "      <th>3</th>\n",
       "      <td>-0.074040</td>\n",
       "      <td>-0.048170</td>\n",
       "      <td>0.018219</td>\n",
       "      <td>-0.024679</td>\n",
       "      <td>-0.006036</td>\n",
       "      <td>-0.025304</td>\n",
       "      <td>-0.094000</td>\n",
       "      <td>0.095290</td>\n",
       "      <td>0.056680</td>\n",
       "      <td>-0.096339</td>\n",
       "      <td>-0.040512</td>\n",
       "      <td>1</td>\n",
       "    </tr>\n",
       "    <tr>\n",
       "      <th>4</th>\n",
       "      <td>-0.031046</td>\n",
       "      <td>-0.212677</td>\n",
       "      <td>0.091476</td>\n",
       "      <td>0.189338</td>\n",
       "      <td>-0.153846</td>\n",
       "      <td>-0.106115</td>\n",
       "      <td>0.355301</td>\n",
       "      <td>0.056842</td>\n",
       "      <td>0.033602</td>\n",
       "      <td>0.036269</td>\n",
       "      <td>-0.085305</td>\n",
       "      <td>1</td>\n",
       "    </tr>\n",
       "  </tbody>\n",
       "</table>\n",
       "</div>"
      ],
      "text/plain": [
       "   ReturnJan  ReturnFeb  ReturnMar  ReturnApr  ReturnMay  ReturnJune  \\\n",
       "0   0.080678   0.066250   0.032941   0.183099   0.130334   -0.017642   \n",
       "1  -0.010680   0.102115   0.145496  -0.084428  -0.327300   -0.359266   \n",
       "2   0.047742   0.035990   0.039702  -0.162353  -0.147427    0.048589   \n",
       "3  -0.074040  -0.048170   0.018219  -0.024679  -0.006036   -0.025304   \n",
       "4  -0.031046  -0.212677   0.091476   0.189338  -0.153846   -0.106115   \n",
       "\n",
       "   ReturnJuly  ReturnAug  ReturnSep  ReturnOct  ReturnNov  PositiveDec  \n",
       "0   -0.020517   0.024676  -0.020408  -0.173318  -0.025385            0  \n",
       "1   -0.025321   0.211290  -0.580003  -0.267141  -0.151235            0  \n",
       "2   -0.135385   0.033392   0.000000   0.091696  -0.059561            0  \n",
       "3   -0.094000   0.095290   0.056680  -0.096339  -0.040512            1  \n",
       "4    0.355301   0.056842   0.033602   0.036269  -0.085305            1  "
      ]
     },
     "execution_count": 15,
     "metadata": {},
     "output_type": "execute_result"
    }
   ],
   "source": [
    "stock = pd.read_csv(\"D:/study/Business Analytics/LA/HW5/stock.csv\")\n",
    "stock_data = np.array(stock)\n",
    "stock.head()"
   ]
  },
  {
   "cell_type": "code",
   "execution_count": 4,
   "metadata": {},
   "outputs": [
    {
     "name": "stdout",
     "output_type": "stream",
     "text": [
      "(11580, 12)\n"
     ]
    }
   ],
   "source": [
    "print(stock_data.shape)"
   ]
  },
  {
   "cell_type": "markdown",
   "metadata": {},
   "source": [
    "### (A)"
   ]
  },
  {
   "cell_type": "code",
   "execution_count": 5,
   "metadata": {},
   "outputs": [
    {
     "name": "stdout",
     "output_type": "stream",
     "text": [
      "(11580, 11)\n"
     ]
    }
   ],
   "source": [
    "# perform a train-test split\n",
    "from sklearn.model_selection import train_test_split\n",
    "y = stock_data[:,-1].astype('int')\n",
    "X = stock_data[:,:-1]\n",
    "print(X.shape)\n",
    "X_train, X_test, y_train, y_test = train_test_split(X, y, test_size=0.2)"
   ]
  },
  {
   "cell_type": "code",
   "execution_count": 83,
   "metadata": {},
   "outputs": [
    {
     "name": "stdout",
     "output_type": "stream",
     "text": [
      "best score is: 0.5705958549222798\n",
      "best params are: {'C': 0.28117686979742307}\n"
     ]
    }
   ],
   "source": [
    "# use gridserchCV to train-validate\n",
    "\n",
    "from sklearn.model_selection import GridSearchCV\n",
    "param_test = {\n",
    "        'C':np.logspace(-3, 3)\n",
    "    }\n",
    "estimator = linear_model.LogisticRegression(penalty='l1')  \n",
    "gsearch = GridSearchCV( estimator , param_grid = param_test, cv=10 ,scoring='accuracy')\n",
    "gsearch.fit(X_train,y_train)\n",
    "gsearch.best_params_, gsearch.best_score_\n",
    "print('best score is:',str(gsearch.best_score_))\n",
    "print('best params are:',str(gsearch.best_params_))"
   ]
  },
  {
   "cell_type": "code",
   "execution_count": 84,
   "metadata": {},
   "outputs": [],
   "source": [
    "# retrain & test\n",
    "model1 = linear_model.LogisticRegression(C = gsearch.best_params_['C'] ,penalty='l1') \n",
    "model1.fit(X_train,y_train)\n",
    "y_pred_prob = model1.predict_proba(X_test)"
   ]
  },
  {
   "cell_type": "code",
   "execution_count": 85,
   "metadata": {},
   "outputs": [
    {
     "data": {
      "image/png": "[encoded data removed]",
      "text/plain": [
       "<Figure size 432x288 with 1 Axes>"
      ]
     },
     "metadata": {
      "needs_background": "light"
     },
     "output_type": "display_data"
    },
    {
     "data": {
      "text/plain": [
       "0.5907774536636896"
      ]
     },
     "execution_count": 85,
     "metadata": {},
     "output_type": "execute_result"
    }
   ],
   "source": [
    "#Calculate out-of-sample AUC\n",
    "from sklearn.metrics import roc_curve,auc\n",
    "fpr, tpr, thresholds = roc_curve(y_test.astype('int'), y_pred_prob[:,1])\n",
    "#Draw the ROC curve\n",
    "plt.plot(fpr,tpr)\n",
    "plt.xlabel(\"False Positive Rate\")\n",
    "plt.ylabel(\"True Positive Rate\")\n",
    "plt.show()\n",
    "auc(fpr, tpr)"
   ]
  },
  {
   "cell_type": "markdown",
   "metadata": {},
   "source": [
    "### (B)\n",
    "\n",
    "Yes, because clustering is unsupervised learning. We only need the covariates to do clustering."
   ]
  },
  {
   "cell_type": "code",
   "execution_count": 86,
   "metadata": {},
   "outputs": [
    {
     "name": "stdout",
     "output_type": "stream",
     "text": [
      "[[-0.06098517 -0.02360366  0.00862434 -0.01549287  0.02086098 -0.06861215\n",
      "   0.02179498  0.04625726 -0.08123911 -0.15815268 -0.12199515]\n",
      " [-0.08785803 -0.09473223  0.09557897  0.26717255  0.10078986  0.02175104\n",
      "   0.11099188  0.02187745  0.02498859 -0.00604045  0.02627292]\n",
      " [ 0.1879103   0.72977297 -0.16715353 -0.13741103 -0.11535077  0.38356437\n",
      "  -0.08601622  0.16585321 -0.06156155 -0.12685151 -0.19878084]\n",
      " [ 0.22445861 -0.1184661   0.01137643  0.06783583  0.01996753 -0.02292267\n",
      "  -0.06736731 -0.03204768 -0.14833581  0.235639    0.18021851]\n",
      " [ 0.01618383  0.00596858  0.01446306 -0.01017807  0.0160668   0.0147528\n",
      "  -0.01013865  0.00923278  0.01553022  0.02295309  0.02656583]]\n"
     ]
    }
   ],
   "source": [
    "#Train k-means model\n",
    "from sklearn.cluster import KMeans\n",
    "kmeans = KMeans(n_clusters=5, random_state=0, max_iter=1000,init='k-means++').fit(X)\n",
    "##The center of each cluster\n",
    "print(kmeans.cluster_centers_)"
   ]
  },
  {
   "cell_type": "markdown",
   "metadata": {},
   "source": [
    "### (B)\n",
    "\n",
    "Because k-means clustering is based on distances. The distances of datapoint can only be measured accurately after being standardized."
   ]
  },
  {
   "cell_type": "code",
   "execution_count": 92,
   "metadata": {},
   "outputs": [
    {
     "name": "stdout",
     "output_type": "stream",
     "text": [
      "[[ 0.40267501  0.39098215  0.08584079 ... -0.03876745 -1.01974525\n",
      "  -0.23263258]\n",
      " [-0.1379494   0.58085103  0.79947587 ... -3.85318102 -1.5543428\n",
      "  -1.02878282]\n",
      " [ 0.20777089  0.23078629  0.12870816 ...  0.10034237  0.49027408\n",
      "  -0.44883635]\n",
      " ...\n",
      " [-0.89544636 -0.97665415  1.33045318 ...  1.06352668 -0.90421538\n",
      "  -0.10009366]\n",
      " [-0.86837105 -0.57991271  4.34962273 ...  0.33285807 -1.31994384\n",
      "   0.26322111]\n",
      " [ 8.42239827 -1.20381465 -0.38357908 ...  1.65258762 -0.15755182\n",
      "  -0.33291457]]\n"
     ]
    }
   ],
   "source": [
    "from sklearn.preprocessing import StandardScaler\n",
    "scaler = StandardScaler()\n",
    "X_new = scaler.fit_transform(X)\n",
    "print(X_new)"
   ]
  },
  {
   "cell_type": "markdown",
   "metadata": {},
   "source": [
    "### (D)\n"
   ]
  },
  {
   "cell_type": "code",
   "execution_count": 95,
   "metadata": {},
   "outputs": [],
   "source": [
    "X_train, X_test = train_test_split(X_new, test_size=0.2)"
   ]
  },
  {
   "cell_type": "code",
   "execution_count": 96,
   "metadata": {},
   "outputs": [
    {
     "name": "stdout",
     "output_type": "stream",
     "text": [
      "46\n",
      "Counter({0: 7244, 2: 1725, 1: 295})\n",
      "[-0.22487783  0.80435167  0.81714549]\n"
     ]
    }
   ],
   "source": [
    "kmeans = KMeans(n_clusters=3, random_state=0, max_iter=1000,init='k-means++').fit(X_train)\n",
    "from collections import Counter\n",
    "print(kmeans.n_iter_)\n",
    "print(Counter(kmeans.labels_))\n",
    "print(kmeans.cluster_centers_[:,0])"
   ]
  },
  {
   "cell_type": "markdown",
   "metadata": {},
   "source": [
    "### (E)"
   ]
  },
  {
   "cell_type": "code",
   "execution_count": 90,
   "metadata": {},
   "outputs": [
    {
     "name": "stdout",
     "output_type": "stream",
     "text": [
      "Counter({1: 1376, 0: 849, 2: 91})\n",
      "class 0 mean:  0.07267694506124855\n",
      "class 1 mean:  0.08028006355886619\n",
      "class 2 mean:  0.10769091225274728\n"
     ]
    }
   ],
   "source": [
    "y = kmeans.fit_predict(X_test)\n",
    "print(Counter(y))\n",
    "clusters_indices = defaultdict(list)\n",
    "for index, c  in enumerate(y):\n",
    "    clusters_indices[c].append(index)\n",
    "for i in range(3):\n",
    "    mean = 0\n",
    "    for j in range(len(clusters_indices[i])):\n",
    "        mean += X[clusters_indices[i][j],0]\n",
    "    mean = mean/len(clusters_indices[i])\n",
    "    print(\"class\",i,\"mean: \",mean)"
   ]
  },
  {
   "cell_type": "markdown",
   "metadata": {},
   "source": [
    "### (F)"
   ]
  },
  {
   "cell_type": "code",
   "execution_count": 97,
   "metadata": {},
   "outputs": [],
   "source": []
  },
  {
   "cell_type": "code",
   "execution_count": 78,
   "metadata": {},
   "outputs": [],
   "source": [
    "def trainROC(X,y,X_train,y_train):\n",
    "    from sklearn.model_selection import GridSearchCV\n",
    "    param_test = {\n",
    "        'C':np.logspace(-3, 3)\n",
    "        }\n",
    "    estimator = linear_model.LogisticRegression(penalty='l1')  \n",
    "    gsearch = GridSearchCV( estimator , param_grid = param_test, cv=10 ,scoring='accuracy')\n",
    "    gsearch.fit(X_train,y_train)\n",
    "    gsearch.best_params_, gsearch.best_score_\n",
    "    model1 = linear_model.LogisticRegression(C = gsearch.best_params_['C'] ,penalty='l1') \n",
    "    model1.fit(X_train,y_train)\n",
    "    y_pred_prob = model1.predict_proba(X_test)\n",
    "    #Calculate out-of-sample AUC\n",
    "    from sklearn.metrics import roc_curve,auc\n",
    "    fpr, tpr, thresholds = roc_curve(y_test.astype('int'), y_pred_prob[:,1])\n",
    "    #Draw the ROC curve\n",
    "    plt.plot(fpr,tpr)\n",
    "    plt.xlabel(\"False Positive Rate\")\n",
    "    plt.ylabel(\"True Positive Rate\")\n",
    "    plt.show()\n",
    "    print(auc(fpr, tpr))"
   ]
  },
  {
   "cell_type": "code",
   "execution_count": null,
   "metadata": {},
   "outputs": [],
   "source": []
  }
 ],
 "metadata": {
  "kernelspec": {
   "display_name": "Python 3",
   "language": "python",
   "name": "python3"
  },
  "language_info": {
   "codemirror_mode": {
    "name": "ipython",
    "version": 3
   },
   "file_extension": ".py",
   "mimetype": "text/x-python",
   "name": "python",
   "nbconvert_exporter": "python",
   "pygments_lexer": "ipython3",
   "version": "3.7.0"
  }
 },
 "nbformat": 4,
 "nbformat_minor": 2
}
