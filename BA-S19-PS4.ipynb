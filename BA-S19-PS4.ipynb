{
 "cells": [
  {
   "cell_type": "markdown",
   "metadata": {},
   "source": [
    "## Problem Set 4\n",
    "\n",
    "## BUSF-SHU 210: Business Analytics (Spring 2019)"
   ]
  },
  {
   "cell_type": "markdown",
   "metadata": {},
   "source": [
    "## Question 3"
   ]
  },
  {
   "cell_type": "code",
   "execution_count": 1,
   "metadata": {},
   "outputs": [],
   "source": [
    "import pandas as pd\n",
    "import numpy as np\n",
    "import matplotlib.pyplot as plt\n",
    "import sklearn as sk\n",
    "import sklearn.preprocessing as prep\n",
    "from sklearn.metrics import mean_squared_error\n",
    "from sklearn.preprocessing import PolynomialFeatures, MinMaxScaler, StandardScaler,robust_scale\n",
    "from sklearn.model_selection import train_test_split, GridSearchCV , TimeSeriesSplit\n",
    "from sklearn.linear_model import SGDRegressor, LinearRegression\n",
    "from sklearn.pipeline import Pipeline\n",
    "from sklearn.base import BaseEstimator, TransformerMixin"
   ]
  },
  {
   "cell_type": "code",
   "execution_count": 2,
   "metadata": {},
   "outputs": [],
   "source": [
    "#Drop one column from the dataset\n",
    "#@param: df : dataframe to edit\n",
    "#        String: the label\n",
    "#@return: the edited dataframe\n",
    "def dataDrop(df,String):\n",
    "    x = df[df.columns.drop(String)]\n",
    "    return x"
   ]
  },
  {
   "cell_type": "code",
   "execution_count": 3,
   "metadata": {},
   "outputs": [],
   "source": [
    "#Eliminate outliers from the dataset\n",
    "#here we set the outlier to be PM greater than 130. If any one would like to change it , simple change 130 to other values\n",
    "#@param: df : dataframe to edit\n",
    "#@return: the edited dataframe\n",
    "def eliminateOutlier(data):\n",
    "    outlier = np.where(data['pm2.5'].values > 130)[0]\n",
    "    data.drop(data.index[outlier],inplace = True)\n",
    "    return data"
   ]
  },
  {
   "cell_type": "code",
   "execution_count": 17,
   "metadata": {},
   "outputs": [],
   "source": [
    "#Normalization method: robust scaler\n",
    "#@param: X : the dataset\n",
    "#@return: the normalized dataset\n",
    "def normalize(X):\n",
    "    normalized_X = robust_scale(X.reshape(-1, 1))\n",
    "    return normalized_X"
   ]
  },
  {
   "cell_type": "code",
   "execution_count": 5,
   "metadata": {},
   "outputs": [],
   "source": [
    "#preprocess the data\n",
    "#change this method if want to change parameters\n",
    "#@param: df : dataframe to edit\n",
    "#@return: the edited dataframe\n",
    "def dataPreprocessing(df):\n",
    "    df['time'] = pd.to_datetime(df[['year','month','day','hour']])\n",
    "    df['time'] = pd.to_datetime(df[['year','month','day','hour']])\n",
    "    df['Day of the Week'] = df['time'].apply(lambda x: x.weekday())\n",
    "    df = dataDrop(df,'No')\n",
    "    df = dataDrop(df,'time')\n",
    "    df = dataDrop(df,'month')\n",
    "    df = dataDrop(df,'year')\n",
    "    df = dataDrop(df,'day')\n",
    "    return df"
   ]
  },
  {
   "cell_type": "code",
   "execution_count": 6,
   "metadata": {
    "scrolled": false
   },
   "outputs": [
    {
     "data": {
      "text/html": [
       "<div>\n",
       "<style scoped>\n",
       "    .dataframe tbody tr th:only-of-type {\n",
       "        vertical-align: middle;\n",
       "    }\n",
       "\n",
       "    .dataframe tbody tr th {\n",
       "        vertical-align: top;\n",
       "    }\n",
       "\n",
       "    .dataframe thead th {\n",
       "        text-align: right;\n",
       "    }\n",
       "</style>\n",
       "<table border=\"1\" class=\"dataframe\">\n",
       "  <thead>\n",
       "    <tr style=\"text-align: right;\">\n",
       "      <th></th>\n",
       "      <th>pm2.5</th>\n",
       "      <th>DEWP</th>\n",
       "      <th>TEMP</th>\n",
       "      <th>PRES</th>\n",
       "      <th>Iws</th>\n",
       "      <th>Is</th>\n",
       "      <th>Ir</th>\n",
       "      <th>cbwd_NE</th>\n",
       "      <th>cbwd_NW</th>\n",
       "      <th>cbwd_SE</th>\n",
       "      <th>...</th>\n",
       "      <th>hour_14</th>\n",
       "      <th>hour_15</th>\n",
       "      <th>hour_16</th>\n",
       "      <th>hour_17</th>\n",
       "      <th>hour_18</th>\n",
       "      <th>hour_19</th>\n",
       "      <th>hour_20</th>\n",
       "      <th>hour_21</th>\n",
       "      <th>hour_22</th>\n",
       "      <th>hour_23</th>\n",
       "    </tr>\n",
       "  </thead>\n",
       "  <tbody>\n",
       "    <tr>\n",
       "      <th>24</th>\n",
       "      <td>129.0</td>\n",
       "      <td>-16</td>\n",
       "      <td>-4.0</td>\n",
       "      <td>1020.0</td>\n",
       "      <td>1.79</td>\n",
       "      <td>0</td>\n",
       "      <td>0</td>\n",
       "      <td>0</td>\n",
       "      <td>0</td>\n",
       "      <td>1</td>\n",
       "      <td>...</td>\n",
       "      <td>0</td>\n",
       "      <td>0</td>\n",
       "      <td>0</td>\n",
       "      <td>0</td>\n",
       "      <td>0</td>\n",
       "      <td>0</td>\n",
       "      <td>0</td>\n",
       "      <td>0</td>\n",
       "      <td>0</td>\n",
       "      <td>0</td>\n",
       "    </tr>\n",
       "    <tr>\n",
       "      <th>29</th>\n",
       "      <td>109.0</td>\n",
       "      <td>-7</td>\n",
       "      <td>-6.0</td>\n",
       "      <td>1022.0</td>\n",
       "      <td>7.14</td>\n",
       "      <td>3</td>\n",
       "      <td>0</td>\n",
       "      <td>0</td>\n",
       "      <td>0</td>\n",
       "      <td>1</td>\n",
       "      <td>...</td>\n",
       "      <td>0</td>\n",
       "      <td>0</td>\n",
       "      <td>0</td>\n",
       "      <td>0</td>\n",
       "      <td>0</td>\n",
       "      <td>0</td>\n",
       "      <td>0</td>\n",
       "      <td>0</td>\n",
       "      <td>0</td>\n",
       "      <td>0</td>\n",
       "    </tr>\n",
       "    <tr>\n",
       "      <th>30</th>\n",
       "      <td>105.0</td>\n",
       "      <td>-7</td>\n",
       "      <td>-6.0</td>\n",
       "      <td>1023.0</td>\n",
       "      <td>8.93</td>\n",
       "      <td>4</td>\n",
       "      <td>0</td>\n",
       "      <td>0</td>\n",
       "      <td>0</td>\n",
       "      <td>1</td>\n",
       "      <td>...</td>\n",
       "      <td>0</td>\n",
       "      <td>0</td>\n",
       "      <td>0</td>\n",
       "      <td>0</td>\n",
       "      <td>0</td>\n",
       "      <td>0</td>\n",
       "      <td>0</td>\n",
       "      <td>0</td>\n",
       "      <td>0</td>\n",
       "      <td>0</td>\n",
       "    </tr>\n",
       "    <tr>\n",
       "      <th>31</th>\n",
       "      <td>124.0</td>\n",
       "      <td>-7</td>\n",
       "      <td>-5.0</td>\n",
       "      <td>1024.0</td>\n",
       "      <td>10.72</td>\n",
       "      <td>0</td>\n",
       "      <td>0</td>\n",
       "      <td>0</td>\n",
       "      <td>0</td>\n",
       "      <td>1</td>\n",
       "      <td>...</td>\n",
       "      <td>0</td>\n",
       "      <td>0</td>\n",
       "      <td>0</td>\n",
       "      <td>0</td>\n",
       "      <td>0</td>\n",
       "      <td>0</td>\n",
       "      <td>0</td>\n",
       "      <td>0</td>\n",
       "      <td>0</td>\n",
       "      <td>0</td>\n",
       "    </tr>\n",
       "    <tr>\n",
       "      <th>32</th>\n",
       "      <td>120.0</td>\n",
       "      <td>-8</td>\n",
       "      <td>-6.0</td>\n",
       "      <td>1024.0</td>\n",
       "      <td>12.51</td>\n",
       "      <td>0</td>\n",
       "      <td>0</td>\n",
       "      <td>0</td>\n",
       "      <td>0</td>\n",
       "      <td>1</td>\n",
       "      <td>...</td>\n",
       "      <td>0</td>\n",
       "      <td>0</td>\n",
       "      <td>0</td>\n",
       "      <td>0</td>\n",
       "      <td>0</td>\n",
       "      <td>0</td>\n",
       "      <td>0</td>\n",
       "      <td>0</td>\n",
       "      <td>0</td>\n",
       "      <td>0</td>\n",
       "    </tr>\n",
       "  </tbody>\n",
       "</table>\n",
       "<p>5 rows × 42 columns</p>\n",
       "</div>"
      ],
      "text/plain": [
       "    pm2.5  DEWP  TEMP    PRES    Iws  Is  Ir  cbwd_NE  cbwd_NW  cbwd_SE  \\\n",
       "24  129.0   -16  -4.0  1020.0   1.79   0   0        0        0        1   \n",
       "29  109.0    -7  -6.0  1022.0   7.14   3   0        0        0        1   \n",
       "30  105.0    -7  -6.0  1023.0   8.93   4   0        0        0        1   \n",
       "31  124.0    -7  -5.0  1024.0  10.72   0   0        0        0        1   \n",
       "32  120.0    -8  -6.0  1024.0  12.51   0   0        0        0        1   \n",
       "\n",
       "     ...     hour_14  hour_15  hour_16  hour_17  hour_18  hour_19  hour_20  \\\n",
       "24   ...           0        0        0        0        0        0        0   \n",
       "29   ...           0        0        0        0        0        0        0   \n",
       "30   ...           0        0        0        0        0        0        0   \n",
       "31   ...           0        0        0        0        0        0        0   \n",
       "32   ...           0        0        0        0        0        0        0   \n",
       "\n",
       "    hour_21  hour_22  hour_23  \n",
       "24        0        0        0  \n",
       "29        0        0        0  \n",
       "30        0        0        0  \n",
       "31        0        0        0  \n",
       "32        0        0        0  \n",
       "\n",
       "[5 rows x 42 columns]"
      ]
     },
     "execution_count": 6,
     "metadata": {},
     "output_type": "execute_result"
    }
   ],
   "source": [
    "pm = pd.get_dummies(pd.read_csv(\"D:/Study/Business Analytics/LA/HW4/pm25.csv\")).dropna()\n",
    "pm = dataPreprocessing(pm)\n",
    "pm = eliminateOutlier(pm)\n",
    "pm = pd.get_dummies(pm,columns=['Day of the Week', 'hour'])\n",
    "pm.head()"
   ]
  },
  {
   "cell_type": "code",
   "execution_count": 7,
   "metadata": {},
   "outputs": [
    {
     "name": "stdout",
     "output_type": "stream",
     "text": [
      "(24458,)\n",
      "(6115, 1)\n"
     ]
    }
   ],
   "source": [
    "#split the train-test data: 20% test data, shuffled split\n",
    "#then process the data into X and y form\n",
    "dftr, dfte = train_test_split(pm, test_size=0.2)\n",
    "y = dftr[['pm2.5']].values.ravel()\n",
    "print(y.shape)\n",
    "X = dftr[pm.columns.drop('pm2.5')]\n",
    "yte = dfte[['pm2.5']].values\n",
    "print(yte.shape)\n",
    "Xte = dfte[pm.columns.drop('pm2.5')]"
   ]
  },
  {
   "cell_type": "markdown",
   "metadata": {},
   "source": [
    "# Train-Validate"
   ]
  },
  {
   "cell_type": "markdown",
   "metadata": {},
   "source": [
    "## Polynomial"
   ]
  },
  {
   "cell_type": "code",
   "execution_count": 23,
   "metadata": {
    "scrolled": false
   },
   "outputs": [
    {
     "name": "stdout",
     "output_type": "stream",
     "text": [
      "best score is: -0.21062499433871615\n",
      "best params are: {'poly__degree': 2}\n"
     ]
    }
   ],
   "source": [
    "from sklearn.model_selection import GridSearchCV\n",
    "from sklearn.pipeline import Pipeline\n",
    "from sklearn.preprocessing import PolynomialFeatures\n",
    "from sklearn.linear_model import LinearRegression\n",
    "\n",
    "param_test = {\n",
    "        'poly__degree':range(1,3)\n",
    "    }\n",
    "\n",
    "estimator = Pipeline([('poly', PolynomialFeatures()),\n",
    "                     ('linear', LinearRegression(fit_intercept=False))])\n",
    "gsearch = GridSearchCV(estimator , param_grid = param_test, cv=10,scoring='neg_mean_squared_error')\n",
    "gsearch.fit(X,normalize(y))\n",
    "gsearch.best_params_, gsearch.best_score_\n",
    "print('best score is:',str(gsearch.best_score_))\n",
    "print('best params are:',str(gsearch.best_params_))"
   ]
  },
  {
   "cell_type": "markdown",
   "metadata": {},
   "source": [
    "## Linear"
   ]
  },
  {
   "cell_type": "code",
   "execution_count": 20,
   "metadata": {},
   "outputs": [
    {
     "name": "stdout",
     "output_type": "stream",
     "text": [
      "best score is: 0.22464335188285936\n"
     ]
    }
   ],
   "source": [
    "from sklearn.linear_model import LinearRegression\n",
    "from sklearn.metrics import mean_squared_error\n",
    "\n",
    "lm = LinearRegression()\n",
    "lm.fit(X,normalize(y))\n",
    "y_pred = lm.predict(X)\n",
    "score = mean_squared_error(normalize(y),y_pred)\n",
    "\n",
    "print('best score is:',str(score))"
   ]
  },
  {
   "cell_type": "markdown",
   "metadata": {},
   "source": [
    "## Ridge Regression"
   ]
  },
  {
   "cell_type": "code",
   "execution_count": 18,
   "metadata": {},
   "outputs": [
    {
     "name": "stdout",
     "output_type": "stream",
     "text": [
      "best score is: -0.2254683542443233\n",
      "best params are: {'alpha': 1.0}\n"
     ]
    }
   ],
   "source": [
    "from sklearn.model_selection import GridSearchCV\n",
    "from sklearn.pipeline import Pipeline\n",
    "from sklearn.linear_model import Ridge\n",
    "\n",
    "param_test = {\n",
    "        'alpha':np.logspace(-3, 0)\n",
    "    }\n",
    "\n",
    "estimator = Ridge()\n",
    "gsearch = GridSearchCV(estimator , param_grid = param_test, cv=10,scoring='neg_mean_squared_error')\n",
    "gsearch.fit(X,normalize(y))\n",
    "gsearch.best_params_, gsearch.best_score_\n",
    "print('best score is:',str(gsearch.best_score_))\n",
    "print('best params are:',str(gsearch.best_params_))"
   ]
  },
  {
   "cell_type": "markdown",
   "metadata": {},
   "source": [
    "## Lasso Regression"
   ]
  },
  {
   "cell_type": "code",
   "execution_count": 21,
   "metadata": {},
   "outputs": [
    {
     "name": "stdout",
     "output_type": "stream",
     "text": [
      "best score is: -0.22608951975526076\n",
      "best params are: {'alpha': 0.001}\n"
     ]
    }
   ],
   "source": [
    "from sklearn.model_selection import GridSearchCV\n",
    "from sklearn.pipeline import Pipeline\n",
    "from sklearn.linear_model import Lasso\n",
    "\n",
    "param_test = {\n",
    "        'alpha':np.logspace(-3, 0)\n",
    "    }\n",
    "\n",
    "estimator = Lasso()\n",
    "gsearch = GridSearchCV(estimator , param_grid = param_test, cv=10,scoring='neg_mean_squared_error')\n",
    "gsearch.fit(X,normalize(y))\n",
    "gsearch.best_params_, gsearch.best_score_\n",
    "print('best score is:',str(gsearch.best_score_))\n",
    "print('best params are:',str(gsearch.best_params_))"
   ]
  },
  {
   "cell_type": "markdown",
   "metadata": {},
   "source": [
    "## CART"
   ]
  },
  {
   "cell_type": "code",
   "execution_count": 24,
   "metadata": {},
   "outputs": [
    {
     "name": "stdout",
     "output_type": "stream",
     "text": [
      "best score is: -0.24186369783214337\n",
      "best params are: {'max_depth': 4}\n"
     ]
    }
   ],
   "source": [
    "from sklearn.model_selection import GridSearchCV\n",
    "from sklearn.pipeline import Pipeline\n",
    "from sklearn.tree import DecisionTreeRegressor\n",
    "\n",
    "param_test = {\n",
    "        'max_depth':range(1,5)\n",
    "    }\n",
    "\n",
    "estimator = DecisionTreeRegressor()\n",
    "gsearch = GridSearchCV(estimator , param_grid = param_test, cv=10,scoring='neg_mean_squared_error')\n",
    "gsearch.fit(X,normalize(y))\n",
    "gsearch.best_params_, gsearch.best_score_\n",
    "print('best score is:',str(gsearch.best_score_))\n",
    "print('best params are:',str(gsearch.best_params_))"
   ]
  },
  {
   "cell_type": "markdown",
   "metadata": {},
   "source": [
    "# Test\n",
    "## With this CV, we choose polynomial of degree 2"
   ]
  },
  {
   "cell_type": "code",
   "execution_count": 30,
   "metadata": {},
   "outputs": [
    {
     "name": "stdout",
     "output_type": "stream",
     "text": [
      "mse score is: 1544.1783630900404\n"
     ]
    }
   ],
   "source": [
    "poly = Pipeline([('poly', PolynomialFeatures(degree=2)),\n",
    "                     ('linear', LinearRegression(fit_intercept=False))])\n",
    "poly.fit(X,normalize(y))\n",
    "y_pred = poly.predict(Xte)\n",
    "# for de-normalization\n",
    "q25, q75 = np.percentile(y, [25, 75])\n",
    "#de-normalize\n",
    "y_pred = y_pred * (q75 - q25) + q25\n",
    "score = mean_squared_error(yte,y_pred)\n",
    "print('mse score is:',str(score))"
   ]
  },
  {
   "cell_type": "code",
   "execution_count": null,
   "metadata": {},
   "outputs": [],
   "source": []
  }
 ],
 "metadata": {
  "kernelspec": {
   "display_name": "Python 3",
   "language": "python",
   "name": "python3"
  },
  "language_info": {
   "codemirror_mode": {
    "name": "ipython",
    "version": 3
   },
   "file_extension": ".py",
   "mimetype": "text/x-python",
   "name": "python",
   "nbconvert_exporter": "python",
   "pygments_lexer": "ipython3",
   "version": "3.7.0"
  }
 },
 "nbformat": 4,
 "nbformat_minor": 2
}
