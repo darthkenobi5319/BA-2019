{
 "cells": [
  {
   "cell_type": "code",
   "execution_count": 42,
   "metadata": {},
   "outputs": [],
   "source": [
    "#Import necessary Python packages\n",
    "import pandas as pd\n",
    "import numpy as np\n",
    "import matplotlib.pyplot as plt\n",
    "%matplotlib inline\n",
    "from sklearn import datasets, linear_model\n",
    "from sklearn.metrics import mean_squared_error, r2_score"
   ]
  },
  {
   "cell_type": "code",
   "execution_count": 43,
   "metadata": {},
   "outputs": [
    {
     "name": "stdout",
     "output_type": "stream",
     "text": [
      "<class 'pandas.core.frame.DataFrame'>\n"
     ]
    },
    {
     "data": {
      "text/html": [
       "<div>\n",
       "<style scoped>\n",
       "    .dataframe tbody tr th:only-of-type {\n",
       "        vertical-align: middle;\n",
       "    }\n",
       "\n",
       "    .dataframe tbody tr th {\n",
       "        vertical-align: top;\n",
       "    }\n",
       "\n",
       "    .dataframe thead th {\n",
       "        text-align: right;\n",
       "    }\n",
       "</style>\n",
       "<table border=\"1\" class=\"dataframe\">\n",
       "  <thead>\n",
       "    <tr style=\"text-align: right;\">\n",
       "      <th></th>\n",
       "      <th>MemberID</th>\n",
       "      <th>InpatientDays</th>\n",
       "      <th>ERVisits</th>\n",
       "      <th>OfficeVisits</th>\n",
       "      <th>Narcotics</th>\n",
       "      <th>DaysSinceLastERVisit</th>\n",
       "      <th>Pain</th>\n",
       "      <th>TotalVisits</th>\n",
       "      <th>ProviderCount</th>\n",
       "      <th>MedicalClaims</th>\n",
       "      <th>ClaimLines</th>\n",
       "      <th>StartedOnCombination</th>\n",
       "      <th>AcuteDrugGapSmall</th>\n",
       "      <th>PoorCare</th>\n",
       "    </tr>\n",
       "  </thead>\n",
       "  <tbody>\n",
       "    <tr>\n",
       "      <th>0</th>\n",
       "      <td>1</td>\n",
       "      <td>0</td>\n",
       "      <td>0</td>\n",
       "      <td>18</td>\n",
       "      <td>1</td>\n",
       "      <td>731.0</td>\n",
       "      <td>10</td>\n",
       "      <td>18</td>\n",
       "      <td>21</td>\n",
       "      <td>93</td>\n",
       "      <td>222</td>\n",
       "      <td>False</td>\n",
       "      <td>0</td>\n",
       "      <td>0</td>\n",
       "    </tr>\n",
       "    <tr>\n",
       "      <th>1</th>\n",
       "      <td>2</td>\n",
       "      <td>1</td>\n",
       "      <td>1</td>\n",
       "      <td>6</td>\n",
       "      <td>1</td>\n",
       "      <td>411.0</td>\n",
       "      <td>0</td>\n",
       "      <td>8</td>\n",
       "      <td>27</td>\n",
       "      <td>19</td>\n",
       "      <td>115</td>\n",
       "      <td>False</td>\n",
       "      <td>1</td>\n",
       "      <td>0</td>\n",
       "    </tr>\n",
       "    <tr>\n",
       "      <th>2</th>\n",
       "      <td>3</td>\n",
       "      <td>0</td>\n",
       "      <td>0</td>\n",
       "      <td>5</td>\n",
       "      <td>3</td>\n",
       "      <td>731.0</td>\n",
       "      <td>10</td>\n",
       "      <td>5</td>\n",
       "      <td>16</td>\n",
       "      <td>27</td>\n",
       "      <td>148</td>\n",
       "      <td>False</td>\n",
       "      <td>5</td>\n",
       "      <td>0</td>\n",
       "    </tr>\n",
       "    <tr>\n",
       "      <th>3</th>\n",
       "      <td>4</td>\n",
       "      <td>0</td>\n",
       "      <td>1</td>\n",
       "      <td>19</td>\n",
       "      <td>0</td>\n",
       "      <td>158.0</td>\n",
       "      <td>34</td>\n",
       "      <td>20</td>\n",
       "      <td>14</td>\n",
       "      <td>59</td>\n",
       "      <td>242</td>\n",
       "      <td>False</td>\n",
       "      <td>0</td>\n",
       "      <td>0</td>\n",
       "    </tr>\n",
       "    <tr>\n",
       "      <th>4</th>\n",
       "      <td>5</td>\n",
       "      <td>8</td>\n",
       "      <td>2</td>\n",
       "      <td>19</td>\n",
       "      <td>3</td>\n",
       "      <td>449.0</td>\n",
       "      <td>10</td>\n",
       "      <td>29</td>\n",
       "      <td>24</td>\n",
       "      <td>51</td>\n",
       "      <td>204</td>\n",
       "      <td>False</td>\n",
       "      <td>0</td>\n",
       "      <td>0</td>\n",
       "    </tr>\n",
       "  </tbody>\n",
       "</table>\n",
       "</div>"
      ],
      "text/plain": [
       "   MemberID  InpatientDays  ERVisits  OfficeVisits  Narcotics  \\\n",
       "0         1              0         0            18          1   \n",
       "1         2              1         1             6          1   \n",
       "2         3              0         0             5          3   \n",
       "3         4              0         1            19          0   \n",
       "4         5              8         2            19          3   \n",
       "\n",
       "   DaysSinceLastERVisit  Pain  TotalVisits  ProviderCount  MedicalClaims  \\\n",
       "0                 731.0    10           18             21             93   \n",
       "1                 411.0     0            8             27             19   \n",
       "2                 731.0    10            5             16             27   \n",
       "3                 158.0    34           20             14             59   \n",
       "4                 449.0    10           29             24             51   \n",
       "\n",
       "   ClaimLines  StartedOnCombination  AcuteDrugGapSmall  PoorCare  \n",
       "0         222                 False                  0         0  \n",
       "1         115                 False                  1         0  \n",
       "2         148                 False                  5         0  \n",
       "3         242                 False                  0         0  \n",
       "4         204                 False                  0         0  "
      ]
     },
     "execution_count": 43,
     "metadata": {},
     "output_type": "execute_result"
    }
   ],
   "source": [
    "# Load the data as \"dataframe\"\n",
    "quality = pd.read_csv(\"C:/Users/darth/Dropbox/Study/Study/Business Analytics/LA/2019.2.18/quality.csv\")\n",
    "# check the datatype\n",
    "print(type(quality))\n",
    "# check the dataframe\n",
    "quality.head()"
   ]
  },
  {
   "cell_type": "code",
   "execution_count": 44,
   "metadata": {},
   "outputs": [
    {
     "data": {
      "text/plain": [
       "numpy.ndarray"
      ]
     },
     "execution_count": 44,
     "metadata": {},
     "output_type": "execute_result"
    }
   ],
   "source": [
    "# change the data into array\n",
    "quality_data = np.array(quality)\n",
    "# check the datatype\n",
    "type(quality_data)"
   ]
  },
  {
   "cell_type": "code",
   "execution_count": 45,
   "metadata": {},
   "outputs": [
    {
     "name": "stdout",
     "output_type": "stream",
     "text": [
      "(131, 12)\n",
      "(131,)\n"
     ]
    }
   ],
   "source": [
    "#Split the training-testing sets\n",
    "X = quality_data[:,1:-1]\n",
    "y = quality_data[:,-1]\n",
    "y = y.astype('int')\n",
    "print(X.shape)\n",
    "print(y.shape)\n"
   ]
  },
  {
   "cell_type": "markdown",
   "metadata": {},
   "source": [
    "Indicing the numpy array to have the dependent variable y and independent variable X. X is the matrix starting from the second column, and excluding the last column. Therefore, X = quality_data[:,1:-1], because in Python index 0 is the first column, and -1 is the last column.\n",
    "\n",
    "Similarily, y is the last column, so  y = quality_data[:,-1].astype('int'). This would allow Python to treat values in y as 0 or 1 (integer values). \n",
    "\n",
    "As we can see when we print the shape of the array, X is an array with 131 rows and 12 columns, and y is an 1-D array with shape (131,)"
   ]
  },
  {
   "cell_type": "code",
   "execution_count": 46,
   "metadata": {},
   "outputs": [],
   "source": [
    "from sklearn.model_selection import train_test_split\n",
    "# @param:  X : independent variable\n",
    "#          y: depenent variable\n",
    "#          test_size: how much of the data should be used as test data\n",
    "#          random_state: the seed for the random number generator. Set arbitrarily.\n",
    "# @return: X_train : Training set independent variable\n",
    "#          X_test : Test set independent variable\n",
    "#          y_train : Training set depenent variable\n",
    "#          y_test : Test set depenent variable\n",
    "X_train, X_test, y_train, y_test = train_test_split(X, y, test_size=0.25, random_state= 88)"
   ]
  },
  {
   "cell_type": "code",
   "execution_count": 47,
   "metadata": {},
   "outputs": [
    {
     "name": "stdout",
     "output_type": "stream",
     "text": [
      "(98, 12)\n",
      "(33, 12)\n",
      "(98,)\n",
      "(33,)\n"
     ]
    }
   ],
   "source": [
    "# test the shape of the dataset\n",
    "print(X_train.shape)\n",
    "print(X_test.shape)\n",
    "print(y_train.shape)\n",
    "print(y_test.shape)"
   ]
  },
  {
   "cell_type": "code",
   "execution_count": 48,
   "metadata": {},
   "outputs": [
    {
     "name": "stdout",
     "output_type": "stream",
     "text": [
      "Coefficient:  [[ 0.11055466 -0.00233877]]\n",
      "Intercept:  [-0.6807395]\n",
      "[0 0 0 1 1 0 0 0 0 0 0 0 0 0 0 1 0 0 0 0 0 0 0 0 0 0 0 0 0 0 0 0 0]\n",
      "[[0.7925189  0.2074811 ]\n",
      " [0.91609099 0.08390901]\n",
      " [0.90719257 0.09280743]\n",
      " [0.4076995  0.5923005 ]\n",
      " [0.4076995  0.5923005 ]\n",
      " [0.87338808 0.12661192]\n",
      " [0.90719257 0.09280743]\n",
      " [0.60721252 0.39278748]\n",
      " [0.91609099 0.08390901]\n",
      " [0.86390759 0.13609241]\n",
      " [0.80145145 0.19854855]\n",
      " [0.91609099 0.08390901]\n",
      " [0.70038485 0.29961515]\n",
      " [0.89964564 0.10035436]\n",
      " [0.64304548 0.35695452]\n",
      " [0.4076995  0.5923005 ]\n",
      " [0.91609099 0.08390901]\n",
      " [0.90719257 0.09280743]\n",
      " [0.91609099 0.08390901]\n",
      " [0.91609099 0.08390901]\n",
      " [0.89745611 0.10254389]\n",
      " [0.5272151  0.4727849 ]\n",
      " [0.91609099 0.08390901]\n",
      " [0.73649976 0.26350024]\n",
      " [0.76620205 0.23379795]\n",
      " [0.74603976 0.25396024]\n",
      " [0.90719257 0.09280743]\n",
      " [0.81456769 0.18543231]\n",
      " [0.61166594 0.38833406]\n",
      " [0.64350314 0.35649686]\n",
      " [0.79642575 0.20357425]\n",
      " [0.67974695 0.32025305]\n",
      " [0.90719257 0.09280743]]\n"
     ]
    }
   ],
   "source": [
    "model1 = linear_model.LogisticRegression()\n",
    "Xlr_train = np.hstack((X_train[:,3].reshape(98, 1),X_train[:,4].reshape(98, 1)))\n",
    "Xlr_test = np.hstack((X_test[:,3].reshape(33, 1),X_test[:,4].reshape(33, 1)))\n",
    "model1.fit(Xlr_train,y_train.astype('int').ravel())\n",
    "print('Coefficient: ', model1.coef_)\n",
    "print('Intercept: ', model1.intercept_)\n",
    "ylr_pred = model1.predict(Xlr_test)\n",
    "ylr_pred_prob =  model1.predict_proba(Xlr_test)\n",
    "print(ylr_pred)\n",
    "print(ylr_pred_prob)"
   ]
  },
  {
   "cell_type": "markdown",
   "metadata": {},
   "source": [
    "A general guide for fitting a logistic regression model in Python is:\n",
    "    > model1 = linear_model.LogisticRegression()\n",
    "    > model1.fit(X_train,y_train)\n",
    "    > y_predict = model1.predict(X_test)\n",
    "    > y_predict_prob = model1.predict_proba(X_test)\n",
    "\n",
    "When fitting the model, model1.fit(X,y) requires X as an array and y as a 1-D array. Therefore reshape y from a column vector to a 1d array using ravel().\n",
    "\n",
    "Prior to fitting the model, we need to preprocess the data, because we only need a few variables.\n",
    "\n",
    "Here we choose OfficeVisits and Narcotics,which are X[:,3] and X[:,4]. Therefore a split-then-stack procedure would be:\n",
    "X1 = np.stack(( X[:,3],X[:,4]))\n",
    "\n",
    "And we also need to reshape after splitting, because after splitting we would have 1-D array (like (131,)) instead of column-vectors (like(131,1)).\n",
    "\n",
    "The model1.predict_proba(X) would display results as a matrix, where the first column is $P(y=0|X)$ and the second column is $P(y=0|X)$\n",
    "\n",
    "The entire process is displayed in the above section"
   ]
  },
  {
   "cell_type": "code",
   "execution_count": 49,
   "metadata": {},
   "outputs": [
    {
     "name": "stdout",
     "output_type": "stream",
     "text": [
      "[[24  0]\n",
      " [ 6  3]]\n"
     ]
    }
   ],
   "source": [
    "#Load confusion matrix\n",
    "from sklearn.metrics import confusion_matrix\n",
    "\n",
    "CM_lr = confusion_matrix(y_test, ylr_pred)\n",
    "print(CM_lr)\n",
    "\n",
    "# The predicted values are the horizontal, and the true values are vertical"
   ]
  },
  {
   "cell_type": "code",
   "execution_count": 50,
   "metadata": {},
   "outputs": [
    {
     "data": {
      "image/png": "[encoded data removed]",
      "text/plain": [
       "<matplotlib.figure.Figure at 0x21ecc64a2b0>"
      ]
     },
     "metadata": {},
     "output_type": "display_data"
    },
    {
     "data": {
      "text/plain": [
       "0.7222222222222222"
      ]
     },
     "execution_count": 50,
     "metadata": {},
     "output_type": "execute_result"
    }
   ],
   "source": [
    "#Calculate out-of-sample AUC\n",
    "from sklearn.metrics import roc_curve,auc\n",
    "fpr, tpr, thresholds = roc_curve(y_test.astype('int'), ylr_pred_prob[:,1])\n",
    "#Draw the ROC curve\n",
    "plt.plot(fpr,tpr,marker = 'o')\n",
    "plt.xlabel(\"False Positive Rate\")\n",
    "plt.ylabel(\"True Positive Rate\")\n",
    "plt.show()\n",
    "auc(fpr, tpr)"
   ]
  },
  {
   "cell_type": "code",
   "execution_count": 25,
   "metadata": {},
   "outputs": [],
   "source": [
    "#Normalize the OfficeVisits and Narcotics as covariates in KNN\n",
    "OfficeVisits_train = ((X_train[:,3] - np.mean(X_train[:,3]))/np.std(X_train[:,3])).reshape(-1,1)\n",
    "Narcotics_train = ((X_train[:,3] - np.mean(X_train[:,3]))/np.std(X_train[:,3])).reshape(-1,1)\n",
    "OfficeVisits_test = ((X_test[:,3] - np.mean(X_test[:,3]))/np.std(X_test[:,3])).reshape(-1,1)\n",
    "Narcotics_test = ((X_test[:,3] - np.mean(X_test[:,3]))/np.std(X_test[:,3])).reshape(-1,1)\n"
   ]
  },
  {
   "cell_type": "markdown",
   "metadata": {},
   "source": [
    "Normalization:\n",
    "\n",
    "$\n",
    "X_{i} =  \\frac{X_{i} - \\bar{X}}{\\sigma} \n",
    "$\n"
   ]
  },
  {
   "cell_type": "code",
   "execution_count": 51,
   "metadata": {},
   "outputs": [],
   "source": [
    "#Build the covariates of training and testing sets\n",
    "X1_train = np.hstack((OfficeVisits_train,Narcotics_train))\n",
    "X1_test = np.hstack((OfficeVisits_test,Narcotics_test))"
   ]
  },
  {
   "cell_type": "code",
   "execution_count": 52,
   "metadata": {},
   "outputs": [
    {
     "name": "stdout",
     "output_type": "stream",
     "text": [
      "(98, 2)\n",
      "(33, 2)\n"
     ]
    }
   ],
   "source": [
    "print(X1_train.shape)\n",
    "print(X1_test.shape)"
   ]
  },
  {
   "cell_type": "code",
   "execution_count": 53,
   "metadata": {},
   "outputs": [
    {
     "data": {
      "text/plain": [
       "KNeighborsClassifier(algorithm='auto', leaf_size=30, metric='euclidean',\n",
       "           metric_params=None, n_jobs=1, n_neighbors=3, p=2,\n",
       "           weights='uniform')"
      ]
     },
     "execution_count": 53,
     "metadata": {},
     "output_type": "execute_result"
    }
   ],
   "source": [
    "## Train the knn model\n",
    "from sklearn.neighbors import KNeighborsClassifier\n",
    "knn = KNeighborsClassifier(n_neighbors=3,metric='euclidean')\n",
    "knn.fit(X1_train, y_train.ravel())"
   ]
  },
  {
   "cell_type": "markdown",
   "metadata": {},
   "source": [
    "Fit the KNN model follows this procedure:\n",
    "    > knn = KNeighborsClassifier(n_neighbors=n,metric='euclidean')\n",
    "    > knn.fit(X1_train, y_train)\n",
    "    \n",
    "This uses n neighbours, and calculates using the Euclidean distance    "
   ]
  },
  {
   "cell_type": "code",
   "execution_count": 54,
   "metadata": {},
   "outputs": [
    {
     "name": "stdout",
     "output_type": "stream",
     "text": [
      "0.8181818181818182\n"
     ]
    }
   ],
   "source": [
    "#Calculate the overall accuracy of knn model\n",
    "# simply print the attribute knn.score\n",
    "OA_knn = knn.score(X1_test, y_test) \n",
    "print(OA_knn)"
   ]
  },
  {
   "cell_type": "code",
   "execution_count": 55,
   "metadata": {},
   "outputs": [
    {
     "name": "stdout",
     "output_type": "stream",
     "text": [
      "[[24  0]\n",
      " [ 6  3]]\n"
     ]
    }
   ],
   "source": [
    "#Confusion Matrix\n",
    "y_pred = knn.predict(X1_test)\n",
    "\n",
    "CM_knn = confusion_matrix(y_test, y_pred)\n",
    "print(CM_knn)"
   ]
  },
  {
   "cell_type": "code",
   "execution_count": 56,
   "metadata": {},
   "outputs": [
    {
     "name": "stdout",
     "output_type": "stream",
     "text": [
      "Best validation accuracy: 0.788\n",
      "Best number of neighbors: 3\n",
      "Test-set accuracy: 0.818\n"
     ]
    }
   ],
   "source": [
    "##Train-Validate-Test Triplet for the healthcare quality case\n",
    "\n",
    "X1_train_old = X1_train\n",
    "y_train_old = y_train\n",
    "\n",
    "X1_trainval = X1_train\n",
    "y_trainval = y_train\n",
    "\n",
    "#Split the training and validation set\n",
    "X1_train, X1_val, y_train, y_val = train_test_split(X1_trainval, y_trainval,test_size=0.33)\n",
    "\n",
    "#Find out which model has the highest validation accuracy\n",
    "val_scores = []\n",
    "neighbors = np.arange(1, 15, 2)\n",
    "for i in neighbors:\n",
    "    knn = KNeighborsClassifier(n_neighbors=i)\n",
    "    knn.fit(X1_train, y_train)\n",
    "    val_scores.append(knn.score(X1_val, y_val))\n",
    "    \n",
    "print(\"Best validation accuracy: {:.3f}\".format(np.max(val_scores)))\n",
    "best_n_neighbors = neighbors[np.argmax(val_scores)]\n",
    "print(\"Best number of neighbors: {}\".format(best_n_neighbors))\n",
    "knn = KNeighborsClassifier(n_neighbors=best_n_neighbors)\n",
    "\n",
    "#Test the performance of the \"best\" on the testing set \n",
    "knn.fit(X1_trainval, y_trainval)\n",
    "print(\"Test-set accuracy: {:.3f}\".format(knn.score(X1_test, y_test)))\n",
    "\n",
    "X1_train = X1_train_old \n",
    "y_train = y_train_old "
   ]
  },
  {
   "cell_type": "code",
   "execution_count": 57,
   "metadata": {},
   "outputs": [
    {
     "name": "stdout",
     "output_type": "stream",
     "text": [
      "Best cross-validation accuracy: 0.838\n",
      "Best number of neighbors: 3\n",
      "Test-set score: 0.818\n"
     ]
    }
   ],
   "source": [
    "##k-fold Cross Validation for healthcare quality case\n",
    "\n",
    "#import the CV package\n",
    "from sklearn.model_selection import cross_val_score\n",
    "\n",
    "#Cross Validation with number of folds k=3\n",
    "cross_val_scores = []\n",
    "for i in neighbors:\n",
    "    knn = KNeighborsClassifier(n_neighbors=i)\n",
    "    scores = cross_val_score(knn, X1_trainval, y_trainval, cv=6)\n",
    "    cross_val_scores.append(np.mean(scores))\n",
    "    \n",
    "    \n",
    "print(\"Best cross-validation accuracy: {:.3f}\".format(np.max(cross_val_scores)))\n",
    "best_n_neighbors = neighbors[np.argmax(cross_val_scores)]\n",
    "print(\"Best number of neighbors: {}\".format(best_n_neighbors))\n",
    "knn = KNeighborsClassifier(n_neighbors=best_n_neighbors)\n",
    "knn.fit(X1_trainval, y_trainval)\n",
    "print(\"Test-set score: {:.3f}\".format(knn.score(X1_test, y_test)))"
   ]
  },
  {
   "cell_type": "markdown",
   "metadata": {},
   "source": [
    "## Here we do the same thing with GridSearchCV"
   ]
  },
  {
   "cell_type": "code",
   "execution_count": 87,
   "metadata": {},
   "outputs": [
    {
     "name": "stdout",
     "output_type": "stream",
     "text": [
      "best score is: 0.8163265306122449\n",
      "best params are: {'n_neighbors': 5}\n"
     ]
    }
   ],
   "source": [
    "\n",
    "\n",
    "##Train-Validate-Test Triplet for the healthcare quality case\n",
    "from sklearn.model_selection import GridSearchCV\n",
    "\n",
    "param_test = {\n",
    "        'n_neighbors':range(1, 15, 2)\n",
    "    }\n",
    "\n",
    "estimator = KNeighborsClassifier(n_neighbors = 1)\n",
    "    \n",
    "gsearch = GridSearchCV( estimator , param_grid = param_test, cv=3 ,scoring='accuracy')\n",
    "gsearch.fit( X1_train, y_train.ravel())\n",
    "gsearch.best_params_, gsearch.best_score_\n",
    "print('best score is:',str(gsearch.best_score_))\n",
    "print('best params are:',str(gsearch.best_params_))\n"
   ]
  },
  {
   "cell_type": "code",
   "execution_count": 71,
   "metadata": {},
   "outputs": [
    {
     "data": {
      "text/plain": [
       "array([0, 0, 0, 1, 1, 0, 0, 0, 0, 0, 1, 1, 0, 0, 0, 1, 0, 1, 0, 0, 0, 0,\n",
       "       0, 1, 0, 1, 0, 0, 1, 0, 0, 0, 0])"
      ]
     },
     "execution_count": 71,
     "metadata": {},
     "output_type": "execute_result"
    }
   ],
   "source": [
    "y_test"
   ]
  },
  {
   "cell_type": "code",
   "execution_count": 72,
   "metadata": {},
   "outputs": [],
   "source": [
    "##Lasso and Ridge Regression\n",
    "\n",
    "#Load the boston housing data set\n",
    "from sklearn.datasets import load_boston\n",
    "boston = load_boston()"
   ]
  },
  {
   "cell_type": "code",
   "execution_count": 27,
   "metadata": {},
   "outputs": [],
   "source": [
    "Xb = boston.data "
   ]
  },
  {
   "cell_type": "code",
   "execution_count": 28,
   "metadata": {},
   "outputs": [],
   "source": [
    "yb = boston.target"
   ]
  },
  {
   "cell_type": "code",
   "execution_count": 29,
   "metadata": {},
   "outputs": [],
   "source": [
    "lasso_b = linear_model.Lasso(alpha=1)"
   ]
  },
  {
   "cell_type": "code",
   "execution_count": 31,
   "metadata": {},
   "outputs": [
    {
     "data": {
      "text/plain": [
       "Lasso(alpha=1, copy_X=True, fit_intercept=True, max_iter=1000,\n",
       "   normalize=False, positive=False, precompute=False, random_state=None,\n",
       "   selection='cyclic', tol=0.0001, warm_start=False)"
      ]
     },
     "execution_count": 31,
     "metadata": {},
     "output_type": "execute_result"
    }
   ],
   "source": [
    "lasso_b.fit(Xb,yb)"
   ]
  },
  {
   "cell_type": "code",
   "execution_count": 32,
   "metadata": {},
   "outputs": [
    {
     "name": "stdout",
     "output_type": "stream",
     "text": [
      "[-0.06343729  0.04916467 -0.          0.         -0.          0.9498107\n",
      "  0.02090951 -0.66879     0.26420643 -0.01521159 -0.72296636  0.00824703\n",
      " -0.76111454]\n"
     ]
    }
   ],
   "source": [
    "print(lasso_b.coef_)"
   ]
  },
  {
   "cell_type": "code",
   "execution_count": 35,
   "metadata": {},
   "outputs": [
    {
     "name": "stdout",
     "output_type": "stream",
     "text": [
      "[-1.04595278e-01  4.74432243e-02 -8.80467889e-03  2.55239322e+00\n",
      " -1.07770146e+01  3.85400020e+00 -5.41453810e-03 -1.37265353e+00\n",
      "  2.90141589e-01 -1.29116463e-02 -8.76074394e-01  9.67327945e-03\n",
      " -5.33343225e-01]\n"
     ]
    }
   ],
   "source": [
    "ridge_b = linear_model.Ridge(alpha=1)\n",
    "ridge_b.fit(Xb,yb)\n",
    "print(ridge_b.coef_)"
   ]
  },
  {
   "cell_type": "code",
   "execution_count": 37,
   "metadata": {},
   "outputs": [
    {
     "name": "stdout",
     "output_type": "stream",
     "text": [
      "[-1.08011358e-01  4.64204584e-02  2.05586264e-02  2.68673382e+00\n",
      " -1.77666112e+01  3.80986521e+00  6.92224640e-04 -1.47556685e+00\n",
      "  3.06049479e-01 -1.23345939e-02 -9.52747232e-01  9.31168327e-03\n",
      " -5.24758378e-01]\n"
     ]
    }
   ],
   "source": [
    "linear_b = linear_model.LinearRegression()\n",
    "linear_b.fit(Xb,yb)\n",
    "print(linear_b.coef_)"
   ]
  },
  {
   "cell_type": "code",
   "execution_count": 38,
   "metadata": {},
   "outputs": [
    {
     "name": "stdout",
     "output_type": "stream",
     "text": [
      "{'alpha': array([0.001     , 0.00177828, 0.00316228, 0.00562341, 0.01      ,\n",
      "       0.01778279, 0.03162278, 0.05623413, 0.1       , 0.17782794,\n",
      "       0.31622777, 0.56234133, 1.        ])}\n"
     ]
    }
   ],
   "source": [
    "#Tuning the parameter alpha for lasso and ridge regressions\n",
    "\n",
    "#Import necessary package\n",
    "from sklearn.model_selection import GridSearchCV\n",
    "\n",
    "\n",
    "param_grid = {'alpha': np.logspace(-3, 0, 13)}\n",
    "print(param_grid)"
   ]
  },
  {
   "cell_type": "code",
   "execution_count": 46,
   "metadata": {},
   "outputs": [
    {
     "name": "stdout",
     "output_type": "stream",
     "text": [
      "{'alpha': 0.31622776601683794}\n",
      "Best R squared in Lasso Regression: 0.28\n"
     ]
    },
    {
     "name": "stderr",
     "output_type": "stream",
     "text": [
      "C:\\Users\\rz26\\AppData\\Local\\Continuum\\anaconda3\\lib\\site-packages\\sklearn\\model_selection\\_search.py:841: DeprecationWarning: The default of the `iid` parameter will change from True to False in version 0.22 and will be removed in 0.24. This will change numeric results when test-set sizes are unequal.\n",
      "  DeprecationWarning)\n"
     ]
    }
   ],
   "source": [
    "grid_lasso = GridSearchCV(linear_model.Lasso(), param_grid, cv=10)\n",
    "grid_lasso.fit(Xb, yb)\n",
    "print(grid_lasso.best_params_)\n",
    "print('Best R squared in Lasso Regression: %.2f' %grid_lasso.best_score_)"
   ]
  },
  {
   "cell_type": "code",
   "execution_count": 47,
   "metadata": {},
   "outputs": [
    {
     "name": "stdout",
     "output_type": "stream",
     "text": [
      "{'alpha': 1.0}\n",
      "Best R squared in Ridge Regression: 0.26\n"
     ]
    },
    {
     "name": "stderr",
     "output_type": "stream",
     "text": [
      "C:\\Users\\rz26\\AppData\\Local\\Continuum\\anaconda3\\lib\\site-packages\\sklearn\\model_selection\\_search.py:841: DeprecationWarning: The default of the `iid` parameter will change from True to False in version 0.22 and will be removed in 0.24. This will change numeric results when test-set sizes are unequal.\n",
      "  DeprecationWarning)\n"
     ]
    }
   ],
   "source": [
    "grid_ridge = GridSearchCV(linear_model.Ridge(), param_grid, cv=10)\n",
    "grid_ridge.fit(Xb, yb)\n",
    "print(grid_ridge.best_params_)\n",
    "print('Best R squared in Ridge Regression: %.2f' %grid_ridge.best_score_)"
   ]
  },
  {
   "cell_type": "code",
   "execution_count": null,
   "metadata": {},
   "outputs": [],
   "source": []
  }
 ],
 "metadata": {
  "kernelspec": {
   "display_name": "Python 3",
   "language": "python",
   "name": "python3"
  },
  "language_info": {
   "codemirror_mode": {
    "name": "ipython",
    "version": 3
   },
   "file_extension": ".py",
   "mimetype": "text/x-python",
   "name": "python",
   "nbconvert_exporter": "python",
   "pygments_lexer": "ipython3",
   "version": "3.6.4"
  }
 },
 "nbformat": 4,
 "nbformat_minor": 2
}
