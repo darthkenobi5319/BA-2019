{
 "cells": [
  {
   "cell_type": "markdown",
   "metadata": {},
   "source": [
    "## Question 1\n",
    "\n",
    "### (A).\n",
    "\n",
    "$\\frac{1500+1000}{1500+2250+1000+250} - \\frac{875+1125}{375+875+2625+1125} = \\frac{2500}{5000} - \\frac{2000}{5000} =\\frac{1}{10}$\n",
    "\n",
    "### (B).\n",
    "\n",
    "$\\hat{ATE_{M}} = \\frac{1500}{1500+2250}-\\frac{875}{275+875} = \\frac{1500}{3750}-\\frac{875}{1150} = -\\frac{83}{230} $\n",
    "\n",
    "$\\hat{ATE_{F}} = \\frac{1000}{1000+250}-\\frac{1125}{2625+1125} = \\frac{1000}{1250}-\\frac{1125}{3750} = \\frac{1}{2} $\n",
    "\n",
    "### (C).\n",
    "\n",
    "There is much difference between male groups and female groups, and also both groups are different from the aggregate effect.\n",
    "\n",
    "This is because we omitted the variable 'gender', so we see in the control group and treatment group, the gender distribution is not identical(Biased).\n",
    "\n",
    "### (D).\n",
    "\n",
    "The assumption is that gender distribution is completely irrelevant to assignment to treatment/control. In other words, the female and male proportions should be the same for both treatment and control\n",
    "\n",
    "## Question 2\n",
    "\n",
    "### (A)."
   ]
  },
  {
   "cell_type": "code",
   "execution_count": 1,
   "metadata": {},
   "outputs": [
    {
     "name": "stdout",
     "output_type": "stream",
     "text": [
      "'data.frame':\t10000 obs. of  3 variables:\n",
      " $ LogEarning: num  12 9.16 10.41 13.04 10.06 ...\n",
      " $ College   : int  0 0 0 0 1 0 0 0 0 1 ...\n",
      " $ IQ        : int  82 79 93 87 103 77 88 96 89 109 ...\n"
     ]
    }
   ],
   "source": [
    "school = read.csv(\"D:/Study/Business Analytics/LA/HW7/schooling.csv\")\n",
    "str(school)"
   ]
  },
  {
   "cell_type": "code",
   "execution_count": 2,
   "metadata": {},
   "outputs": [
    {
     "name": "stdout",
     "output_type": "stream",
     "text": [
      "'data.frame':\t10000 obs. of  4 variables:\n",
      " $ LogEarning: num  12 9.16 10.41 13.04 10.06 ...\n",
      " $ College   : int  0 0 0 0 1 0 0 0 0 1 ...\n",
      " $ IQ        : int  82 79 93 87 103 77 88 96 89 109 ...\n",
      " $ NormIQ    : num [1:10000, 1] -1.23 -1.431 -0.49 -0.894 0.181 ...\n",
      "  ..- attr(*, \"scaled:center\")= num 100\n",
      "  ..- attr(*, \"scaled:scale\")= num 14.9\n"
     ]
    }
   ],
   "source": [
    "school$NormIQ = scale(school$IQ)\n",
    "str(school)"
   ]
  },
  {
   "cell_type": "code",
   "execution_count": 3,
   "metadata": {
    "scrolled": false
   },
   "outputs": [
    {
     "data": {
      "text/plain": [
       "\n",
       "Call:\n",
       "lm(formula = LogEarning ~ College, data = school)\n",
       "\n",
       "Residuals:\n",
       "     Min       1Q   Median       3Q      Max \n",
       "-10.6224  -1.8472  -0.0001   1.8487   9.8909 \n",
       "\n",
       "Coefficients:\n",
       "            Estimate Std. Error t value Pr(>|t|)    \n",
       "(Intercept)  9.49699    0.03881   244.7   <2e-16 ***\n",
       "College      2.41034    0.05453    44.2   <2e-16 ***\n",
       "---\n",
       "Signif. codes:  0 '***' 0.001 '**' 0.01 '*' 0.05 '.' 0.1 ' ' 1\n",
       "\n",
       "Residual standard error: 2.726 on 9998 degrees of freedom\n",
       "Multiple R-squared:  0.1635,\tAdjusted R-squared:  0.1634 \n",
       "F-statistic:  1954 on 1 and 9998 DF,  p-value: < 2.2e-16\n"
      ]
     },
     "metadata": {},
     "output_type": "display_data"
    }
   ],
   "source": [
    "model1 = lm(LogEarning~College,data=school)\n",
    "summary(model1)"
   ]
  },
  {
   "cell_type": "markdown",
   "metadata": {},
   "source": [
    "Estimated Treatment Effect is: people who go to college is expected to earn 241.034% more than people who didn't go to college, provided that everything else is the same. This is not a good estimation, because College degree and earning are both positively correlated with individual abilities(IQ). Therefore, this will be an Overestimation. \n",
    "\n",
    "### (B).\n",
    "\n",
    "Assume that ability is reflected by IQ:"
   ]
  },
  {
   "cell_type": "code",
   "execution_count": 4,
   "metadata": {},
   "outputs": [
    {
     "data": {
      "text/plain": [
       "\n",
       "Call:\n",
       "lm(formula = LogEarning ~ College + NormIQ, data = school)\n",
       "\n",
       "Residuals:\n",
       "     Min       1Q   Median       3Q      Max \n",
       "-10.1309  -1.8188   0.0341   1.8039  10.3312 \n",
       "\n",
       "Coefficients:\n",
       "            Estimate Std. Error t value Pr(>|t|)    \n",
       "(Intercept) 10.15444    0.05185  195.83   <2e-16 ***\n",
       "College      1.11258    0.08763   12.70   <2e-16 ***\n",
       "NormIQ       0.82018    0.04381   18.72   <2e-16 ***\n",
       "---\n",
       "Signif. codes:  0 '***' 0.001 '**' 0.01 '*' 0.05 '.' 0.1 ' ' 1\n",
       "\n",
       "Residual standard error: 2.68 on 9997 degrees of freedom\n",
       "Multiple R-squared:  0.1918,\tAdjusted R-squared:  0.1917 \n",
       "F-statistic:  1186 on 2 and 9997 DF,  p-value: < 2.2e-16\n"
      ]
     },
     "metadata": {},
     "output_type": "display_data"
    }
   ],
   "source": [
    "model2 = lm(LogEarning ~ College+NormIQ,data=school)\n",
    "summary(model2)\n"
   ]
  },
  {
   "cell_type": "markdown",
   "metadata": {},
   "source": [
    "Estimated Treatment Effect is: people who go to college is expected to earn 111.258% more than people who didn't go to college, provided that IQ and everything else is the same.. The rational is to control the IQ of the samples, and adjust only \"College\". \n",
    "\n",
    "### (C)."
   ]
  },
  {
   "cell_type": "code",
   "execution_count": 5,
   "metadata": {},
   "outputs": [
    {
     "data": {
      "text/plain": [
       "\n",
       "Call:\n",
       "lm(formula = LogEarning ~ College + NormIQ + College * NormIQ, \n",
       "    data = school)\n",
       "\n",
       "Residuals:\n",
       "     Min       1Q   Median       3Q      Max \n",
       "-10.0544  -1.8158   0.0361   1.7935  10.4077 \n",
       "\n",
       "Coefficients:\n",
       "               Estimate Std. Error t value Pr(>|t|)    \n",
       "(Intercept)    10.04210    0.06355 158.008  < 2e-16 ***\n",
       "College         1.12524    0.08769  12.832  < 2e-16 ***\n",
       "NormIQ          0.68004    0.06343  10.722  < 2e-16 ***\n",
       "College:NormIQ  0.26780    0.08768   3.054  0.00226 ** \n",
       "---\n",
       "Signif. codes:  0 '***' 0.001 '**' 0.01 '*' 0.05 '.' 0.1 ' ' 1\n",
       "\n",
       "Residual standard error: 2.679 on 9996 degrees of freedom\n",
       "Multiple R-squared:  0.1926,\tAdjusted R-squared:  0.1923 \n",
       "F-statistic: 794.7 on 3 and 9996 DF,  p-value: < 2.2e-16\n"
      ]
     },
     "metadata": {},
     "output_type": "display_data"
    }
   ],
   "source": [
    "model3 = lm(LogEarning~College + NormIQ + College* NormIQ,data=school)\n",
    "summary(model3)"
   ]
  },
  {
   "cell_type": "markdown",
   "metadata": {},
   "source": [
    "Estimated Treatment Effect is: people who go to college is expected to earn (112.524 + 26.78 * NormIQ)% more than people who didn't go to college, provided that IQ and everything else is the same.\n",
    "\n",
    "### (D).\n",
    "\n",
    "* The treatment group and the control group are the same with regard to all the other covariates\n",
    "\n",
    "* Random assignment to the treatment and control groups.\n",
    "\n",
    "* Random sampling from the population\n",
    "\n",
    "* The unobservables are also balanced.\n",
    "\n",
    "### (E)."
   ]
  },
  {
   "cell_type": "code",
   "execution_count": 6,
   "metadata": {},
   "outputs": [
    {
     "data": {
      "text/plain": [
       "\n",
       "Call:\n",
       "lm(formula = LogEarning ~ NormIQ, data = school)\n",
       "\n",
       "Residuals:\n",
       "     Min       1Q   Median       3Q      Max \n",
       "-10.1121  -1.8343   0.0152   1.8438  10.8003 \n",
       "\n",
       "Coefficients:\n",
       "            Estimate Std. Error t value Pr(>|t|)    \n",
       "(Intercept) 10.71807    0.02701  396.81   <2e-16 ***\n",
       "NormIQ       1.26025    0.02701   46.66   <2e-16 ***\n",
       "---\n",
       "Signif. codes:  0 '***' 0.001 '**' 0.01 '*' 0.05 '.' 0.1 ' ' 1\n",
       "\n",
       "Residual standard error: 2.701 on 9998 degrees of freedom\n",
       "Multiple R-squared:  0.1788,\tAdjusted R-squared:  0.1787 \n",
       "F-statistic:  2177 on 1 and 9998 DF,  p-value: < 2.2e-16\n"
      ]
     },
     "metadata": {},
     "output_type": "display_data"
    }
   ],
   "source": [
    "# balance check\n",
    "BalanceCheck1 = lm(LogEarning~ NormIQ,data=school )\n",
    "summary(BalanceCheck1)"
   ]
  },
  {
   "cell_type": "code",
   "execution_count": 7,
   "metadata": {},
   "outputs": [
    {
     "name": "stderr",
     "output_type": "stream",
     "text": [
      "Warning message:\n",
      "\"package 'Matching' was built under R version 3.5.3\"Loading required package: MASS\n",
      "Warning message:\n",
      "\"package 'MASS' was built under R version 3.5.3\"## \n",
      "##  Matching (Version 4.9-5, Build Date: 2019-03-05)\n",
      "##  See http://sekhon.berkeley.edu/matching for additional documentation.\n",
      "##  Please cite software as:\n",
      "##   Jasjeet S. Sekhon. 2011. ``Multivariate and Propensity Score Matching\n",
      "##   Software with Automated Balance Optimization: The Matching package for R.''\n",
      "##   Journal of Statistical Software, 42(7): 1-52. \n",
      "##\n",
      "\n",
      "Warning message:\n",
      "\"package 'caTools' was built under R version 3.5.3\""
     ]
    }
   ],
   "source": [
    "library('Matching')\n",
    "library(caTools)"
   ]
  },
  {
   "cell_type": "code",
   "execution_count": 10,
   "metadata": {},
   "outputs": [
    {
     "name": "stderr",
     "output_type": "stream",
     "text": [
      "Warning message:\n",
      "\"glm.fit: fitted probabilities numerically 0 or 1 occurred\""
     ]
    },
    {
     "name": "stdout",
     "output_type": "stream",
     "text": [
      "\n",
      "Estimate...  -0.65846 \n",
      "AI SE......  1.7046 \n",
      "T-stat.....  -0.38629 \n",
      "p.val......  0.69928 \n",
      "\n",
      "Original number of observations..............  10000 \n",
      "Original number of treated obs...............  5066 \n",
      "Matched number of observations...............  5066 \n",
      "Matched number of observations  (unweighted).  79019 \n",
      "\n"
     ]
    }
   ],
   "source": [
    "\n",
    "# Fit a logistic regression to estimate the propensity score\n",
    "pscore_model = glm(College ~ IQ, data=school, family=binomial)\n",
    "\n",
    "pscore = predict(pscore_model,type=\"response\")\n",
    "\n",
    "\n",
    "school$pscore = pscore\n",
    "LogEarning = school$LogEarning\n",
    "College = school$College\n",
    "\n",
    "#Run propensity score matching and estimate the average treatment effect on treated\n",
    "match.pscore = Match(Y =LogEarning, Tr=College, X=pscore, estimand = \"ATT\", M = 1)\n",
    "summary(match.pscore)"
   ]
  },
  {
   "cell_type": "code",
   "execution_count": 11,
   "metadata": {},
   "outputs": [
    {
     "name": "stdout",
     "output_type": "stream",
     "text": [
      "\n",
      "***** (V1) IQ *****\n",
      "                       Before Matching \t \t After Matching\n",
      "mean treatment........     111.92 \t \t     111.92 \n",
      "mean control..........      88.37 \t \t     104.24 \n",
      "std mean diff.........     254.52 \t \t     82.965 \n",
      "\n",
      "mean raw eQQ diff.....     23.544 \t \t    0.83228 \n",
      "med  raw eQQ diff.....         22 \t \t          0 \n",
      "max  raw eQQ diff.....         49 \t \t         49 \n",
      "\n",
      "mean eCDF diff........    0.22424 \t \t  0.0079998 \n",
      "med  eCDF diff........   0.079945 \t \t  0.0019489 \n",
      "max  eCDF diff........    0.92492 \t \t   0.045635 \n",
      "\n",
      "var ratio (Tr/Co).....      1.069 \t \t     32.926 \n",
      "T-test p-value........ < 2.22e-16 \t \t < 2.22e-16 \n",
      "KS Bootstrap p-value.. < 2.22e-16 \t \t < 2.22e-16 \n",
      "KS Naive p-value...... < 2.22e-16 \t \t < 2.22e-16 \n",
      "KS Statistic..........    0.92492 \t \t   0.045635 \n",
      "\n"
     ]
    }
   ],
   "source": [
    "##Balance Check\n",
    "MatchBalance(College ~ IQ,data=school,match.out=match.pscore)"
   ]
  },
  {
   "cell_type": "markdown",
   "metadata": {},
   "source": [
    "## Question 3\n",
    "\n",
    "### (A)."
   ]
  },
  {
   "cell_type": "code",
   "execution_count": 2,
   "metadata": {},
   "outputs": [
    {
     "name": "stdout",
     "output_type": "stream",
     "text": [
      "'data.frame':\t10000 obs. of  3 variables:\n",
      " $ Satisfaction : int  10 2 6 10 6 4 7 3 4 9 ...\n",
      " $ Adoption     : int  1 0 0 1 0 0 1 0 0 1 ...\n",
      " $ Encouragement: int  1 0 0 0 0 1 0 1 0 0 ...\n"
     ]
    }
   ],
   "source": [
    "newFeature = read.csv(\"D:/Study/Business Analytics/LA/HW7/NewFeature.csv\")\n",
    "str(newFeature)"
   ]
  },
  {
   "cell_type": "code",
   "execution_count": 4,
   "metadata": {},
   "outputs": [
    {
     "data": {
      "text/plain": [
       "\n",
       "Call:\n",
       "lm(formula = Satisfaction ~ Adoption, data = newFeature)\n",
       "\n",
       "Residuals:\n",
       "    Min      1Q  Median      3Q     Max \n",
       "-5.1261 -1.1261 -0.1261  0.8739  4.3488 \n",
       "\n",
       "Coefficients:\n",
       "            Estimate Std. Error t value Pr(>|t|)    \n",
       "(Intercept)  4.65121    0.01935   240.4   <2e-16 ***\n",
       "Adoption     3.47492    0.02863   121.4   <2e-16 ***\n",
       "---\n",
       "Signif. codes:  0 '***' 0.001 '**' 0.01 '*' 0.05 '.' 0.1 ' ' 1\n",
       "\n",
       "Residual standard error: 1.426 on 9998 degrees of freedom\n",
       "Multiple R-squared:  0.5958,\tAdjusted R-squared:  0.5957 \n",
       "F-statistic: 1.473e+04 on 1 and 9998 DF,  p-value: < 2.2e-16\n"
      ]
     },
     "metadata": {},
     "output_type": "display_data"
    }
   ],
   "source": [
    "model1 =lm(Satisfaction~Adoption, data = newFeature)\n",
    "summary(model1)"
   ]
  },
  {
   "cell_type": "markdown",
   "metadata": {},
   "source": [
    "$\\hat{\\beta_{A}}$ is 3.47492. This is not a good estimation, because people who are already satisfied with facebook tend to be more willing to adopt new features. As 'Satisfaction' is positively correlated with 'Adoption', and 'Adoption' is positively correlated with 'Encouragement', this would be an overeestimation.\n",
    "\n",
    "### (B).\n",
    "\n",
    "Because encouragement is correlated with adoption, but not correlated to the error term (Bias).\n",
    "\n",
    "### (C)."
   ]
  },
  {
   "cell_type": "code",
   "execution_count": 14,
   "metadata": {},
   "outputs": [
    {
     "data": {
      "text/plain": [
       "\n",
       "Call:\n",
       "lm(formula = Adoption ~ Encouragement, data = newFeature)\n",
       "\n",
       "Residuals:\n",
       "    Min      1Q  Median      3Q     Max \n",
       "-0.5685 -0.3445 -0.3445  0.4315  0.6555 \n",
       "\n",
       "Coefficients:\n",
       "              Estimate Std. Error t value Pr(>|t|)    \n",
       "(Intercept)   0.344489   0.006872   50.13   <2e-16 ***\n",
       "Encouragement 0.223974   0.009708   23.07   <2e-16 ***\n",
       "---\n",
       "Signif. codes:  0 '***' 0.001 '**' 0.01 '*' 0.05 '.' 0.1 ' ' 1\n",
       "\n",
       "Residual standard error: 0.4854 on 9998 degrees of freedom\n",
       "Multiple R-squared:  0.05054,\tAdjusted R-squared:  0.05045 \n",
       "F-statistic: 532.2 on 1 and 9998 DF,  p-value: < 2.2e-16\n"
      ]
     },
     "metadata": {},
     "output_type": "display_data"
    }
   ],
   "source": [
    "#first-stage regression X~Z and compute X_hat\n",
    "model_fs = lm(Adoption~Encouragement,data=newFeature)\n",
    "newFeature$Adoption1 = predict(model_fs,newdata=newFeature)\n",
    "summary(model_fs)\n",
    "##F-test is significant, so the strong first-stage assumption holds."
   ]
  },
  {
   "cell_type": "code",
   "execution_count": 15,
   "metadata": {},
   "outputs": [
    {
     "data": {
      "text/plain": [
       "\n",
       "Call:\n",
       "lm(formula = Satisfaction ~ Adoption1, data = newFeature)\n",
       "\n",
       "Residuals:\n",
       "    Min      1Q  Median      3Q     Max \n",
       "-6.3397 -1.3397 -0.1363  1.6603  3.8637 \n",
       "\n",
       "Coefficients:\n",
       "            Estimate Std. Error t value Pr(>|t|)    \n",
       "(Intercept)  5.82335    0.09408   61.90  < 2e-16 ***\n",
       "Adoption1    0.90836    0.20007    4.54 5.68e-06 ***\n",
       "---\n",
       "Signif. codes:  0 '***' 0.001 '**' 0.01 '*' 0.05 '.' 0.1 ' ' 1\n",
       "\n",
       "Residual standard error: 2.24 on 9998 degrees of freedom\n",
       "Multiple R-squared:  0.002058,\tAdjusted R-squared:  0.001958 \n",
       "F-statistic: 20.61 on 1 and 9998 DF,  p-value: 5.684e-06\n"
      ]
     },
     "metadata": {},
     "output_type": "display_data"
    }
   ],
   "source": [
    "#second-stage regression Y~X_hat\n",
    "model_ss  = lm(Satisfaction~Adoption1,data=newFeature)\n",
    "summary(model_ss)"
   ]
  },
  {
   "cell_type": "code",
   "execution_count": 13,
   "metadata": {},
   "outputs": [
    {
     "data": {
      "text/plain": [
       "\n",
       "Call:\n",
       "ivreg(formula = Satisfaction ~ Adoption | Encouragement, data = newFeature)\n",
       "\n",
       "Residuals:\n",
       "    Min      1Q  Median      3Q     Max \n",
       "-5.8234 -0.8234  0.1766  1.2683  3.2683 \n",
       "\n",
       "Coefficients:\n",
       "            Estimate Std. Error t value Pr(>|t|)    \n",
       "(Intercept)  5.82335    0.08042  72.412  < 2e-16 ***\n",
       "Adoption     0.90836    0.17102   5.311 1.11e-07 ***\n",
       "---\n",
       "Signif. codes:  0 '***' 0.001 '**' 0.01 '*' 0.05 '.' 0.1 ' ' 1\n",
       "\n",
       "Residual standard error: 1.915 on 9998 degrees of freedom\n",
       "Multiple R-Squared: 0.2708,\tAdjusted R-squared: 0.2707 \n",
       "Wald test: 28.21 on 1 and 9998 DF,  p-value: 1.112e-07 \n"
      ]
     },
     "metadata": {},
     "output_type": "display_data"
    }
   ],
   "source": [
    "library(\"AER\")\n",
    "#2sls combined estimation\n",
    "model2 = ivreg(Satisfaction~Adoption|Encouragement,data=newFeature)\n",
    "summary(model2)"
   ]
  },
  {
   "cell_type": "markdown",
   "metadata": {},
   "source": [
    "$\\hat{\\gamma_{A}}$ is 0.90836. It means adopting the new feature causes an average 0.90836 units increase in satisfaction"
   ]
  },
  {
   "cell_type": "code",
   "execution_count": null,
   "metadata": {},
   "outputs": [],
   "source": []
  }
 ],
 "metadata": {
  "kernelspec": {
   "display_name": "R",
   "language": "R",
   "name": "ir"
  },
  "language_info": {
   "codemirror_mode": "r",
   "file_extension": ".r",
   "mimetype": "text/x-r-source",
   "name": "R",
   "pygments_lexer": "r",
   "version": "3.5.1"
  }
 },
 "nbformat": 4,
 "nbformat_minor": 2
}
