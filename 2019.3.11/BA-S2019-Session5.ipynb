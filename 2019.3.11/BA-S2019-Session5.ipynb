{
 "cells": [
  {
   "cell_type": "code",
   "execution_count": 1,
   "metadata": {},
   "outputs": [],
   "source": [
    "#Import necessary Python packages\n",
    "import pandas as pd\n",
    "import numpy as np\n",
    "import matplotlib.pyplot as plt\n",
    "%matplotlib inline\n",
    "from sklearn import datasets, linear_model\n",
    "from sklearn.metrics import mean_squared_error, r2_score"
   ]
  },
  {
   "cell_type": "code",
   "execution_count": 2,
   "metadata": {},
   "outputs": [],
   "source": [
    "##Load data\n",
    "movie = pd.read_csv(\"movieLens.csv\")\n",
    "movie_data = np.array(movie)"
   ]
  },
  {
   "cell_type": "code",
   "execution_count": 3,
   "metadata": {
    "scrolled": true
   },
   "outputs": [
    {
     "data": {
      "text/html": [
       "<div>\n",
       "<style scoped>\n",
       "    .dataframe tbody tr th:only-of-type {\n",
       "        vertical-align: middle;\n",
       "    }\n",
       "\n",
       "    .dataframe tbody tr th {\n",
       "        vertical-align: top;\n",
       "    }\n",
       "\n",
       "    .dataframe thead th {\n",
       "        text-align: right;\n",
       "    }\n",
       "</style>\n",
       "<table border=\"1\" class=\"dataframe\">\n",
       "  <thead>\n",
       "    <tr style=\"text-align: right;\">\n",
       "      <th></th>\n",
       "      <th>ID</th>\n",
       "      <th>Title</th>\n",
       "      <th>ReleaseDate</th>\n",
       "      <th>VideoReleaseDate</th>\n",
       "      <th>IMDB</th>\n",
       "      <th>Unknown</th>\n",
       "      <th>Action</th>\n",
       "      <th>Adventure</th>\n",
       "      <th>Animation</th>\n",
       "      <th>Childrens</th>\n",
       "      <th>...</th>\n",
       "      <th>Fantasy</th>\n",
       "      <th>FilmNoir</th>\n",
       "      <th>Horror</th>\n",
       "      <th>Musical</th>\n",
       "      <th>Mystery</th>\n",
       "      <th>Romance</th>\n",
       "      <th>SciFi</th>\n",
       "      <th>Thriller</th>\n",
       "      <th>War</th>\n",
       "      <th>Western</th>\n",
       "    </tr>\n",
       "  </thead>\n",
       "  <tbody>\n",
       "    <tr>\n",
       "      <th>0</th>\n",
       "      <td>1</td>\n",
       "      <td>Toy Story (1995)</td>\n",
       "      <td>01-Jan-1995</td>\n",
       "      <td>NaN</td>\n",
       "      <td>http://us.imdb.com/M/title-exact?Toy%20Story%2...</td>\n",
       "      <td>0</td>\n",
       "      <td>0</td>\n",
       "      <td>0</td>\n",
       "      <td>1</td>\n",
       "      <td>1</td>\n",
       "      <td>...</td>\n",
       "      <td>0</td>\n",
       "      <td>0</td>\n",
       "      <td>0</td>\n",
       "      <td>0</td>\n",
       "      <td>0</td>\n",
       "      <td>0</td>\n",
       "      <td>0</td>\n",
       "      <td>0</td>\n",
       "      <td>0</td>\n",
       "      <td>0</td>\n",
       "    </tr>\n",
       "    <tr>\n",
       "      <th>1</th>\n",
       "      <td>2</td>\n",
       "      <td>GoldenEye (1995)</td>\n",
       "      <td>01-Jan-1995</td>\n",
       "      <td>NaN</td>\n",
       "      <td>http://us.imdb.com/M/title-exact?GoldenEye%20(...</td>\n",
       "      <td>0</td>\n",
       "      <td>1</td>\n",
       "      <td>1</td>\n",
       "      <td>0</td>\n",
       "      <td>0</td>\n",
       "      <td>...</td>\n",
       "      <td>0</td>\n",
       "      <td>0</td>\n",
       "      <td>0</td>\n",
       "      <td>0</td>\n",
       "      <td>0</td>\n",
       "      <td>0</td>\n",
       "      <td>0</td>\n",
       "      <td>1</td>\n",
       "      <td>0</td>\n",
       "      <td>0</td>\n",
       "    </tr>\n",
       "    <tr>\n",
       "      <th>2</th>\n",
       "      <td>3</td>\n",
       "      <td>Four Rooms (1995)</td>\n",
       "      <td>01-Jan-1995</td>\n",
       "      <td>NaN</td>\n",
       "      <td>http://us.imdb.com/M/title-exact?Four%20Rooms%...</td>\n",
       "      <td>0</td>\n",
       "      <td>0</td>\n",
       "      <td>0</td>\n",
       "      <td>0</td>\n",
       "      <td>0</td>\n",
       "      <td>...</td>\n",
       "      <td>0</td>\n",
       "      <td>0</td>\n",
       "      <td>0</td>\n",
       "      <td>0</td>\n",
       "      <td>0</td>\n",
       "      <td>0</td>\n",
       "      <td>0</td>\n",
       "      <td>1</td>\n",
       "      <td>0</td>\n",
       "      <td>0</td>\n",
       "    </tr>\n",
       "    <tr>\n",
       "      <th>3</th>\n",
       "      <td>4</td>\n",
       "      <td>Get Shorty (1995)</td>\n",
       "      <td>01-Jan-1995</td>\n",
       "      <td>NaN</td>\n",
       "      <td>http://us.imdb.com/M/title-exact?Get%20Shorty%...</td>\n",
       "      <td>0</td>\n",
       "      <td>1</td>\n",
       "      <td>0</td>\n",
       "      <td>0</td>\n",
       "      <td>0</td>\n",
       "      <td>...</td>\n",
       "      <td>0</td>\n",
       "      <td>0</td>\n",
       "      <td>0</td>\n",
       "      <td>0</td>\n",
       "      <td>0</td>\n",
       "      <td>0</td>\n",
       "      <td>0</td>\n",
       "      <td>0</td>\n",
       "      <td>0</td>\n",
       "      <td>0</td>\n",
       "    </tr>\n",
       "    <tr>\n",
       "      <th>4</th>\n",
       "      <td>5</td>\n",
       "      <td>Copycat (1995)</td>\n",
       "      <td>01-Jan-1995</td>\n",
       "      <td>NaN</td>\n",
       "      <td>http://us.imdb.com/M/title-exact?Copycat%20(1995)</td>\n",
       "      <td>0</td>\n",
       "      <td>0</td>\n",
       "      <td>0</td>\n",
       "      <td>0</td>\n",
       "      <td>0</td>\n",
       "      <td>...</td>\n",
       "      <td>0</td>\n",
       "      <td>0</td>\n",
       "      <td>0</td>\n",
       "      <td>0</td>\n",
       "      <td>0</td>\n",
       "      <td>0</td>\n",
       "      <td>0</td>\n",
       "      <td>1</td>\n",
       "      <td>0</td>\n",
       "      <td>0</td>\n",
       "    </tr>\n",
       "  </tbody>\n",
       "</table>\n",
       "<p>5 rows × 24 columns</p>\n",
       "</div>"
      ],
      "text/plain": [
       "   ID              Title  ReleaseDate  VideoReleaseDate  \\\n",
       "0   1   Toy Story (1995)  01-Jan-1995               NaN   \n",
       "1   2   GoldenEye (1995)  01-Jan-1995               NaN   \n",
       "2   3  Four Rooms (1995)  01-Jan-1995               NaN   \n",
       "3   4  Get Shorty (1995)  01-Jan-1995               NaN   \n",
       "4   5     Copycat (1995)  01-Jan-1995               NaN   \n",
       "\n",
       "                                                IMDB  Unknown  Action  \\\n",
       "0  http://us.imdb.com/M/title-exact?Toy%20Story%2...        0       0   \n",
       "1  http://us.imdb.com/M/title-exact?GoldenEye%20(...        0       1   \n",
       "2  http://us.imdb.com/M/title-exact?Four%20Rooms%...        0       0   \n",
       "3  http://us.imdb.com/M/title-exact?Get%20Shorty%...        0       1   \n",
       "4  http://us.imdb.com/M/title-exact?Copycat%20(1995)        0       0   \n",
       "\n",
       "   Adventure  Animation  Childrens  ...  Fantasy  FilmNoir  Horror  Musical  \\\n",
       "0          0          1          1  ...        0         0       0        0   \n",
       "1          1          0          0  ...        0         0       0        0   \n",
       "2          0          0          0  ...        0         0       0        0   \n",
       "3          0          0          0  ...        0         0       0        0   \n",
       "4          0          0          0  ...        0         0       0        0   \n",
       "\n",
       "   Mystery  Romance  SciFi  Thriller  War  Western  \n",
       "0        0        0      0         0    0        0  \n",
       "1        0        0      0         1    0        0  \n",
       "2        0        0      0         1    0        0  \n",
       "3        0        0      0         0    0        0  \n",
       "4        0        0      0         1    0        0  \n",
       "\n",
       "[5 rows x 24 columns]"
      ]
     },
     "execution_count": 3,
     "metadata": {},
     "output_type": "execute_result"
    }
   ],
   "source": [
    "movie.head()"
   ]
  },
  {
   "cell_type": "code",
   "execution_count": 4,
   "metadata": {},
   "outputs": [],
   "source": [
    "X = movie_data[:,5:-1]"
   ]
  },
  {
   "cell_type": "code",
   "execution_count": 5,
   "metadata": {},
   "outputs": [
    {
     "name": "stdout",
     "output_type": "stream",
     "text": [
      "(1682, 18)\n"
     ]
    }
   ],
   "source": [
    "print(X.shape)"
   ]
  },
  {
   "cell_type": "code",
   "execution_count": 6,
   "metadata": {},
   "outputs": [
    {
     "data": {
      "text/plain": [
       "array([3, 4, 2, ..., 0, 1, 0])"
      ]
     },
     "execution_count": 6,
     "metadata": {},
     "output_type": "execute_result"
    }
   ],
   "source": [
    "#Train Hierarchical Clustering trianing model\n",
    "\n",
    "from sklearn.cluster import AgglomerativeClustering as HieClustering\n",
    "\n",
    "clustering1 = HieClustering(n_clusters=5,linkage='ward').fit(X)\n",
    "clustering1.labels_"
   ]
  },
  {
   "cell_type": "code",
   "execution_count": 7,
   "metadata": {},
   "outputs": [
    {
     "data": {
      "text/plain": [
       "{'icoord': [[5.0, 5.0, 15.0, 15.0],\n",
       "  [25.0, 25.0, 35.0, 35.0],\n",
       "  [10.0, 10.0, 30.0, 30.0]],\n",
       " 'dcoord': [[0.0, 0.7071067811865476, 0.7071067811865476, 0.0],\n",
       "  [0.0, 1.0, 1.0, 0.0],\n",
       "  [0.7071067811865476, 1.5811388300841898, 1.5811388300841898, 1.0]],\n",
       " 'ivl': ['0', '1', '2', '3'],\n",
       " 'leaves': [0, 1, 2, 3],\n",
       " 'color_list': ['g', 'r', 'b']}"
      ]
     },
     "execution_count": 7,
     "metadata": {},
     "output_type": "execute_result"
    },
    {
     "data": {
      "image/png": "[encoded data removed]",
      "text/plain": [
       "<Figure size 432x288 with 1 Axes>"
      ]
     },
     "metadata": {
      "needs_background": "light"
     },
     "output_type": "display_data"
    }
   ],
   "source": [
    "#Plot the dendrogram\n",
    "\n",
    "from scipy.cluster.hierarchy import dendrogram, linkage\n",
    "\n",
    "data = [[0., 0.], [0.5, 0.5], [0, 2], [1, 2]]\n",
    "\n",
    "Den = linkage(data)\n",
    "dendrogram(Den)"
   ]
  },
  {
   "cell_type": "code",
   "execution_count": 8,
   "metadata": {},
   "outputs": [
    {
     "name": "stdout",
     "output_type": "stream",
     "text": [
      "[2 3 4 ... 1 2 1]\n",
      "[4]\n",
      "[[ 7.69230769e-03 -6.10622664e-16  1.53846154e-01  1.07692308e-01\n",
      "   2.11538462e-01  1.83186799e-15  6.92307692e-02  1.76923077e-01\n",
      "   1.16573418e-15  2.69230769e-02  3.07692308e-02  1.80769231e-01\n",
      "   9.61538462e-02  3.07692308e-02  1.50000000e-01  6.92307692e-02\n",
      "  -6.10622664e-16  5.00000000e-02]\n",
      " [-9.54097912e-18  4.77759473e-02  1.48270181e-02 -2.91433544e-16\n",
      "   2.80065898e-02  2.66453526e-15  5.10708402e-02  4.94233937e-03\n",
      "   1.00000000e+00  6.58978583e-03  3.29489292e-03  8.23723229e-03\n",
      "   1.48270181e-02  1.64744646e-02  1.36738056e-01  9.88467875e-03\n",
      "   5.76606260e-02  5.60131796e-02]\n",
      " [-1.95156391e-18  3.88548057e-02  1.63599182e-02  2.04498978e-02\n",
      "   8.38445808e-02  1.00000000e+00  2.45398773e-02  2.04498978e-03\n",
      "   1.82004090e-01  1.43149284e-02  1.50920942e-16  2.24948875e-02\n",
      "   4.08997955e-02  1.63599182e-02  1.92229039e-01  1.84049080e-02\n",
      "   1.84049080e-02  2.24948875e-02]\n",
      " [-5.85469173e-18  1.00000000e+00  3.69458128e-01  1.47783251e-02\n",
      "   4.43349754e-02  6.40394089e-02  8.37438424e-02  7.97972799e-17\n",
      "   6.89655172e-02  1.97044335e-02 -3.29597460e-17  6.40394089e-02\n",
      "   9.85221675e-03  3.94088670e-02  1.03448276e-01  2.66009852e-01\n",
      "   4.13793103e-01  6.40394089e-02]\n",
      " [-1.30104261e-18  0.00000000e+00  2.43902439e-02  8.13008130e-03\n",
      "  -1.11022302e-16  2.43902439e-02  2.52032520e-01 -3.46944695e-17\n",
      "   1.21951220e-01 -1.73472348e-18  1.13821138e-01  1.30081301e-01\n",
      "   7.63278329e-17  2.19512195e-01  8.13008130e-02  1.13821138e-01\n",
      "   1.00000000e+00  9.02056208e-17]]\n"
     ]
    }
   ],
   "source": [
    "#Train k-means model\n",
    "\n",
    "from sklearn.cluster import KMeans\n",
    "kmeans = KMeans(n_clusters=5, random_state=0, max_iter=1000,init='k-means++').fit(X)\n",
    "print(kmeans.labels_)\n",
    "\n",
    "##For a new data point, predict which cluster it belongs to.\n",
    "print(kmeans.predict([[1,0,0,0,1,1,1,1,0,0,1,1,0,1,1,0,1,1]]))\n",
    "\n",
    "##The center of each cluster\n",
    "print(kmeans.cluster_centers_)"
   ]
  },
  {
   "cell_type": "code",
   "execution_count": 9,
   "metadata": {},
   "outputs": [
    {
     "name": "stdout",
     "output_type": "stream",
     "text": [
      "(569, 30)\n"
     ]
    }
   ],
   "source": [
    "##Load the breast cancer data set\n",
    "\n",
    "from sklearn.datasets import load_breast_cancer\n",
    "breast_cancer = load_breast_cancer()\n",
    "Xb = breast_cancer.data \n",
    "print(Xb.shape)"
   ]
  },
  {
   "cell_type": "code",
   "execution_count": 10,
   "metadata": {},
   "outputs": [
    {
     "name": "stdout",
     "output_type": "stream",
     "text": [
      "(569, 2)\n"
     ]
    },
    {
     "data": {
      "text/plain": [
       "Text(0, 0.5, 'second principal component')"
      ]
     },
     "execution_count": 10,
     "metadata": {},
     "output_type": "execute_result"
    },
    {
     "data": {
      "image/png": "[encoded data removed]",
      "text/plain": [
       "<Figure size 432x288 with 1 Axes>"
      ]
     },
     "metadata": {
      "needs_background": "light"
     },
     "output_type": "display_data"
    }
   ],
   "source": [
    "#Perform PCA analysis with number =f components to be 2\n",
    "\n",
    "from sklearn.decomposition import PCA\n",
    "pca = PCA(n_components=2)\n",
    "X_pca = pca.fit_transform(Xb)\n",
    "print(X_pca.shape)\n",
    "plt.scatter(X_pca[:, 0], X_pca[:, 1], c=breast_cancer.target)\n",
    "plt.xlabel(\"first principal component\")\n",
    "plt.ylabel(\"second principal component\")\n"
   ]
  },
  {
   "cell_type": "code",
   "execution_count": 11,
   "metadata": {},
   "outputs": [
    {
     "name": "stdout",
     "output_type": "stream",
     "text": [
      "[[ 5.08623202e-03  2.19657026e-03  3.50763298e-02  5.16826469e-01\n",
      "   4.23694535e-06  4.05260047e-05  8.19399539e-05  4.77807775e-05\n",
      "   7.07804332e-06 -2.62155251e-06  3.13742507e-04 -6.50984008e-05\n",
      "   2.23634150e-03  5.57271669e-02 -8.05646029e-07  5.51918197e-06\n",
      "   8.87094462e-06  3.27915009e-06 -1.24101836e-06 -8.54530832e-08\n",
      "   7.15473257e-03  3.06736622e-03  4.94576447e-02  8.52063392e-01\n",
      "   6.42005481e-06  1.01275937e-04  1.68928625e-04  7.36658178e-05\n",
      "   1.78986262e-05  1.61356159e-06]\n",
      " [ 9.28705650e-03 -2.88160658e-03  6.27480827e-02  8.51823720e-01\n",
      "  -1.48194356e-05 -2.68862249e-06  7.51419574e-05  4.63501038e-05\n",
      "  -2.52430431e-05 -1.61197148e-05 -5.38692831e-05  3.48370414e-04\n",
      "   8.19640791e-04  7.51112451e-03  1.49438131e-06  1.27357957e-05\n",
      "   2.86921009e-05  9.36007477e-06  1.22647432e-05  2.89683790e-07\n",
      "  -5.68673345e-04 -1.32152605e-02 -1.85961117e-04 -5.19742358e-01\n",
      "  -7.68565692e-05 -2.56104144e-04 -1.75471479e-04 -3.05051743e-05\n",
      "  -1.57042845e-04 -5.53071662e-05]]\n"
     ]
    },
    {
     "data": {
      "text/plain": [
       "<matplotlib.colorbar.Colorbar at 0x1a21a7ec18>"
      ]
     },
     "execution_count": 11,
     "metadata": {},
     "output_type": "execute_result"
    },
    {
     "data": {
      "image/png": "[encoded data removed]",
      "text/plain": [
       "<Figure size 432x288 with 2 Axes>"
      ]
     },
     "metadata": {
      "needs_background": "light"
     },
     "output_type": "display_data"
    }
   ],
   "source": [
    "#Plot the coefficients for PCA\n",
    "components = pca.components_\n",
    "print(components)\n",
    "plt.imshow(components.T)\n",
    "plt.yticks(range(len(breast_cancer.feature_names)), breast_cancer.feature_names)\n",
    "plt.colorbar()"
   ]
  },
  {
   "cell_type": "code",
   "execution_count": 12,
   "metadata": {},
   "outputs": [
    {
     "data": {
      "text/plain": [
       "Text(0, 0.5, 'second principal component')"
      ]
     },
     "execution_count": 12,
     "metadata": {},
     "output_type": "execute_result"
    },
    {
     "data": {
      "image/png": "[encoded data removed]",
      "text/plain": [
       "<Figure size 432x288 with 1 Axes>"
      ]
     },
     "metadata": {
      "needs_background": "light"
     },
     "output_type": "display_data"
    }
   ],
   "source": [
    "##PCA with scaled covariates\n",
    "\n",
    "from sklearn.pipeline import make_pipeline\n",
    "from sklearn.preprocessing import StandardScaler\n",
    "\n",
    "pca_scaled = make_pipeline(StandardScaler(), PCA(n_components=2))\n",
    "X_pca_scaled = pca_scaled.fit_transform(breast_cancer.data)\n",
    "plt.scatter(X_pca_scaled[:, 0], X_pca_scaled[:, 1], c=breast_cancer.target)\n",
    "plt.xlabel(\"first principal component\")\n",
    "plt.ylabel(\"second principal component\")"
   ]
  },
  {
   "cell_type": "code",
   "execution_count": 13,
   "metadata": {},
   "outputs": [
    {
     "name": "stdout",
     "output_type": "stream",
     "text": [
      "[[ 0.21890244  0.10372458  0.22753729  0.22099499  0.14258969  0.23928535\n",
      "   0.25840048  0.26085376  0.13816696  0.06436335  0.20597878  0.01742803\n",
      "   0.21132592  0.20286964  0.01453145  0.17039345  0.15358979  0.1834174\n",
      "   0.04249842  0.10256832  0.22799663  0.10446933  0.23663968  0.22487053\n",
      "   0.12795256  0.21009588  0.22876753  0.25088597  0.12290456  0.13178394]\n",
      " [-0.23385713 -0.05970609 -0.21518136 -0.23107671  0.18611302  0.15189161\n",
      "   0.06016536 -0.0347675   0.19034877  0.36657547 -0.10555215  0.08997968\n",
      "  -0.08945723 -0.15229263  0.20443045  0.2327159   0.19720728  0.13032156\n",
      "   0.183848    0.28009203 -0.21986638 -0.0454673  -0.19987843 -0.21935186\n",
      "   0.17230435  0.14359317  0.09796411 -0.00825724  0.14188335  0.27533947]]\n"
     ]
    },
    {
     "data": {
      "image/png": "[encoded data removed]",
      "text/plain": [
       "<Figure size 432x288 with 2 Axes>"
      ]
     },
     "metadata": {
      "needs_background": "light"
     },
     "output_type": "display_data"
    }
   ],
   "source": [
    "##Plot the PCA coefficients with scaled covariates\n",
    "components2 = pca_scaled.named_steps['pca'].components_\n",
    "plt.imshow(components2.T)\n",
    "plt.yticks(range(len(breast_cancer.feature_names)), breast_cancer.feature_names)\n",
    "plt.colorbar()\n",
    "print(components2)\n"
   ]
  },
  {
   "cell_type": "code",
   "execution_count": 14,
   "metadata": {},
   "outputs": [
    {
     "name": "stdout",
     "output_type": "stream",
     "text": [
      "0.9624413145539906\n",
      "0.9370629370629371\n"
     ]
    },
    {
     "name": "stderr",
     "output_type": "stream",
     "text": [
      "/Users/rz26/anaconda3/lib/python3.6/site-packages/sklearn/linear_model/logistic.py:433: FutureWarning: Default solver will be changed to 'lbfgs' in 0.22. Specify a solver to silence this warning.\n",
      "  FutureWarning)\n"
     ]
    }
   ],
   "source": [
    "##PCA+Logistic Regression\n",
    "\n",
    "from sklearn.linear_model import LogisticRegression\n",
    "from sklearn.model_selection import train_test_split\n",
    "\n",
    "X_train, X_test, y_train, y_test = train_test_split(breast_cancer.data, breast_cancer.target, stratify=breast_cancer.target, random_state=0)\n",
    "lr = LogisticRegression(C=1).fit(X_train, y_train)\n",
    "print(lr.score(X_train, y_train))\n",
    "print(lr.score(X_test, y_test))"
   ]
  },
  {
   "cell_type": "code",
   "execution_count": 15,
   "metadata": {},
   "outputs": [
    {
     "name": "stdout",
     "output_type": "stream",
     "text": [
      "0.9624413145539906\n",
      "0.9230769230769231\n"
     ]
    },
    {
     "name": "stderr",
     "output_type": "stream",
     "text": [
      "/Users/rz26/anaconda3/lib/python3.6/site-packages/sklearn/linear_model/logistic.py:433: FutureWarning: Default solver will be changed to 'lbfgs' in 0.22. Specify a solver to silence this warning.\n",
      "  FutureWarning)\n"
     ]
    }
   ],
   "source": [
    "##n_components=2\n",
    "\n",
    "pca_lr = make_pipeline(StandardScaler(), PCA(n_components=2), LogisticRegression(C=1))\n",
    "pca_lr.fit(X_train, y_train)\n",
    "print(pca_lr.score(X_train, y_train))\n",
    "print(pca_lr.score(X_test, y_test))"
   ]
  },
  {
   "cell_type": "code",
   "execution_count": 16,
   "metadata": {},
   "outputs": [
    {
     "name": "stdout",
     "output_type": "stream",
     "text": [
      "0.9859154929577465\n",
      "0.958041958041958\n"
     ]
    },
    {
     "name": "stderr",
     "output_type": "stream",
     "text": [
      "/Users/rz26/anaconda3/lib/python3.6/site-packages/sklearn/linear_model/logistic.py:433: FutureWarning: Default solver will be changed to 'lbfgs' in 0.22. Specify a solver to silence this warning.\n",
      "  FutureWarning)\n"
     ]
    }
   ],
   "source": [
    "##n_components=6\n",
    "\n",
    "pca_lr2 = make_pipeline(StandardScaler(), PCA(n_components=6), LogisticRegression(C=1))\n",
    "pca_lr2.fit(X_train, y_train)\n",
    "print(pca_lr2.score(X_train, y_train))\n",
    "print(pca_lr2.score(X_test, y_test))"
   ]
  },
  {
   "cell_type": "code",
   "execution_count": 17,
   "metadata": {},
   "outputs": [
    {
     "name": "stdout",
     "output_type": "stream",
     "text": [
      "[ 73.94468454  69.35659977 145.31490377   9.32331764  97.16903674\n",
      " 358.63943918  77.31646962  31.00222706  78.61467013 130.84765167\n",
      " 169.33755779  52.4883391  502.68107894]\n",
      "[2.18041192e-16 1.53834059e-15 1.57925506e-28 2.42317039e-03\n",
      " 1.51455111e-20 1.10224882e-56 5.25867488e-17 4.90462943e-08\n",
      " 3.05052353e-17 3.26823438e-26 3.12072588e-32 2.46071291e-12\n",
      " 2.33979209e-71]\n"
     ]
    }
   ],
   "source": [
    "## F-value and p-value\n",
    "\n",
    "from sklearn.datasets import load_boston\n",
    "from sklearn.linear_model import Ridge, RidgeCV\n",
    "from sklearn.preprocessing import StandardScaler ##The scaling tool\n",
    "\n",
    "boston = load_boston()\n",
    "Xb = boston.data \n",
    "yb = boston.target\n",
    "Xb_train, Xb_test, yb_train, yb_test = train_test_split(\n",
    "    Xb, yb, random_state=0,test_size=0.25)\n",
    "\n",
    "from sklearn.feature_selection import f_regression\n",
    "f_values, p_values = f_regression(Xb_train, yb_train)\n",
    "print(f_values)\n",
    "print(p_values)"
   ]
  },
  {
   "cell_type": "code",
   "execution_count": 18,
   "metadata": {},
   "outputs": [
    {
     "name": "stdout",
     "output_type": "stream",
     "text": [
      "(379, 13)\n",
      "(379, 2)\n"
     ]
    }
   ],
   "source": [
    "#Select k covariates using f-value\n",
    "\n",
    "from sklearn.feature_selection import SelectKBest\n",
    "from sklearn.model_selection import cross_val_score\n",
    "\n",
    "select = SelectKBest(k=2, score_func=f_regression)\n",
    "select.fit(Xb_train, yb_train)\n",
    "print(Xb_train.shape)\n",
    "print(select.transform(Xb_train).shape)"
   ]
  },
  {
   "cell_type": "code",
   "execution_count": 19,
   "metadata": {},
   "outputs": [
    {
     "name": "stdout",
     "output_type": "stream",
     "text": [
      "0.71795885107509\n",
      "0.624362574916846\n"
     ]
    }
   ],
   "source": [
    "#compare model of 2 variables and model of all features\n",
    "\n",
    "all_features = make_pipeline(StandardScaler(), RidgeCV())\n",
    "print(np.mean(cross_val_score(all_features, Xb_train, yb_train, cv=10)))\n",
    "select_2 = make_pipeline(StandardScaler(),SelectKBest(k=2, score_func=f_regression), RidgeCV())\n",
    "print(np.mean(cross_val_score(select_2, Xb_train, yb_train, cv=10)))"
   ]
  },
  {
   "cell_type": "code",
   "execution_count": 20,
   "metadata": {},
   "outputs": [
    {
     "name": "stdout",
     "output_type": "stream",
     "text": [
      "[0.33707742 0.19743965 0.53375953 0.00646745 0.45279576 0.56640244\n",
      " 0.35561509 0.33089776 0.23444032 0.38254601 0.49711965 0.15159588\n",
      " 0.6793122 ]\n"
     ]
    },
    {
     "data": {
      "text/plain": [
       "0.5894349088628841"
      ]
     },
     "execution_count": 20,
     "metadata": {},
     "output_type": "execute_result"
    }
   ],
   "source": [
    "#use mutual information to select features\n",
    "\n",
    "from sklearn.feature_selection import mutual_info_regression\n",
    "MIscores = mutual_info_regression(Xb_train, yb_train,\n",
    "                                discrete_features=[3])\n",
    "print(MIscores)\n",
    "select_3 = make_pipeline(StandardScaler(),SelectKBest(k=2, score_func=mutual_info_regression), RidgeCV())\n",
    "np.mean(cross_val_score(select_3, Xb_train, yb_train, cv=10))"
   ]
  },
  {
   "cell_type": "code",
   "execution_count": 21,
   "metadata": {},
   "outputs": [
    {
     "data": {
      "text/plain": [
       "array([ 9,  8, 13, 11,  5,  2, 12,  4,  7,  6,  3, 10,  1])"
      ]
     },
     "execution_count": 21,
     "metadata": {},
     "output_type": "execute_result"
    }
   ],
   "source": [
    "##Recursive Feature Elimination\n",
    "\n",
    "from sklearn.linear_model import LinearRegression\n",
    "from sklearn.feature_selection import RFE\n",
    "from sklearn.preprocessing import StandardScaler\n",
    "scaler = StandardScaler()\n",
    "scaler.fit(Xb_train)\n",
    "Xb_train_scaled = scaler.transform(Xb_train)\n",
    "\n",
    "rfe = RFE(LinearRegression(), n_features_to_select=1)##Select 1 model\n",
    "rfe.fit(Xb_train_scaled, yb_train)\n",
    "rfe.ranking_"
   ]
  },
  {
   "cell_type": "code",
   "execution_count": 22,
   "metadata": {},
   "outputs": [
    {
     "name": "stdout",
     "output_type": "stream",
     "text": [
      "[ True  True False  True  True  True False  True  True  True  True  True\n",
      "  True]\n",
      "['CRIM' 'ZN' 'CHAS' 'NOX' 'RM' 'DIS' 'RAD' 'TAX' 'PTRATIO' 'B' 'LSTAT']\n"
     ]
    }
   ],
   "source": [
    "##Recursive Feature Elimination + Cross Validation\n",
    "from sklearn.feature_selection import RFECV\n",
    "rfe = RFECV(LinearRegression(), cv=10)\n",
    "rfe.fit(Xb_train_scaled, yb_train)\n",
    "print(rfe.support_)\n",
    "print(boston.feature_names[rfe.support_])"
   ]
  },
  {
   "cell_type": "code",
   "execution_count": 23,
   "metadata": {},
   "outputs": [
    {
     "data": {
      "text/plain": [
       "0.710217843628811"
      ]
     },
     "execution_count": 23,
     "metadata": {},
     "output_type": "execute_result"
    }
   ],
   "source": [
    "pipe_rfe_ridgecv = make_pipeline(StandardScaler(),\n",
    "                                 RFECV(LinearRegression(), cv=10), RidgeCV())\n",
    "np.mean(cross_val_score(pipe_rfe_ridgecv, Xb_train_scaled, yb_train, cv=10))"
   ]
  },
  {
   "cell_type": "code",
   "execution_count": 24,
   "metadata": {},
   "outputs": [
    {
     "data": {
      "text/plain": [
       "0.8412260511533421"
      ]
     },
     "execution_count": 24,
     "metadata": {},
     "output_type": "execute_result"
    }
   ],
   "source": [
    "#Include Polynomial Features\n",
    "from sklearn.preprocessing import PolynomialFeatures\n",
    "pipe_rfe_ridgecv = make_pipeline(StandardScaler(), PolynomialFeatures(),RFECV(LinearRegression(), cv=10), RidgeCV())\n",
    "np.mean(cross_val_score(pipe_rfe_ridgecv, Xb_train_scaled, yb_train, cv=10))"
   ]
  },
  {
   "cell_type": "code",
   "execution_count": 25,
   "metadata": {},
   "outputs": [
    {
     "data": {
      "text/plain": [
       "SequentialFeatureSelector(clone_estimator=True, cv=5,\n",
       "             estimator=LinearRegression(copy_X=True, fit_intercept=True, n_jobs=None,\n",
       "         normalize=False),\n",
       "             floating=False, forward=False, k_features=7, n_jobs=1,\n",
       "             pre_dispatch='2*n_jobs', scoring=None, verbose=0)"
      ]
     },
     "execution_count": 25,
     "metadata": {},
     "output_type": "execute_result"
    }
   ],
   "source": [
    "##Wrapping method\n",
    "from mlxtend.feature_selection import SequentialFeatureSelector\n",
    "#We use the backward method, i.e., include all the features first and gradually remove them from the model.\n",
    "sfs = SequentialFeatureSelector(LinearRegression(), forward=False, k_features=7)\n",
    "sfs.fit(Xb_train_scaled, yb_train)"
   ]
  },
  {
   "cell_type": "code",
   "execution_count": 26,
   "metadata": {},
   "outputs": [
    {
     "name": "stdout",
     "output_type": "stream",
     "text": [
      "(1, 4, 5, 7, 9, 10, 12)\n",
      "['ZN' 'NOX' 'RM' 'DIS' 'TAX' 'PTRATIO' 'LSTAT']\n",
      "0.7250861222829649\n"
     ]
    }
   ],
   "source": [
    "#Print the index and model fitting result\n",
    "print(sfs.k_feature_idx_)\n",
    "print(boston.feature_names[np.array(sfs.k_feature_idx_)])\n",
    "print(sfs.k_score_)"
   ]
  }
 ],
 "metadata": {
  "kernelspec": {
   "display_name": "Python 3",
   "language": "python",
   "name": "python3"
  },
  "language_info": {
   "codemirror_mode": {
    "name": "ipython",
    "version": 3
   },
   "file_extension": ".py",
   "mimetype": "text/x-python",
   "name": "python",
   "nbconvert_exporter": "python",
   "pygments_lexer": "ipython3",
   "version": "3.6.8"
  }
 },
 "nbformat": 4,
 "nbformat_minor": 2
}
