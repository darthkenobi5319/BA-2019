{
 "cells": [
  {
   "cell_type": "code",
   "execution_count": null,
   "metadata": {},
   "outputs": [],
   "source": [
    "# Read dataset of health care quaility\n",
    "quality = read.csv(\"quality.csv\")\n",
    "str(quality)\n"
   ]
  },
  {
   "cell_type": "code",
   "execution_count": null,
   "metadata": {},
   "outputs": [],
   "source": [
    "#Computing the baseline accuracy\n",
    "BaseAccuracy = max(sum(quality$PoorCare)/nrow(quality),(sum(1-quality$PoorCare))/nrow(quality))\n",
    "BaseAccuracy"
   ]
  },
  {
   "cell_type": "code",
   "execution_count": null,
   "metadata": {},
   "outputs": [],
   "source": [
    "#Install package of caTools (for random sampling)\n",
    "install.packages(\"caTools\",repos='https://mirrors.tuna.tsinghua.edu.cn/CRAN/')\n",
    "library(caTools)"
   ]
  },
  {
   "cell_type": "code",
   "execution_count": null,
   "metadata": {},
   "outputs": [],
   "source": [
    "#Randomly split the data set into training set and testing set\n",
    "set.seed(88)\n",
    "\n",
    "split = sample.split(quality$PoorCare, SplitRatio = 0.75)\n",
    "split\n",
    "\n",
    "table(split)"
   ]
  },
  {
   "cell_type": "code",
   "execution_count": null,
   "metadata": {},
   "outputs": [],
   "source": [
    "# Create training and testing sets\n",
    "qualityTrain = subset(quality, split == TRUE)\n",
    "qualityTest = subset(quality, split == FALSE)"
   ]
  },
  {
   "cell_type": "code",
   "execution_count": null,
   "metadata": {},
   "outputs": [],
   "source": [
    "# Building the logistic regression model\n",
    "QualityLog = glm(PoorCare ~ OfficeVisits + Narcotics, data=qualityTrain, family=binomial)\n",
    "summary(QualityLog)"
   ]
  },
  {
   "cell_type": "code",
   "execution_count": null,
   "metadata": {},
   "outputs": [],
   "source": [
    "# Make predictions on training set\n",
    "predictTrain = predict(QualityLog, type=\"response\")\n",
    "\n",
    "# Analyze predictions\n",
    "summary(predictTrain)\n",
    "\n",
    "\n",
    "# Confusion matrix for threshold of 0.5\n",
    "table(qualityTrain$PoorCare, predictTrain > 0.5)\n",
    "\n",
    "\n",
    "\n",
    "# Confusion matrix for threshold of 0.7\n",
    "table(qualityTrain$PoorCare, predictTrain > 0.7)\n",
    "\n",
    "\n",
    "\n",
    "# Confusion matrix for threshold of 0.2\n",
    "table(qualityTrain$PoorCare, predictTrain > 0.2)\n"
   ]
  },
  {
   "cell_type": "code",
   "execution_count": null,
   "metadata": {},
   "outputs": [],
   "source": [
    "# Install and load ROCR package\n",
    "install.packages(\"ROCR\",repos='https://mirrors.tuna.tsinghua.edu.cn/CRAN/')\n",
    "library(ROCR)"
   ]
  },
  {
   "cell_type": "code",
   "execution_count": null,
   "metadata": {},
   "outputs": [],
   "source": [
    "ROCRpred = prediction(predictTrain, qualityTrain$PoorCare)\n",
    "\n",
    "# Performance function\n",
    "ROCRperf = performance(ROCRpred, \"tpr\", \"fpr\")\n",
    "\n",
    "# Plot ROC curve\n",
    "plot(ROCRperf)\n",
    "\n",
    "# Add colors\n",
    "plot(ROCRperf, colorize=TRUE)\n",
    "\n",
    "# Add threshold labels \n",
    "plot(ROCRperf, colorize=TRUE, print.cutoffs.at=seq(0,1,by=0.1), text.adj=c(-0.2,1.7))"
   ]
  },
  {
   "cell_type": "code",
   "execution_count": null,
   "metadata": {},
   "outputs": [],
   "source": [
    "#Install and load AUC package\n",
    "install.packages('AUC',repos='https://mirrors.tuna.tsinghua.edu.cn/CRAN/')\n",
    "library('AUC')"
   ]
  },
  {
   "cell_type": "code",
   "execution_count": null,
   "metadata": {},
   "outputs": [],
   "source": [
    "#Transform the predictive probability into a numeric variable\n",
    "predictTrain.n=as.numeric(predictTrain)\n",
    "\n",
    "#Transform the actual quality into a factor variable\n",
    "PoorCare_train.f=as.factor(qualityTrain$PoorCare)\n",
    "\n",
    "#Create an ROC object\n",
    "ROC_train=roc(predictTrain.n,PoorCare_train.f)\n",
    "\n",
    "#Calculate the AUC\n",
    "AUC_train=auc(ROC_train)\n",
    "AUC_train"
   ]
  },
  {
   "cell_type": "code",
   "execution_count": null,
   "metadata": {},
   "outputs": [],
   "source": []
  },
  {
   "cell_type": "code",
   "execution_count": null,
   "metadata": {},
   "outputs": [],
   "source": []
  }
 ],
 "metadata": {
  "kernelspec": {
   "display_name": "R",
   "language": "R",
   "name": "ir"
  },
  "language_info": {
   "codemirror_mode": "r",
   "file_extension": ".r",
   "mimetype": "text/x-r-source",
   "name": "R",
   "pygments_lexer": "r",
   "version": "3.5.1"
  }
 },
 "nbformat": 4,
 "nbformat_minor": 2
}
