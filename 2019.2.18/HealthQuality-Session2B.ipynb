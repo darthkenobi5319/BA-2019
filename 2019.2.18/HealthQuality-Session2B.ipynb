{
 "cells": [
  {
   "cell_type": "code",
   "execution_count": 1,
   "metadata": {},
   "outputs": [],
   "source": [
    "import pandas as pd\n",
    "import numpy as np\n",
    "import matplotlib.pyplot as plt\n",
    "%matplotlib inline\n",
    "from sklearn import datasets, linear_model\n",
    "from sklearn.metrics import mean_squared_error, r2_score"
   ]
  },
  {
   "cell_type": "code",
   "execution_count": 2,
   "metadata": {},
   "outputs": [
    {
     "data": {
      "text/html": [
       "<div>\n",
       "<style scoped>\n",
       "    .dataframe tbody tr th:only-of-type {\n",
       "        vertical-align: middle;\n",
       "    }\n",
       "\n",
       "    .dataframe tbody tr th {\n",
       "        vertical-align: top;\n",
       "    }\n",
       "\n",
       "    .dataframe thead th {\n",
       "        text-align: right;\n",
       "    }\n",
       "</style>\n",
       "<table border=\"1\" class=\"dataframe\">\n",
       "  <thead>\n",
       "    <tr style=\"text-align: right;\">\n",
       "      <th></th>\n",
       "      <th>MemberID</th>\n",
       "      <th>InpatientDays</th>\n",
       "      <th>ERVisits</th>\n",
       "      <th>OfficeVisits</th>\n",
       "      <th>Narcotics</th>\n",
       "      <th>DaysSinceLastERVisit</th>\n",
       "      <th>Pain</th>\n",
       "      <th>TotalVisits</th>\n",
       "      <th>ProviderCount</th>\n",
       "      <th>MedicalClaims</th>\n",
       "      <th>ClaimLines</th>\n",
       "      <th>StartedOnCombination</th>\n",
       "      <th>AcuteDrugGapSmall</th>\n",
       "      <th>PoorCare</th>\n",
       "    </tr>\n",
       "  </thead>\n",
       "  <tbody>\n",
       "    <tr>\n",
       "      <th>0</th>\n",
       "      <td>1</td>\n",
       "      <td>0</td>\n",
       "      <td>0</td>\n",
       "      <td>18</td>\n",
       "      <td>1</td>\n",
       "      <td>731.0</td>\n",
       "      <td>10</td>\n",
       "      <td>18</td>\n",
       "      <td>21</td>\n",
       "      <td>93</td>\n",
       "      <td>222</td>\n",
       "      <td>False</td>\n",
       "      <td>0</td>\n",
       "      <td>0</td>\n",
       "    </tr>\n",
       "    <tr>\n",
       "      <th>1</th>\n",
       "      <td>2</td>\n",
       "      <td>1</td>\n",
       "      <td>1</td>\n",
       "      <td>6</td>\n",
       "      <td>1</td>\n",
       "      <td>411.0</td>\n",
       "      <td>0</td>\n",
       "      <td>8</td>\n",
       "      <td>27</td>\n",
       "      <td>19</td>\n",
       "      <td>115</td>\n",
       "      <td>False</td>\n",
       "      <td>1</td>\n",
       "      <td>0</td>\n",
       "    </tr>\n",
       "    <tr>\n",
       "      <th>2</th>\n",
       "      <td>3</td>\n",
       "      <td>0</td>\n",
       "      <td>0</td>\n",
       "      <td>5</td>\n",
       "      <td>3</td>\n",
       "      <td>731.0</td>\n",
       "      <td>10</td>\n",
       "      <td>5</td>\n",
       "      <td>16</td>\n",
       "      <td>27</td>\n",
       "      <td>148</td>\n",
       "      <td>False</td>\n",
       "      <td>5</td>\n",
       "      <td>0</td>\n",
       "    </tr>\n",
       "    <tr>\n",
       "      <th>3</th>\n",
       "      <td>4</td>\n",
       "      <td>0</td>\n",
       "      <td>1</td>\n",
       "      <td>19</td>\n",
       "      <td>0</td>\n",
       "      <td>158.0</td>\n",
       "      <td>34</td>\n",
       "      <td>20</td>\n",
       "      <td>14</td>\n",
       "      <td>59</td>\n",
       "      <td>242</td>\n",
       "      <td>False</td>\n",
       "      <td>0</td>\n",
       "      <td>0</td>\n",
       "    </tr>\n",
       "    <tr>\n",
       "      <th>4</th>\n",
       "      <td>5</td>\n",
       "      <td>8</td>\n",
       "      <td>2</td>\n",
       "      <td>19</td>\n",
       "      <td>3</td>\n",
       "      <td>449.0</td>\n",
       "      <td>10</td>\n",
       "      <td>29</td>\n",
       "      <td>24</td>\n",
       "      <td>51</td>\n",
       "      <td>204</td>\n",
       "      <td>False</td>\n",
       "      <td>0</td>\n",
       "      <td>0</td>\n",
       "    </tr>\n",
       "  </tbody>\n",
       "</table>\n",
       "</div>"
      ],
      "text/plain": [
       "   MemberID  InpatientDays  ERVisits  OfficeVisits  Narcotics  \\\n",
       "0         1              0         0            18          1   \n",
       "1         2              1         1             6          1   \n",
       "2         3              0         0             5          3   \n",
       "3         4              0         1            19          0   \n",
       "4         5              8         2            19          3   \n",
       "\n",
       "   DaysSinceLastERVisit  Pain  TotalVisits  ProviderCount  MedicalClaims  \\\n",
       "0                 731.0    10           18             21             93   \n",
       "1                 411.0     0            8             27             19   \n",
       "2                 731.0    10            5             16             27   \n",
       "3                 158.0    34           20             14             59   \n",
       "4                 449.0    10           29             24             51   \n",
       "\n",
       "   ClaimLines  StartedOnCombination  AcuteDrugGapSmall  PoorCare  \n",
       "0         222                 False                  0         0  \n",
       "1         115                 False                  1         0  \n",
       "2         148                 False                  5         0  \n",
       "3         242                 False                  0         0  \n",
       "4         204                 False                  0         0  "
      ]
     },
     "execution_count": 2,
     "metadata": {},
     "output_type": "execute_result"
    }
   ],
   "source": [
    "#use dataframe to import the dataset\n",
    "df = pd.read_csv(\"C:/Users/darth/Dropbox/Study/Study/Business Analytics/LA/2019.2.18/quality.csv\")\n",
    "df.head()"
   ]
  },
  {
   "cell_type": "code",
   "execution_count": 3,
   "metadata": {},
   "outputs": [],
   "source": [
    "dataset = np.array(df)\n",
    "X = dataset[:,1:-1]\n",
    "y = dataset[:,-1]\n",
    "y = y.astype('int')"
   ]
  },
  {
   "cell_type": "code",
   "execution_count": 4,
   "metadata": {},
   "outputs": [
    {
     "name": "stdout",
     "output_type": "stream",
     "text": [
      "131\n",
      "0.7480916030534351\n"
     ]
    }
   ],
   "source": [
    "#Computing the baseline accuracy\n",
    "numberRow = df.shape[0]\n",
    "print(numberRow)\n",
    "BaseAccuracy = max(np.sum(df['PoorCare'])/numberRow,(np.sum(1-df['PoorCare']))/numberRow)\n",
    "print(BaseAccuracy)"
   ]
  },
  {
   "cell_type": "code",
   "execution_count": 5,
   "metadata": {},
   "outputs": [],
   "source": [
    "from sklearn.model_selection import train_test_split"
   ]
  },
  {
   "cell_type": "code",
   "execution_count": 6,
   "metadata": {},
   "outputs": [
    {
     "name": "stdout",
     "output_type": "stream",
     "text": [
      "(98, 12)\n",
      "[1 1 1 0 0 1 0 0 1 0 0 0 0 0 0 1 0 1 0 0 1 0 0 0 0 0 0 0 0 0 1 0 1 0 0 0 0\n",
      " 0 0 1 0 0 0 0 0 0 0 0 1 0 1 1 0 0 1 1 1 0 1 0 0 0 0 0 1 0 0 0 1 0 1 0 0 0\n",
      " 0 1 0 0 0 0 0 0 0 0 0 0 0 1 0 0 0 0 0 0 0 0 1 0]\n"
     ]
    }
   ],
   "source": [
    "X_train, X_test, y_train, y_test = train_test_split(X, y, test_size=0.25, random_state= 88)\n",
    "print(X_train.shape)\n",
    "print(y_train)\n"
   ]
  },
  {
   "cell_type": "code",
   "execution_count": 7,
   "metadata": {},
   "outputs": [
    {
     "name": "stdout",
     "output_type": "stream",
     "text": [
      "Coefficient:  [[ 0.11055466 -0.00233877]]\n",
      "Intercept:  [-0.6807395]\n",
      "[0 0 0 0 0 0 0 0 1 0 0 1 0 0 0 1 0 0 0 0 0 0 0 0 0 0 0 0 0 0 1 0 0 0 0 0 0\n",
      " 0 0 1 0 0 0 1 0 0 0 0 0 0 0 1 0 0 1 0 0 0 0 0 0 0 0 0 0 0 0 0 0 0 0 0 0 0\n",
      " 0 0 0 0 0 0 0 0 1 0 0 0 0 0 0 0 0 0 0 0 0 0 1 0]\n",
      "[[0.51717696 0.48282304]\n",
      " [0.62176595 0.37823405]\n",
      " [0.91609099 0.08390901]\n",
      " [0.70038485 0.29961515]\n",
      " [0.88682563 0.11317437]\n",
      " [0.70659482 0.29340518]\n",
      " [0.68293093 0.31706907]\n",
      " [0.91609099 0.08390901]\n",
      " [0.05588318 0.94411682]\n",
      " [0.82770851 0.17229149]\n",
      " [0.66167154 0.33832846]\n",
      " [0.20286624 0.79713376]\n",
      " [0.91609099 0.08390901]\n",
      " [0.91609099 0.08390901]\n",
      " [0.66882214 0.33117786]\n",
      " [0.0147551  0.9852449 ]\n",
      " [0.91609099 0.08390901]\n",
      " [0.78327186 0.21672814]\n",
      " [0.87678054 0.12321946]\n",
      " [0.67937536 0.32062464]\n",
      " [0.67374583 0.32625417]\n",
      " [0.78551136 0.21448864]\n",
      " [0.91609099 0.08390901]\n",
      " [0.91609099 0.08390901]\n",
      " [0.57195799 0.42804201]\n",
      " [0.72651928 0.27348072]\n",
      " [0.61625033 0.38374967]\n",
      " [0.78551136 0.21448864]\n",
      " [0.81234236 0.18765764]\n",
      " [0.71687111 0.28312889]\n",
      " [0.4076995  0.5923005 ]\n",
      " [0.91609099 0.08390901]\n",
      " [0.65521773 0.34478227]\n",
      " [0.90719257 0.09280743]\n",
      " [0.91609099 0.08390901]\n",
      " [0.88682563 0.11317437]\n",
      " [0.91609099 0.08390901]\n",
      " [0.91609099 0.08390901]\n",
      " [0.90719257 0.09280743]\n",
      " [0.131798   0.868202  ]\n",
      " [0.72105452 0.27894548]\n",
      " [0.8468103  0.1531897 ]\n",
      " [0.66682325 0.33317675]\n",
      " [0.4723335  0.5276665 ]\n",
      " [0.90719257 0.09280743]\n",
      " [0.90719257 0.09280743]\n",
      " [0.81386012 0.18613988]\n",
      " [0.91609099 0.08390901]\n",
      " [0.78353456 0.21646544]\n",
      " [0.73308199 0.26691801]\n",
      " [0.91609099 0.08390901]\n",
      " [0.24097046 0.75902954]\n",
      " [0.91609099 0.08390901]\n",
      " [0.91335466 0.08664534]\n",
      " [0.01579187 0.98420813]\n",
      " [0.67705773 0.32294227]\n",
      " [0.60999805 0.39000195]\n",
      " [0.89745611 0.10254389]\n",
      " [0.77119196 0.22880804]\n",
      " [0.76391804 0.23608196]\n",
      " [0.81845954 0.18154046]\n",
      " [0.91609099 0.08390901]\n",
      " [0.74082591 0.25917409]\n",
      " [0.83993094 0.16006906]\n",
      " [0.89745611 0.10254389]\n",
      " [0.80316605 0.19683395]\n",
      " [0.91609099 0.08390901]\n",
      " [0.87524631 0.12475369]\n",
      " [0.84551021 0.15448979]\n",
      " [0.91609099 0.08390901]\n",
      " [0.91609099 0.08390901]\n",
      " [0.82221407 0.17778593]\n",
      " [0.78054509 0.21945491]\n",
      " [0.90011525 0.09988475]\n",
      " [0.85075667 0.14924333]\n",
      " [0.54805609 0.45194391]\n",
      " [0.87524631 0.12475369]\n",
      " [0.69518624 0.30481376]\n",
      " [0.69396607 0.30603393]\n",
      " [0.91609099 0.08390901]\n",
      " [0.91609099 0.08390901]\n",
      " [0.74880821 0.25119179]\n",
      " [0.45979747 0.54020253]\n",
      " [0.90719257 0.09280743]\n",
      " [0.80205448 0.19794552]\n",
      " [0.88682563 0.11317437]\n",
      " [0.80019136 0.19980864]\n",
      " [0.63215832 0.36784168]\n",
      " [0.91372412 0.08627588]\n",
      " [0.90719257 0.09280743]\n",
      " [0.91609099 0.08390901]\n",
      " [0.59441811 0.40558189]\n",
      " [0.81712233 0.18287767]\n",
      " [0.67463439 0.32536561]\n",
      " [0.71572208 0.28427792]\n",
      " [0.78816749 0.21183251]\n",
      " [0.31743714 0.68256286]\n",
      " [0.91609099 0.08390901]]\n"
     ]
    },
    {
     "data": {
      "text/plain": [
       "0.7959183673469388"
      ]
     },
     "execution_count": 7,
     "metadata": {},
     "output_type": "execute_result"
    }
   ],
   "source": [
    "# Building the logistic regression model\n",
    "# OfficeVisits + Narcotics\n",
    "model1 = linear_model.LogisticRegression()\n",
    "X1 = np.hstack((X_train[:,3].reshape(98, 1),X_train[:,4].reshape(98, 1)))\n",
    "model1.fit(X1,y_train.astype('int'))\n",
    "print('Coefficient: ', model1.coef_)\n",
    "print('Intercept: ', model1.intercept_)\n",
    "\n",
    "y_pred = model1.predict(X1)\n",
    "print(y_pred)\n",
    "\n",
    "y_pred_prob = model1.predict_proba(X1)\n",
    "print(y_pred_prob)\n",
    "\n",
    "model1.score(X1, y_train.astype('int'))\n"
   ]
  },
  {
   "cell_type": "code",
   "execution_count": 12,
   "metadata": {},
   "outputs": [
    {
     "data": {
      "image/png": "[encoded data removed]",
      "text/plain": [
       "<matplotlib.figure.Figure at 0x1cd3334fb70>"
      ]
     },
     "metadata": {},
     "output_type": "display_data"
    },
    {
     "data": {
      "text/plain": [
       "0.767454954954955"
      ]
     },
     "execution_count": 12,
     "metadata": {},
     "output_type": "execute_result"
    }
   ],
   "source": [
    "from sklearn.metrics import roc_curve,auc\n",
    "fpr, tpr, thresholds = roc_curve(y_train.astype('int'), y_pred_prob[:,1])\n",
    "#print(fpr)\n",
    "#print(tpr)\n",
    "plt.plot(fpr,tpr,marker = 'o')\n",
    "plt.show()\n",
    "auc(fpr, tpr)"
   ]
  },
  {
   "cell_type": "code",
   "execution_count": null,
   "metadata": {},
   "outputs": [],
   "source": []
  }
 ],
 "metadata": {
  "kernelspec": {
   "display_name": "Python 3",
   "language": "python",
   "name": "python3"
  },
  "language_info": {
   "codemirror_mode": {
    "name": "ipython",
    "version": 3
   },
   "file_extension": ".py",
   "mimetype": "text/x-python",
   "name": "python",
   "nbconvert_exporter": "python",
   "pygments_lexer": "ipython3",
   "version": "3.6.4"
  }
 },
 "nbformat": 4,
 "nbformat_minor": 2
}
