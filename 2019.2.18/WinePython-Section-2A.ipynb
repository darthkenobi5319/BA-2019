{
 "cells": [
  {
   "cell_type": "code",
   "execution_count": 95,
   "metadata": {},
   "outputs": [],
   "source": [
    "import pandas as pd\n",
    "import numpy as np\n",
    "import matplotlib.pyplot as plt\n",
    "%matplotlib inline\n",
    "from sklearn import datasets, linear_model\n",
    "from sklearn.metrics import mean_squared_error, r2_score"
   ]
  },
  {
   "cell_type": "code",
   "execution_count": 96,
   "metadata": {},
   "outputs": [
    {
     "data": {
      "text/html": [
       "<div>\n",
       "<style scoped>\n",
       "    .dataframe tbody tr th:only-of-type {\n",
       "        vertical-align: middle;\n",
       "    }\n",
       "\n",
       "    .dataframe tbody tr th {\n",
       "        vertical-align: top;\n",
       "    }\n",
       "\n",
       "    .dataframe thead th {\n",
       "        text-align: right;\n",
       "    }\n",
       "</style>\n",
       "<table border=\"1\" class=\"dataframe\">\n",
       "  <thead>\n",
       "    <tr style=\"text-align: right;\">\n",
       "      <th></th>\n",
       "      <th>Year</th>\n",
       "      <th>Price</th>\n",
       "      <th>WinterRain</th>\n",
       "      <th>AGST</th>\n",
       "      <th>HarvestRain</th>\n",
       "      <th>Age</th>\n",
       "      <th>FrancePop</th>\n",
       "    </tr>\n",
       "  </thead>\n",
       "  <tbody>\n",
       "    <tr>\n",
       "      <th>0</th>\n",
       "      <td>1952</td>\n",
       "      <td>7.4950</td>\n",
       "      <td>600</td>\n",
       "      <td>17.1167</td>\n",
       "      <td>160</td>\n",
       "      <td>31</td>\n",
       "      <td>43183.569</td>\n",
       "    </tr>\n",
       "    <tr>\n",
       "      <th>1</th>\n",
       "      <td>1953</td>\n",
       "      <td>8.0393</td>\n",
       "      <td>690</td>\n",
       "      <td>16.7333</td>\n",
       "      <td>80</td>\n",
       "      <td>30</td>\n",
       "      <td>43495.030</td>\n",
       "    </tr>\n",
       "    <tr>\n",
       "      <th>2</th>\n",
       "      <td>1955</td>\n",
       "      <td>7.6858</td>\n",
       "      <td>502</td>\n",
       "      <td>17.1500</td>\n",
       "      <td>130</td>\n",
       "      <td>28</td>\n",
       "      <td>44217.857</td>\n",
       "    </tr>\n",
       "    <tr>\n",
       "      <th>3</th>\n",
       "      <td>1957</td>\n",
       "      <td>6.9845</td>\n",
       "      <td>420</td>\n",
       "      <td>16.1333</td>\n",
       "      <td>110</td>\n",
       "      <td>26</td>\n",
       "      <td>45152.252</td>\n",
       "    </tr>\n",
       "    <tr>\n",
       "      <th>4</th>\n",
       "      <td>1958</td>\n",
       "      <td>6.7772</td>\n",
       "      <td>582</td>\n",
       "      <td>16.4167</td>\n",
       "      <td>187</td>\n",
       "      <td>25</td>\n",
       "      <td>45653.805</td>\n",
       "    </tr>\n",
       "  </tbody>\n",
       "</table>\n",
       "</div>"
      ],
      "text/plain": [
       "   Year   Price  WinterRain     AGST  HarvestRain  Age  FrancePop\n",
       "0  1952  7.4950         600  17.1167          160   31  43183.569\n",
       "1  1953  8.0393         690  16.7333           80   30  43495.030\n",
       "2  1955  7.6858         502  17.1500          130   28  44217.857\n",
       "3  1957  6.9845         420  16.1333          110   26  45152.252\n",
       "4  1958  6.7772         582  16.4167          187   25  45653.805"
      ]
     },
     "execution_count": 96,
     "metadata": {},
     "output_type": "execute_result"
    }
   ],
   "source": [
    "#use dataframe to import the dataset\n",
    "df = pd.read_csv(\"C:/Users/darth/Dropbox/Study/Study/Business Analytics/LA/2019.2.18/wine.csv\")\n",
    "df.head()"
   ]
  },
  {
   "cell_type": "code",
   "execution_count": 97,
   "metadata": {},
   "outputs": [
    {
     "name": "stdout",
     "output_type": "stream",
     "text": [
      "[1952. 1953. 1955. 1957. 1958. 1959. 1960. 1961. 1962. 1963. 1964. 1965.\n",
      " 1966. 1967. 1968. 1969. 1970. 1971. 1972. 1973. 1974. 1975. 1976. 1977.\n",
      " 1978.]\n",
      "[7.495  8.0393 7.6858 6.9845 6.7772 8.0757 6.5188 8.4937 7.388  6.7127\n",
      " 7.3094 6.2518 7.7443 6.8398 6.2435 6.3459 7.5883 7.1934 6.2049 6.6367\n",
      " 6.2941 7.292  7.1211 6.2587 7.186 ]\n",
      "[600. 690. 502. 420. 582. 485. 763. 830. 697. 608. 402. 602. 819. 714.\n",
      " 610. 575. 622. 551. 536. 376. 574. 572. 418. 821. 763.]\n",
      "[17.1167 16.7333 17.15   16.1333 16.4167 17.4833 16.4167 17.3333 16.3\n",
      " 15.7167 17.2667 15.3667 16.5333 16.2333 16.2    16.55   16.6667 16.7667\n",
      " 14.9833 17.0667 16.3    16.95   17.65   15.5833 15.8167]\n",
      "[160.  80. 130. 110. 187. 187. 290.  38.  52. 155.  96. 267.  86. 118.\n",
      " 292. 244.  89. 112. 158. 123. 184. 171. 247.  87.  51.]\n",
      "[31. 30. 28. 26. 25. 24. 23. 22. 21. 20. 19. 18. 17. 16. 15. 14. 13. 12.\n",
      " 11. 10.  9.  8.  7.  6.  5.]\n",
      "[43183.569 43495.03  44217.857 45152.252 45653.805 46128.638 46583.995\n",
      " 47128.005 48088.673 48798.99  49356.943 49801.821 50254.966 50650.406\n",
      " 51034.413 51470.276 51918.389 52431.647 52894.183 53332.805 53689.61\n",
      " 53955.042 54159.049 54378.362 54602.193]\n"
     ]
    }
   ],
   "source": [
    "dataset = np.array(df)\n",
    "shape = dataset.shape\n",
    "#print(shape)\n",
    "\n",
    "#seperate the dataset for the plots\n",
    "year = dataset[:,0]\n",
    "price = dataset[:,1]\n",
    "winterRain = dataset[:,2]\n",
    "agst = dataset[:,3]\n",
    "harvestRain = dataset[:,4]\n",
    "age = dataset[:,5]\n",
    "francePop = dataset[:,6]\n",
    "print(year,price,winterRain,agst,harvestRain,age,francePop,sep='\\n')"
   ]
  },
  {
   "cell_type": "code",
   "execution_count": 98,
   "metadata": {},
   "outputs": [
    {
     "data": {
      "text/plain": [
       "<matplotlib.collections.PathCollection at 0x21209ae9ba8>"
      ]
     },
     "execution_count": 98,
     "metadata": {},
     "output_type": "execute_result"
    },
    {
     "data": {
      "image/png": "[encoded data removed]",
      "text/plain": [
       "<matplotlib.figure.Figure at 0x2120ac45fd0>"
      ]
     },
     "metadata": {},
     "output_type": "display_data"
    }
   ],
   "source": [
    "#scatter plot: y-axis: price, x-axis: age\n",
    "plt.scatter(age,price)"
   ]
  },
  {
   "cell_type": "code",
   "execution_count": 99,
   "metadata": {},
   "outputs": [
    {
     "data": {
      "text/plain": [
       "<matplotlib.collections.PathCollection at 0x2120ae29978>"
      ]
     },
     "execution_count": 99,
     "metadata": {},
     "output_type": "execute_result"
    },
    {
     "data": {
      "image/png": "[encoded data removed]",
      "text/plain": [
       "<matplotlib.figure.Figure at 0x2120ab8f940>"
      ]
     },
     "metadata": {},
     "output_type": "display_data"
    }
   ],
   "source": [
    "#scatter plot: y-axis: price, x-axis: agst\n",
    "plt.scatter(agst,price)"
   ]
  },
  {
   "cell_type": "code",
   "execution_count": 100,
   "metadata": {},
   "outputs": [
    {
     "data": {
      "text/plain": [
       "<matplotlib.collections.PathCollection at 0x2120ae7fef0>"
      ]
     },
     "execution_count": 100,
     "metadata": {},
     "output_type": "execute_result"
    },
    {
     "data": {
      "image/png": "[encoded data removed]",
      "text/plain": [
       "<matplotlib.figure.Figure at 0x2120ae07828>"
      ]
     },
     "metadata": {},
     "output_type": "display_data"
    }
   ],
   "source": [
    "#scatter plot: y-axis: price, x-axis: harvest rain\n",
    "plt.scatter(harvestRain,price)"
   ]
  },
  {
   "cell_type": "code",
   "execution_count": 101,
   "metadata": {},
   "outputs": [
    {
     "data": {
      "text/plain": [
       "<matplotlib.collections.PathCollection at 0x2120aedf588>"
      ]
     },
     "execution_count": 101,
     "metadata": {},
     "output_type": "execute_result"
    },
    {
     "data": {
      "image/png": "[encoded data removed]",
      "text/plain": [
       "<matplotlib.figure.Figure at 0x2120aea3320>"
      ]
     },
     "metadata": {},
     "output_type": "display_data"
    }
   ],
   "source": [
    "#scatter plot: y-axis: price, x-axis: winter rain\n",
    "plt.scatter(winterRain,price)"
   ]
  },
  {
   "cell_type": "code",
   "execution_count": 102,
   "metadata": {},
   "outputs": [
    {
     "name": "stdout",
     "output_type": "stream",
     "text": [
      "R squared: 0.44\n"
     ]
    },
    {
     "data": {
      "text/plain": [
       "[<matplotlib.lines.Line2D at 0x2120aee7588>]"
      ]
     },
     "execution_count": 102,
     "metadata": {},
     "output_type": "execute_result"
    },
    {
     "data": {
      "image/png": "[encoded data removed]",
      "text/plain": [
       "<matplotlib.figure.Figure at 0x2120aefe048>"
      ]
     },
     "metadata": {},
     "output_type": "display_data"
    }
   ],
   "source": [
    "#use sci-kit learn to model a linear regression\n",
    "agst = dataset[:,3].reshape(-1,1)\n",
    "price = dataset[:,1].reshape(-1,1)\n",
    "regr = linear_model.LinearRegression()\n",
    "regr.fit(agst,price)\n",
    "price_pred = regr.predict(agst)\n",
    "print('R squared: %.2f' % r2_score(price, price_pred))\n",
    "# Plot outputs\n",
    "plt.scatter(agst, price)\n",
    "plt.plot(agst, price_pred, color='blue', linewidth=3)"
   ]
  },
  {
   "cell_type": "code",
   "execution_count": 103,
   "metadata": {},
   "outputs": [
    {
     "name": "stdout",
     "output_type": "stream",
     "text": [
      "R squared: 0.83\n",
      "coefficeints:  [[ 1.04250681e-03  6.01223884e-01 -3.95812450e-03  5.84748489e-04\n",
      "  -4.95273038e-05]]\n",
      "intercept:  [-0.45039886]\n"
     ]
    }
   ],
   "source": [
    "# Build the linear regression model with all the covariates\n",
    "regr = linear_model.LinearRegression()\n",
    "X = dataset[:,2:]\n",
    "regr.fit(X,price)\n",
    "price_pred = regr.predict(X)\n",
    "print('R squared: %.2f' % r2_score(price, price_pred))\n",
    "print('coefficeints: ', regr.coef_ )\n",
    "print('intercept: ', regr.intercept_ )"
   ]
  },
  {
   "cell_type": "code",
   "execution_count": 104,
   "metadata": {},
   "outputs": [
    {
     "data": {
      "text/html": [
       "<div>\n",
       "<style scoped>\n",
       "    .dataframe tbody tr th:only-of-type {\n",
       "        vertical-align: middle;\n",
       "    }\n",
       "\n",
       "    .dataframe tbody tr th {\n",
       "        vertical-align: top;\n",
       "    }\n",
       "\n",
       "    .dataframe thead th {\n",
       "        text-align: right;\n",
       "    }\n",
       "</style>\n",
       "<table border=\"1\" class=\"dataframe\">\n",
       "  <thead>\n",
       "    <tr style=\"text-align: right;\">\n",
       "      <th></th>\n",
       "      <th>Year</th>\n",
       "      <th>Price</th>\n",
       "      <th>WinterRain</th>\n",
       "      <th>AGST</th>\n",
       "      <th>HarvestRain</th>\n",
       "      <th>Age</th>\n",
       "      <th>FrancePop</th>\n",
       "    </tr>\n",
       "  </thead>\n",
       "  <tbody>\n",
       "    <tr>\n",
       "      <th>Year</th>\n",
       "      <td>1.000000</td>\n",
       "      <td>-0.447768</td>\n",
       "      <td>0.016970</td>\n",
       "      <td>-0.246916</td>\n",
       "      <td>0.028009</td>\n",
       "      <td>-1.000000</td>\n",
       "      <td>0.994485</td>\n",
       "    </tr>\n",
       "    <tr>\n",
       "      <th>Price</th>\n",
       "      <td>-0.447768</td>\n",
       "      <td>1.000000</td>\n",
       "      <td>0.136651</td>\n",
       "      <td>0.659563</td>\n",
       "      <td>-0.563322</td>\n",
       "      <td>0.447768</td>\n",
       "      <td>-0.466862</td>\n",
       "    </tr>\n",
       "    <tr>\n",
       "      <th>WinterRain</th>\n",
       "      <td>0.016970</td>\n",
       "      <td>0.136651</td>\n",
       "      <td>1.000000</td>\n",
       "      <td>-0.321091</td>\n",
       "      <td>-0.275441</td>\n",
       "      <td>-0.016970</td>\n",
       "      <td>-0.001622</td>\n",
       "    </tr>\n",
       "    <tr>\n",
       "      <th>AGST</th>\n",
       "      <td>-0.246916</td>\n",
       "      <td>0.659563</td>\n",
       "      <td>-0.321091</td>\n",
       "      <td>1.000000</td>\n",
       "      <td>-0.064496</td>\n",
       "      <td>0.246916</td>\n",
       "      <td>-0.259162</td>\n",
       "    </tr>\n",
       "    <tr>\n",
       "      <th>HarvestRain</th>\n",
       "      <td>0.028009</td>\n",
       "      <td>-0.563322</td>\n",
       "      <td>-0.275441</td>\n",
       "      <td>-0.064496</td>\n",
       "      <td>1.000000</td>\n",
       "      <td>-0.028009</td>\n",
       "      <td>0.041264</td>\n",
       "    </tr>\n",
       "    <tr>\n",
       "      <th>Age</th>\n",
       "      <td>-1.000000</td>\n",
       "      <td>0.447768</td>\n",
       "      <td>-0.016970</td>\n",
       "      <td>0.246916</td>\n",
       "      <td>-0.028009</td>\n",
       "      <td>1.000000</td>\n",
       "      <td>-0.994485</td>\n",
       "    </tr>\n",
       "    <tr>\n",
       "      <th>FrancePop</th>\n",
       "      <td>0.994485</td>\n",
       "      <td>-0.466862</td>\n",
       "      <td>-0.001622</td>\n",
       "      <td>-0.259162</td>\n",
       "      <td>0.041264</td>\n",
       "      <td>-0.994485</td>\n",
       "      <td>1.000000</td>\n",
       "    </tr>\n",
       "  </tbody>\n",
       "</table>\n",
       "</div>"
      ],
      "text/plain": [
       "                 Year     Price  WinterRain      AGST  HarvestRain       Age  \\\n",
       "Year         1.000000 -0.447768    0.016970 -0.246916     0.028009 -1.000000   \n",
       "Price       -0.447768  1.000000    0.136651  0.659563    -0.563322  0.447768   \n",
       "WinterRain   0.016970  0.136651    1.000000 -0.321091    -0.275441 -0.016970   \n",
       "AGST        -0.246916  0.659563   -0.321091  1.000000    -0.064496  0.246916   \n",
       "HarvestRain  0.028009 -0.563322   -0.275441 -0.064496     1.000000 -0.028009   \n",
       "Age         -1.000000  0.447768   -0.016970  0.246916    -0.028009  1.000000   \n",
       "FrancePop    0.994485 -0.466862   -0.001622 -0.259162     0.041264 -0.994485   \n",
       "\n",
       "             FrancePop  \n",
       "Year          0.994485  \n",
       "Price        -0.466862  \n",
       "WinterRain   -0.001622  \n",
       "AGST         -0.259162  \n",
       "HarvestRain   0.041264  \n",
       "Age          -0.994485  \n",
       "FrancePop     1.000000  "
      ]
     },
     "execution_count": 104,
     "metadata": {},
     "output_type": "execute_result"
    }
   ],
   "source": [
    "#Calculate the correlation between different variables in the data frame wine\n",
    "df.corr()"
   ]
  },
  {
   "cell_type": "code",
   "execution_count": 105,
   "metadata": {},
   "outputs": [
    {
     "data": {
      "text/plain": [
       "-0.9944850971114547"
      ]
     },
     "execution_count": 105,
     "metadata": {},
     "output_type": "execute_result"
    }
   ],
   "source": [
    "df['Age'].corr(df['FrancePop'])"
   ]
  },
  {
   "cell_type": "code",
   "execution_count": 106,
   "metadata": {},
   "outputs": [
    {
     "name": "stdout",
     "output_type": "stream",
     "text": [
      "R squared: 0.83\n",
      "coefficeints:  [[ 0.00107551  0.60720935 -0.00397153  0.02393083]]\n",
      "intercept:  [-3.42998019]\n"
     ]
    }
   ],
   "source": [
    "#Build the linear regression model with France population removed from the covariates.\n",
    "model3 = linear_model.LinearRegression()\n",
    "X = dataset[:,2:-1]\n",
    "model3.fit(X,price)\n",
    "price_pred = model3.predict(X)\n",
    "print('R squared: %.2f' % r2_score(price, price_pred))\n",
    "print('coefficeints: ', model3.coef_ )\n",
    "print('intercept: ', model3.intercept_ )"
   ]
  },
  {
   "cell_type": "code",
   "execution_count": 107,
   "metadata": {},
   "outputs": [
    {
     "data": {
      "text/html": [
       "<div>\n",
       "<style scoped>\n",
       "    .dataframe tbody tr th:only-of-type {\n",
       "        vertical-align: middle;\n",
       "    }\n",
       "\n",
       "    .dataframe tbody tr th {\n",
       "        vertical-align: top;\n",
       "    }\n",
       "\n",
       "    .dataframe thead th {\n",
       "        text-align: right;\n",
       "    }\n",
       "</style>\n",
       "<table border=\"1\" class=\"dataframe\">\n",
       "  <thead>\n",
       "    <tr style=\"text-align: right;\">\n",
       "      <th></th>\n",
       "      <th>Year</th>\n",
       "      <th>Price</th>\n",
       "      <th>WinterRain</th>\n",
       "      <th>AGST</th>\n",
       "      <th>HarvestRain</th>\n",
       "      <th>Age</th>\n",
       "      <th>FrancePop</th>\n",
       "    </tr>\n",
       "  </thead>\n",
       "  <tbody>\n",
       "    <tr>\n",
       "      <th>0</th>\n",
       "      <td>1979</td>\n",
       "      <td>6.9541</td>\n",
       "      <td>717</td>\n",
       "      <td>16.1667</td>\n",
       "      <td>122</td>\n",
       "      <td>4</td>\n",
       "      <td>54835.832</td>\n",
       "    </tr>\n",
       "    <tr>\n",
       "      <th>1</th>\n",
       "      <td>1980</td>\n",
       "      <td>6.4979</td>\n",
       "      <td>578</td>\n",
       "      <td>16.0000</td>\n",
       "      <td>74</td>\n",
       "      <td>3</td>\n",
       "      <td>55110.236</td>\n",
       "    </tr>\n",
       "  </tbody>\n",
       "</table>\n",
       "</div>"
      ],
      "text/plain": [
       "   Year   Price  WinterRain     AGST  HarvestRain  Age  FrancePop\n",
       "0  1979  6.9541         717  16.1667          122    4  54835.832\n",
       "1  1980  6.4979         578  16.0000           74    3  55110.236"
      ]
     },
     "execution_count": 107,
     "metadata": {},
     "output_type": "execute_result"
    }
   ],
   "source": [
    "##Calculate the out-of-sample R-squared for model3\n",
    "#Load the testing data\n",
    "df_test = pd.read_csv(\"C:/Users/darth/Dropbox/Study/Study/Business Analytics/LA/2019.2.18/wine_test.csv\")\n",
    "df_test.head()"
   ]
  },
  {
   "cell_type": "code",
   "execution_count": 108,
   "metadata": {},
   "outputs": [
    {
     "name": "stdout",
     "output_type": "stream",
     "text": [
      "Predicted Price:  [[6.76892463]\n",
      " [6.6849104 ]]\n",
      "coefficeints:  [[ 0.00107551  0.60720935 -0.00397153  0.02393083]]\n",
      "intercept:  [-3.42998019]\n",
      "0.06926280848772651\n",
      "0.3369268563519997\n",
      "0.7944277602632984\n"
     ]
    }
   ],
   "source": [
    "# simply re-predict with the model\n",
    "dataset1 = np.array(df_test)\n",
    "X1 = dataset1[:,2:-1]\n",
    "price1 = dataset1[:,1].reshape(2,1)\n",
    "price_pred = model3.predict(X1)\n",
    "print('Predicted Price: ',price_pred)\n",
    "#print('R squared: %.2f' % r2_score(price1, price_pred))\n",
    "print('coefficeints: ', model3.coef_ )\n",
    "print('intercept: ', model3.intercept_ )\n",
    "\n",
    "\n",
    "# Compute R-squared\n",
    "SSE3 = np.sum((price1[:]-price_pred[:])**2)\n",
    "print(SSE3)\n",
    "\n",
    "SST = np.sum((price1[:] - np.mean(price))**2)\n",
    "print(SST)\n",
    "\n",
    "Rsquared3 = 1 - SSE3/SST\n",
    "print(Rsquared3)"
   ]
  },
  {
   "cell_type": "code",
   "execution_count": 109,
   "metadata": {},
   "outputs": [
    {
     "name": "stdout",
     "output_type": "stream",
     "text": [
      "coefficeints:  [[0.63509431]]\n",
      "intercept:  [-3.41776131]\n",
      "[[6.84961783]\n",
      " [6.74374761]]\n",
      "0.07135756978802694\n",
      "0.7882105019450361\n"
     ]
    }
   ],
   "source": [
    "## Price ~ AGST\n",
    "agst = dataset[:,3].reshape(-1,1)\n",
    "price = dataset[:,1].reshape(-1,1)\n",
    "\n",
    "\n",
    "\n",
    "model1 = linear_model.LinearRegression()\n",
    "model1.fit(agst,price)\n",
    "print('coefficeints: ',model1.coef_)\n",
    "print('intercept: ',model1.intercept_)\n",
    "predictTest1 = model1.predict(df_test['AGST'].values.reshape(-1, 1))\n",
    "print(predictTest1)\n",
    "\n",
    "# Compute R-squared\n",
    "SSE1 = np.sum((price1[:]-predictTest1[:])**2)\n",
    "print(SSE1)\n",
    "\n",
    "Rsquared1 = 1 - SSE1/SST\n",
    "print(Rsquared1)"
   ]
  },
  {
   "cell_type": "code",
   "execution_count": 110,
   "metadata": {},
   "outputs": [
    {
     "name": "stdout",
     "output_type": "stream",
     "text": [
      "coefficeints:  [[ 0.60261691 -0.00457006]]\n",
      "intercept:  [-2.2026536]\n",
      "[[6.98212642]\n",
      " [7.10103282]]\n",
      "0.36455468225022025\n",
      "-0.08199947667382368\n"
     ]
    }
   ],
   "source": [
    "## Price ~ AGST + Harvest Rain\n",
    "model4 = linear_model.LinearRegression()\n",
    "X4 = np.hstack((agst,harvestRain.reshape(25,1))) \n",
    "model4.fit(X4,price)\n",
    "print('coefficeints: ',model4.coef_)\n",
    "print('intercept: ',model4.intercept_)\n",
    "X4_pred = np.hstack((df_test['AGST'].values.reshape(-1, 1),df_test['HarvestRain'].values.reshape(-1, 1)))\n",
    "predictTest4 = model4.predict(X4_pred)\n",
    "print(predictTest4)\n",
    "\n",
    "# Compute R-squared\n",
    "SSE4 = np.sum((price1[:]-predictTest4[:])**2)\n",
    "print(SSE4)\n",
    "\n",
    "Rsquared4 = 1 - SSE4/SST\n",
    "print(Rsquared4)"
   ]
  },
  {
   "cell_type": "code",
   "execution_count": 111,
   "metadata": {},
   "outputs": [
    {
     "name": "stdout",
     "output_type": "stream",
     "text": [
      "coefficeints:  [[ 0.5322922  -0.00453859  0.02508754]]\n",
      "intercept:  [-1.47781963]\n",
      "[[6.67423089]\n",
      " [6.77826255]]\n",
      "0.15692987698534286\n",
      "0.5342316172582202\n"
     ]
    }
   ],
   "source": [
    "## Price ~ AGST + Harvest Rain + Age\n",
    "model5 = linear_model.LinearRegression()\n",
    "X5 = np.hstack((X4,age.reshape(25,1)))\n",
    "model5.fit(X5,price)\n",
    "print('coefficeints: ',model5.coef_)\n",
    "print('intercept: ',model5.intercept_)\n",
    "X5_pred =  np.hstack((X4_pred,df_test['Age'].values.reshape(-1, 1)))\n",
    "predictTest5 = model5.predict(X5_pred)\n",
    "print(predictTest5)\n",
    "\n",
    "# Compute R-squared\n",
    "SSE5 = np.sum((price1[:]-predictTest5[:])**2)\n",
    "print(SSE5)\n",
    "\n",
    "Rsquared5 = 1 - SSE5/SST\n",
    "print(Rsquared5)"
   ]
  },
  {
   "cell_type": "code",
   "execution_count": 112,
   "metadata": {},
   "outputs": [
    {
     "name": "stdout",
     "output_type": "stream",
     "text": [
      "coefficeints:  [[ 1.04250681e-03  6.01223884e-01 -3.95812450e-03  5.84748489e-04\n",
      "  -4.95273038e-05]]\n",
      "intercept:  [-0.45039886]\n",
      "[[6.82046158]\n",
      " [6.75114385]]\n",
      "0.0819916735631106\n",
      "0.7566484475269881\n"
     ]
    }
   ],
   "source": [
    "## Price ~ AGST + Harvest Rain + Age + Winter Rain + Population (Model2)\n",
    "model2 = linear_model.LinearRegression()\n",
    "X2 = dataset[:,2:]\n",
    "model2.fit(X2,price)\n",
    "X2_pred = dataset1[:,2:]\n",
    "print('coefficeints: ', model2.coef_ )\n",
    "print('intercept: ',model2.intercept_)\n",
    "\n",
    "predictTest2 = model2.predict(X2_pred)\n",
    "print(predictTest2)\n",
    "\n",
    "# Compute R-squared\n",
    "SSE2 = np.sum((price1[:]-predictTest2[:])**2)\n",
    "print(SSE2)\n",
    "\n",
    "Rsquared2 = 1 - SSE2/SST\n",
    "print(Rsquared2)"
   ]
  },
  {
   "cell_type": "code",
   "execution_count": 113,
   "metadata": {},
   "outputs": [
    {
     "name": "stdout",
     "output_type": "stream",
     "text": [
      "[1959. 1960. 1962. 1964. 1965. 1966. 1967. 1968. 1969. 1970. 1971. 1972.\n",
      " 1973. 1974. 1975. 1976. 1977. 1978. 1979. 1980. 1981. 1982. 1983. 1984.\n",
      " 1985.]\n"
     ]
    }
   ],
   "source": [
    "wineYear = 1990 - age\n",
    "print(wineYear)"
   ]
  },
  {
   "cell_type": "code",
   "execution_count": 114,
   "metadata": {},
   "outputs": [
    {
     "name": "stdout",
     "output_type": "stream",
     "text": [
      "R squared: 0.52\n"
     ]
    }
   ],
   "source": [
    "model6 = linear_model.LinearRegression()\n",
    "X6 = np.hstack((agst,age.reshape(25,1),wineYear.reshape(25,1)))\n",
    "model6.fit(X6,price)\n",
    "price_pred = model6.predict(X6)\n",
    "print('R squared: %.2f' % r2_score(price, price_pred))"
   ]
  },
  {
   "cell_type": "code",
   "execution_count": 115,
   "metadata": {},
   "outputs": [
    {
     "data": {
      "text/html": [
       "<div>\n",
       "<style scoped>\n",
       "    .dataframe tbody tr th:only-of-type {\n",
       "        vertical-align: middle;\n",
       "    }\n",
       "\n",
       "    .dataframe tbody tr th {\n",
       "        vertical-align: top;\n",
       "    }\n",
       "\n",
       "    .dataframe thead th {\n",
       "        text-align: right;\n",
       "    }\n",
       "</style>\n",
       "<table border=\"1\" class=\"dataframe\">\n",
       "  <thead>\n",
       "    <tr style=\"text-align: right;\">\n",
       "      <th></th>\n",
       "      <th>Unnamed: 0</th>\n",
       "      <th>kid_score</th>\n",
       "      <th>mom_hs</th>\n",
       "      <th>mom_iq</th>\n",
       "      <th>mom_work</th>\n",
       "      <th>mom_age</th>\n",
       "    </tr>\n",
       "  </thead>\n",
       "  <tbody>\n",
       "    <tr>\n",
       "      <th>0</th>\n",
       "      <td>1</td>\n",
       "      <td>65</td>\n",
       "      <td>1</td>\n",
       "      <td>121.117529</td>\n",
       "      <td>4</td>\n",
       "      <td>27</td>\n",
       "    </tr>\n",
       "    <tr>\n",
       "      <th>1</th>\n",
       "      <td>2</td>\n",
       "      <td>98</td>\n",
       "      <td>1</td>\n",
       "      <td>89.361882</td>\n",
       "      <td>4</td>\n",
       "      <td>25</td>\n",
       "    </tr>\n",
       "    <tr>\n",
       "      <th>2</th>\n",
       "      <td>3</td>\n",
       "      <td>85</td>\n",
       "      <td>1</td>\n",
       "      <td>115.443165</td>\n",
       "      <td>4</td>\n",
       "      <td>27</td>\n",
       "    </tr>\n",
       "    <tr>\n",
       "      <th>3</th>\n",
       "      <td>4</td>\n",
       "      <td>83</td>\n",
       "      <td>1</td>\n",
       "      <td>99.449639</td>\n",
       "      <td>3</td>\n",
       "      <td>25</td>\n",
       "    </tr>\n",
       "    <tr>\n",
       "      <th>4</th>\n",
       "      <td>5</td>\n",
       "      <td>115</td>\n",
       "      <td>1</td>\n",
       "      <td>92.745710</td>\n",
       "      <td>4</td>\n",
       "      <td>27</td>\n",
       "    </tr>\n",
       "  </tbody>\n",
       "</table>\n",
       "</div>"
      ],
      "text/plain": [
       "   Unnamed: 0  kid_score  mom_hs      mom_iq  mom_work  mom_age\n",
       "0           1         65       1  121.117529         4       27\n",
       "1           2         98       1   89.361882         4       25\n",
       "2           3         85       1  115.443165         4       27\n",
       "3           4         83       1   99.449639         3       25\n",
       "4           5        115       1   92.745710         4       27"
      ]
     },
     "execution_count": 115,
     "metadata": {},
     "output_type": "execute_result"
    }
   ],
   "source": [
    "df = pd.read_csv(\"C:/Users/darth/Dropbox/Study/Study/Business Analytics/LA/2019.2.18/kidiq.csv\")\n",
    "df.head()"
   ]
  },
  {
   "cell_type": "code",
   "execution_count": 116,
   "metadata": {},
   "outputs": [
    {
     "name": "stdout",
     "output_type": "stream",
     "text": [
      "R squared: 0.21\n",
      "coefficeints:  [[5.95011691 0.56390605]]\n",
      "intercept:  [25.73153818]\n"
     ]
    }
   ],
   "source": [
    "# Linear regression model without cross-term\n",
    "dataset = np.array(df)\n",
    "# print(dataset.shape)\n",
    "kidScore = dataset[:,1].reshape(434,1)\n",
    "momHs = dataset[:,2].reshape(434,1)\n",
    "momIq = dataset[:,3].reshape(434,1)\n",
    "momWork = dataset[:,4].reshape(434,1)\n",
    "momAge = dataset[:,5].reshape(434,1)\n",
    "\n",
    "modelKid1 = linear_model.LinearRegression()\n",
    "XKid1 = np.hstack((momHs,momIq))\n",
    "modelKid1.fit(XKid1,kidScore)\n",
    "kid_pred = modelKid1.predict(XKid1)\n",
    "print('R squared: %.2f' % r2_score(kidScore, kid_pred))\n",
    "print('coefficeints: ', modelKid1.coef_ )\n",
    "print('intercept: ', modelKid1.intercept_ )"
   ]
  },
  {
   "cell_type": "code",
   "execution_count": 117,
   "metadata": {},
   "outputs": [
    {
     "name": "stdout",
     "output_type": "stream",
     "text": [
      "R squared: 0.23\n",
      "coefficeints:  [[51.26822343  0.96888921 -0.48427467]]\n",
      "intercept:  [-11.48202114]\n"
     ]
    }
   ],
   "source": [
    "#linear regression model with cross-term\n",
    "modelKid2 = linear_model.LinearRegression()\n",
    "XKid2 = np.hstack((XKid1,momHs*momIq))\n",
    "modelKid2.fit(XKid2,kidScore)\n",
    "kid_pred = modelKid2.predict(XKid2)\n",
    "print('R squared: %.2f' % r2_score(kidScore, kid_pred))\n",
    "print('coefficeints: ', modelKid2.coef_ )\n",
    "print('intercept: ', modelKid2.intercept_ )"
   ]
  },
  {
   "cell_type": "code",
   "execution_count": 122,
   "metadata": {},
   "outputs": [
    {
     "name": "stdout",
     "output_type": "stream",
     "text": [
      "R squared: 0.73\n",
      "coefficeints:  [[928.59446984  -5.08729721  38.65951666   2.73837202]]\n",
      "intercept:  [-15447.31798094]\n"
     ]
    }
   ],
   "source": [
    "# Go back to the wine Case\n",
    "# Wine Price Prediction without taking log\n",
    "# AGST + HarvestRain + Age + WinterRain\n",
    "oriPrice = np.exp(price)\n",
    "Xori = np.hstack((X5,winterRain.reshape(-1,1)))\n",
    "modelOri = linear_model.LinearRegression()\n",
    "modelOri.fit(Xori,oriPrice)\n",
    "priceOri_pred = modelOri.predict(Xori)\n",
    "print('R squared: %.2f' % r2_score(oriPrice, priceOri_pred))\n",
    "print('coefficeints: ', modelOri.coef_ )\n",
    "print('intercept: ', modelOri.intercept_ )"
   ]
  },
  {
   "cell_type": "code",
   "execution_count": 123,
   "metadata": {},
   "outputs": [],
   "source": [
    "##Centering\n",
    "agstC = (agst - np.mean(agst)).reshape(-1,1)\n",
    "ageC = (age - np.mean(age)).reshape(-1,1)\n",
    "harvestRainC = (harvestRain - np.mean(harvestRain)).reshape(-1,1)\n",
    "winterRainC = (winterRain - np.mean(winterRain)).reshape(-1,1)"
   ]
  },
  {
   "cell_type": "code",
   "execution_count": 125,
   "metadata": {},
   "outputs": [
    {
     "name": "stdout",
     "output_type": "stream",
     "text": [
      "R squared: 0.83\n",
      "coefficeints:  [[ 0.60720935  0.02393083 -0.00397153  0.00107551]]\n",
      "intercept:  [7.067224]\n",
      "coefficeints:  [[ 0.00107551  0.60720935 -0.00397153  0.02393083]]\n",
      "intercept:  [-3.42998019]\n"
     ]
    }
   ],
   "source": [
    "# AGSTc + HarvestRainc+ WinterRainc + Agec\n",
    "XC = np.hstack((agstC,ageC,harvestRainC,winterRainC))\n",
    "modelC = linear_model.LinearRegression()\n",
    "modelC.fit(XC,price)\n",
    "priceC_pred = modelC.predict(XC)\n",
    "print('R squared: %.2f' % r2_score(price, priceC_pred))\n",
    "print('coefficeints: ', modelC.coef_ )\n",
    "print('intercept: ', modelC.intercept_ )\n",
    "\n",
    "\n",
    "print('coefficeints: ', model3.coef_ )\n",
    "print('intercept: ', model3.intercept_ )"
   ]
  },
  {
   "cell_type": "code",
   "execution_count": 130,
   "metadata": {},
   "outputs": [],
   "source": [
    "#Linear regression with Standardized covariates\n",
    "agstS = (agstC / np.std(agst))\n",
    "ageS = (ageC / np.std(age))\n",
    "harvestRainS = (harvestRainC / np.std(harvestRain))\n",
    "winterRainS = (winterRainC / np.std(winterRain))"
   ]
  },
  {
   "cell_type": "code",
   "execution_count": 132,
   "metadata": {},
   "outputs": [
    {
     "name": "stdout",
     "output_type": "stream",
     "text": [
      "R squared: 0.83\n",
      "coefficeints:  [[ 0.40182142  0.18035657 -0.28958793  0.1393913 ]]\n",
      "intercept:  [7.067224]\n"
     ]
    }
   ],
   "source": [
    "# AGSTs + HarvestRains+ WinterRains + Ages\n",
    "XS = np.hstack((agstS,ageS,harvestRainS,winterRainS))\n",
    "modelS = linear_model.LinearRegression()\n",
    "modelS.fit(XS,price)\n",
    "priceS_pred = modelS.predict(XS)\n",
    "print('R squared: %.2f' % r2_score(price, priceS_pred))\n",
    "print('coefficeints: ', modelS.coef_ )\n",
    "print('intercept: ', modelS.intercept_ )"
   ]
  },
  {
   "cell_type": "code",
   "execution_count": null,
   "metadata": {},
   "outputs": [],
   "source": []
  }
 ],
 "metadata": {
  "kernelspec": {
   "display_name": "Python 3",
   "language": "python",
   "name": "python3"
  },
  "language_info": {
   "codemirror_mode": {
    "name": "ipython",
    "version": 3
   },
   "file_extension": ".py",
   "mimetype": "text/x-python",
   "name": "python",
   "nbconvert_exporter": "python",
   "pygments_lexer": "ipython3",
   "version": "3.6.4"
  }
 },
 "nbformat": 4,
 "nbformat_minor": 2
}
