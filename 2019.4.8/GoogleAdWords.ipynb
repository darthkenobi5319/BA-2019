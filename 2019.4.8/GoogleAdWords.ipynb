{
 "cells": [
  {
   "cell_type": "code",
   "execution_count": 8,
   "metadata": {},
   "outputs": [],
   "source": [
    "# Formulation:\n",
    "#\n",
    "#       min cx\n",
    "# s.t.  Ax <= b, x >= 0\n",
    "#\n",
    "# max 0.5X1 + 0.5X2 + 1.6X3 + X4 + 0.75X5 + 2X6 + 0.5X7 + 4X8 + 5X9\n",
    "# s.t \n",
    "#     0.5X1 + 0.5X2 + 1.6X3                                         <= 170\n",
    "#                             X4 + 0.75X5 + 2X6                     <= 100\n",
    "#                                                 0.5X7 + 4X8 + 5X9 <= 160\n",
    "#        X1                  + X4                 + X7              <= 140\n",
    "#               + X2                + X5             + X8           <= 80\n",
    "#                      + X3               + X6                 + X9 <= 80\n",
    "#\n",
    "#\n",
    "#\n",
    "#    max 0.5X1 + 0.5X2 + 1.6X3 + X4 + 0.75X5 + 2X6 + 0.5X7 + 4X8 + 5X9\n",
    "#   <==> \n",
    "#   min -(0.5X1 + 0.5X2 + 1.6X3 + X4 + 0.75X5 + 2X6 + 0.5X7 + 4X8 + 5X9)\n",
    "#    Xi (i = 1...9) >= 0\n",
    "#    <=>\n",
    "#    -Xi (i = 1...9) <= 0\n",
    "#\n",
    "\n"
   ]
  },
  {
   "cell_type": "code",
   "execution_count": 9,
   "metadata": {},
   "outputs": [
    {
     "name": "stdout",
     "output_type": "stream",
     "text": [
      "[ 5.00e-01]\n",
      "[ 5.00e-01]\n",
      "[ 1.60e+00]\n",
      "[ 1.00e+00]\n",
      "[ 7.50e-01]\n",
      "[ 2.00e+00]\n",
      "[ 5.00e-01]\n",
      "[ 4.00e+00]\n",
      "[ 5.00e+00]\n",
      "\n"
     ]
    }
   ],
   "source": [
    "## Import necessary packages\n",
    "\n",
    "from cvxopt import solvers\n",
    "import numpy as np\n",
    "from cvxopt import matrix\n",
    "import pprint\n",
    "\n",
    "\n",
    "c = matrix([[0.5,0.5,1.6,1,0.75,2,0.5,4,5]], tc='d') #coefficient of revenue function, 9 variables \n",
    "## tc stards for type code, 'i' means integer, 'd' stands for double (real number), 'z' stands for complex number\n",
    "print(c)"
   ]
  },
  {
   "cell_type": "code",
   "execution_count": 10,
   "metadata": {},
   "outputs": [
    {
     "name": "stdout",
     "output_type": "stream",
     "text": [
      "[ 5.00e-01  5.00e-01  1.60e+00  0.00e+00  0.00e+00  0.00e+00  0.00e+00 ... ]\n",
      "[ 0.00e+00  0.00e+00  0.00e+00  1.00e+00  7.50e-01  2.00e+00  0.00e+00 ... ]\n",
      "[ 0.00e+00  0.00e+00  0.00e+00  0.00e+00  0.00e+00  0.00e+00  5.00e-01 ... ]\n",
      "[ 1.00e+00  0.00e+00  0.00e+00  1.00e+00  0.00e+00  0.00e+00  1.00e+00 ... ]\n",
      "[ 0.00e+00  1.00e+00  0.00e+00  0.00e+00  1.00e+00  0.00e+00  0.00e+00 ... ]\n",
      "[ 0.00e+00  0.00e+00  1.00e+00  0.00e+00  0.00e+00  1.00e+00  0.00e+00 ... ]\n",
      "[-1.00e+00  0.00e+00  0.00e+00  0.00e+00  0.00e+00  0.00e+00  0.00e+00 ... ]\n",
      "[ 0.00e+00 -1.00e+00  0.00e+00  0.00e+00  0.00e+00  0.00e+00  0.00e+00 ... ]\n",
      "[ 0.00e+00  0.00e+00 -1.00e+00  0.00e+00  0.00e+00  0.00e+00  0.00e+00 ... ]\n",
      "[ 0.00e+00  0.00e+00  0.00e+00 -1.00e+00  0.00e+00  0.00e+00  0.00e+00 ... ]\n",
      "[ 0.00e+00  0.00e+00  0.00e+00  0.00e+00 -1.00e+00  0.00e+00  0.00e+00 ... ]\n",
      "[ 0.00e+00  0.00e+00  0.00e+00  0.00e+00  0.00e+00 -1.00e+00  0.00e+00 ... ]\n",
      "[ 0.00e+00  0.00e+00  0.00e+00  0.00e+00  0.00e+00  0.00e+00 -1.00e+00 ... ]\n",
      "[ 0.00e+00  0.00e+00  0.00e+00  0.00e+00  0.00e+00  0.00e+00  0.00e+00 ... ]\n",
      "[ 0.00e+00  0.00e+00  0.00e+00  0.00e+00  0.00e+00  0.00e+00  0.00e+00 ... ]\n",
      "\n"
     ]
    }
   ],
   "source": [
    "G = matrix([[0.5,0,0,1,0,0,-1,0,0,0,0,0,0,0,0], [0.5,0,0,0,1,0,0,-1,0,0,0,0,0,0,0],[1.6,0,0,0,0,1,0,0,-1,0,0,0,0,0,0],\n",
    "            [0,1,0,1,0,0,0,0,0,-1,0,0,0,0,0],[0,0.75,0,0,1,0,0,0,0,0,-1,0,0,0,0],\n",
    "            [0,2,0,0,0,1,0,0,0,0,0,-1,0,0,0],[0,0,0.5,1,0,0,0,0,0,0,0,0,-1,0,0],\n",
    "            [0,0,4,0,1,0,0,0,0,0,0,0,0,-1,0],[0,0,5,0,0,1,0,0,0,0,0,0,0,0,-1]],tc='d')\n",
    "#Coefficient matrix for the constraints, enter column by column\n",
    "print(G)"
   ]
  },
  {
   "cell_type": "code",
   "execution_count": 11,
   "metadata": {},
   "outputs": [
    {
     "name": "stdout",
     "output_type": "stream",
     "text": [
      "[ 1.70e+02]\n",
      "[ 1.00e+02]\n",
      "[ 1.60e+02]\n",
      "[ 1.40e+02]\n",
      "[ 8.00e+01]\n",
      "[ 8.00e+01]\n",
      "[ 0.00e+00]\n",
      "[ 0.00e+00]\n",
      "[ 0.00e+00]\n",
      "[ 0.00e+00]\n",
      "[ 0.00e+00]\n",
      "[ 0.00e+00]\n",
      "[ 0.00e+00]\n",
      "[ 0.00e+00]\n",
      "[ 0.00e+00]\n",
      "\n"
     ]
    }
   ],
   "source": [
    "h = matrix([170,100,160,140,80,80,0,0,0,0,0,0,0,0,0], tc='d')\n",
    "## h is the righ-hand side of the constraint \n",
    "print(h)"
   ]
  },
  {
   "cell_type": "code",
   "execution_count": 12,
   "metadata": {},
   "outputs": [
    {
     "name": "stdout",
     "output_type": "stream",
     "text": [
      "     pcost       dcost       gap    pres   dres   k/t\n",
      " 0: -3.7506e+02 -1.3112e+03  6e+02  9e-02  1e+00  1e+00\n",
      " 1: -3.9036e+02 -5.3621e+02  7e+01  1e-02  2e-01  5e-01\n",
      " 2: -4.1889e+02 -4.6294e+02  2e+01  4e-03  6e-02  5e-01\n",
      " 3: -4.2747e+02 -4.3220e+02  2e+00  4e-04  7e-03  7e-02\n",
      " 4: -4.2796e+02 -4.2817e+02  9e-02  2e-05  3e-04  4e-03\n",
      " 5: -4.2800e+02 -4.2800e+02  9e-04  2e-07  3e-06  4e-05\n",
      " 6: -4.2800e+02 -4.2800e+02  9e-06  2e-09  3e-08  4e-07\n",
      "Optimal solution found.\n",
      "[ 4.00e+01]\n",
      "[ 4.00e+01]\n",
      "[ 8.00e+01]\n",
      "[ 1.00e+02]\n",
      "[ 1.35e-06]\n",
      "[ 3.25e-07]\n",
      "[ 9.46e-07]\n",
      "[ 4.00e+01]\n",
      "[ 3.54e-07]\n",
      "\n"
     ]
    },
    {
     "data": {
      "text/plain": [
       "{'x': <9x1 matrix, tc='d'>,\n",
       " 'y': <0x1 matrix, tc='d'>,\n",
       " 's': <15x1 matrix, tc='d'>,\n",
       " 'z': <15x1 matrix, tc='d'>,\n",
       " 'status': 'optimal',\n",
       " 'gap': 9.453044020957419e-06,\n",
       " 'relative gap': 2.208655164653269e-08,\n",
       " 'primal objective': -427.9999962077117,\n",
       " 'dual objective': -428.00001721011563,\n",
       " 'primal infeasibility': 1.971583745143915e-09,\n",
       " 'dual infeasibility': 2.9247600676604455e-08,\n",
       " 'primal slack': 2.1063622365104344e-07,\n",
       " 'dual slack': 6.379853288727936e-09,\n",
       " 'residual as primal infeasibility certificate': None,\n",
       " 'residual as dual infeasibility certificate': None,\n",
       " 'iterations': 6}"
      ]
     },
     "execution_count": 12,
     "metadata": {},
     "output_type": "execute_result"
    }
   ],
   "source": [
    "sol = solvers.lp(-c, G, h) \n",
    "## -c is the coefficient of objective function. We use -c because we are maximizing revenue. \n",
    "## G is the constraint matrix\n",
    "## h is the right-hand-side of the constraints\n",
    "\n",
    "#Print the solution\n",
    "print (sol['x']) \n",
    "\n",
    "#Print all the relevant information associated with the optimal solution.\n",
    "sol"
   ]
  }
 ],
 "metadata": {
  "kernelspec": {
   "display_name": "Python 3",
   "language": "python",
   "name": "python3"
  },
  "language_info": {
   "codemirror_mode": {
    "name": "ipython",
    "version": 3
   },
   "file_extension": ".py",
   "mimetype": "text/x-python",
   "name": "python",
   "nbconvert_exporter": "python",
   "pygments_lexer": "ipython3",
   "version": "3.7.1"
  }
 },
 "nbformat": 4,
 "nbformat_minor": 2
}
