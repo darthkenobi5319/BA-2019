{
 "cells": [
  {
   "cell_type": "markdown",
   "metadata": {},
   "source": [
    "## Problem Set 1\n",
    "\n",
    "## BUSF-SHU 210: Business Analytics (Spring 2019)"
   ]
  },
  {
   "cell_type": "markdown",
   "metadata": {},
   "source": [
    "## Question 1\n",
    "\n",
    "Calculate the R2 for the linear regression models with different covariates in the Wine Analytics case. \n",
    "\n",
    "\n",
    "Specifically, consider the following models:\n",
    "\n",
    "* Price∼Harvest Rain\n",
    "\n",
    "* Price∼Winter Rain\n",
    "\n",
    "* Price∼Population\n",
    "\n",
    "Which model has the best in-sample fit?\n",
    "\n",
    "## Solution 1\n"
   ]
  },
  {
   "cell_type": "code",
   "execution_count": 1,
   "metadata": {},
   "outputs": [
    {
     "name": "stdout",
     "output_type": "stream",
     "text": [
      "'data.frame':\t25 obs. of  7 variables:\n",
      " $ Year       : int  1952 1953 1955 1957 1958 1959 1960 1961 1962 1963 ...\n",
      " $ Price      : num  7.5 8.04 7.69 6.98 6.78 ...\n",
      " $ WinterRain : int  600 690 502 420 582 485 763 830 697 608 ...\n",
      " $ AGST       : num  17.1 16.7 17.1 16.1 16.4 ...\n",
      " $ HarvestRain: int  160 80 130 110 187 187 290 38 52 155 ...\n",
      " $ Age        : int  31 30 28 26 25 24 23 22 21 20 ...\n",
      " $ FrancePop  : num  43184 43495 44218 45152 45654 ...\n"
     ]
    },
    {
     "data": {
      "text/plain": [
       "      Year          Price         WinterRain         AGST        HarvestRain   \n",
       " Min.   :1952   Min.   :6.205   Min.   :376.0   Min.   :14.98   Min.   : 38.0  \n",
       " 1st Qu.:1960   1st Qu.:6.519   1st Qu.:536.0   1st Qu.:16.20   1st Qu.: 89.0  \n",
       " Median :1966   Median :7.121   Median :600.0   Median :16.53   Median :130.0  \n",
       " Mean   :1966   Mean   :7.067   Mean   :605.3   Mean   :16.51   Mean   :148.6  \n",
       " 3rd Qu.:1972   3rd Qu.:7.495   3rd Qu.:697.0   3rd Qu.:17.07   3rd Qu.:187.0  \n",
       " Max.   :1978   Max.   :8.494   Max.   :830.0   Max.   :17.65   Max.   :292.0  \n",
       "      Age         FrancePop    \n",
       " Min.   : 5.0   Min.   :43184  \n",
       " 1st Qu.:11.0   1st Qu.:46584  \n",
       " Median :17.0   Median :50255  \n",
       " Mean   :17.2   Mean   :49694  \n",
       " 3rd Qu.:23.0   3rd Qu.:52894  \n",
       " Max.   :31.0   Max.   :54602  "
      ]
     },
     "metadata": {},
     "output_type": "display_data"
    }
   ],
   "source": [
    "# Read in data\n",
    "# If read is unsuccessful, change the input to the absolute path\n",
    "wine = read.csv(\"C:/Users/darth/Dropbox/Study/Study/Business Analytics/LA/2019.2.11/wine.csv\")\n",
    "    #str(wine)\n",
    "    #summary(wine)"
   ]
  },
  {
   "cell_type": "markdown",
   "metadata": {},
   "source": [
    " **We then fit the data to the linear models** "
   ]
  },
  {
   "cell_type": "code",
   "execution_count": 29,
   "metadata": {},
   "outputs": [],
   "source": [
    "model1 = lm(Price ~ HarvestRain, data=wine)\n",
    "model2 = lm(Price ~ WinterRain, data=wine)\n",
    "model3 = lm(Price ~ FrancePop, data=wine)\n",
    "\n",
    "#summary(model1)\n",
    "#summary(model2)\n",
    "#summary(model3)"
   ]
  },
  {
   "cell_type": "markdown",
   "metadata": {},
   "source": [
    "**The in-sample fit is measured by the $R^{2}$**\n",
    "\n",
    "The formula for $R^{2}$ is:\n",
    "\n",
    "$\n",
    "R^{2} = \\frac {\\text {sample variance of } \\hat{Y}_{i}}{\\text{sample variance of }Y_{i}} = 1 - \\frac{\\text{SSE}}{\\sum_{i=1}^{n}(Y_{i} - \\bar{Y})^{2}} \n",
    "$\n",
    "\n",
    "And SSE (Sum of Squared Errors) is :\n",
    "\n",
    "$\n",
    "SSE = \\displaystyle\\sum_{i=1}^{n} (\\hat{Y}_{i}-\\bar{Y})^{2}\n",
    "$\n",
    "\n",
    "And SST (Sum of Squared Total) is :\n",
    "\n",
    "$\n",
    "SSE = \\displaystyle\\sum_{i=1}^{n}(Y_{i} - \\bar{Y})^{2}\n",
    "$"
   ]
  },
  {
   "cell_type": "code",
   "execution_count": 10,
   "metadata": {},
   "outputs": [
    {
     "data": {
      "text/html": [
       "0.317331566974363"
      ],
      "text/latex": [
       "0.317331566974363"
      ],
      "text/markdown": [
       "0.317331566974363"
      ],
      "text/plain": [
       "[1] 0.3173316"
      ]
     },
     "metadata": {},
     "output_type": "display_data"
    },
    {
     "data": {
      "text/html": [
       "0.317331566974363"
      ],
      "text/latex": [
       "0.317331566974363"
      ],
      "text/markdown": [
       "0.317331566974363"
      ],
      "text/plain": [
       "[1] 0.3173316"
      ]
     },
     "metadata": {},
     "output_type": "display_data"
    }
   ],
   "source": [
    "#Compute the R-squared for model 1\n",
    "\n",
    "# Sum of Squared Errors\n",
    "#model1$residuals\n",
    "SSE = sum(model1$residuals^2)\n",
    "#SSE\n",
    "\n",
    "# Sum of Squared Total\n",
    "SST = sum((wine$Price - mean(wine$Price))^2)\n",
    "#SST\n",
    "\n",
    "#Calculate the R-squared\n",
    "rSquaredHarvestRain = 1 - SSE/SST\n",
    "\n",
    "rSquaredHarvestRain\n",
    "\n",
    "# Compute the fitted outcomes\n",
    "predictTrain = predict(model1, newdata=wine)\n",
    "#predictTrain\n",
    "\n",
    "\n",
    "sum((predictTrain- mean(wine$Price))^2)/SST"
   ]
  },
  {
   "cell_type": "code",
   "execution_count": 14,
   "metadata": {},
   "outputs": [
    {
     "data": {
      "text/html": [
       "0.0186733721013383"
      ],
      "text/latex": [
       "0.0186733721013383"
      ],
      "text/markdown": [
       "0.0186733721013383"
      ],
      "text/plain": [
       "[1] 0.01867337"
      ]
     },
     "metadata": {},
     "output_type": "display_data"
    },
    {
     "data": {
      "text/html": [
       "0.0186733721013387"
      ],
      "text/latex": [
       "0.0186733721013387"
      ],
      "text/markdown": [
       "0.0186733721013387"
      ],
      "text/plain": [
       "[1] 0.01867337"
      ]
     },
     "metadata": {},
     "output_type": "display_data"
    }
   ],
   "source": [
    "#Compute the R-squared for model 2\n",
    "\n",
    "# Sum of Squared Errors\n",
    "#model2$residuals\n",
    "SSE = sum(model2$residuals^2)\n",
    "#SSE\n",
    "\n",
    "# Sum of Squared Total\n",
    "SST = sum((wine$Price - mean(wine$Price))^2)\n",
    "#SST\n",
    "\n",
    "#Calculate the R-squared\n",
    "rSquaredWinterRain = 1 - SSE/SST\n",
    "\n",
    "rSquaredWinterRain\n",
    "\n",
    "# Compute the fitted outcomes\n",
    "predictTrain = predict(model2, newdata=wine)\n",
    "#predictTrain\n",
    "\n",
    "\n",
    "sum((predictTrain- mean(wine$Price))^2)/SST"
   ]
  },
  {
   "cell_type": "code",
   "execution_count": 15,
   "metadata": {},
   "outputs": [
    {
     "data": {
      "text/html": [
       "0.217959792070304"
      ],
      "text/latex": [
       "0.217959792070304"
      ],
      "text/markdown": [
       "0.217959792070304"
      ],
      "text/plain": [
       "[1] 0.2179598"
      ]
     },
     "metadata": {},
     "output_type": "display_data"
    },
    {
     "data": {
      "text/html": [
       "0.217959792070304"
      ],
      "text/latex": [
       "0.217959792070304"
      ],
      "text/markdown": [
       "0.217959792070304"
      ],
      "text/plain": [
       "[1] 0.2179598"
      ]
     },
     "metadata": {},
     "output_type": "display_data"
    }
   ],
   "source": [
    "#Compute the R-squared for model 3\n",
    "\n",
    "# Sum of Squared Errors\n",
    "#model3$residuals\n",
    "SSE = sum(model3$residuals^2)\n",
    "#SSE\n",
    "\n",
    "# Sum of Squared Total\n",
    "SST = sum((wine$Price - mean(wine$Price))^2)\n",
    "#SST\n",
    "\n",
    "#Calculate the R-squared\n",
    "rSquaredFrancePop = 1 - SSE/SST\n",
    "\n",
    "rSquaredFrancePop\n",
    "\n",
    "# Compute the fitted outcomes\n",
    "predictTrain = predict(model3, newdata=wine)\n",
    "#predictTrain\n",
    "\n",
    "\n",
    "sum((predictTrain- mean(wine$Price))^2)/SST"
   ]
  },
  {
   "cell_type": "markdown",
   "metadata": {},
   "source": [
    "**Therefore,model 1 has the best in-sample-fit**"
   ]
  },
  {
   "cell_type": "markdown",
   "metadata": {},
   "source": [
    "## Question 2\n",
    "\n",
    "In this problem, you will predict the reading scores of students on the 2009 Assessment.\n",
    "\n",
    "The dataset Assessment_train.csv contains information about the students taking the exam.\n",
    "\n",
    "Each row in the dataset Assessment_train.csv represents one student taking the Assessment. The dataset has the following variables:\n",
    "\n",
    "* grade: The grade in school of the student (most 15-year-olds in America are in 10th grade)\n",
    "* male: Whether the student is male (1/0)\n",
    "* raceeth: The race/ethnicity composite of the student\n",
    "* preschool: Whether the student attended preschool (1/0)\n",
    "* expectBachelors: Whether the student expects to obtain a bachelor’s degree (1/0)\n",
    "* motherHS: Whether the student’s mother completed high school (1/0)\n",
    "* motherBachelors: Whether the student’s mother obtained a bachelor’s degree (1/0)\n",
    "* motherWork: Whether the student’s mother has part-time or full-time work (1/0)\n",
    "* fatherHS: Whether the student’s father completed high school (1/0)\n",
    "* fatherBachelors: Whether the student’s father obtained a bachelor’s degree (1/0)\n",
    "* fatherWork: Whether the student’s father has part-time or full-time work (1/0)\n",
    "* selfBornUS: Whether the student was born in the United States of America (1/0)\n",
    "* motherBornUS: Whether the student’s mother was born in the United States of America(1/0)\n",
    "* fatherBornUS: Whether the student’s father was born in the United States of America(1/0)\n",
    "* englishAtHome: Whether the student speaks English at home (1/0)\n",
    "* computerForSchoolwork: Whether the student has access to a computer for schoolwork(1/0)\n",
    "* read30MinsADay: Whether the student reads for pleasure for 30 minutes/day (1/0)\n",
    "* minutesPerWeekEnglish: The number of minutes per week the student spend in English class\n",
    "* studentsInEnglish: The number of students in this student’s English class at school\n",
    "* schoolHasLibrary: Whether this student’s school has a library (1/0)\n",
    "* publicSchool: Whether this student attends a public school (1/0)\n",
    "* urban: Whether this student’s school is in an urban area (1/0)\n",
    "* schoolSize: The number of students in this student’s school\n",
    "* readingScore: The student’s reading score, on a 1000-point scale\n",
    "\n",
    "There are some missing values in this data set, which we need to remove before building the linear regression model. Use the function na.omit() to remove the missing values in both the training data and the testing data. To apply this function, you may type: AssesmentTrain = na.omit(AssessmentTrain) in the R console.\n"
   ]
  },
  {
   "cell_type": "markdown",
   "metadata": {},
   "source": [
    "## 2.A\n",
    "\n",
    "(a)\tFactor variables are variables that take on a discrete set of values. An ordered factor has a natural ordering between the levels (an example would be the classifications “large,” “medium,” and “small”). Which of the variables in the Assessment data set are unordered factors with at least three levels? Which of the variables are ordered factors with at least three levels?"
   ]
  },
  {
   "cell_type": "markdown",
   "metadata": {},
   "source": [
    "## Solution 2.A\n",
    "   **Ordered factors with at least three levels**\n",
    "\n",
    "    grade\n",
    "\n",
    "   **Unordered factors with at least three levels**\n",
    "\n",
    "    raceeth"
   ]
  },
  {
   "cell_type": "markdown",
   "metadata": {},
   "source": [
    "## 2.B\n",
    "\n",
    "(b) To include unordered factors in a linear regression model, we define one level as the “reference level” and add a binary variable for each of the remaining levels. In this way, a factor with n levels is replaced by n − 1 binary variables. The reference level is typically selected to be the most frequently occurring level in the dataset.\n",
    "\n",
    "As an example, consider the unordered factor variable “place”, with levels “Shanghai”, “Beijing”, and “Guangzhou”. If “Beijing” were the reference level, then we would add binary variables “placeShanghai” and “placeGuangzhou” to a linear regression problem. All Shanghai examples would have placeShanghai=1 and placeGuangzhou=0. All Guangzhou examples would have placeShanghai=0 and placeGuangzhou=1. All Beijing examples would have placeShanghai=0 and placeGuangzhou=0.\n",
    "\n",
    "Now, consider the variable “raceeth” in our problem, which has levels “American Indian/Alaska Native”, “Asian”, “Black”, “Hispanic”, “More than one race”, “Native Hawaiian/Other Pacific Islander”, and “White”. Because it is the most common in the data set, we will select White as the reference level. Which binary variables should be included in the regression model? For a student who is Asian, which of the binary variables you created above should be set to 0, which of them should be set to 1?\n"
   ]
  },
  {
   "cell_type": "markdown",
   "metadata": {},
   "source": [
    "## Solution 2.B\n",
    "\n",
    "because we are choosing \"White\" as a reference level, a student's \"raceeth\" variable should be an array of:\n",
    "\n",
    "(“American Indian/Alaska Native”, “Asian”, “Black”, “Hispanic”, “More than one race”, “Native Hawaiian/Other Pacific Islander”)\n",
    "\n",
    "so an Asian student would have :\n",
    "\n",
    "raceethAsian = 1\n",
    "\n",
    "and all else as 0\n",
    "\n",
    "\n"
   ]
  },
  {
   "cell_type": "markdown",
   "metadata": {},
   "source": [
    "## 2.C\n",
    "\n",
    "(c)\tBecause the race variable takes on text values, by default R selects the first level alphabetically (“American Indian/Alaska Native”) as the reference level, instead of the most common level (“White”). \n",
    "\n",
    "To reset the reference level of the factor, we can use the following two commands in the R console: AssessmentTrain\\$raceeth = relevel(AssessmentTrain\\$raceeth, \"White\"). Build a linear regression model to predict the reading score of students using all remaining variables as covariates.\n",
    "\n",
    "Please show a screen shot of your linear regression model using the “summary” function. Find the independent variables that are significant (with p−value, Pr(> |t|), smaller than 0.05). Consider two students A and B. They have all variable values the same, except that student A is in grade 11 and student B is in grade 9. What is the predicted reading score of student A minus the predicted reading score of student B? Please interpret the estimated coefficient of the variable “Asian”.\n"
   ]
  },
  {
   "cell_type": "code",
   "execution_count": 21,
   "metadata": {},
   "outputs": [
    {
     "name": "stdout",
     "output_type": "stream",
     "text": [
      "'data.frame':\t2414 obs. of  24 variables:\n",
      " $ grade                : int  11 10 10 10 10 10 10 10 11 9 ...\n",
      " $ male                 : int  1 0 1 0 1 0 0 0 1 1 ...\n",
      " $ raceeth              : Factor w/ 7 levels \"White\",\"American Indian/Alaska Native\",..: 1 4 5 1 6 5 1 5 1 1 ...\n",
      " $ preschool            : int  0 1 1 1 1 1 1 1 1 1 ...\n",
      " $ expectBachelors      : int  0 1 0 1 1 1 1 0 1 1 ...\n",
      " $ motherHS             : int  1 0 1 1 1 1 1 0 1 1 ...\n",
      " $ motherBachelors      : int  1 0 0 0 1 0 0 0 0 1 ...\n",
      " $ motherWork           : int  1 1 1 0 1 1 1 0 0 1 ...\n",
      " $ fatherHS             : int  1 1 1 1 0 1 1 0 1 1 ...\n",
      " $ fatherBachelors      : int  0 0 0 0 0 0 1 0 1 1 ...\n",
      " $ fatherWork           : int  1 1 0 1 1 0 1 1 1 1 ...\n",
      " $ selfBornUS           : int  1 1 1 1 1 0 1 0 1 1 ...\n",
      " $ motherBornUS         : int  1 1 1 1 1 0 1 0 1 1 ...\n",
      " $ fatherBornUS         : int  1 1 0 1 1 0 1 0 1 1 ...\n",
      " $ englishAtHome        : int  1 1 1 1 1 0 1 0 1 1 ...\n",
      " $ computerForSchoolwork: int  1 1 1 1 1 0 1 1 1 1 ...\n",
      " $ read30MinsADay       : int  1 1 1 1 0 1 1 1 0 0 ...\n",
      " $ minutesPerWeekEnglish: int  450 200 250 300 294 232 225 270 275 225 ...\n",
      " $ studentsInEnglish    : int  25 23 35 30 24 14 20 25 30 15 ...\n",
      " $ schoolHasLibrary     : int  1 1 1 1 1 1 1 1 1 1 ...\n",
      " $ publicSchool         : int  1 1 1 1 1 1 1 1 1 0 ...\n",
      " $ urban                : int  0 1 1 0 0 0 0 1 1 1 ...\n",
      " $ schoolSize           : int  1173 2640 1095 1913 899 1733 149 1400 1988 915 ...\n",
      " $ readingScore         : num  575 458 614 439 466 ...\n",
      " - attr(*, \"na.action\")= 'omit' Named int  1 3 6 7 9 11 13 21 29 30 ...\n",
      "  ..- attr(*, \"names\")= chr  \"1\" \"3\" \"6\" \"7\" ...\n"
     ]
    }
   ],
   "source": [
    "# Read in data\n",
    "# If read is unsuccessful, change the input to the absolute path\n",
    "data = read.csv(\"C:/Users/darth/Dropbox/Study/Study/Business Analytics/LA/HW1/assessment_train.csv\")\n",
    "\n",
    "#omit the NAs\n",
    "data = na.omit(data)\n",
    "\n",
    "#reset the reference level\n",
    "data$raceeth = relevel(data$raceeth, \"White\")\n",
    "\n",
    "#preview\n",
    "str(data)\n",
    "#summary(data)"
   ]
  },
  {
   "cell_type": "code",
   "execution_count": 25,
   "metadata": {
    "scrolled": false
   },
   "outputs": [
    {
     "data": {
      "text/plain": [
       "\n",
       "Call:\n",
       "lm(formula = data$readingScore ~ data$grade + data$male + data$raceeth + \n",
       "    data$preschool + data$expectBachelors + data$motherHS + data$motherBachelors + \n",
       "    data$motherWork + data$fatherHS + data$fatherBachelors + \n",
       "    data$fatherWork + data$selfBornUS + data$motherBornUS + data$fatherBornUS + \n",
       "    data$englishAtHome + data$computerForSchoolwork + data$read30MinsADay + \n",
       "    data$minutesPerWeekEnglish + data$studentsInEnglish + data$schoolHasLibrary + \n",
       "    data$publicSchool + data$urban + data$schoolSize, data = data)\n",
       "\n",
       "Residuals:\n",
       "    Min      1Q  Median      3Q     Max \n",
       "-247.44  -48.86    1.86   49.77  217.18 \n",
       "\n",
       "Coefficients:\n",
       "                                                     Estimate Std. Error\n",
       "(Intercept)                                        143.766333  33.841226\n",
       "data$grade                                          29.542707   2.937399\n",
       "data$male                                          -14.521653   3.155926\n",
       "data$raceethAmerican Indian/Alaska Native          -67.277327  16.786935\n",
       "data$raceethAsian                                   -4.110325   9.220071\n",
       "data$raceethBlack                                  -67.012347   5.460883\n",
       "data$raceethHispanic                               -38.975486   5.177743\n",
       "data$raceethMore than one race                     -16.922522   8.496268\n",
       "data$raceethNative Hawaiian/Other Pacific Islander  -5.101601  17.005696\n",
       "data$preschool                                      -4.463670   3.486055\n",
       "data$expectBachelors                                55.267080   4.293893\n",
       "data$motherHS                                        6.058774   6.091423\n",
       "data$motherBachelors                                12.638068   3.861457\n",
       "data$motherWork                                     -2.809101   3.521827\n",
       "data$fatherHS                                        4.018214   5.579269\n",
       "data$fatherBachelors                                16.929755   3.995253\n",
       "data$fatherWork                                      5.842798   4.395978\n",
       "data$selfBornUS                                     -3.806278   7.323718\n",
       "data$motherBornUS                                   -8.798153   6.587621\n",
       "data$fatherBornUS                                    4.306994   6.263875\n",
       "data$englishAtHome                                   8.035685   6.859492\n",
       "data$computerForSchoolwork                          22.500232   5.702562\n",
       "data$read30MinsADay                                 34.871924   3.408447\n",
       "data$minutesPerWeekEnglish                           0.012788   0.010712\n",
       "data$studentsInEnglish                              -0.286631   0.227819\n",
       "data$schoolHasLibrary                               12.215085   9.264884\n",
       "data$publicSchool                                  -16.857475   6.725614\n",
       "data$urban                                          -0.110132   3.962724\n",
       "data$schoolSize                                      0.006540   0.002197\n",
       "                                                   t value Pr(>|t|)    \n",
       "(Intercept)                                          4.248 2.24e-05 ***\n",
       "data$grade                                          10.057  < 2e-16 ***\n",
       "data$male                                           -4.601 4.42e-06 ***\n",
       "data$raceethAmerican Indian/Alaska Native           -4.008 6.32e-05 ***\n",
       "data$raceethAsian                                   -0.446  0.65578    \n",
       "data$raceethBlack                                  -12.271  < 2e-16 ***\n",
       "data$raceethHispanic                                -7.528 7.29e-14 ***\n",
       "data$raceethMore than one race                      -1.992  0.04651 *  \n",
       "data$raceethNative Hawaiian/Other Pacific Islander  -0.300  0.76421    \n",
       "data$preschool                                      -1.280  0.20052    \n",
       "data$expectBachelors                                12.871  < 2e-16 ***\n",
       "data$motherHS                                        0.995  0.32001    \n",
       "data$motherBachelors                                 3.273  0.00108 ** \n",
       "data$motherWork                                     -0.798  0.42517    \n",
       "data$fatherHS                                        0.720  0.47147    \n",
       "data$fatherBachelors                                 4.237 2.35e-05 ***\n",
       "data$fatherWork                                      1.329  0.18393    \n",
       "data$selfBornUS                                     -0.520  0.60331    \n",
       "data$motherBornUS                                   -1.336  0.18182    \n",
       "data$fatherBornUS                                    0.688  0.49178    \n",
       "data$englishAtHome                                   1.171  0.24153    \n",
       "data$computerForSchoolwork                           3.946 8.19e-05 ***\n",
       "data$read30MinsADay                                 10.231  < 2e-16 ***\n",
       "data$minutesPerWeekEnglish                           1.194  0.23264    \n",
       "data$studentsInEnglish                              -1.258  0.20846    \n",
       "data$schoolHasLibrary                                1.318  0.18749    \n",
       "data$publicSchool                                   -2.506  0.01226 *  \n",
       "data$urban                                          -0.028  0.97783    \n",
       "data$schoolSize                                      2.977  0.00294 ** \n",
       "---\n",
       "Signif. codes:  0 '***' 0.001 '**' 0.01 '*' 0.05 '.' 0.1 ' ' 1\n",
       "\n",
       "Residual standard error: 73.81 on 2385 degrees of freedom\n",
       "Multiple R-squared:  0.3251,\tAdjusted R-squared:  0.3172 \n",
       "F-statistic: 41.04 on 28 and 2385 DF,  p-value: < 2.2e-16\n"
      ]
     },
     "metadata": {},
     "output_type": "display_data"
    }
   ],
   "source": [
    "model1 = lm(data$readingScore ~ data$grade + data$male + data$raceeth + data$preschool + data$expectBachelors \n",
    "            + data$motherHS + data$motherBachelors + data$motherWork + data$fatherHS + data$fatherBachelors + data$fatherWork\n",
    "            + data$selfBornUS +data$motherBornUS + data$fatherBornUS + data$englishAtHome + data$computerForSchoolwork\n",
    "            + data$read30MinsADay + data$minutesPerWeekEnglish + data$studentsInEnglish + data$schoolHasLibrary\n",
    "            + data$publicSchool + data$urban + data$schoolSize,data = data)\n",
    "summary(model1)"
   ]
  },
  {
   "cell_type": "markdown",
   "metadata": {},
   "source": [
    "**The significant variables are:**\n",
    "\n",
    "grade, male, raceeth, expectBachelors, motherBachelors, fatherBachelors, computerForSchoolwork, read30MinsADay, publicSchool, schoolSize\n",
    "\n",
    "**the predicted reading score of student A minus the predicted reading score of student B:**\n",
    "\n",
    "59.085414\n",
    "\n",
    "**interpret the estimated coefficient of the variable “Asian”.**\n",
    "\n",
    "A student who is asian is perdicted to have a reading score 4.110325 lower than a White student, provided that all other variates are the same."
   ]
  },
  {
   "cell_type": "markdown",
   "metadata": {},
   "source": [
    "## 2.D\n",
    "\n",
    "(d)\tIf we remove all the independent variables that are not significant (with p−value, Pr(> |t|), no smaller than 0.05), we can build a new linear regression model. Report the (in-sample) R2’s for both the original model and the model with insignificant variables removed.\n",
    "\n",
    "## Solution 2.D"
   ]
  },
  {
   "cell_type": "code",
   "execution_count": 31,
   "metadata": {},
   "outputs": [
    {
     "data": {
      "text/plain": [
       "\n",
       "Call:\n",
       "lm(formula = data$readingScore ~ data$grade + data$male + data$raceeth + \n",
       "    data$expectBachelors + data$motherBachelors + data$fatherBachelors + \n",
       "    data$computerForSchoolwork + data$read30MinsADay + data$publicSchool + \n",
       "    data$schoolSize, data = data)\n",
       "\n",
       "Residuals:\n",
       "     Min       1Q   Median       3Q      Max \n",
       "-251.570  -49.060    2.149   49.400  218.630 \n",
       "\n",
       "Coefficients:\n",
       "                                                     Estimate Std. Error\n",
       "(Intercept)                                        159.506857  30.609376\n",
       "data$grade                                          29.450275   2.926370\n",
       "data$male                                          -13.913642   3.136355\n",
       "data$raceethAmerican Indian/Alaska Native          -67.919578  16.755760\n",
       "data$raceethAsian                                   -3.734229   7.912517\n",
       "data$raceethBlack                                  -67.419971   5.334486\n",
       "data$raceethHispanic                               -41.109586   4.159258\n",
       "data$raceethMore than one race                     -16.383622   8.457077\n",
       "data$raceethNative Hawaiian/Other Pacific Islander  -4.273832  16.695228\n",
       "data$expectBachelors                                55.696176   4.248529\n",
       "data$motherBachelors                                12.678659   3.796769\n",
       "data$fatherBachelors                                18.246641   3.927753\n",
       "data$computerForSchoolwork                          23.455371   5.599610\n",
       "data$read30MinsADay                                 35.507205   3.384785\n",
       "data$publicSchool                                  -15.731977   5.901599\n",
       "data$schoolSize                                      0.005980   0.001955\n",
       "                                                   t value Pr(>|t|)    \n",
       "(Intercept)                                          5.211 2.04e-07 ***\n",
       "data$grade                                          10.064  < 2e-16 ***\n",
       "data$male                                           -4.436 9.57e-06 ***\n",
       "data$raceethAmerican Indian/Alaska Native           -4.054 5.21e-05 ***\n",
       "data$raceethAsian                                   -0.472 0.637013    \n",
       "data$raceethBlack                                  -12.639  < 2e-16 ***\n",
       "data$raceethHispanic                                -9.884  < 2e-16 ***\n",
       "data$raceethMore than one race                      -1.937 0.052830 .  \n",
       "data$raceethNative Hawaiian/Other Pacific Islander  -0.256 0.797980    \n",
       "data$expectBachelors                                13.110  < 2e-16 ***\n",
       "data$motherBachelors                                 3.339 0.000853 ***\n",
       "data$fatherBachelors                                 4.646 3.57e-06 ***\n",
       "data$computerForSchoolwork                           4.189 2.91e-05 ***\n",
       "data$read30MinsADay                                 10.490  < 2e-16 ***\n",
       "data$publicSchool                                   -2.666 0.007734 ** \n",
       "data$schoolSize                                      3.059 0.002242 ** \n",
       "---\n",
       "Signif. codes:  0 '***' 0.001 '**' 0.01 '*' 0.05 '.' 0.1 ' ' 1\n",
       "\n",
       "Residual standard error: 73.82 on 2398 degrees of freedom\n",
       "Multiple R-squared:  0.3213,\tAdjusted R-squared:  0.3171 \n",
       "F-statistic: 75.69 on 15 and 2398 DF,  p-value: < 2.2e-16\n"
      ]
     },
     "metadata": {},
     "output_type": "display_data"
    }
   ],
   "source": [
    "model2 = lm(data$readingScore ~ data$grade + data$male + data$raceeth\n",
    "            + data$expectBachelors + data$motherBachelors + data$fatherBachelors  + data$computerForSchoolwork\n",
    "            + data$read30MinsADay + data$publicSchool + data$schoolSize,data = data)\n",
    "summary(model2)"
   ]
  },
  {
   "cell_type": "markdown",
   "metadata": {},
   "source": [
    "**Therefore, the $R^{2}$ is:**\n",
    "\n",
    "* original model: 0.3251\n",
    "\n",
    "* new model: 0.3213"
   ]
  },
  {
   "cell_type": "code",
   "execution_count": null,
   "metadata": {},
   "outputs": [],
   "source": []
  }
 ],
 "metadata": {
  "kernelspec": {
   "display_name": "R",
   "language": "R",
   "name": "ir"
  },
  "language_info": {
   "codemirror_mode": "r",
   "file_extension": ".r",
   "mimetype": "text/x-r-source",
   "name": "R",
   "pygments_lexer": "r",
   "version": "3.5.1"
  }
 },
 "nbformat": 4,
 "nbformat_minor": 2
}
