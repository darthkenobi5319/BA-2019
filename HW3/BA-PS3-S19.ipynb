{
 "cells": [
  {
   "cell_type": "markdown",
   "metadata": {},
   "source": [
    "## Question 1\n",
    "\n",
    "### (a)\n",
    "\n",
    "$ 1.5 + 0.7X_{i1} −1.5X_{i2} + 0.9X_{i3} >= 0$\n",
    "\n",
    "$ Y_{i} = 1$\n",
    "\n",
    "### (b)\n",
    "$ l_{0} = 0.7$\n",
    "\n",
    "$ l_{1} = 0.85$\n",
    "\n",
    "$ l_{2} = 0.9$\n",
    "\n",
    "$ l_{3} = 0.75$\n",
    "\n",
    "$ l_{4} = 0.8$\n",
    "\n",
    "### (c)\n",
    "\n",
    "$\\mathbb{E}_{X}\\left[\\text{squared loss}\\right]=\\mathbb{E}_{X}\\left(\\underbrace{\\mathbb{E}_{\\mathcal{D}}\\left[f(\\boldsymbol{x}^{(i)})-\\hat{f}(\\boldsymbol{x}^{(i)})\\right]^{2}}_{\\text{bias of }\\hat{f}}+\\underbrace{\\text{Var}_{\\mathcal{D}}\\left[\\hat{f}(\\boldsymbol{x}^{(i)})\\right]}_{\\text{variance of}\\,\\hat{f}}+\\underbrace{\\text{Var}_{\\epsilon}[\\epsilon]}_{\\text{irreducible error}}\\right)$\n",
    "\n",
    "* Bias      = expected value of how model differs with reality  (reducible)\n",
    "\n",
    "* Variance = spread of prediction on different datasets (reducible)\n",
    "\n",
    "* Noise      = inherent variation in dataset/problem (irreducible)\n"
   ]
  },
  {
   "cell_type": "markdown",
   "metadata": {},
   "source": [
    "## Question 2\n"
   ]
  },
  {
   "cell_type": "code",
   "execution_count": 2,
   "metadata": {},
   "outputs": [],
   "source": [
    "#Import necessary Python packages\n",
    "import pandas as pd\n",
    "import numpy as np\n",
    "import matplotlib.pyplot as plt\n",
    "%matplotlib inline\n",
    "from sklearn import datasets, linear_model\n",
    "from sklearn.metrics import mean_squared_error, r2_score\n"
   ]
  },
  {
   "cell_type": "code",
   "execution_count": 6,
   "metadata": {},
   "outputs": [
    {
     "data": {
      "text/html": [
       "<div>\n",
       "<style scoped>\n",
       "    .dataframe tbody tr th:only-of-type {\n",
       "        vertical-align: middle;\n",
       "    }\n",
       "\n",
       "    .dataframe tbody tr th {\n",
       "        vertical-align: top;\n",
       "    }\n",
       "\n",
       "    .dataframe thead th {\n",
       "        text-align: right;\n",
       "    }\n",
       "</style>\n",
       "<table border=\"1\" class=\"dataframe\">\n",
       "  <thead>\n",
       "    <tr style=\"text-align: right;\">\n",
       "      <th></th>\n",
       "      <th>Unnamed: 0</th>\n",
       "      <th>dc</th>\n",
       "      <th>atype</th>\n",
       "      <th>bidf</th>\n",
       "      <th>instl</th>\n",
       "      <th>isp</th>\n",
       "      <th>nt</th>\n",
       "      <th>mfr_Apple</th>\n",
       "      <th>mfr_Coolpad</th>\n",
       "      <th>mfr_Gionee</th>\n",
       "      <th>mfr_Huawei</th>\n",
       "      <th>mfr_Meizu</th>\n",
       "      <th>mfr_OPPO</th>\n",
       "      <th>mfr_Others</th>\n",
       "      <th>mfr_Samsung</th>\n",
       "      <th>mfr_Xiaomi</th>\n",
       "      <th>mfr_vivo</th>\n",
       "      <th>period_Afternoon</th>\n",
       "      <th>period_Evening</th>\n",
       "      <th>period_Morning</th>\n",
       "    </tr>\n",
       "  </thead>\n",
       "  <tbody>\n",
       "    <tr>\n",
       "      <th>0</th>\n",
       "      <td>0</td>\n",
       "      <td>1</td>\n",
       "      <td>8</td>\n",
       "      <td>0.0</td>\n",
       "      <td>0</td>\n",
       "      <td>1</td>\n",
       "      <td>1</td>\n",
       "      <td>0</td>\n",
       "      <td>0</td>\n",
       "      <td>0</td>\n",
       "      <td>0</td>\n",
       "      <td>0</td>\n",
       "      <td>0</td>\n",
       "      <td>1</td>\n",
       "      <td>0</td>\n",
       "      <td>0</td>\n",
       "      <td>0</td>\n",
       "      <td>0</td>\n",
       "      <td>1</td>\n",
       "      <td>0</td>\n",
       "    </tr>\n",
       "    <tr>\n",
       "      <th>1</th>\n",
       "      <td>1</td>\n",
       "      <td>1</td>\n",
       "      <td>8</td>\n",
       "      <td>0.0</td>\n",
       "      <td>0</td>\n",
       "      <td>0</td>\n",
       "      <td>1</td>\n",
       "      <td>0</td>\n",
       "      <td>0</td>\n",
       "      <td>0</td>\n",
       "      <td>0</td>\n",
       "      <td>0</td>\n",
       "      <td>0</td>\n",
       "      <td>0</td>\n",
       "      <td>0</td>\n",
       "      <td>1</td>\n",
       "      <td>0</td>\n",
       "      <td>1</td>\n",
       "      <td>0</td>\n",
       "      <td>0</td>\n",
       "    </tr>\n",
       "    <tr>\n",
       "      <th>2</th>\n",
       "      <td>2</td>\n",
       "      <td>1</td>\n",
       "      <td>8</td>\n",
       "      <td>0.0</td>\n",
       "      <td>1</td>\n",
       "      <td>3</td>\n",
       "      <td>1</td>\n",
       "      <td>0</td>\n",
       "      <td>0</td>\n",
       "      <td>0</td>\n",
       "      <td>1</td>\n",
       "      <td>0</td>\n",
       "      <td>0</td>\n",
       "      <td>0</td>\n",
       "      <td>0</td>\n",
       "      <td>0</td>\n",
       "      <td>0</td>\n",
       "      <td>0</td>\n",
       "      <td>1</td>\n",
       "      <td>0</td>\n",
       "    </tr>\n",
       "    <tr>\n",
       "      <th>3</th>\n",
       "      <td>3</td>\n",
       "      <td>1</td>\n",
       "      <td>8</td>\n",
       "      <td>0.0</td>\n",
       "      <td>0</td>\n",
       "      <td>2</td>\n",
       "      <td>1</td>\n",
       "      <td>0</td>\n",
       "      <td>0</td>\n",
       "      <td>0</td>\n",
       "      <td>1</td>\n",
       "      <td>0</td>\n",
       "      <td>0</td>\n",
       "      <td>0</td>\n",
       "      <td>0</td>\n",
       "      <td>0</td>\n",
       "      <td>0</td>\n",
       "      <td>1</td>\n",
       "      <td>0</td>\n",
       "      <td>0</td>\n",
       "    </tr>\n",
       "    <tr>\n",
       "      <th>4</th>\n",
       "      <td>4</td>\n",
       "      <td>1</td>\n",
       "      <td>8</td>\n",
       "      <td>0.0</td>\n",
       "      <td>0</td>\n",
       "      <td>3</td>\n",
       "      <td>1</td>\n",
       "      <td>0</td>\n",
       "      <td>1</td>\n",
       "      <td>0</td>\n",
       "      <td>0</td>\n",
       "      <td>0</td>\n",
       "      <td>0</td>\n",
       "      <td>0</td>\n",
       "      <td>0</td>\n",
       "      <td>0</td>\n",
       "      <td>0</td>\n",
       "      <td>0</td>\n",
       "      <td>1</td>\n",
       "      <td>0</td>\n",
       "    </tr>\n",
       "  </tbody>\n",
       "</table>\n",
       "</div>"
      ],
      "text/plain": [
       "   Unnamed: 0  dc  atype  bidf  instl  isp  nt  mfr_Apple  mfr_Coolpad  \\\n",
       "0           0   1      8   0.0      0    1   1          0            0   \n",
       "1           1   1      8   0.0      0    0   1          0            0   \n",
       "2           2   1      8   0.0      1    3   1          0            0   \n",
       "3           3   1      8   0.0      0    2   1          0            0   \n",
       "4           4   1      8   0.0      0    3   1          0            1   \n",
       "\n",
       "   mfr_Gionee  mfr_Huawei  mfr_Meizu  mfr_OPPO  mfr_Others  mfr_Samsung  \\\n",
       "0           0           0          0         0           1            0   \n",
       "1           0           0          0         0           0            0   \n",
       "2           0           1          0         0           0            0   \n",
       "3           0           1          0         0           0            0   \n",
       "4           0           0          0         0           0            0   \n",
       "\n",
       "   mfr_Xiaomi  mfr_vivo  period_Afternoon  period_Evening  period_Morning  \n",
       "0           0         0                 0               1               0  \n",
       "1           1         0                 1               0               0  \n",
       "2           0         0                 0               1               0  \n",
       "3           0         0                 1               0               0  \n",
       "4           0         0                 0               1               0  "
      ]
     },
     "execution_count": 6,
     "metadata": {},
     "output_type": "execute_result"
    }
   ],
   "source": [
    "# Load the data as \"dataframe\"\n",
    "rtb = pd.get_dummies(pd.read_csv(\"D:/Study/Business Analytics/LA/HW3/RTB.csv\"))\n",
    "# check the dataframe\n",
    "rtb.head()"
   ]
  },
  {
   "cell_type": "code",
   "execution_count": 7,
   "metadata": {},
   "outputs": [
    {
     "name": "stdout",
     "output_type": "stream",
     "text": [
      "[[0.000e+00 1.000e+00 8.000e+00 ... 0.000e+00 1.000e+00 0.000e+00]\n",
      " [1.000e+00 1.000e+00 8.000e+00 ... 1.000e+00 0.000e+00 0.000e+00]\n",
      " [2.000e+00 1.000e+00 8.000e+00 ... 0.000e+00 1.000e+00 0.000e+00]\n",
      " ...\n",
      " [4.693e+03 0.000e+00 8.000e+00 ... 1.000e+00 0.000e+00 0.000e+00]\n",
      " [4.694e+03 0.000e+00 8.000e+00 ... 1.000e+00 0.000e+00 0.000e+00]\n",
      " [4.695e+03 0.000e+00 8.000e+00 ... 1.000e+00 0.000e+00 0.000e+00]]\n"
     ]
    }
   ],
   "source": [
    "rtb = np.array(rtb)\n",
    "print(rtb)"
   ]
  },
  {
   "cell_type": "code",
   "execution_count": 8,
   "metadata": {},
   "outputs": [
    {
     "name": "stdout",
     "output_type": "stream",
     "text": [
      "[[8. 0. 0. ... 0. 1. 0.]\n",
      " [8. 0. 0. ... 1. 0. 0.]\n",
      " [8. 0. 1. ... 0. 1. 0.]\n",
      " ...\n",
      " [8. 0. 0. ... 1. 0. 0.]\n",
      " [8. 0. 0. ... 1. 0. 0.]\n",
      " [8. 0. 0. ... 1. 0. 0.]]\n"
     ]
    }
   ],
   "source": [
    "y = rtb[:,1].astype('int')\n",
    "X = np.hstack((rtb[:,2].astype('int').reshape(4696,1),rtb[:,3].astype('float').reshape(4696,1),rtb[:,4:].astype('int')))\n",
    "print(X)"
   ]
  },
  {
   "cell_type": "markdown",
   "metadata": {},
   "source": [
    "### (a)"
   ]
  },
  {
   "cell_type": "code",
   "execution_count": 11,
   "metadata": {},
   "outputs": [
    {
     "name": "stdout",
     "output_type": "stream",
     "text": [
      "best score is: 0.600298126064736\n",
      "best params are: {'n_neighbors': 14}\n"
     ]
    }
   ],
   "source": [
    "from sklearn.neighbors import KNeighborsClassifier\n",
    "from sklearn.model_selection import GridSearchCV\n",
    "\n",
    "param_test = {\n",
    "        'n_neighbors':range(1, 15)\n",
    "    }\n",
    "\n",
    "estimator = KNeighborsClassifier(n_neighbors = 1) \n",
    "\n",
    "gsearch = GridSearchCV( estimator , param_grid = param_test, cv=10 ,scoring='accuracy')\n",
    "gsearch.fit(X, y)\n",
    "gsearch.best_params_, gsearch.best_score_\n",
    "print('best score is:',str(gsearch.best_score_))\n",
    "print('best params are:',str(gsearch.best_params_))"
   ]
  },
  {
   "cell_type": "markdown",
   "metadata": {},
   "source": [
    "### (b)"
   ]
  },
  {
   "cell_type": "code",
   "execution_count": 13,
   "metadata": {},
   "outputs": [
    {
     "name": "stdout",
     "output_type": "stream",
     "text": [
      "best score is: 0.8077086882453152\n",
      "best params are: {'C': 0.3727593720314938}\n"
     ]
    }
   ],
   "source": [
    "param_test = {\n",
    "        'C':np.logspace(-3, 3)\n",
    "    }\n",
    "\n",
    "estimator = linear_model.LogisticRegression(penalty='l2')\n",
    "    \n",
    "gsearch = GridSearchCV( estimator , param_grid = param_test, cv=10 ,scoring='accuracy')\n",
    "gsearch.fit( X, y)\n",
    "gsearch.best_params_, gsearch.best_score_\n",
    "print('best score is:',str(gsearch.best_score_))\n",
    "print('best params are:',str(gsearch.best_params_))"
   ]
  },
  {
   "cell_type": "markdown",
   "metadata": {},
   "source": [
    "### (c)"
   ]
  },
  {
   "cell_type": "code",
   "execution_count": 12,
   "metadata": {},
   "outputs": [
    {
     "name": "stdout",
     "output_type": "stream",
     "text": [
      "best score is: 0.8077086882453152\n",
      "best params are: {'C': 0.655128556859551}\n"
     ]
    }
   ],
   "source": [
    "param_test = {\n",
    "        'C':np.logspace(-3, 3)\n",
    "    }\n",
    "\n",
    "estimator = linear_model.LogisticRegression(penalty='l1')\n",
    "    \n",
    "gsearch = GridSearchCV( estimator , param_grid = param_test, cv=10 ,scoring='accuracy')\n",
    "gsearch.fit( X, y)\n",
    "gsearch.best_params_, gsearch.best_score_\n",
    "print('best score is:',str(gsearch.best_score_))\n",
    "print('best params are:',str(gsearch.best_params_))"
   ]
  },
  {
   "cell_type": "markdown",
   "metadata": {},
   "source": [
    "## Question 3\n",
    "\n",
    "### (a)"
   ]
  },
  {
   "cell_type": "code",
   "execution_count": 15,
   "metadata": {},
   "outputs": [
    {
     "data": {
      "text/html": [
       "<div>\n",
       "<style scoped>\n",
       "    .dataframe tbody tr th:only-of-type {\n",
       "        vertical-align: middle;\n",
       "    }\n",
       "\n",
       "    .dataframe tbody tr th {\n",
       "        vertical-align: top;\n",
       "    }\n",
       "\n",
       "    .dataframe thead th {\n",
       "        text-align: right;\n",
       "    }\n",
       "</style>\n",
       "<table border=\"1\" class=\"dataframe\">\n",
       "  <thead>\n",
       "    <tr style=\"text-align: right;\">\n",
       "      <th></th>\n",
       "      <th>X.train</th>\n",
       "      <th>Y.train</th>\n",
       "    </tr>\n",
       "  </thead>\n",
       "  <tbody>\n",
       "    <tr>\n",
       "      <th>0</th>\n",
       "      <td>-1.834344</td>\n",
       "      <td>9.875748</td>\n",
       "    </tr>\n",
       "    <tr>\n",
       "      <th>1</th>\n",
       "      <td>0.211264</td>\n",
       "      <td>0.629803</td>\n",
       "    </tr>\n",
       "    <tr>\n",
       "      <th>2</th>\n",
       "      <td>0.829149</td>\n",
       "      <td>14.779012</td>\n",
       "    </tr>\n",
       "    <tr>\n",
       "      <th>3</th>\n",
       "      <td>0.675009</td>\n",
       "      <td>-10.177690</td>\n",
       "    </tr>\n",
       "    <tr>\n",
       "      <th>4</th>\n",
       "      <td>0.642912</td>\n",
       "      <td>-24.062628</td>\n",
       "    </tr>\n",
       "  </tbody>\n",
       "</table>\n",
       "</div>"
      ],
      "text/plain": [
       "    X.train    Y.train\n",
       "0 -1.834344   9.875748\n",
       "1  0.211264   0.629803\n",
       "2  0.829149  14.779012\n",
       "3  0.675009 -10.177690\n",
       "4  0.642912 -24.062628"
      ]
     },
     "execution_count": 15,
     "metadata": {},
     "output_type": "execute_result"
    }
   ],
   "source": [
    "from sklearn.preprocessing import PolynomialFeatures\n",
    "from sklearn.linear_model import LinearRegression\n",
    "from sklearn.pipeline import Pipeline\n",
    "# Load the data as \"dataframe\"\n",
    "train = pd.read_csv(\"D:/Study/Business Analytics/LA/HW3/BVTradeoff_train.csv\")\n",
    "train.head()"
   ]
  },
  {
   "cell_type": "code",
   "execution_count": 16,
   "metadata": {},
   "outputs": [],
   "source": [
    "X_train = np.array(train)[:,0].reshape(2018,1)\n",
    "Y_train = np.array(train)[:,1]"
   ]
  },
  {
   "cell_type": "code",
   "execution_count": 19,
   "metadata": {},
   "outputs": [],
   "source": [
    "# This function is a composite that fits a polynomial regression\n",
    "# @param: d: polynomial degree\n",
    "# @return: model: the fitted model\n",
    "\n",
    "def poly(d):\n",
    "    model = Pipeline([('poly', PolynomialFeatures(degree=d)),\n",
    "                     ('linear', LinearRegression(fit_intercept=False))])\n",
    "    model = model.fit(X_train,Y_train)\n",
    "    return model"
   ]
  },
  {
   "cell_type": "code",
   "execution_count": 6,
   "metadata": {},
   "outputs": [
    {
     "name": "stdout",
     "output_type": "stream",
     "text": [
      "1 [2.93382442 5.81165244]\n",
      "2 [0.9091618  5.91987792 1.97224146]\n",
      "3 [0.78970312 3.03367003 2.1587477  1.00844241]\n",
      "4 [0.94145828 3.00967952 1.83611626 1.02276221 0.06115025]\n",
      "5 [ 0.9415646   2.89664786  1.83788985  1.10771058  0.06023655 -0.01027686]\n"
     ]
    }
   ],
   "source": [
    "# run five polynomial regressions, from degree 1 to 5\n",
    "for i in range(5):\n",
    "    model1 = poly(i+1)\n",
    "    print(i+1,model1.named_steps['linear'].coef_)\n",
    "    "
   ]
  },
  {
   "cell_type": "markdown",
   "metadata": {},
   "source": [
    "### (b)"
   ]
  },
  {
   "cell_type": "code",
   "execution_count": 20,
   "metadata": {},
   "outputs": [],
   "source": [
    "test = pd.read_csv(\"D:/Study/Business Analytics/LA/HW3/BVTradeoff_test.csv\")\n",
    "X_test  = np.array(test)[:,0].reshape(2018,1)\n",
    "Y_test  = np.array(test)[:,1]"
   ]
  },
  {
   "cell_type": "code",
   "execution_count": 21,
   "metadata": {},
   "outputs": [
    {
     "data": {
      "image/png": "[encoded data removed]",
      "text/plain": [
       "<Figure size 432x288 with 5 Axes>"
      ]
     },
     "metadata": {
      "needs_background": "light"
     },
     "output_type": "display_data"
    }
   ],
   "source": [
    "test = pd.read_csv(\"D:/Study/Business Analytics/LA/HW3/BVTradeoff_test.csv\")\n",
    "X_test  = np.array(test)[:,0].reshape(2018,1)\n",
    "Y_test  = np.array(test)[:,1]\n",
    "\n",
    "se=[]\n",
    "y_pred=[]\n",
    "fig, axs = plt.subplots(1, 5)\n",
    "for i in range(5):\n",
    "    model1 = poly(i+1)\n",
    "    temp = model1.predict(X_test)\n",
    "    y_pred.append(temp)\n",
    "    x = np.square(temp - Y_test)\n",
    "    axs[i].hist(x)"
   ]
  },
  {
   "cell_type": "markdown",
   "metadata": {},
   "source": [
    "### (c)"
   ]
  },
  {
   "cell_type": "code",
   "execution_count": 23,
   "metadata": {},
   "outputs": [
    {
     "name": "stdout",
     "output_type": "stream",
     "text": [
      "[120.59167110402211, 108.22334883014693, 101.30897361439519, 101.40136742756752, 101.37737889481345]\n"
     ]
    },
    {
     "data": {
      "text/plain": [
       "[<matplotlib.lines.Line2D at 0x1b58cbf1828>]"
      ]
     },
     "execution_count": 23,
     "metadata": {},
     "output_type": "execute_result"
    },
    {
     "data": {
      "image/png": "[encoded data removed]",
      "text/plain": [
       "<Figure size 432x288 with 1 Axes>"
      ]
     },
     "metadata": {
      "needs_background": "light"
     },
     "output_type": "display_data"
    }
   ],
   "source": [
    "mse=[]\n",
    "y_pred=[]\n",
    "from sklearn.metrics import mean_squared_error\n",
    "for i in range(5):\n",
    "    model1 = poly(i+1)\n",
    "    temp = model1.predict(X_test)\n",
    "    y_pred.append(temp)\n",
    "    x = np.sum(np.square(Y_test - temp))\n",
    "    mse.append(mean_squared_error(Y_test, y_pred[i]))\n",
    "print(mse)\n",
    "plt.plot(mse)"
   ]
  },
  {
   "cell_type": "markdown",
   "metadata": {},
   "source": [
    "### (d)"
   ]
  },
  {
   "cell_type": "code",
   "execution_count": 1,
   "metadata": {},
   "outputs": [],
   "source": [
    "def original(X):\n",
    "    r = np.array(np.multiply(np.multiply(X,X),X) + 2 * np.square(X) + 3 * X + 1)\n",
    "    return r"
   ]
  },
  {
   "cell_type": "code",
   "execution_count": 30,
   "metadata": {},
   "outputs": [
    {
     "name": "stdout",
     "output_type": "stream",
     "text": [
      "[18.35320803323258, 6.754666763867708, 0.06480487242840584, 0.23926751617333905, 0.1766749159008407]\n"
     ]
    },
    {
     "data": {
      "text/plain": [
       "[<matplotlib.lines.Line2D at 0x1b58c88eac8>]"
      ]
     },
     "execution_count": 30,
     "metadata": {},
     "output_type": "execute_result"
    },
    {
     "data": {
      "image/png": "[encoded data removed]",
      "text/plain": [
       "<Figure size 432x288 with 1 Axes>"
      ]
     },
     "metadata": {
      "needs_background": "light"
     },
     "output_type": "display_data"
    }
   ],
   "source": [
    "newY = original(X_test).ravel()\n",
    "bias=[]\n",
    "for i in range(5):\n",
    "    model1 = poly(i+1)\n",
    "    temp = model1.predict(X_test)\n",
    "    x = np.average(np.square(newY-temp))\n",
    "    bias.append(x)\n",
    "print(bias)\n",
    "plt.plot(bias)"
   ]
  },
  {
   "cell_type": "markdown",
   "metadata": {},
   "source": [
    "### (e)"
   ]
  },
  {
   "cell_type": "code",
   "execution_count": 26,
   "metadata": {},
   "outputs": [
    {
     "name": "stdout",
     "output_type": "stream",
     "text": [
      "[36.15745878108705, 48.78492700568206, 63.6886654478991, 65.86353387981332, 65.13784777090278]\n"
     ]
    },
    {
     "data": {
      "text/plain": [
       "[<matplotlib.lines.Line2D at 0x1b58ccbbbe0>]"
      ]
     },
     "execution_count": 26,
     "metadata": {},
     "output_type": "execute_result"
    },
    {
     "data": {
      "image/png": "[encoded data removed]",
      "text/plain": [
       "<Figure size 432x288 with 1 Axes>"
      ]
     },
     "metadata": {
      "needs_background": "light"
     },
     "output_type": "display_data"
    }
   ],
   "source": [
    "variance=[]\n",
    "y_pred=[]\n",
    "for i in range(5):\n",
    "    model1 = poly(i+1)\n",
    "    temp = model1.predict(X_test)\n",
    "    variance.append(np.var(temp))\n",
    "print(variance)\n",
    "plt.plot(variance)"
   ]
  },
  {
   "cell_type": "code",
   "execution_count": null,
   "metadata": {},
   "outputs": [],
   "source": []
  }
 ],
 "metadata": {
  "kernelspec": {
   "display_name": "Python 3",
   "language": "python",
   "name": "python3"
  },
  "language_info": {
   "codemirror_mode": {
    "name": "ipython",
    "version": 3
   },
   "file_extension": ".py",
   "mimetype": "text/x-python",
   "name": "python",
   "nbconvert_exporter": "python",
   "pygments_lexer": "ipython3",
   "version": "3.7.0"
  }
 },
 "nbformat": 4,
 "nbformat_minor": 2
}
