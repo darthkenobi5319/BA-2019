{
 "cells": [
  {
   "cell_type": "code",
   "execution_count": 1,
   "metadata": {},
   "outputs": [],
   "source": [
    "# Quadratic Programming Formulation:\n",
    "#\n",
    "#       min 1/2*x'*P*x+q'*x\n",
    "# s.t. G*x <= h\n",
    "#      A*x == b\n",
    "#     \n",
    "# \n"
   ]
  },
  {
   "cell_type": "code",
   "execution_count": 2,
   "metadata": {
    "scrolled": true
   },
   "outputs": [
    {
     "name": "stdout",
     "output_type": "stream",
     "text": [
      "Help on function qp in module cvxopt.coneprog:\n",
      "\n",
      "qp(P, q, G=None, h=None, A=None, b=None, solver=None, kktsolver=None, initvals=None, **kwargs)\n",
      "    Solves a quadratic program\n",
      "    \n",
      "        minimize    (1/2)*x'*P*x + q'*x\n",
      "        subject to  G*x <= h\n",
      "                    A*x = b.\n",
      "    \n",
      "    \n",
      "    Input arguments.\n",
      "    \n",
      "        P is a n x n dense or sparse 'd' matrix with the lower triangular\n",
      "        part of P stored in the lower triangle.  Must be positive\n",
      "        semidefinite.\n",
      "    \n",
      "        q is an n x 1 dense 'd' matrix.\n",
      "    \n",
      "        G is an m x n dense or sparse 'd' matrix.\n",
      "    \n",
      "        h is an m x 1 dense 'd' matrix.\n",
      "    \n",
      "        A is a p x n dense or sparse 'd' matrix.\n",
      "    \n",
      "        b is a p x 1 dense 'd' matrix or None.\n",
      "    \n",
      "        solver is None or 'mosek'.\n",
      "    \n",
      "        The default values for G, h, A and b are empty matrices with\n",
      "        zero rows.\n",
      "    \n",
      "    \n",
      "    Output arguments (default solver).\n",
      "    \n",
      "        Returns a dictionary with keys 'status', 'x', 's', 'y', 'z',\n",
      "        'primal objective', 'dual objective', 'gap', 'relative gap',\n",
      "        'primal infeasibility, 'dual infeasibility', 'primal slack',\n",
      "        'dual slack'.\n",
      "    \n",
      "        The 'status' field has values 'optimal' or 'unknown'.\n",
      "        If the status is 'optimal', 'x', 's', 'y', 'z' are an approximate\n",
      "        solution of the primal and dual optimal solutions\n",
      "    \n",
      "            G*x + s = h,  A*x = b\n",
      "            P*x + G'*z + A'*y + q = 0\n",
      "            s >= 0, z >= 0\n",
      "            s'*z = o.\n",
      "    \n",
      "        If the status is 'unknown', 'x', 's', 'y', 'z' are the last\n",
      "        iterates before termination.  These satisfy s > 0 and z > 0, but\n",
      "        are not necessarily feasible.\n",
      "    \n",
      "        The values of the other fields are defined as follows.\n",
      "    \n",
      "        - 'primal objective': the primal objective (1/2)*x'*P*x + q'*x.\n",
      "    \n",
      "        - 'dual objective': the dual objective\n",
      "    \n",
      "              L(x,y,z) = (1/2)*x'*P*x + q'*x + z'*(G*x - h) + y'*(A*x-b).\n",
      "    \n",
      "        - 'gap': the duality gap s'*z.\n",
      "    \n",
      "        - 'relative gap': the relative gap, defined as\n",
      "    \n",
      "              gap / -primal objective\n",
      "    \n",
      "          if the primal objective is negative,\n",
      "    \n",
      "              gap / dual objective\n",
      "    \n",
      "          if the dual objective is positive, and None otherwise.\n",
      "    \n",
      "        - 'primal infeasibility': the residual in the primal constraints,\n",
      "          defined as the maximum of the residual in the inequalities\n",
      "    \n",
      "              || G*x + s + h || / max(1, ||h||)\n",
      "    \n",
      "          and the residual in the equalities\n",
      "    \n",
      "              || A*x - b || / max(1, ||b||).\n",
      "    \n",
      "    \n",
      "        - 'dual infeasibility': the residual in the dual constraints,\n",
      "          defined as\n",
      "    \n",
      "              || P*x + G'*z + A'*y + q || / max(1, ||q||).\n",
      "    \n",
      "        - 'primal slack': the smallest primal slack, min_k s_k.\n",
      "        - 'dual slack': the smallest dual slack, min_k z_k.\n",
      "    \n",
      "        If the exit status is 'optimal', then the primal and dual\n",
      "        infeasibilities are guaranteed to be less than\n",
      "        solvers.options['feastol'] (default 1e-7).  The gap is less than\n",
      "        solvers.options['abstol'] (default 1e-7) or the relative gap is\n",
      "        less than solvers.options['reltol'] (default 1e-6).\n",
      "    \n",
      "        Termination with status 'unknown' indicates that the algorithm\n",
      "        failed to find a solution that satisfies the specified tolerances.\n",
      "        In some cases, the returned solution may be fairly accurate.  If\n",
      "        the primal and dual infeasibilities, the gap, and the relative gap\n",
      "        are small, then x, y, s, z are close to optimal.\n",
      "    \n",
      "    \n",
      "    Output arguments (MOSEK solver).\n",
      "    \n",
      "        The return dictionary has two additional fields\n",
      "        'residual as primal infeasibility certificate' and\n",
      "        'residual as dual infeasibility certificate', and 'status' field\n",
      "        can also have the values 'primal infeasible' or 'dual infeasible'.\n",
      "    \n",
      "        If the exit status is 'optimal', the different fields have the\n",
      "        same meaning as for the default solver, but the the magnitude of\n",
      "        the residuals and duality gap is controlled by the MOSEK exit\n",
      "        criteria.  The 'residual as primal infeasibility certificate' and\n",
      "        'residual as dual infeasibility certificate' are None.\n",
      "    \n",
      "        Status 'primal infeasible'.\n",
      "        - 'x', 's': None.\n",
      "        - 'y', 'z' are an approximate certificate of infeasibility\n",
      "    \n",
      "              G'*z + A'*y = 0,  h'*z + b'*y = -1,  z >= 0.\n",
      "    \n",
      "        - 'primal objective': None.\n",
      "        - 'dual objective': 1.0.\n",
      "        - 'gap', 'relative gap': None.\n",
      "        - 'primal infeasibility' and 'dual infeasibility': None.\n",
      "        - 'primal slack': None.\n",
      "        - 'dual slack': the smallest dual slack min z_k.\n",
      "        - 'residual as primal infeasibility certificate': the residual in\n",
      "          the condition of the infeasibility certificate, defined as\n",
      "    \n",
      "              || G'*z + A'*y || / max(1, ||c||).\n",
      "    \n",
      "        - 'residual as dual infeasibility certificate': None.\n",
      "    \n",
      "        Status 'dual infeasible'.\n",
      "        - 'x', 's' are an approximate proof of dual infeasibility\n",
      "    \n",
      "              P*x = 0,  q'*x = -1,  G*x + s = 0,  A*x = 0,  s >= 0.\n",
      "    \n",
      "        - 'y', 'z': None.\n",
      "        - 'primal objective': -1.0.\n",
      "        - 'dual objective': None.\n",
      "        - 'gap', 'relative gap': None.\n",
      "        - 'primal infeasibility' and 'dual infeasibility': None.\n",
      "        - 'primal slack': the smallest primal slack min_k s_k .\n",
      "        - 'dual slack': None.\n",
      "        - 'residual as primal infeasibility certificate': None.\n",
      "        - 'residual as dual infeasibility certificate: the residual in\n",
      "          the conditions of the infeasibility certificate, defined as\n",
      "          the maximum of\n",
      "    \n",
      "              || P*x || / max(1, ||q||),\n",
      "              || G*x + s || / max(1, ||h||),\n",
      "              || A*x || / max(1, ||b||).\n",
      "    \n",
      "    \n",
      "        If status is 'unknown', all the other fields are None.\n",
      "    \n",
      "    \n",
      "    Control parameters.\n",
      "    \n",
      "        The control parameters for the different solvers can be modified\n",
      "        by adding an entry to the dictionary cvxopt.solvers.options.  The\n",
      "        following parameters control the execution of the default solver.\n",
      "    \n",
      "            options['show_progress'] True/False (default: True)\n",
      "            options['maxiters'] positive integer (default: 100)\n",
      "            options['refinement']  positive integer (default: 0)\n",
      "            options['abstol'] scalar (default: 1e-7)\n",
      "            options['reltol'] scalar (default: 1e-6)\n",
      "            options['feastol'] scalar (default: 1e-7).\n",
      "    \n",
      "        The MOSEK parameters can me modified by adding an entry\n",
      "        options['mosek'], containing a dictionary with MOSEK\n",
      "        parameter/value pairs, as described in the MOSEK documentation.\n",
      "    \n",
      "        Options that are not recognized are replaced by their default\n",
      "        values.\n",
      "\n",
      "None\n"
     ]
    }
   ],
   "source": [
    "from cvxopt import matrix, solvers\n",
    "import numpy as np\n",
    "import pandas as pd\n",
    "import scipy.optimize as opt\n",
    "import matplotlib.pyplot as plt\n",
    "%matplotlib inline\n",
    "\n",
    "print (help(solvers.qp)) ##Help document of quadratic programming solver\n"
   ]
  },
  {
   "cell_type": "code",
   "execution_count": 3,
   "metadata": {},
   "outputs": [],
   "source": [
    "##Objective function: minimize 3*p^2-190*p\n",
    "\n",
    "##Constraints:\n",
    "##p<=50\n",
    "##-p<=-20\n",
    "\n",
    "P_pricing = matrix([[3*2]],tc='d') ##The quadratic term\n",
    "q_pricing = matrix([[-190]],tc='d') ##The linear term\n",
    "G_pricing = matrix([[1,-1]],tc='d') ##G matrix\n",
    "h_pricing = matrix([[50,-20]],tc='d') ##h vector\n",
    "A_pricing = matrix(1.,(0,1)) ##A matrix\n",
    "b_pricing = matrix(1.,(0,1)) ##b vector\n",
    "\n",
    "\n",
    "\n"
   ]
  },
  {
   "cell_type": "code",
   "execution_count": 4,
   "metadata": {},
   "outputs": [
    {
     "name": "stdout",
     "output_type": "stream",
     "text": [
      "[ 6.00e+00]\n",
      "\n",
      "[-1.90e+02]\n",
      "\n",
      "[ 1.00e+00]\n",
      "[-1.00e+00]\n",
      "\n",
      "[ 5.00e+01]\n",
      "[-2.00e+01]\n",
      "\n"
     ]
    }
   ],
   "source": [
    "print(P_pricing)\n",
    "print(q_pricing)\n",
    "print(G_pricing)\n",
    "print(h_pricing)"
   ]
  },
  {
   "cell_type": "code",
   "execution_count": 5,
   "metadata": {
    "scrolled": true
   },
   "outputs": [
    {
     "name": "stdout",
     "output_type": "stream",
     "text": [
      "     pcost       dcost       gap    pres   dres\n",
      " 0: -3.0063e+03 -3.0988e+03  9e+01  0e+00  4e-16\n",
      " 1: -3.0083e+03 -3.0098e+03  2e+00  1e-16  1e-16\n",
      " 2: -3.0083e+03 -3.0083e+03  2e-02  1e-16  3e-17\n",
      " 3: -3.0083e+03 -3.0083e+03  2e-04  7e-17  7e-17\n",
      "Optimal solution found.\n"
     ]
    }
   ],
   "source": [
    "pricing = solvers.qp(P_pricing, q_pricing, G_pricing, h_pricing, A_pricing,b_pricing)"
   ]
  },
  {
   "cell_type": "code",
   "execution_count": 6,
   "metadata": {},
   "outputs": [
    {
     "name": "stdout",
     "output_type": "stream",
     "text": [
      "[ 3.17e+01]\n",
      "\n"
     ]
    }
   ],
   "source": [
    "print(pricing['x'])"
   ]
  },
  {
   "cell_type": "code",
   "execution_count": 7,
   "metadata": {},
   "outputs": [],
   "source": [
    "### Markowitz Portfolio Optimization Problem\n",
    "###Import the data\n",
    "\n",
    "\n",
    "portfolio = pd.read_csv(\"Portfolio.csv\")\n",
    "\n",
    "portfolio_data = np.array(portfolio)\n",
    "\n",
    "\n"
   ]
  },
  {
   "cell_type": "code",
   "execution_count": 8,
   "metadata": {},
   "outputs": [
    {
     "data": {
      "text/html": [
       "<div>\n",
       "<style scoped>\n",
       "    .dataframe tbody tr th:only-of-type {\n",
       "        vertical-align: middle;\n",
       "    }\n",
       "\n",
       "    .dataframe tbody tr th {\n",
       "        vertical-align: top;\n",
       "    }\n",
       "\n",
       "    .dataframe thead th {\n",
       "        text-align: right;\n",
       "    }\n",
       "</style>\n",
       "<table border=\"1\" class=\"dataframe\">\n",
       "  <thead>\n",
       "    <tr style=\"text-align: right;\">\n",
       "      <th></th>\n",
       "      <th>AAPL</th>\n",
       "      <th>AMZN</th>\n",
       "      <th>DIS</th>\n",
       "      <th>WFM</th>\n",
       "      <th>WMT</th>\n",
       "    </tr>\n",
       "  </thead>\n",
       "  <tbody>\n",
       "    <tr>\n",
       "      <th>0</th>\n",
       "      <td>0.010116</td>\n",
       "      <td>-0.002786</td>\n",
       "      <td>-0.002492</td>\n",
       "      <td>0.015754</td>\n",
       "      <td>0.017394</td>\n",
       "    </tr>\n",
       "    <tr>\n",
       "      <th>1</th>\n",
       "      <td>0.013853</td>\n",
       "      <td>-0.001294</td>\n",
       "      <td>0.011291</td>\n",
       "      <td>-0.010133</td>\n",
       "      <td>0.012405</td>\n",
       "    </tr>\n",
       "    <tr>\n",
       "      <th>2</th>\n",
       "      <td>0.026565</td>\n",
       "      <td>0.005810</td>\n",
       "      <td>-0.004193</td>\n",
       "      <td>-0.009075</td>\n",
       "      <td>0.014259</td>\n",
       "    </tr>\n",
       "    <tr>\n",
       "      <th>3</th>\n",
       "      <td>0.023964</td>\n",
       "      <td>0.003714</td>\n",
       "      <td>0.005066</td>\n",
       "      <td>-0.000400</td>\n",
       "      <td>0.009182</td>\n",
       "    </tr>\n",
       "    <tr>\n",
       "      <th>4</th>\n",
       "      <td>0.010041</td>\n",
       "      <td>0.017356</td>\n",
       "      <td>0.016711</td>\n",
       "      <td>0.015587</td>\n",
       "      <td>-0.001892</td>\n",
       "    </tr>\n",
       "  </tbody>\n",
       "</table>\n",
       "</div>"
      ],
      "text/plain": [
       "       AAPL      AMZN       DIS       WFM       WMT\n",
       "0  0.010116 -0.002786 -0.002492  0.015754  0.017394\n",
       "1  0.013853 -0.001294  0.011291 -0.010133  0.012405\n",
       "2  0.026565  0.005810 -0.004193 -0.009075  0.014259\n",
       "3  0.023964  0.003714  0.005066 -0.000400  0.009182\n",
       "4  0.010041  0.017356  0.016711  0.015587 -0.001892"
      ]
     },
     "execution_count": 8,
     "metadata": {},
     "output_type": "execute_result"
    }
   ],
   "source": [
    "##Head of this data frame\n",
    "\n",
    "portfolio.head()"
   ]
  },
  {
   "cell_type": "code",
   "execution_count": 9,
   "metadata": {},
   "outputs": [
    {
     "data": {
      "text/plain": [
       "array([[1.        , 0.16014092],\n",
       "       [0.16014092, 1.        ]])"
      ]
     },
     "execution_count": 9,
     "metadata": {},
     "output_type": "execute_result"
    }
   ],
   "source": [
    "##Correlation between the monthly return of APPL and AMZN\n",
    "\n",
    "np.corrcoef(portfolio_data[:,0], portfolio_data[:,1])"
   ]
  },
  {
   "cell_type": "code",
   "execution_count": 10,
   "metadata": {},
   "outputs": [
    {
     "data": {
      "text/html": [
       "<div>\n",
       "<style scoped>\n",
       "    .dataframe tbody tr th:only-of-type {\n",
       "        vertical-align: middle;\n",
       "    }\n",
       "\n",
       "    .dataframe tbody tr th {\n",
       "        vertical-align: top;\n",
       "    }\n",
       "\n",
       "    .dataframe thead th {\n",
       "        text-align: right;\n",
       "    }\n",
       "</style>\n",
       "<table border=\"1\" class=\"dataframe\">\n",
       "  <thead>\n",
       "    <tr style=\"text-align: right;\">\n",
       "      <th></th>\n",
       "      <th>AAPL</th>\n",
       "      <th>AMZN</th>\n",
       "      <th>DIS</th>\n",
       "      <th>WFM</th>\n",
       "      <th>WMT</th>\n",
       "    </tr>\n",
       "  </thead>\n",
       "  <tbody>\n",
       "    <tr>\n",
       "      <th>AAPL</th>\n",
       "      <td>1.000000</td>\n",
       "      <td>0.160141</td>\n",
       "      <td>0.163068</td>\n",
       "      <td>-0.259636</td>\n",
       "      <td>0.398971</td>\n",
       "    </tr>\n",
       "    <tr>\n",
       "      <th>AMZN</th>\n",
       "      <td>0.160141</td>\n",
       "      <td>1.000000</td>\n",
       "      <td>0.029251</td>\n",
       "      <td>0.272152</td>\n",
       "      <td>-0.192858</td>\n",
       "    </tr>\n",
       "    <tr>\n",
       "      <th>DIS</th>\n",
       "      <td>0.163068</td>\n",
       "      <td>0.029251</td>\n",
       "      <td>1.000000</td>\n",
       "      <td>0.173332</td>\n",
       "      <td>0.123564</td>\n",
       "    </tr>\n",
       "    <tr>\n",
       "      <th>WFM</th>\n",
       "      <td>-0.259636</td>\n",
       "      <td>0.272152</td>\n",
       "      <td>0.173332</td>\n",
       "      <td>1.000000</td>\n",
       "      <td>0.125003</td>\n",
       "    </tr>\n",
       "    <tr>\n",
       "      <th>WMT</th>\n",
       "      <td>0.398971</td>\n",
       "      <td>-0.192858</td>\n",
       "      <td>0.123564</td>\n",
       "      <td>0.125003</td>\n",
       "      <td>1.000000</td>\n",
       "    </tr>\n",
       "  </tbody>\n",
       "</table>\n",
       "</div>"
      ],
      "text/plain": [
       "          AAPL      AMZN       DIS       WFM       WMT\n",
       "AAPL  1.000000  0.160141  0.163068 -0.259636  0.398971\n",
       "AMZN  0.160141  1.000000  0.029251  0.272152 -0.192858\n",
       "DIS   0.163068  0.029251  1.000000  0.173332  0.123564\n",
       "WFM  -0.259636  0.272152  0.173332  1.000000  0.125003\n",
       "WMT   0.398971 -0.192858  0.123564  0.125003  1.000000"
      ]
     },
     "execution_count": 10,
     "metadata": {},
     "output_type": "execute_result"
    }
   ],
   "source": [
    "##Correlation Matrix of different stocks\n",
    "portfolio.corr()"
   ]
  },
  {
   "cell_type": "code",
   "execution_count": 11,
   "metadata": {},
   "outputs": [
    {
     "name": "stdout",
     "output_type": "stream",
     "text": [
      "[[ 1.          0.16014092  0.16306802 -0.25963625  0.39897098  0.        ]\n",
      " [ 0.16014092  1.          0.02925135  0.27215205 -0.19285793  0.        ]\n",
      " [ 0.16306802  0.02925135  1.          0.17333236  0.12356358  0.        ]\n",
      " [-0.25963625  0.27215205  0.17333236  1.          0.12500304  0.        ]\n",
      " [ 0.39897098 -0.19285793  0.12356358  0.12500304  1.          0.        ]\n",
      " [ 0.          0.          0.          0.          0.          1.        ]]\n"
     ]
    }
   ],
   "source": [
    "## Construct the correlation matrix\n",
    "\n",
    "Rho = np.array(portfolio.corr())\n",
    "\n",
    "## The last asset is the riskless bond, whose return has zero correlation with all other five stocks\n",
    "\n",
    "z = np.zeros((1,5))\n",
    "\n",
    "Rho = np.concatenate((Rho, z), axis=0)\n",
    "\n",
    "z = np.zeros((6,1))\n",
    "\n",
    "Rho = np.concatenate((Rho, z), axis=1)\n",
    "\n",
    "Rho[5,5] = 1\n",
    "\n",
    "print(Rho)\n"
   ]
  },
  {
   "cell_type": "code",
   "execution_count": 12,
   "metadata": {},
   "outputs": [
    {
     "data": {
      "text/html": [
       "<div>\n",
       "<style scoped>\n",
       "    .dataframe tbody tr th:only-of-type {\n",
       "        vertical-align: middle;\n",
       "    }\n",
       "\n",
       "    .dataframe tbody tr th {\n",
       "        vertical-align: top;\n",
       "    }\n",
       "\n",
       "    .dataframe thead th {\n",
       "        text-align: right;\n",
       "    }\n",
       "</style>\n",
       "<table border=\"1\" class=\"dataframe\">\n",
       "  <thead>\n",
       "    <tr style=\"text-align: right;\">\n",
       "      <th></th>\n",
       "      <th>AAPL</th>\n",
       "      <th>AMZN</th>\n",
       "      <th>DIS</th>\n",
       "      <th>WFM</th>\n",
       "      <th>WMT</th>\n",
       "    </tr>\n",
       "  </thead>\n",
       "  <tbody>\n",
       "    <tr>\n",
       "      <th>AAPL</th>\n",
       "      <td>0.000130</td>\n",
       "      <td>0.000016</td>\n",
       "      <td>0.000017</td>\n",
       "      <td>-0.000025</td>\n",
       "      <td>0.000029</td>\n",
       "    </tr>\n",
       "    <tr>\n",
       "      <th>AMZN</th>\n",
       "      <td>0.000016</td>\n",
       "      <td>0.000073</td>\n",
       "      <td>0.000002</td>\n",
       "      <td>0.000019</td>\n",
       "      <td>-0.000011</td>\n",
       "    </tr>\n",
       "    <tr>\n",
       "      <th>DIS</th>\n",
       "      <td>0.000017</td>\n",
       "      <td>0.000002</td>\n",
       "      <td>0.000084</td>\n",
       "      <td>0.000013</td>\n",
       "      <td>0.000007</td>\n",
       "    </tr>\n",
       "    <tr>\n",
       "      <th>WFM</th>\n",
       "      <td>-0.000025</td>\n",
       "      <td>0.000019</td>\n",
       "      <td>0.000013</td>\n",
       "      <td>0.000069</td>\n",
       "      <td>0.000007</td>\n",
       "    </tr>\n",
       "    <tr>\n",
       "      <th>WMT</th>\n",
       "      <td>0.000029</td>\n",
       "      <td>-0.000011</td>\n",
       "      <td>0.000007</td>\n",
       "      <td>0.000007</td>\n",
       "      <td>0.000041</td>\n",
       "    </tr>\n",
       "  </tbody>\n",
       "</table>\n",
       "</div>"
      ],
      "text/plain": [
       "          AAPL      AMZN       DIS       WFM       WMT\n",
       "AAPL  0.000130  0.000016  0.000017 -0.000025  0.000029\n",
       "AMZN  0.000016  0.000073  0.000002  0.000019 -0.000011\n",
       "DIS   0.000017  0.000002  0.000084  0.000013  0.000007\n",
       "WFM  -0.000025  0.000019  0.000013  0.000069  0.000007\n",
       "WMT   0.000029 -0.000011  0.000007  0.000007  0.000041"
      ]
     },
     "execution_count": 12,
     "metadata": {},
     "output_type": "execute_result"
    }
   ],
   "source": [
    "#Covariance matrix of different assets\n",
    "portfolio.cov()"
   ]
  },
  {
   "cell_type": "code",
   "execution_count": 13,
   "metadata": {},
   "outputs": [
    {
     "name": "stdout",
     "output_type": "stream",
     "text": [
      "[[ 1.55520821e-03  1.86673885e-04  2.04067585e-04 -2.95538641e-04\n",
      "   3.49881153e-04  0.00000000e+00]\n",
      " [ 1.86673885e-04  8.73723380e-04  2.74374604e-05  2.32195212e-04\n",
      "  -1.26767944e-04  0.00000000e+00]\n",
      " [ 2.04067585e-04  2.74374604e-05  1.00698244e-03  1.58761530e-04\n",
      "   8.71939580e-05  0.00000000e+00]\n",
      " [-2.95538641e-04  2.32195212e-04  1.58761530e-04  8.33123432e-04\n",
      "   8.02343275e-05  0.00000000e+00]\n",
      " [ 3.49881153e-04 -1.26767944e-04  8.71939580e-05  8.02343275e-05\n",
      "   4.94504155e-04  0.00000000e+00]\n",
      " [ 0.00000000e+00  0.00000000e+00  0.00000000e+00  0.00000000e+00\n",
      "   0.00000000e+00  0.00000000e+00]]\n"
     ]
    }
   ],
   "source": [
    "#Construct the covariance matrix of 6 assets\n",
    "\n",
    "\n",
    "Cov = np.array(portfolio.cov())\n",
    "\n",
    "z = np.zeros((1,5))\n",
    "\n",
    "Cov = np.concatenate((Cov, z), axis=0)\n",
    "\n",
    "z = np.zeros((6,1))\n",
    "\n",
    "\n",
    "Cov = np.concatenate((Cov, z), axis=1)\n",
    "\n",
    "Cov = Cov*12  ##Transform monthly return covariance into yearly return covariance\n",
    "\n",
    "print(Cov)"
   ]
  },
  {
   "cell_type": "code",
   "execution_count": 14,
   "metadata": {},
   "outputs": [
    {
     "name": "stdout",
     "output_type": "stream",
     "text": [
      "[[0.1135403 ]\n",
      " [0.10281814]\n",
      " [0.09179408]\n",
      " [0.08532523]\n",
      " [0.07845393]\n",
      " [0.05      ]]\n"
     ]
    }
   ],
   "source": [
    "##Estimate the mean annual return\n",
    "Mean = np.array(portfolio.mean())\n",
    "Mean = np.reshape(Mean,(-1,1))\n",
    "z = np.zeros((1,1))\n",
    "Mean = np.concatenate((Mean,z),axis=0)*12\n",
    "Mean[5,0] = 0.05 \n",
    "print(Mean)"
   ]
  },
  {
   "cell_type": "code",
   "execution_count": 15,
   "metadata": {},
   "outputs": [],
   "source": [
    "## Value of Lambda\n",
    "## We multiply the value of lambda by 2 \n",
    "\n",
    "lambdada = 2 * 100"
   ]
  },
  {
   "cell_type": "code",
   "execution_count": 16,
   "metadata": {},
   "outputs": [
    {
     "name": "stdout",
     "output_type": "stream",
     "text": [
      "[ 3.11e-01  3.73e-02  4.08e-02 -5.91e-02  7.00e-02  0.00e+00]\n",
      "[ 3.73e-02  1.75e-01  5.49e-03  4.64e-02 -2.54e-02  0.00e+00]\n",
      "[ 4.08e-02  5.49e-03  2.01e-01  3.18e-02  1.74e-02  0.00e+00]\n",
      "[-5.91e-02  4.64e-02  3.18e-02  1.67e-01  1.60e-02  0.00e+00]\n",
      "[ 7.00e-02 -2.54e-02  1.74e-02  1.60e-02  9.89e-02  0.00e+00]\n",
      "[ 0.00e+00  0.00e+00  0.00e+00  0.00e+00  0.00e+00  0.00e+00]\n",
      "\n"
     ]
    }
   ],
   "source": [
    "P_portfolio = lambdada * matrix(Cov) #Quadratic term in the objective function\n",
    "print(P_portfolio)"
   ]
  },
  {
   "cell_type": "code",
   "execution_count": 17,
   "metadata": {},
   "outputs": [],
   "source": [
    "#Linear term in the objective function\n",
    "q_portfolio = matrix(Mean)"
   ]
  },
  {
   "cell_type": "code",
   "execution_count": 18,
   "metadata": {},
   "outputs": [
    {
     "name": "stdout",
     "output_type": "stream",
     "text": [
      "[ 1.14e-01]\n",
      "[ 1.03e-01]\n",
      "[ 9.18e-02]\n",
      "[ 8.53e-02]\n",
      "[ 7.85e-02]\n",
      "[ 5.00e-02]\n",
      "\n",
      "[-1.00e+00  0.00e+00  0.00e+00  0.00e+00  0.00e+00  0.00e+00]\n",
      "[ 0.00e+00 -1.00e+00  0.00e+00  0.00e+00  0.00e+00  0.00e+00]\n",
      "[ 0.00e+00  0.00e+00 -1.00e+00  0.00e+00  0.00e+00  0.00e+00]\n",
      "[ 0.00e+00  0.00e+00  0.00e+00 -1.00e+00  0.00e+00  0.00e+00]\n",
      "[ 0.00e+00  0.00e+00  0.00e+00  0.00e+00 -1.00e+00  0.00e+00]\n",
      "[ 0.00e+00  0.00e+00  0.00e+00  0.00e+00  0.00e+00 -1.00e+00]\n",
      "\n",
      "[ 0.00e+00]\n",
      "[ 0.00e+00]\n",
      "[ 0.00e+00]\n",
      "[ 0.00e+00]\n",
      "[ 0.00e+00]\n",
      "[ 0.00e+00]\n",
      "\n",
      "[ 1.00e+00  1.00e+00  1.00e+00  1.00e+00  1.00e+00  1.00e+00]\n",
      "\n",
      "[ 1.00e+00]\n",
      "\n"
     ]
    }
   ],
   "source": [
    "##Inequality constraints\n",
    "G_portfolio = matrix([[-1,0,0,0,0,0],[0,-1,0,0,0,0],[0,0,-1,0,0,0],[0,0,0,-1,0,0],[0,0,0,0,-1,0],[0,0,0,0,0,-1]],tc='d')\n",
    "h_portfolio = matrix([0.0,0.0,0.0,0.0,0.0,0.0])\n",
    "\n",
    "#Equality constraints\n",
    "A_portfolio = matrix([1.0,1.0,1.0,1.0,1.0,1.0], (1,6))\n",
    "b_portfolio = matrix(1.0)\n",
    "\n",
    "print(q_portfolio)\n",
    "print(G_portfolio)\n",
    "print(h_portfolio)\n",
    "print(A_portfolio)\n",
    "print(b_portfolio)"
   ]
  },
  {
   "cell_type": "code",
   "execution_count": 19,
   "metadata": {},
   "outputs": [
    {
     "name": "stdout",
     "output_type": "stream",
     "text": [
      "     pcost       dcost       gap    pres   dres\n",
      " 0: -6.8920e-02 -1.0794e+00  1e+00  1e-16  3e+00\n",
      " 1: -6.8973e-02 -8.8831e-02  2e-02  8e-17  6e-02\n",
      " 2: -6.9443e-02 -7.0858e-02  1e-03  8e-17  3e-03\n",
      " 3: -6.9500e-02 -6.9545e-02  4e-05  2e-16  3e-05\n",
      " 4: -6.9500e-02 -6.9500e-02  5e-07  8e-17  3e-07\n",
      " 5: -6.9500e-02 -6.9500e-02  5e-09  7e-17  3e-09\n",
      "Optimal solution found.\n",
      "[ 1.34e-01]\n",
      "[ 2.63e-01]\n",
      "[ 1.33e-01]\n",
      "[ 1.40e-01]\n",
      "[ 2.15e-01]\n",
      "[ 1.16e-01]\n",
      "\n"
     ]
    }
   ],
   "source": [
    "MV = solvers.qp(P_portfolio, -q_portfolio, G_portfolio, h_portfolio, A_portfolio, b_portfolio) # Minimize the variance-mean of return\n",
    "print(MV['x']) ##The optimal solution of the quadratic programming"
   ]
  },
  {
   "cell_type": "code",
   "execution_count": 20,
   "metadata": {},
   "outputs": [
    {
     "name": "stdout",
     "output_type": "stream",
     "text": [
      "[[0.08899996]]\n",
      "[[0.01396423]]\n"
     ]
    }
   ],
   "source": [
    "## Calculate the mean return and the standard deviation of return for the resulting portfolio\n",
    "\n",
    "x_star = np.array(MV['x'])\n",
    "MeanReturn = np.matmul(Mean.transpose(),x_star)\n",
    "\n",
    "SDReturn = np.sqrt(np.matmul(np.matmul(x_star.transpose(),Cov),x_star))\n",
    "\n",
    "print(MeanReturn)\n",
    "print(SDReturn)\n"
   ]
  },
  {
   "cell_type": "code",
   "execution_count": 21,
   "metadata": {},
   "outputs": [],
   "source": [
    "##Load the wine data\n",
    "wine = pd.read_csv(\"wine.csv\")\n",
    "nrow = wine.shape[0]##Number of rows"
   ]
  },
  {
   "cell_type": "code",
   "execution_count": 22,
   "metadata": {},
   "outputs": [
    {
     "data": {
      "text/html": [
       "<div>\n",
       "<style scoped>\n",
       "    .dataframe tbody tr th:only-of-type {\n",
       "        vertical-align: middle;\n",
       "    }\n",
       "\n",
       "    .dataframe tbody tr th {\n",
       "        vertical-align: top;\n",
       "    }\n",
       "\n",
       "    .dataframe thead th {\n",
       "        text-align: right;\n",
       "    }\n",
       "</style>\n",
       "<table border=\"1\" class=\"dataframe\">\n",
       "  <thead>\n",
       "    <tr style=\"text-align: right;\">\n",
       "      <th></th>\n",
       "      <th>Year</th>\n",
       "      <th>Price</th>\n",
       "      <th>WinterRain</th>\n",
       "      <th>AGST</th>\n",
       "      <th>HarvestRain</th>\n",
       "      <th>Age</th>\n",
       "      <th>FrancePop</th>\n",
       "    </tr>\n",
       "  </thead>\n",
       "  <tbody>\n",
       "    <tr>\n",
       "      <th>0</th>\n",
       "      <td>1952</td>\n",
       "      <td>7.4950</td>\n",
       "      <td>600</td>\n",
       "      <td>17.1167</td>\n",
       "      <td>160</td>\n",
       "      <td>31</td>\n",
       "      <td>43183.569</td>\n",
       "    </tr>\n",
       "    <tr>\n",
       "      <th>1</th>\n",
       "      <td>1953</td>\n",
       "      <td>8.0393</td>\n",
       "      <td>690</td>\n",
       "      <td>16.7333</td>\n",
       "      <td>80</td>\n",
       "      <td>30</td>\n",
       "      <td>43495.030</td>\n",
       "    </tr>\n",
       "    <tr>\n",
       "      <th>2</th>\n",
       "      <td>1955</td>\n",
       "      <td>7.6858</td>\n",
       "      <td>502</td>\n",
       "      <td>17.1500</td>\n",
       "      <td>130</td>\n",
       "      <td>28</td>\n",
       "      <td>44217.857</td>\n",
       "    </tr>\n",
       "    <tr>\n",
       "      <th>3</th>\n",
       "      <td>1957</td>\n",
       "      <td>6.9845</td>\n",
       "      <td>420</td>\n",
       "      <td>16.1333</td>\n",
       "      <td>110</td>\n",
       "      <td>26</td>\n",
       "      <td>45152.252</td>\n",
       "    </tr>\n",
       "    <tr>\n",
       "      <th>4</th>\n",
       "      <td>1958</td>\n",
       "      <td>6.7772</td>\n",
       "      <td>582</td>\n",
       "      <td>16.4167</td>\n",
       "      <td>187</td>\n",
       "      <td>25</td>\n",
       "      <td>45653.805</td>\n",
       "    </tr>\n",
       "  </tbody>\n",
       "</table>\n",
       "</div>"
      ],
      "text/plain": [
       "   Year   Price  WinterRain     AGST  HarvestRain  Age  FrancePop\n",
       "0  1952  7.4950         600  17.1167          160   31  43183.569\n",
       "1  1953  8.0393         690  16.7333           80   30  43495.030\n",
       "2  1955  7.6858         502  17.1500          130   28  44217.857\n",
       "3  1957  6.9845         420  16.1333          110   26  45152.252\n",
       "4  1958  6.7772         582  16.4167          187   25  45653.805"
      ]
     },
     "execution_count": 22,
     "metadata": {},
     "output_type": "execute_result"
    }
   ],
   "source": [
    "wine.head()"
   ]
  },
  {
   "cell_type": "code",
   "execution_count": 23,
   "metadata": {},
   "outputs": [
    {
     "name": "stdout",
     "output_type": "stream",
     "text": [
      "[[7.4950000e+00 1.0000000e+00 6.0000000e+02 1.7116700e+01 1.6000000e+02\n",
      "  3.1000000e+01 4.3183569e+04]\n",
      " [8.0393000e+00 1.0000000e+00 6.9000000e+02 1.6733300e+01 8.0000000e+01\n",
      "  3.0000000e+01 4.3495030e+04]\n",
      " [7.6858000e+00 1.0000000e+00 5.0200000e+02 1.7150000e+01 1.3000000e+02\n",
      "  2.8000000e+01 4.4217857e+04]\n",
      " [6.9845000e+00 1.0000000e+00 4.2000000e+02 1.6133300e+01 1.1000000e+02\n",
      "  2.6000000e+01 4.5152252e+04]\n",
      " [6.7772000e+00 1.0000000e+00 5.8200000e+02 1.6416700e+01 1.8700000e+02\n",
      "  2.5000000e+01 4.5653805e+04]\n",
      " [8.0757000e+00 1.0000000e+00 4.8500000e+02 1.7483300e+01 1.8700000e+02\n",
      "  2.4000000e+01 4.6128638e+04]\n",
      " [6.5188000e+00 1.0000000e+00 7.6300000e+02 1.6416700e+01 2.9000000e+02\n",
      "  2.3000000e+01 4.6583995e+04]\n",
      " [8.4937000e+00 1.0000000e+00 8.3000000e+02 1.7333300e+01 3.8000000e+01\n",
      "  2.2000000e+01 4.7128005e+04]\n",
      " [7.3880000e+00 1.0000000e+00 6.9700000e+02 1.6300000e+01 5.2000000e+01\n",
      "  2.1000000e+01 4.8088673e+04]\n",
      " [6.7127000e+00 1.0000000e+00 6.0800000e+02 1.5716700e+01 1.5500000e+02\n",
      "  2.0000000e+01 4.8798990e+04]\n",
      " [7.3094000e+00 1.0000000e+00 4.0200000e+02 1.7266700e+01 9.6000000e+01\n",
      "  1.9000000e+01 4.9356943e+04]\n",
      " [6.2518000e+00 1.0000000e+00 6.0200000e+02 1.5366700e+01 2.6700000e+02\n",
      "  1.8000000e+01 4.9801821e+04]\n",
      " [7.7443000e+00 1.0000000e+00 8.1900000e+02 1.6533300e+01 8.6000000e+01\n",
      "  1.7000000e+01 5.0254966e+04]\n",
      " [6.8398000e+00 1.0000000e+00 7.1400000e+02 1.6233300e+01 1.1800000e+02\n",
      "  1.6000000e+01 5.0650406e+04]\n",
      " [6.2435000e+00 1.0000000e+00 6.1000000e+02 1.6200000e+01 2.9200000e+02\n",
      "  1.5000000e+01 5.1034413e+04]\n",
      " [6.3459000e+00 1.0000000e+00 5.7500000e+02 1.6550000e+01 2.4400000e+02\n",
      "  1.4000000e+01 5.1470276e+04]\n",
      " [7.5883000e+00 1.0000000e+00 6.2200000e+02 1.6666700e+01 8.9000000e+01\n",
      "  1.3000000e+01 5.1918389e+04]\n",
      " [7.1934000e+00 1.0000000e+00 5.5100000e+02 1.6766700e+01 1.1200000e+02\n",
      "  1.2000000e+01 5.2431647e+04]\n",
      " [6.2049000e+00 1.0000000e+00 5.3600000e+02 1.4983300e+01 1.5800000e+02\n",
      "  1.1000000e+01 5.2894183e+04]\n",
      " [6.6367000e+00 1.0000000e+00 3.7600000e+02 1.7066700e+01 1.2300000e+02\n",
      "  1.0000000e+01 5.3332805e+04]\n",
      " [6.2941000e+00 1.0000000e+00 5.7400000e+02 1.6300000e+01 1.8400000e+02\n",
      "  9.0000000e+00 5.3689610e+04]\n",
      " [7.2920000e+00 1.0000000e+00 5.7200000e+02 1.6950000e+01 1.7100000e+02\n",
      "  8.0000000e+00 5.3955042e+04]\n",
      " [7.1211000e+00 1.0000000e+00 4.1800000e+02 1.7650000e+01 2.4700000e+02\n",
      "  7.0000000e+00 5.4159049e+04]\n",
      " [6.2587000e+00 1.0000000e+00 8.2100000e+02 1.5583300e+01 8.7000000e+01\n",
      "  6.0000000e+00 5.4378362e+04]\n",
      " [7.1860000e+00 1.0000000e+00 7.6300000e+02 1.5816700e+01 5.1000000e+01\n",
      "  5.0000000e+00 5.4602193e+04]]\n"
     ]
    }
   ],
   "source": [
    "## Construct the data set \n",
    "## We do not use Year, since it is highly correlated with FrancePop\n",
    "\n",
    "X = np.ones((nrow,1))#A colume of 1s\n",
    "\n",
    "X0 = np.array(wine)\n",
    "Y = X0[:,1].reshape((nrow,1))\n",
    "X1 = X0[:,2:7]##Covariate matrix\n",
    "\n",
    "#Attaching everything together\n",
    "X = np.concatenate((X, X1), axis=1)\n",
    "XX = np.concatenate((Y,X),axis=1)\n",
    "\n",
    "print(XX)"
   ]
  },
  {
   "cell_type": "code",
   "execution_count": 24,
   "metadata": {},
   "outputs": [],
   "source": [
    "## Calculate the mean squared error loss function, given beta and the training data\n",
    "\n",
    "def Loss(beta,XX):\n",
    "    Y = XX[:,0]\n",
    "    X = XX[:,1:7]\n",
    "    return 1/nrow*np.sum(np.square(Y-np.matmul(X,beta)))\n"
   ]
  },
  {
   "cell_type": "code",
   "execution_count": 25,
   "metadata": {},
   "outputs": [],
   "source": [
    "## Calculate the Jacobian of the loss function\n",
    "\n",
    "def Loss_jac(beta,XX):\n",
    "    Y = XX[:,0]\n",
    "    X = XX[:,1:7]\n",
    "    return np.reshape(1/nrow*2*np.matmul(np.transpose(X),np.matmul(X,beta)-Y),(6,))"
   ]
  },
  {
   "cell_type": "code",
   "execution_count": 26,
   "metadata": {},
   "outputs": [
    {
     "name": "stdout",
     "output_type": "stream",
     "text": [
      "[0. 0. 0. 0. 0. 0.]\n"
     ]
    }
   ],
   "source": [
    "## Specify the initial search point\n",
    "\n",
    "beta0 = np.zeros(6)\n",
    "print(beta0)"
   ]
  },
  {
   "cell_type": "code",
   "execution_count": 27,
   "metadata": {},
   "outputs": [
    {
     "name": "stdout",
     "output_type": "stream",
     "text": [
      "[[7.4950000e+00 1.0000000e+00 6.0000000e+02 1.7116700e+01 1.6000000e+02\n",
      "  3.1000000e+01 4.3183569e+04]\n",
      " [8.0393000e+00 1.0000000e+00 6.9000000e+02 1.6733300e+01 8.0000000e+01\n",
      "  3.0000000e+01 4.3495030e+04]\n",
      " [7.6858000e+00 1.0000000e+00 5.0200000e+02 1.7150000e+01 1.3000000e+02\n",
      "  2.8000000e+01 4.4217857e+04]\n",
      " [6.9845000e+00 1.0000000e+00 4.2000000e+02 1.6133300e+01 1.1000000e+02\n",
      "  2.6000000e+01 4.5152252e+04]\n",
      " [6.7772000e+00 1.0000000e+00 5.8200000e+02 1.6416700e+01 1.8700000e+02\n",
      "  2.5000000e+01 4.5653805e+04]\n",
      " [8.0757000e+00 1.0000000e+00 4.8500000e+02 1.7483300e+01 1.8700000e+02\n",
      "  2.4000000e+01 4.6128638e+04]\n",
      " [6.5188000e+00 1.0000000e+00 7.6300000e+02 1.6416700e+01 2.9000000e+02\n",
      "  2.3000000e+01 4.6583995e+04]\n",
      " [8.4937000e+00 1.0000000e+00 8.3000000e+02 1.7333300e+01 3.8000000e+01\n",
      "  2.2000000e+01 4.7128005e+04]\n",
      " [7.3880000e+00 1.0000000e+00 6.9700000e+02 1.6300000e+01 5.2000000e+01\n",
      "  2.1000000e+01 4.8088673e+04]\n",
      " [6.7127000e+00 1.0000000e+00 6.0800000e+02 1.5716700e+01 1.5500000e+02\n",
      "  2.0000000e+01 4.8798990e+04]\n",
      " [7.3094000e+00 1.0000000e+00 4.0200000e+02 1.7266700e+01 9.6000000e+01\n",
      "  1.9000000e+01 4.9356943e+04]\n",
      " [6.2518000e+00 1.0000000e+00 6.0200000e+02 1.5366700e+01 2.6700000e+02\n",
      "  1.8000000e+01 4.9801821e+04]\n",
      " [7.7443000e+00 1.0000000e+00 8.1900000e+02 1.6533300e+01 8.6000000e+01\n",
      "  1.7000000e+01 5.0254966e+04]\n",
      " [6.8398000e+00 1.0000000e+00 7.1400000e+02 1.6233300e+01 1.1800000e+02\n",
      "  1.6000000e+01 5.0650406e+04]\n",
      " [6.2435000e+00 1.0000000e+00 6.1000000e+02 1.6200000e+01 2.9200000e+02\n",
      "  1.5000000e+01 5.1034413e+04]\n",
      " [6.3459000e+00 1.0000000e+00 5.7500000e+02 1.6550000e+01 2.4400000e+02\n",
      "  1.4000000e+01 5.1470276e+04]\n",
      " [7.5883000e+00 1.0000000e+00 6.2200000e+02 1.6666700e+01 8.9000000e+01\n",
      "  1.3000000e+01 5.1918389e+04]\n",
      " [7.1934000e+00 1.0000000e+00 5.5100000e+02 1.6766700e+01 1.1200000e+02\n",
      "  1.2000000e+01 5.2431647e+04]\n",
      " [6.2049000e+00 1.0000000e+00 5.3600000e+02 1.4983300e+01 1.5800000e+02\n",
      "  1.1000000e+01 5.2894183e+04]\n",
      " [6.6367000e+00 1.0000000e+00 3.7600000e+02 1.7066700e+01 1.2300000e+02\n",
      "  1.0000000e+01 5.3332805e+04]\n",
      " [6.2941000e+00 1.0000000e+00 5.7400000e+02 1.6300000e+01 1.8400000e+02\n",
      "  9.0000000e+00 5.3689610e+04]\n",
      " [7.2920000e+00 1.0000000e+00 5.7200000e+02 1.6950000e+01 1.7100000e+02\n",
      "  8.0000000e+00 5.3955042e+04]\n",
      " [7.1211000e+00 1.0000000e+00 4.1800000e+02 1.7650000e+01 2.4700000e+02\n",
      "  7.0000000e+00 5.4159049e+04]\n",
      " [6.2587000e+00 1.0000000e+00 8.2100000e+02 1.5583300e+01 8.7000000e+01\n",
      "  6.0000000e+00 5.4378362e+04]\n",
      " [7.1860000e+00 1.0000000e+00 7.6300000e+02 1.5816700e+01 5.1000000e+01\n",
      "  5.0000000e+00 5.4602193e+04]]\n"
     ]
    }
   ],
   "source": [
    "## Specify the coefficient of the objective function (i.e., the loss function)\n",
    "\n",
    "coeffs = XX\n",
    "print(coeffs)"
   ]
  },
  {
   "cell_type": "code",
   "execution_count": 28,
   "metadata": {},
   "outputs": [],
   "source": [
    "## Minimize the square loss to fit a linear regression model\n",
    "\n",
    "OLS = opt.minimize(Loss,beta0,jac=Loss_jac,args=coeffs,method='SLSQP',tol=1e-10)"
   ]
  },
  {
   "cell_type": "code",
   "execution_count": 29,
   "metadata": {},
   "outputs": [
    {
     "data": {
      "text/plain": [
       "array([-4.50398864e-01,  1.04250681e-03,  6.01223884e-01, -3.95812450e-03,\n",
       "        5.84748489e-04, -4.95273038e-05])"
      ]
     },
     "execution_count": 29,
     "metadata": {},
     "output_type": "execute_result"
    }
   ],
   "source": [
    "## Solution to the optimization model\n",
    "\n",
    "OLS.x"
   ]
  },
  {
   "cell_type": "code",
   "execution_count": 30,
   "metadata": {},
   "outputs": [
    {
     "data": {
      "text/plain": [
       "array([[-4.50398864e-01,  1.04250681e-03,  6.01223884e-01,\n",
       "        -3.95812450e-03,  5.84748489e-04, -4.95273038e-05]])"
      ]
     },
     "execution_count": 30,
     "metadata": {},
     "output_type": "execute_result"
    }
   ],
   "source": [
    "# Compare the optimization results with the fitted linear regression model\n",
    "\n",
    "from sklearn import datasets, linear_model\n",
    "\n",
    "OLS_model = linear_model.LinearRegression(fit_intercept=False)\n",
    "OLS_model.fit(X,Y)\n",
    "OLS_model.coef_"
   ]
  },
  {
   "cell_type": "code",
   "execution_count": 31,
   "metadata": {},
   "outputs": [],
   "source": [
    "## Variance of return for a given portfolio x\n",
    "\n",
    "def Var(x):\n",
    "    return np.matmul(np.matmul(np.transpose(x),Cov),x)"
   ]
  },
  {
   "cell_type": "code",
   "execution_count": 32,
   "metadata": {},
   "outputs": [],
   "source": [
    "## Mean return of for a given portfolio x\n",
    "\n",
    "def MR(x):\n",
    "    return np.matmul(np.transpose(Mean),x)"
   ]
  },
  {
   "cell_type": "code",
   "execution_count": 33,
   "metadata": {},
   "outputs": [],
   "source": [
    "## Negative mean-variance utility given a portfolio x\n",
    "def MV(x,lam):\n",
    "    return lam*Var(x)-MR(x)"
   ]
  },
  {
   "cell_type": "code",
   "execution_count": 34,
   "metadata": {},
   "outputs": [],
   "source": [
    "# Jacobian of negative mean-variance utility given a portfolio x\n",
    "\n",
    "def MV_jac(x,lam):\n",
    "    return np.reshape(2*lam*np.matmul(Cov,x)-np.reshape(Mean,(6,)),(6,))"
   ]
  },
  {
   "cell_type": "code",
   "execution_count": 35,
   "metadata": {},
   "outputs": [],
   "source": [
    "# Budget constraint\n",
    "\n",
    "def Budget(x):\n",
    "    return np.sum(x)-1"
   ]
  },
  {
   "cell_type": "code",
   "execution_count": 36,
   "metadata": {},
   "outputs": [],
   "source": [
    "# Jacobian of budget constraint\n",
    "\n",
    "def Budget_jac(x):\n",
    "    return np.ones(6)"
   ]
  },
  {
   "cell_type": "code",
   "execution_count": 37,
   "metadata": {},
   "outputs": [],
   "source": [
    "# Bounds for the portfolios: 0<=xi<=1\n",
    "bnds = ((0,1),(0,1),(0,1),(0,1),(0,1),(0,1))"
   ]
  },
  {
   "cell_type": "code",
   "execution_count": 38,
   "metadata": {},
   "outputs": [],
   "source": [
    "# Budget constraint \n",
    "cns = ({'type': 'eq', 'fun': Budget, 'jac': Budget_jac})"
   ]
  },
  {
   "cell_type": "code",
   "execution_count": 39,
   "metadata": {},
   "outputs": [],
   "source": [
    "# Initial value xi=0 for i=1,2,3,4,5,6\n",
    "x0 = np.zeros(6)"
   ]
  },
  {
   "cell_type": "code",
   "execution_count": 40,
   "metadata": {},
   "outputs": [],
   "source": [
    "# specify the value of lambda and obtain the optimal solution\n",
    "lam = 500\n",
    "MV_utility = opt.minimize(fun=MV,x0=x0,jac=MV_jac,args=lam,bounds=bnds,constraints=cns,method='SLSQP',tol=1e-20)"
   ]
  },
  {
   "cell_type": "code",
   "execution_count": 41,
   "metadata": {},
   "outputs": [
    {
     "data": {
      "text/plain": [
       "array([0.02671433, 0.05269813, 0.02652276, 0.02800183, 0.04292823,\n",
       "       0.82313472])"
      ]
     },
     "execution_count": 41,
     "metadata": {},
     "output_type": "execute_result"
    }
   ],
   "source": [
    "# Optimal solution of the Mean-variance problem\n",
    "MV_utility.x"
   ]
  },
  {
   "cell_type": "code",
   "execution_count": 42,
   "metadata": {},
   "outputs": [
    {
     "data": {
      "text/plain": [
       "array([0.0578])"
      ]
     },
     "execution_count": 42,
     "metadata": {},
     "output_type": "execute_result"
    }
   ],
   "source": [
    "#Mean return\n",
    "\n",
    "MR(MV_utility.x)"
   ]
  },
  {
   "cell_type": "code",
   "execution_count": 43,
   "metadata": {},
   "outputs": [
    {
     "data": {
      "text/plain": [
       "0.0027928472793703044"
      ]
     },
     "execution_count": 43,
     "metadata": {},
     "output_type": "execute_result"
    }
   ],
   "source": [
    "#Square root of return\n",
    "\n",
    "np.sqrt(Var(MV_utility.x))"
   ]
  },
  {
   "cell_type": "code",
   "execution_count": 44,
   "metadata": {},
   "outputs": [],
   "source": [
    "##Using for loop to calculate the objective/constraint functions and the Jacobians\n",
    "def Var1(x):\n",
    "    y = 0\n",
    "    for i in range(6):\n",
    "        for j in range(6):\n",
    "            y = y + x[i]*x[j]*Cov[i,j]\n",
    "    return y"
   ]
  },
  {
   "cell_type": "code",
   "execution_count": 45,
   "metadata": {},
   "outputs": [],
   "source": [
    "##Using for loop to re-establish objective and constraint functions, and their Jacobians\n",
    "\n",
    "def MR1(x):\n",
    "    y = 0\n",
    "    for i in range(6):\n",
    "        y = y + x[i]*Mean[i]    \n",
    "    return y"
   ]
  },
  {
   "cell_type": "code",
   "execution_count": 46,
   "metadata": {},
   "outputs": [],
   "source": [
    "def MV1(x,lam):\n",
    "    return lam*Var1(x)-MR1(x)"
   ]
  },
  {
   "cell_type": "code",
   "execution_count": 47,
   "metadata": {},
   "outputs": [],
   "source": [
    "def MV1_jac(x,lam):\n",
    "    y = np.zeros(6)\n",
    "    for i in range(6):\n",
    "        for j in range(6):\n",
    "            y[i] = y[i] + lam * x[j] * 2*Cov[i,j] \n",
    "        y[i] = y[i] - Mean[i]     \n",
    "    return y"
   ]
  },
  {
   "cell_type": "code",
   "execution_count": 48,
   "metadata": {},
   "outputs": [],
   "source": [
    "def Budget1(x):\n",
    "    y = 0\n",
    "    for i in range(6):\n",
    "        y = y + x[i]\n",
    "    return y - 1"
   ]
  },
  {
   "cell_type": "code",
   "execution_count": 49,
   "metadata": {},
   "outputs": [],
   "source": [
    "def Budget1_jac(x):\n",
    "    return np.ones(6)"
   ]
  },
  {
   "cell_type": "code",
   "execution_count": 50,
   "metadata": {},
   "outputs": [],
   "source": [
    "cns1 = ({'type': 'eq', 'fun': Budget1, 'jac': Budget1_jac})"
   ]
  },
  {
   "cell_type": "code",
   "execution_count": 51,
   "metadata": {},
   "outputs": [],
   "source": [
    "## Re-run the optimization\n",
    "\n",
    "lam = 500\n",
    "MV_utility1 = opt.minimize(fun=MV1,x0=x0,jac=MV1_jac,args=lam,bounds=bnds,constraints=cns1,method='SLSQP',tol=1e-20)"
   ]
  },
  {
   "cell_type": "code",
   "execution_count": 52,
   "metadata": {},
   "outputs": [
    {
     "data": {
      "text/plain": [
       "array([0.02671433, 0.05269813, 0.02652276, 0.02800183, 0.04292823,\n",
       "       0.82313472])"
      ]
     },
     "execution_count": 52,
     "metadata": {},
     "output_type": "execute_result"
    }
   ],
   "source": [
    "MV_utility1.x"
   ]
  },
  {
   "cell_type": "code",
   "execution_count": null,
   "metadata": {},
   "outputs": [],
   "source": []
  }
 ],
 "metadata": {
  "kernelspec": {
   "display_name": "Python 3",
   "language": "python",
   "name": "python3"
  },
  "language_info": {
   "codemirror_mode": {
    "name": "ipython",
    "version": 3
   },
   "file_extension": ".py",
   "mimetype": "text/x-python",
   "name": "python",
   "nbconvert_exporter": "python",
   "pygments_lexer": "ipython3",
   "version": "3.7.1"
  }
 },
 "nbformat": 4,
 "nbformat_minor": 2
}
