{
 "cells": [
  {
   "cell_type": "code",
   "execution_count": null,
   "metadata": {},
   "outputs": [],
   "source": [
    "# Formulation:\n",
    "#\n",
    "#       min cx\n",
    "# s.t.  Ax <= b, x >= 0\n",
    "#\n",
    "# min 30*X12 + 40*X14 + 50*X23 + 35*X35 + 40*X53 + 30*X54 + 35*X56 + 25*X65 + 50*X74 + 45*X75 + 50*X76\n",
    "# s.t \n",
    "#        X12 +    X14                                                                                   <= 200\n",
    "#      - X12          +    X23                                                                          <= -100\n",
    "#                        - X23 +    X35 -    X53                                                        <= -60\n",
    "#            -    X14                               - X54                   -    X74                    <= -80\n",
    "#                                 - X35    + X53  + X54   +     X56     -X65         -    X75           <= -170\n",
    "#                                                             - X56 +    X65                      -X76  <= -70\n",
    "#                                                                                X74    +  X75 +    X76 <=300\n",
    "#\n",
    "#    \n",
    "#\n",
    "\n"
   ]
  },
  {
   "cell_type": "code",
   "execution_count": 1,
   "metadata": {},
   "outputs": [],
   "source": [
    "## Import necessary packages\n",
    "\n",
    "from cvxopt import solvers\n",
    "import numpy as np\n",
    "from cvxopt import matrix\n",
    "import pprint\n",
    "\n",
    "\n",
    "c = matrix([[30,40,50,35,40,30,35,25,50,45,50]], tc='d') #coefficient of cost function, 11 variables \n",
    "## tc stards for type code, 'i' means integer, 'd' stands for double (real number), 'z' stands for complex number"
   ]
  },
  {
   "cell_type": "code",
   "execution_count": null,
   "metadata": {},
   "outputs": [],
   "source": [
    "### Left-hand side of the constraint matrix\n",
    "\n",
    "# 1, 1, 0, 0, 0, 0, 0, 0, 0, 0, 0\n",
    "#-1, 0, 1, 0, 0, 0, 0, 0, 0, 0, 0\n",
    "# 0, 0,-1, 1, -1, 0, 0, 0, 0, 0, 0\n",
    "# 0, -1, 0, 0, 0, -1, 0, 0, -1, 0, 0\n",
    "# 0, 0, 0, -1 1, 1, 1, -1, 0, -1, 0\n",
    "# 0, 0, 0, 0 0, 0, -1, 1, 0, 0, -1\n",
    "# 0, 0, 0, 0 0, 0, 0, 0, 1, 1, 1\n"
   ]
  },
  {
   "cell_type": "code",
   "execution_count": 5,
   "metadata": {},
   "outputs": [],
   "source": [
    "coeff=np.array([[1, 1, 0, 0, 0, 0, 0, 0, 0, 0, 0],\n",
    "[-1, 0, 1, 0, 0, 0, 0, 0, 0, 0, 0],\n",
    "[0, 0,-1, 1, -1, 0, 0, 0, 0, 0, 0],\n",
    "[0, -1, 0, 0, 0, -1, 0, 0, -1, 0, 0],\n",
    "[0, 0, 0, -1, 1, 1, 1, -1, 0, -1, 0],\n",
    "[0, 0, 0, 0,0, 0, -1, 1, 0, 0, -1],\n",
    "[0, 0, 0, 0, 0, 0, 0, 0, 1, 1, 1],\n",
    "[-1, 0, 0, 0, 0, 0, 0, 0, 0, 0, 0],\n",
    "[0, -1, 0, 0, 0, 0, 0, 0, 0, 0, 0],\n",
    "[0, 0,-1,0, 0, 0, 0, 0, 0, 0, 0],\n",
    "[0, 0, 0, -1, 0, 0, 0, 0, 0, 0, 0],\n",
    "[0, 0, 0, 0, -1, 0, 0, 0, 0, 0, 0],\n",
    "[0, 0, 0, 0, 0, -1, 0, 0, 0, 0, 0],\n",
    "[0, 0, 0, 0, 0, 0, -1, 0, 0, 0, 0],\n",
    "[0, 0, 0, 0, 0, 0, 0, -1, 0, 0, 0],\n",
    "[0, 0, 0, 0, 0, 0, 0, 0, -1, 0, 0],\n",
    "[0, 0, 0, 0, 0, 0, 0, 0, 0, -1, 0],\n",
    "[0, 0, 0, 0, 0, 0, 0, 0, 0, 0, -1]\n",
    "                ],dtype=float)\n",
    "G=matrix(coeff)\n",
    "#Coefficient matrix for the constraints"
   ]
  },
  {
   "cell_type": "code",
   "execution_count": 6,
   "metadata": {},
   "outputs": [],
   "source": [
    "h = matrix([200,-100,-60,-80,-170,-70,300,0,0,0,0,0,0,0,0,0,0,0], tc='d')\n",
    "## h is the righ-hand side of the constraint "
   ]
  },
  {
   "cell_type": "code",
   "execution_count": 7,
   "metadata": {},
   "outputs": [
    {
     "name": "stdout",
     "output_type": "stream",
     "text": [
      "     pcost       dcost       gap    pres   dres   k/t\n",
      " 0:  1.5518e+04  1.4967e+04  4e+04  4e-01  7e-01  1e+00\n",
      " 1:  2.3083e+04  2.3212e+04  1e+04  1e-01  2e-01  3e+02\n",
      " 2:  2.2342e+04  2.2431e+04  2e+03  2e-02  4e-02  1e+02\n",
      " 3:  2.2369e+04  2.2382e+04  2e+02  3e-03  5e-03  2e+01\n",
      " 4:  2.2350e+04  2.2351e+04  7e+00  8e-05  2e-04  5e-01\n",
      " 5:  2.2350e+04  2.2350e+04  7e-02  8e-07  2e-06  5e-03\n",
      " 6:  2.2350e+04  2.2350e+04  7e-04  8e-09  2e-08  5e-05\n",
      "Optimal solution found.\n"
     ]
    }
   ],
   "source": [
    "Transshipment = solvers.lp(c, G, h) \n",
    "## -c is the coefficient of objective function. We use -c because we are maximizing revenue. \n",
    "## G is the constraint matrix\n",
    "## h is the right-hand-side of the constraints"
   ]
  },
  {
   "cell_type": "code",
   "execution_count": 8,
   "metadata": {},
   "outputs": [
    {
     "name": "stdout",
     "output_type": "stream",
     "text": [
      "[ 1.20e+02]\n",
      "[ 8.00e+01]\n",
      "[ 2.00e+01]\n",
      "[-1.17e-07]\n",
      "[ 4.00e+01]\n",
      "[ 5.04e-08]\n",
      "[ 4.73e-07]\n",
      "[ 8.42e-07]\n",
      "[ 5.01e-06]\n",
      "[ 2.10e+02]\n",
      "[ 7.00e+01]\n",
      "\n"
     ]
    }
   ],
   "source": [
    "#Print the shadow price for each constraint\n",
    "print (Transshipment['x']) "
   ]
  },
  {
   "cell_type": "code",
   "execution_count": null,
   "metadata": {},
   "outputs": [],
   "source": []
  }
 ],
 "metadata": {
  "kernelspec": {
   "display_name": "Python 3",
   "language": "python",
   "name": "python3"
  },
  "language_info": {
   "codemirror_mode": {
    "name": "ipython",
    "version": 3
   },
   "file_extension": ".py",
   "mimetype": "text/x-python",
   "name": "python",
   "nbconvert_exporter": "python",
   "pygments_lexer": "ipython3",
   "version": "3.7.1"
  }
 },
 "nbformat": 4,
 "nbformat_minor": 2
}
