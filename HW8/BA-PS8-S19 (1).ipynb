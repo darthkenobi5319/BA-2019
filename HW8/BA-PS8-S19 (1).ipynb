{
 "cells": [
  {
   "cell_type": "markdown",
   "metadata": {},
   "source": [
    "## Question 1\n",
    "\n",
    "### (A）\n",
    "\n",
    "$\n",
    "\\Delta{Y} = (5 - 61)- (71 - 65) = -62\n",
    "$\n",
    "\n",
    "Therefore, the diff-in-diff shows that moving water intake upstream leads to a decrease of 62 deaths per 10000 homes.\n",
    "\n",
    "### (B)\n",
    "\n",
    "In absence of treatment, average change in dependent variable (Y) would have been the same for both the treatment and control groups (Parallel Trends assumption)\n",
    "\n",
    "## Question 2\n",
    "### (A)"
   ]
  },
  {
   "cell_type": "code",
   "execution_count": 6,
   "metadata": {},
   "outputs": [
    {
     "name": "stdout",
     "output_type": "stream",
     "text": [
      "'data.frame':\t80000 obs. of  4 variables:\n",
      " $ AdvertiserID: int  1 2 3 4 5 6 7 8 9 10 ...\n",
      " $ Week        : int  -2 -2 -2 -2 -2 -2 -2 -2 -2 -2 ...\n",
      " $ Adoption    : int  0 0 0 0 0 0 0 0 0 0 ...\n",
      " $ CTR         : num  0.1123 0.0878 0.1323 0.121 0.1367 ...\n"
     ]
    },
    {
     "data": {
      "text/plain": [
       "  AdvertiserID        Week          Adoption        CTR           \n",
       " Min.   :    1   Min.   :-2.00   Min.   :0.0   Min.   :0.0003629  \n",
       " 1st Qu.: 2501   1st Qu.:-1.25   1st Qu.:0.0   1st Qu.:0.0543613  \n",
       " Median : 5000   Median :-0.50   Median :0.5   Median :0.0741272  \n",
       " Mean   : 5000   Mean   :-0.50   Mean   :0.5   Mean   :0.0800176  \n",
       " 3rd Qu.: 7500   3rd Qu.: 0.25   3rd Qu.:1.0   3rd Qu.:0.1018463  \n",
       " Max.   :10000   Max.   : 1.00   Max.   :1.0   Max.   :0.2372558  "
      ]
     },
     "metadata": {},
     "output_type": "display_data"
    }
   ],
   "source": [
    "##Load the Data\n",
    "newFunction = read.csv('NewFunction.csv')\n",
    "str(newFunction)\n",
    "summary (newFunction)"
   ]
  },
  {
   "cell_type": "markdown",
   "metadata": {},
   "source": [
    "Check whether the treatment & control are parallel weeks prior to the treatment.(week -2 and week -1)"
   ]
  },
  {
   "cell_type": "code",
   "execution_count": 19,
   "metadata": {},
   "outputs": [],
   "source": [
    "\n",
    "## Diff-in-Diff estimation\n",
    "##Find the subsets with different treatments and different weeks\n",
    "\n",
    "#control\n",
    "NN2 = subset(subset(newFunction,Adoption==0),Week==-2)\n",
    "NN1 = subset(subset(newFunction,Adoption==0),Week==-1)\n",
    "N0 = subset(subset(newFunction,Adoption==0),Week==0)\n",
    "NP1 = subset(subset(newFunction,Adoption==0),Week==1)\n",
    "\n",
    "#treatment\n",
    "YN2 = subset(subset(newFunction,Adoption==1),Week==-2)\n",
    "YN1 = subset(subset(newFunction,Adoption==1),Week==-1)\n",
    "Y0 = subset(subset(newFunction,Adoption==1),Week==0)\n",
    "YP1 = subset(subset(newFunction,Adoption==1),Week==1)\n"
   ]
  },
  {
   "cell_type": "code",
   "execution_count": 25,
   "metadata": {},
   "outputs": [
    {
     "data": {
      "text/html": [
       "0.099687748511598"
      ],
      "text/latex": [
       "0.099687748511598"
      ],
      "text/markdown": [
       "0.099687748511598"
      ],
      "text/plain": [
       "[1] 0.09968775"
      ]
     },
     "metadata": {},
     "output_type": "display_data"
    },
    {
     "data": {
      "text/html": [
       "0.0800974685143776"
      ],
      "text/latex": [
       "0.0800974685143776"
      ],
      "text/markdown": [
       "0.0800974685143776"
      ],
      "text/plain": [
       "[1] 0.08009747"
      ]
     },
     "metadata": {},
     "output_type": "display_data"
    },
    {
     "data": {
      "text/html": [
       "0.119848227367556"
      ],
      "text/latex": [
       "0.119848227367556"
      ],
      "text/markdown": [
       "0.119848227367556"
      ],
      "text/plain": [
       "[1] 0.1198482"
      ]
     },
     "metadata": {},
     "output_type": "display_data"
    },
    {
     "data": {
      "text/html": [
       "0.110468915294015"
      ],
      "text/latex": [
       "0.110468915294015"
      ],
      "text/markdown": [
       "0.110468915294015"
      ],
      "text/plain": [
       "[1] 0.1104689"
      ]
     },
     "metadata": {},
     "output_type": "display_data"
    },
    {
     "data": {
      "text/html": [
       "0.0699215888495522"
      ],
      "text/latex": [
       "0.0699215888495522"
      ],
      "text/markdown": [
       "0.0699215888495522"
      ],
      "text/plain": [
       "[1] 0.06992159"
      ]
     },
     "metadata": {},
     "output_type": "display_data"
    },
    {
     "data": {
      "text/html": [
       "0.0502910924792263"
      ],
      "text/latex": [
       "0.0502910924792263"
      ],
      "text/markdown": [
       "0.0502910924792263"
      ],
      "text/plain": [
       "[1] 0.05029109"
      ]
     },
     "metadata": {},
     "output_type": "display_data"
    },
    {
     "data": {
      "text/html": [
       "0.0598426709061802"
      ],
      "text/latex": [
       "0.0598426709061802"
      ],
      "text/markdown": [
       "0.0598426709061802"
      ],
      "text/plain": [
       "[1] 0.05984267"
      ]
     },
     "metadata": {},
     "output_type": "display_data"
    },
    {
     "data": {
      "text/html": [
       "0.0499833882898208"
      ],
      "text/latex": [
       "0.0499833882898208"
      ],
      "text/markdown": [
       "0.0499833882898208"
      ],
      "text/plain": [
       "[1] 0.04998339"
      ]
     },
     "metadata": {},
     "output_type": "display_data"
    },
    {
     "data": {
      "text/plain": [
       "\n",
       "\tWelch Two Sample t-test\n",
       "\n",
       "data:  Diff_Treatment and Diff_Control\n",
       "t = -0.10033, df = 19019, p-value = 0.9201\n",
       "alternative hypothesis: true difference in means is not equal to 0\n",
       "95 percent confidence interval:\n",
       " -0.0008259316  0.0007454989\n",
       "sample estimates:\n",
       "  mean of x   mean of y \n",
       "-0.01963050 -0.01959028 \n"
      ]
     },
     "metadata": {},
     "output_type": "display_data"
    }
   ],
   "source": [
    "Y11 = mean(NN2$CTR)\n",
    "Y12 = mean(NN1$CTR)\n",
    "Y13 = mean(N0$CTR)\n",
    "Y14 = mean(NP1$CTR)\n",
    "\n",
    "Y21 = mean(YN2$CTR)\n",
    "Y22 = mean(YN1$CTR)\n",
    "Y23 = mean(Y0$CTR)\n",
    "Y24 = mean(YP1$CTR)\n",
    "\n",
    "\n",
    "\n",
    "ATT = (Y22 - Y21) - (Y12 - Y11)\n",
    "\n",
    "Diff_Treatment = YN1$CTR - YN2$CTR\n",
    "Diff_Control = NN1$CTR - NN2$CTR\n",
    "##t-test for the differences of the treatment and control groups\n",
    "t.test(Diff_Treatment,Diff_Control)"
   ]
  },
  {
   "cell_type": "markdown",
   "metadata": {},
   "source": [
    "Therefore, ATT is not statistically different from 0. The trends between week -2 and week -1 is the same for both treatment and control groups.\n",
    "\n",
    "### (B)"
   ]
  },
  {
   "cell_type": "code",
   "execution_count": 28,
   "metadata": {},
   "outputs": [
    {
     "data": {
      "text/plain": [
       "  AdvertiserID        Week          Adoption        CTR           \n",
       " Min.   :    1   Min.   :-2.00   Min.   :0.0   Min.   :0.0003629  \n",
       " 1st Qu.: 2501   1st Qu.:-1.25   1st Qu.:0.0   1st Qu.:0.0543613  \n",
       " Median : 5000   Median :-0.50   Median :0.5   Median :0.0741272  \n",
       " Mean   : 5000   Mean   :-0.50   Mean   :0.5   Mean   :0.0800176  \n",
       " 3rd Qu.: 7500   3rd Qu.: 0.25   3rd Qu.:1.0   3rd Qu.:0.1018463  \n",
       " Max.   :10000   Max.   : 1.00   Max.   :1.0   Max.   :0.2372558  \n",
       "      tn1             t0             t1             t      \n",
       " Min.   :0.00   Min.   :0.00   Min.   :0.00   Min.   :0.0  \n",
       " 1st Qu.:0.00   1st Qu.:0.00   1st Qu.:0.00   1st Qu.:0.0  \n",
       " Median :0.00   Median :0.00   Median :0.00   Median :0.5  \n",
       " Mean   :0.25   Mean   :0.25   Mean   :0.25   Mean   :0.5  \n",
       " 3rd Qu.:0.25   3rd Qu.:0.25   3rd Qu.:0.25   3rd Qu.:1.0  \n",
       " Max.   :1.00   Max.   :1.00   Max.   :1.00   Max.   :1.0  "
      ]
     },
     "metadata": {},
     "output_type": "display_data"
    }
   ],
   "source": [
    "## Regression Method\n",
    "## Define the variable t\n",
    "newFunction$tn1 = as.numeric(newFunction$Week==-1)\n",
    "newFunction$t0 = as.numeric(newFunction$Week==0)\n",
    "newFunction$t1 = as.numeric(newFunction$Week==1)\n",
    "newFunction$t = newFunction$t0 + newFunction$t1\n",
    "summary(newFunction)"
   ]
  },
  {
   "cell_type": "code",
   "execution_count": 24,
   "metadata": {},
   "outputs": [
    {
     "data": {
      "text/plain": [
       "\n",
       "Call:\n",
       "lm(formula = CTR ~ tn1 + t0 + t1 + Adoption + Adoption * t, data = newFunction)\n",
       "\n",
       "Residuals:\n",
       "      Min        1Q    Median        3Q       Max \n",
       "-0.109801 -0.013487  0.000036  0.013599  0.124771 \n",
       "\n",
       "Coefficients: (1 not defined because of singularities)\n",
       "              Estimate Std. Error t value Pr(>|t|)    \n",
       "(Intercept)  0.0996978  0.0001923  518.57   <2e-16 ***\n",
       "tn1         -0.0196104  0.0002220  -88.33   <2e-16 ***\n",
       "t0           0.0202704  0.0002719   74.55   <2e-16 ***\n",
       "t1           0.0106511  0.0002719   39.17   <2e-16 ***\n",
       "Adoption    -0.0297863  0.0002220 -134.17   <2e-16 ***\n",
       "t                   NA         NA      NA       NA    \n",
       "Adoption:t  -0.0304593  0.0003140  -97.02   <2e-16 ***\n",
       "---\n",
       "Signif. codes:  0 '***' 0.001 '**' 0.01 '*' 0.05 '.' 0.1 ' ' 1\n",
       "\n",
       "Residual standard error: 0.0222 on 79994 degrees of freedom\n",
       "Multiple R-squared:  0.5686,\tAdjusted R-squared:  0.5685 \n",
       "F-statistic: 2.108e+04 on 5 and 79994 DF,  p-value: < 2.2e-16\n"
      ]
     },
     "metadata": {},
     "output_type": "display_data"
    }
   ],
   "source": [
    "model1 = lm(CTR ~ tn1 + t0 + t1 + Adoption + Adoption*t, data = newFunction)\n",
    "summary(model1)"
   ]
  },
  {
   "cell_type": "markdown",
   "metadata": {},
   "source": [
    "The diff-in-diff coefficient is $\\hat\\tau$. The effect is that adopting the new functions leads to a decrease of 0.0304593 in CTR\n",
    "\n",
    "### (C）"
   ]
  },
  {
   "cell_type": "code",
   "execution_count": 30,
   "metadata": {},
   "outputs": [
    {
     "name": "stderr",
     "output_type": "stream",
     "text": [
      "also installing the dependencies 'lattice', 'colorspace', 'assertthat', 'utf8', 'nlme', 'Matrix', 'labeling', 'munsell', 'R6', 'RColorBrewer', 'cli', 'fansi', 'pillar', 'pkgconfig', 'gtable', 'lazyeval', 'MASS', 'mgcv', 'plyr', 'reshape2', 'rlang', 'scales', 'tibble', 'viridisLite', 'withr'\n",
      "\n"
     ]
    },
    {
     "name": "stdout",
     "output_type": "stream",
     "text": [
      "\n",
      "  There is a binary version available but the source version is later:\n",
      "      binary  source needs_compilation\n",
      "nlme 3.1-137 3.1-139              TRUE\n",
      "\n",
      "  Binaries will be installed\n",
      "package 'lattice' successfully unpacked and MD5 sums checked\n",
      "package 'colorspace' successfully unpacked and MD5 sums checked\n",
      "package 'assertthat' successfully unpacked and MD5 sums checked\n",
      "package 'utf8' successfully unpacked and MD5 sums checked\n",
      "package 'nlme' successfully unpacked and MD5 sums checked\n",
      "package 'Matrix' successfully unpacked and MD5 sums checked\n",
      "package 'labeling' successfully unpacked and MD5 sums checked\n",
      "package 'munsell' successfully unpacked and MD5 sums checked\n",
      "package 'R6' successfully unpacked and MD5 sums checked\n",
      "package 'RColorBrewer' successfully unpacked and MD5 sums checked\n",
      "package 'cli' successfully unpacked and MD5 sums checked\n",
      "package 'fansi' successfully unpacked and MD5 sums checked\n",
      "package 'pillar' successfully unpacked and MD5 sums checked\n",
      "package 'pkgconfig' successfully unpacked and MD5 sums checked\n",
      "package 'gtable' successfully unpacked and MD5 sums checked\n",
      "package 'lazyeval' successfully unpacked and MD5 sums checked\n",
      "package 'MASS' successfully unpacked and MD5 sums checked\n",
      "package 'mgcv' successfully unpacked and MD5 sums checked\n",
      "package 'plyr' successfully unpacked and MD5 sums checked\n",
      "package 'reshape2' successfully unpacked and MD5 sums checked\n",
      "package 'rlang' successfully unpacked and MD5 sums checked\n",
      "package 'scales' successfully unpacked and MD5 sums checked\n",
      "package 'tibble' successfully unpacked and MD5 sums checked\n",
      "package 'viridisLite' successfully unpacked and MD5 sums checked\n",
      "package 'withr' successfully unpacked and MD5 sums checked\n",
      "package 'ggplot2' successfully unpacked and MD5 sums checked\n",
      "\n",
      "The downloaded binary packages are in\n",
      "\tC:\\Users\\PC\\AppData\\Local\\Temp\\Rtmp8cI1Pl\\downloaded_packages\n"
     ]
    }
   ],
   "source": [
    "install.packages(\"ggplot2\",repos='https://mirrors.tuna.tsinghua.edu.cn/CRAN/')"
   ]
  },
  {
   "cell_type": "code",
   "execution_count": 31,
   "metadata": {},
   "outputs": [
    {
     "name": "stderr",
     "output_type": "stream",
     "text": [
      "Warning message:\n",
      "\"package 'ggplot2' was built under R version 3.5.3\""
     ]
    }
   ],
   "source": [
    "library('ggplot2')"
   ]
  },
  {
   "cell_type": "code",
   "execution_count": 62,
   "metadata": {},
   "outputs": [
    {
     "name": "stdout",
     "output_type": "stream",
     "text": [
      "'data.frame':\t4 obs. of  3 variables:\n",
      " $ Week    : num  -2 -1 0 1\n",
      " $ YTreat  : num  0.0699 0.0503 0.0598 0.05\n",
      " $ YControl: num  0.0997 0.0801 0.1198 0.1105\n"
     ]
    },
    {
     "data": {
      "text/plain": [
       "      Week           YTreat           YControl      \n",
       " Min.   :-2.00   Min.   :0.04998   Min.   :0.08010  \n",
       " 1st Qu.:-1.25   1st Qu.:0.05021   1st Qu.:0.09479  \n",
       " Median :-0.50   Median :0.05507   Median :0.10508  \n",
       " Mean   :-0.50   Mean   :0.05751   Mean   :0.10253  \n",
       " 3rd Qu.: 0.25   3rd Qu.:0.06236   3rd Qu.:0.11281  \n",
       " Max.   : 1.00   Max.   :0.06992   Max.   :0.11985  "
      ]
     },
     "metadata": {},
     "output_type": "display_data"
    }
   ],
   "source": [
    "df =  data.frame(Week=c(-2, -1, 0,1),\n",
    "                YTreat=c(Y21,Y22,Y23,Y24),\n",
    "                YControl = c(Y11,Y12,Y13,Y14))\n",
    "str(df)\n",
    "summary(df)"
   ]
  },
  {
   "cell_type": "code",
   "execution_count": 70,
   "metadata": {},
   "outputs": [
    {
     "data": {},
     "metadata": {},
     "output_type": "display_data"
    },
    {
     "data": {
      "image/png": "[encoded data removed]",
      "text/plain": [
       "plot without title"
      ]
     },
     "metadata": {},
     "output_type": "display_data"
    }
   ],
   "source": [
    "p = ggplot(df)+ aes(x=Week) + geom_line(aes(y= YTreat),colour='red') + geom_line(aes(y = YControl),colour='blue')\n",
    "p"
   ]
  },
  {
   "cell_type": "markdown",
   "metadata": {},
   "source": [
    "The blue line is the control group and red line is the treatment group"
   ]
  },
  {
   "cell_type": "code",
   "execution_count": 71,
   "metadata": {},
   "outputs": [
    {
     "data": {},
     "metadata": {},
     "output_type": "display_data"
    },
    {
     "data": {
      "image/png": "[encoded data removed]",
      "text/plain": [
       "plot without title"
      ]
     },
     "metadata": {},
     "output_type": "display_data"
    }
   ],
   "source": [
    "p = ggplot(df)+ aes(x=Week) + geom_line(aes(y= YTreat),colour='red') + geom_line(aes(y = YControl),colour='blue') +  geom_line(aes(y = YControl - 0.03),colour='blue',linetype = \"dotted\")\n",
    "p"
   ]
  },
  {
   "cell_type": "markdown",
   "metadata": {},
   "source": [
    "The red line is the treatment group"
   ]
  },
  {
   "cell_type": "code",
   "execution_count": null,
   "metadata": {},
   "outputs": [],
   "source": []
  }
 ],
 "metadata": {
  "kernelspec": {
   "display_name": "R",
   "language": "R",
   "name": "ir"
  },
  "language_info": {
   "codemirror_mode": "r",
   "file_extension": ".r",
   "mimetype": "text/x-r-source",
   "name": "R",
   "pygments_lexer": "r",
   "version": "3.5.1"
  }
 },
 "nbformat": 4,
 "nbformat_minor": 2
}
