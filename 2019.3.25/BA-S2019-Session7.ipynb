{
 "cells": [
  {
   "cell_type": "code",
   "execution_count": null,
   "metadata": {},
   "outputs": [],
   "source": [
    "# Read in the data\n",
    "RE = read.csv(\"RE.csv\")\n",
    "str(RE)"
   ]
  },
  {
   "cell_type": "code",
   "execution_count": null,
   "metadata": {},
   "outputs": [],
   "source": [
    "#Linear regression without covariate\n",
    "\n",
    "Regression1 = lm(Life~Drug,data=RE)\n",
    "summary(Regression1)\n",
    "\n"
   ]
  },
  {
   "cell_type": "code",
   "execution_count": null,
   "metadata": {},
   "outputs": [],
   "source": [
    "#linear regression with the covariate adjusted health\n",
    "\n",
    "Regression2 = lm(Life~Drug+AdjustedHealth,data=RE)\n",
    "summary(Regression2)\n",
    "\n"
   ]
  },
  {
   "cell_type": "code",
   "execution_count": null,
   "metadata": {},
   "outputs": [],
   "source": [
    "#linear regression with the interaction term\n",
    "\n",
    "Regression3 = lm(Life~Drug+AdjustedHealth+Drug*AdjustedHealth,data=RE)\n",
    "summary(Regression3)"
   ]
  },
  {
   "cell_type": "code",
   "execution_count": null,
   "metadata": {},
   "outputs": [],
   "source": [
    "##Install and load the package for propensity-score matching\n",
    "\n",
    "install.packages('Matching',repos = \"https://cloud.r-project.org\")\n",
    "library('Matching')\n",
    "library(caTools)\n",
    "\n"
   ]
  },
  {
   "cell_type": "code",
   "execution_count": null,
   "metadata": {},
   "outputs": [],
   "source": [
    "# Fit a logistic regression to estimate the propensity score\n",
    "pscore_model = glm(Drug ~ AdjustedHealth, data=RE, family=binomial)\n",
    "\n",
    "pscore = predict(pscore_model,type=\"response\")\n",
    "\n",
    "\n",
    "RE$pscore = pscore\n",
    "\n",
    "Drug = RE$Drug\n",
    "\n",
    "Life = RE$Life"
   ]
  },
  {
   "cell_type": "code",
   "execution_count": null,
   "metadata": {},
   "outputs": [],
   "source": [
    "#Run propensity score matching and estimate the average treatment effect on treated\n",
    "match.pscore = Match(Y =Life, Tr=Drug, X=pscore, estimand = \"ATT\", M = 1)\n",
    "\n",
    "summary(match.pscore)"
   ]
  },
  {
   "cell_type": "code",
   "execution_count": null,
   "metadata": {},
   "outputs": [],
   "source": [
    "##Balance Check\n",
    "MatchBalance(Drug~AdjustedHealth,data=RE,match.out=match.pscore)"
   ]
  },
  {
   "cell_type": "code",
   "execution_count": null,
   "metadata": {},
   "outputs": [],
   "source": [
    "#install and load the necessary packages for IV estimation\n",
    "install.packages(\"AER\",repos = \"https://cloud.r-project.org\")\n",
    "library(\"AER\")"
   ]
  },
  {
   "cell_type": "code",
   "execution_count": null,
   "metadata": {},
   "outputs": [],
   "source": [
    "#read in the data\n",
    "Education = read.csv(\"Education.csv\")\n",
    "str(Education)"
   ]
  },
  {
   "cell_type": "code",
   "execution_count": null,
   "metadata": {},
   "outputs": [],
   "source": [
    "#linear regression model\n",
    "model1=lm(LogEarning~Schooling,data=Education)\n",
    "summary(model1)"
   ]
  },
  {
   "cell_type": "code",
   "execution_count": null,
   "metadata": {},
   "outputs": [],
   "source": [
    "#transform QoB into factor variable\n",
    "Education$QoBF=as.factor(Education$QoB)\n",
    "\n",
    "#Relevel QoBF\n",
    "Education$QoBF=relevel(Education$QoBF,\"1\")\n",
    "\n",
    "str(Education)"
   ]
  },
  {
   "cell_type": "code",
   "execution_count": null,
   "metadata": {},
   "outputs": [],
   "source": [
    "#first-stage regression X~Z and compute X_hat\n",
    "model_fs = lm(Schooling~QoBF,data=Education)\n",
    "Education$Schooling1 = predict(model_fs,newdata=Education)\n",
    "summary(model_fs)\n",
    "##F-test is significant, so the strong first-stage assumption holds."
   ]
  },
  {
   "cell_type": "code",
   "execution_count": null,
   "metadata": {},
   "outputs": [],
   "source": [
    "#second-stage regression Y~X_hat\n",
    "Model2 = lm(LogEarning~Schooling1,data=Education)\n",
    "summary(Model2)"
   ]
  },
  {
   "cell_type": "code",
   "execution_count": null,
   "metadata": {},
   "outputs": [],
   "source": [
    "#2sls combined estimation\n",
    "Model3 = ivreg(LogEarning~Schooling|QoBF,data=Education)\n",
    "summary(Model3)"
   ]
  },
  {
   "cell_type": "code",
   "execution_count": null,
   "metadata": {},
   "outputs": [],
   "source": []
  }
 ],
 "metadata": {
  "kernelspec": {
   "display_name": "R",
   "language": "R",
   "name": "ir"
  },
  "language_info": {
   "codemirror_mode": "r",
   "file_extension": ".r",
   "mimetype": "text/x-r-source",
   "name": "R",
   "pygments_lexer": "r",
   "version": "3.5.1"
  }
 },
 "nbformat": 4,
 "nbformat_minor": 2
}
