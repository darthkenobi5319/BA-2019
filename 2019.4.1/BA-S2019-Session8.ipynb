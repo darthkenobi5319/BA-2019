{
 "cells": [
  {
   "cell_type": "code",
   "execution_count": null,
   "metadata": {},
   "outputs": [],
   "source": [
    "##Load the Data\n",
    "MinimumWage = read.csv('MinimumWage.csv')"
   ]
  },
  {
   "cell_type": "code",
   "execution_count": null,
   "metadata": {},
   "outputs": [],
   "source": [
    "str(MinimumWage)"
   ]
  },
  {
   "cell_type": "code",
   "execution_count": null,
   "metadata": {},
   "outputs": [],
   "source": [
    "## Diff-in-Diff estimation\n",
    "\n",
    "##Find the subsets with different treatments and different years\n",
    "PA1991 = subset(subset(MinimumWage,Treatment==0),Year==1991)\n",
    "PA1992 = subset(subset(MinimumWage,Treatment==0),Year==1992)\n",
    "NJ1991 = subset(subset(MinimumWage,Treatment==1),Year==1991)\n",
    "NJ1992 = subset(subset(MinimumWage,Treatment==1),Year==1992)"
   ]
  },
  {
   "cell_type": "code",
   "execution_count": null,
   "metadata": {},
   "outputs": [],
   "source": [
    "Y1 = mean(NJ1992$FTE) ##Average outcome for treatment group after treatment\n",
    "Y2 = mean(NJ1991$FTE) ##Average outcome for treatment group before treatment\n",
    "Y3 = mean(PA1992$FTE) ##Average outcome for control group after treatment\n",
    "Y4 = mean(PA1991$FTE) ##Average outcome for control group before treatment\n",
    "\n",
    "ATT = (Y1 - Y2) - (Y3 - Y4)"
   ]
  },
  {
   "cell_type": "code",
   "execution_count": null,
   "metadata": {},
   "outputs": [],
   "source": [
    "Y1\n",
    "Y2\n",
    "Y3\n",
    "Y4\n",
    "ATT"
   ]
  },
  {
   "cell_type": "code",
   "execution_count": null,
   "metadata": {},
   "outputs": [],
   "source": [
    "Diff_Treatment = NJ1992$FTE - NJ1991$FTE\n",
    "Diff_Control = PA1992$FTE - PA1991$FTE"
   ]
  },
  {
   "cell_type": "code",
   "execution_count": null,
   "metadata": {},
   "outputs": [],
   "source": [
    "##t-test for the differences of the treatment and control groups\n",
    "\n",
    "t.test(Diff_Treatment,Diff_Control)"
   ]
  },
  {
   "cell_type": "code",
   "execution_count": null,
   "metadata": {},
   "outputs": [],
   "source": [
    "#Calculate the 95% confidence interval\n",
    "\n",
    "ATT.STD=sqrt(sd(Diff_Treatment)^2/nrow(NJ1991)+sd(Diff_Control)^2/nrow(PA1991))\n",
    "\n",
    "UCB_95 = ATT+1.96*ATT.STD\n",
    "LCB_95 = ATT-1.96*ATT.STD"
   ]
  },
  {
   "cell_type": "code",
   "execution_count": null,
   "metadata": {},
   "outputs": [],
   "source": [
    "LCB_95\n",
    "UCB_95"
   ]
  },
  {
   "cell_type": "code",
   "execution_count": null,
   "metadata": {},
   "outputs": [],
   "source": [
    "## Regression Method\n",
    "## Define the variable t\n",
    "MinimumWage$t = as.numeric(MinimumWage$Year>1991)\n",
    "MinimumWage$t"
   ]
  },
  {
   "cell_type": "code",
   "execution_count": null,
   "metadata": {},
   "outputs": [],
   "source": [
    "##Regression Analysis for DiD identification\n",
    "DiD = lm(FTE~t+Treatment+t*Treatment,data=MinimumWage)\n",
    "summary(DiD)"
   ]
  },
  {
   "cell_type": "code",
   "execution_count": null,
   "metadata": {},
   "outputs": [],
   "source": []
  }
 ],
 "metadata": {
  "kernelspec": {
   "display_name": "R",
   "language": "R",
   "name": "ir"
  },
  "language_info": {
   "codemirror_mode": "r",
   "file_extension": ".r",
   "mimetype": "text/x-r-source",
   "name": "R",
   "pygments_lexer": "r",
   "version": "3.5.1"
  }
 },
 "nbformat": 4,
 "nbformat_minor": 2
}
