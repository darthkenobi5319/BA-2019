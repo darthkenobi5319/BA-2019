{
 "cells": [
  {
   "cell_type": "code",
   "execution_count": 1,
   "metadata": {},
   "outputs": [
    {
     "name": "stdout",
     "output_type": "stream",
     "text": [
      "'data.frame':\t2000 obs. of  3 variables:\n",
      " $ Life          : int  10 14 15 16 11 13 11 2 10 10 ...\n",
      " $ Drug          : int  0 1 0 1 1 1 1 0 0 0 ...\n",
      " $ AdjustedHealth: int  3 0 1 2 2 2 1 1 0 1 ...\n"
     ]
    }
   ],
   "source": [
    "# Read in the data\n",
    "RE = read.csv(\"RE.csv\")\n",
    "str(RE)"
   ]
  },
  {
   "cell_type": "code",
   "execution_count": 5,
   "metadata": {},
   "outputs": [
    {
     "data": {
      "text/html": [
       "3.86415130568356"
      ],
      "text/latex": [
       "3.86415130568356"
      ],
      "text/markdown": [
       "3.86415130568356"
      ],
      "text/plain": [
       "[1] 3.864151"
      ]
     },
     "metadata": {},
     "output_type": "display_data"
    },
    {
     "data": {
      "text/html": [
       "4.11889124533509"
      ],
      "text/latex": [
       "4.11889124533509"
      ],
      "text/markdown": [
       "4.11889124533509"
      ],
      "text/plain": [
       "[1] 4.118891"
      ]
     },
     "metadata": {},
     "output_type": "display_data"
    },
    {
     "data": {
      "text/html": [
       "3.60941136603204"
      ],
      "text/latex": [
       "3.60941136603204"
      ],
      "text/markdown": [
       "3.60941136603204"
      ],
      "text/plain": [
       "[1] 3.609411"
      ]
     },
     "metadata": {},
     "output_type": "display_data"
    }
   ],
   "source": [
    "# Calculate the estimated ATE and the standard deviation of ATE\n",
    "\n",
    "Control = subset(RE,Drug==0)\n",
    "Treatment = subset(RE,Drug==1)\n",
    "\n",
    "n1 = nrow(Treatment)\n",
    "n0 = nrow(Control)\n",
    "\n",
    "ATE = mean(Treatment$Life)-mean(Control$Life)\n",
    "ATE.STD=sqrt(sd(Treatment$Life)^2/n1+sd(Control$Life)^2/n0)\n",
    "\n",
    "UCB_95 = ATE+1.96*ATE.STD\n",
    "LCB_95 = ATE-1.96*ATE.STD\n",
    "\n",
    "\n",
    "ATE\n",
    "UCB_95\n",
    "LCB_95"
   ]
  },
  {
   "cell_type": "code",
   "execution_count": 6,
   "metadata": {},
   "outputs": [
    {
     "data": {
      "text/plain": [
       "\n",
       "\tWelch Two Sample t-test\n",
       "\n",
       "data:  Treatment$Life and Control$Life\n",
       "t = 29.731, df = 1997.6, p-value < 2.2e-16\n",
       "alternative hypothesis: true difference in means is not equal to 0\n",
       "95 percent confidence interval:\n",
       " 3.609262 4.119041\n",
       "sample estimates:\n",
       "mean of x mean of y \n",
       "13.110119  9.245968 \n"
      ]
     },
     "metadata": {},
     "output_type": "display_data"
    }
   ],
   "source": [
    "##Alternatively, directly conduct t-test\n",
    "\n",
    "t.test(Treatment$Life,Control$Life)"
   ]
  },
  {
   "cell_type": "code",
   "execution_count": 7,
   "metadata": {},
   "outputs": [
    {
     "data": {
      "text/plain": [
       "\n",
       "Call:\n",
       "lm(formula = Life ~ Drug, data = RE)\n",
       "\n",
       "Residuals:\n",
       "     Min       1Q   Median       3Q      Max \n",
       "-10.1101  -2.1101  -0.1101   1.8899  10.8899 \n",
       "\n",
       "Coefficients:\n",
       "            Estimate Std. Error t value Pr(>|t|)    \n",
       "(Intercept)  9.24597    0.09227  100.20   <2e-16 ***\n",
       "Drug         3.86415    0.12997   29.73   <2e-16 ***\n",
       "---\n",
       "Signif. codes:  0 ‘***’ 0.001 ‘**’ 0.01 ‘*’ 0.05 ‘.’ 0.1 ‘ ’ 1\n",
       "\n",
       "Residual standard error: 2.906 on 1998 degrees of freedom\n",
       "Multiple R-squared:  0.3067,\tAdjusted R-squared:  0.3064 \n",
       "F-statistic: 883.9 on 1 and 1998 DF,  p-value: < 2.2e-16\n"
      ]
     },
     "metadata": {},
     "output_type": "display_data"
    }
   ],
   "source": [
    "#linear regression analysis\n",
    "\n",
    "Regression1 = lm(Life~Drug,data=RE)\n",
    "summary(Regression1)"
   ]
  },
  {
   "cell_type": "code",
   "execution_count": 3,
   "metadata": {},
   "outputs": [
    {
     "name": "stdout",
     "output_type": "stream",
     "text": [
      "'data.frame':\t344084 obs. of  14 variables:\n",
      " $ Vote     : int  0 0 1 0 1 0 1 1 0 1 ...\n",
      " $ CivicDuty: int  0 0 0 0 0 0 0 0 0 0 ...\n",
      " $ Hawthorne: int  0 0 0 0 0 0 0 0 0 0 ...\n",
      " $ Self     : int  0 0 0 0 0 0 0 0 0 0 ...\n",
      " $ Neighbors: int  0 0 0 0 0 0 0 0 0 0 ...\n",
      " $ hh_size  : int  3 3 4 3 4 4 2 2 4 4 ...\n",
      " $ g2000    : int  1 1 0 0 0 0 0 0 0 1 ...\n",
      " $ g2002    : int  0 1 1 1 0 0 1 1 1 1 ...\n",
      " $ g2004    : int  1 0 1 1 0 0 0 0 0 0 ...\n",
      " $ p2000    : int  0 0 0 0 0 1 0 1 0 0 ...\n",
      " $ p2002    : int  1 0 0 1 0 0 0 0 0 0 ...\n",
      " $ p2004    : int  0 0 1 0 1 1 1 1 1 1 ...\n",
      " $ gender   : int  0 0 1 1 0 0 1 1 1 1 ...\n",
      " $ yob      : int  1987 1967 1979 1951 1942 1954 1982 1985 1966 1968 ...\n"
     ]
    }
   ],
   "source": [
    "# Load the social pressure experiment results data\n",
    "SocialPressure = read.csv(\"SocialPressure.csv\")\n",
    "str(SocialPressure)"
   ]
  },
  {
   "cell_type": "code",
   "execution_count": 5,
   "metadata": {},
   "outputs": [
    {
     "name": "stdout",
     "output_type": "stream",
     "text": [
      "'data.frame':\t191243 obs. of  14 variables:\n",
      " $ Vote     : int  0 0 1 0 1 0 1 1 0 1 ...\n",
      " $ CivicDuty: int  0 0 0 0 0 0 0 0 0 0 ...\n",
      " $ Hawthorne: int  0 0 0 0 0 0 0 0 0 0 ...\n",
      " $ Self     : int  0 0 0 0 0 0 0 0 0 0 ...\n",
      " $ Neighbors: int  0 0 0 0 0 0 0 0 0 0 ...\n",
      " $ hh_size  : int  3 3 4 3 4 4 2 2 4 4 ...\n",
      " $ g2000    : int  1 1 0 0 0 0 0 0 0 1 ...\n",
      " $ g2002    : int  0 1 1 1 0 0 1 1 1 1 ...\n",
      " $ g2004    : int  1 0 1 1 0 0 0 0 0 0 ...\n",
      " $ p2000    : int  0 0 0 0 0 1 0 1 0 0 ...\n",
      " $ p2002    : int  1 0 0 1 0 0 0 0 0 0 ...\n",
      " $ p2004    : int  0 0 1 0 1 1 1 1 1 1 ...\n",
      " $ gender   : int  0 0 1 1 0 0 1 1 1 1 ...\n",
      " $ yob      : int  1987 1967 1979 1951 1942 1954 1982 1985 1966 1968 ...\n"
     ]
    }
   ],
   "source": [
    "# Estimating the causal effect of different treatments\n",
    "#Control group\n",
    "Control = subset(subset(subset(subset(SocialPressure,CivicDuty==0),Hawthorne==0),Self==0),Neighbors==0)\n",
    "str(Control)"
   ]
  },
  {
   "cell_type": "code",
   "execution_count": 7,
   "metadata": {},
   "outputs": [
    {
     "name": "stdout",
     "output_type": "stream",
     "text": [
      "'data.frame':\t38218 obs. of  14 variables:\n",
      " $ Vote     : int  0 1 1 1 0 0 0 0 0 0 ...\n",
      " $ CivicDuty: int  1 1 1 1 1 1 1 1 1 1 ...\n",
      " $ Hawthorne: int  0 0 0 0 0 0 0 0 0 0 ...\n",
      " $ Self     : int  0 0 0 0 0 0 0 0 0 0 ...\n",
      " $ Neighbors: int  0 0 0 0 0 0 0 0 0 0 ...\n",
      " $ hh_size  : int  2 3 1 3 4 2 2 2 3 3 ...\n",
      " $ g2000    : int  1 0 1 0 1 0 0 0 0 0 ...\n",
      " $ g2002    : int  0 0 1 0 1 1 0 1 0 0 ...\n",
      " $ g2004    : int  0 1 0 0 0 0 1 0 0 0 ...\n",
      " $ p2000    : int  1 0 1 0 0 0 0 1 0 0 ...\n",
      " $ p2002    : int  0 0 0 0 0 1 1 0 1 0 ...\n",
      " $ p2004    : int  1 0 0 1 1 0 0 1 0 1 ...\n",
      " $ gender   : int  1 0 0 1 0 0 1 0 1 0 ...\n",
      " $ yob      : int  1964 1940 1937 1972 1980 1955 1953 1958 1956 1973 ...\n"
     ]
    }
   ],
   "source": [
    "#Treatment Group of Civic Duty\n",
    "Treatment_CivicDuty = subset(SocialPressure,CivicDuty==1)\n",
    "str(Treatment_CivicDuty)\n"
   ]
  },
  {
   "cell_type": "code",
   "execution_count": 8,
   "metadata": {},
   "outputs": [
    {
     "name": "stdout",
     "output_type": "stream",
     "text": [
      "'data.frame':\t38204 obs. of  14 variables:\n",
      " $ Vote     : int  1 1 0 0 0 0 1 0 0 0 ...\n",
      " $ CivicDuty: int  0 0 0 0 0 0 0 0 0 0 ...\n",
      " $ Hawthorne: int  1 1 1 1 1 1 1 1 1 1 ...\n",
      " $ Self     : int  0 0 0 0 0 0 0 0 0 0 ...\n",
      " $ Neighbors: int  0 0 0 0 0 0 0 0 0 0 ...\n",
      " $ hh_size  : int  2 1 3 3 4 3 1 2 3 3 ...\n",
      " $ g2000    : int  1 0 0 1 0 0 0 0 1 0 ...\n",
      " $ g2002    : int  1 1 0 0 1 1 0 1 1 1 ...\n",
      " $ g2004    : int  1 1 1 0 1 1 0 0 1 0 ...\n",
      " $ p2000    : int  0 0 1 0 1 0 1 1 0 1 ...\n",
      " $ p2002    : int  1 0 0 1 0 0 0 0 1 0 ...\n",
      " $ p2004    : int  0 1 0 1 0 1 1 0 0 0 ...\n",
      " $ gender   : int  1 0 0 1 1 0 0 1 0 1 ...\n",
      " $ yob      : int  1986 1945 1941 1976 1942 1944 1975 1949 1952 1940 ...\n"
     ]
    }
   ],
   "source": [
    "#Treatment Group of Hawthorne\n",
    "Treatment_Hawthorne = subset(SocialPressure,Hawthorne==1)\n",
    "str(Treatment_Hawthorne)\n",
    "\n"
   ]
  },
  {
   "cell_type": "code",
   "execution_count": 9,
   "metadata": {},
   "outputs": [
    {
     "name": "stdout",
     "output_type": "stream",
     "text": [
      "'data.frame':\t38218 obs. of  14 variables:\n",
      " $ Vote     : int  0 0 1 0 1 1 1 0 0 1 ...\n",
      " $ CivicDuty: int  0 0 0 0 0 0 0 0 0 0 ...\n",
      " $ Hawthorne: int  0 0 0 0 0 0 0 0 0 0 ...\n",
      " $ Self     : int  1 1 1 1 1 1 1 1 1 1 ...\n",
      " $ Neighbors: int  0 0 0 0 0 0 0 0 0 0 ...\n",
      " $ hh_size  : int  4 3 2 3 2 2 3 2 2 3 ...\n",
      " $ g2000    : int  1 0 0 1 0 0 1 1 0 1 ...\n",
      " $ g2002    : int  1 0 0 0 0 0 0 1 0 0 ...\n",
      " $ g2004    : int  0 0 0 1 1 1 0 1 0 0 ...\n",
      " $ p2000    : int  0 0 0 1 0 1 0 0 0 0 ...\n",
      " $ p2002    : int  0 1 0 0 0 0 1 0 1 0 ...\n",
      " $ p2004    : int  1 0 0 0 0 0 1 0 0 0 ...\n",
      " $ gender   : int  0 0 1 1 1 1 1 1 0 1 ...\n",
      " $ yob      : int  1976 1954 1966 1969 1941 1988 1942 1938 1945 1981 ...\n"
     ]
    }
   ],
   "source": [
    "#Treatment Group of Self\n",
    "Treatment_Self = subset(SocialPressure,Self==1)\n",
    "str(Treatment_Self)\n",
    "\n"
   ]
  },
  {
   "cell_type": "code",
   "execution_count": 10,
   "metadata": {},
   "outputs": [
    {
     "name": "stdout",
     "output_type": "stream",
     "text": [
      "'data.frame':\t38201 obs. of  14 variables:\n",
      " $ Vote     : int  1 0 1 1 1 0 0 0 0 0 ...\n",
      " $ CivicDuty: int  0 0 0 0 0 0 0 0 0 0 ...\n",
      " $ Hawthorne: int  0 0 0 0 0 0 0 0 0 0 ...\n",
      " $ Self     : int  0 0 0 0 0 0 0 0 0 0 ...\n",
      " $ Neighbors: int  1 1 1 1 1 1 1 1 1 1 ...\n",
      " $ hh_size  : int  2 2 2 3 2 1 2 3 2 3 ...\n",
      " $ g2000    : int  0 1 0 0 0 1 1 1 1 0 ...\n",
      " $ g2002    : int  0 1 0 0 1 0 0 0 1 1 ...\n",
      " $ g2004    : int  1 0 0 0 0 0 0 0 1 0 ...\n",
      " $ p2000    : int  1 0 1 1 1 0 0 1 0 1 ...\n",
      " $ p2002    : int  0 0 0 0 0 0 0 1 0 0 ...\n",
      " $ p2004    : int  1 0 0 0 0 1 0 0 0 0 ...\n",
      " $ gender   : int  1 0 0 1 1 0 1 1 0 1 ...\n",
      " $ yob      : int  1979 1950 1939 1956 1979 1986 1937 1949 1965 1948 ...\n"
     ]
    }
   ],
   "source": [
    "#Treatment Group of Neighbors\n",
    "Treatment_Neighbors = subset(SocialPressure,Neighbors==1)\n",
    "str(Treatment_Neighbors)"
   ]
  },
  {
   "cell_type": "code",
   "execution_count": 14,
   "metadata": {},
   "outputs": [
    {
     "data": {
      "text/html": [
       "0.0160172153109312"
      ],
      "text/latex": [
       "0.0160172153109312"
      ],
      "text/markdown": [
       "0.0160172153109312"
      ],
      "text/plain": [
       "[1] 0.01601722"
      ]
     },
     "metadata": {},
     "output_type": "display_data"
    },
    {
     "data": {
      "text/plain": [
       "\n",
       "\tWelch Two Sample t-test\n",
       "\n",
       "data:  Treatment_CivicDuty$Vote and Control$Vote\n",
       "t = 6.1692, df = 54086, p-value = 6.912e-10\n",
       "alternative hypothesis: true difference in means is not equal to 0\n",
       "95 percent confidence interval:\n",
       " 0.01092841 0.02110602\n",
       "sample estimates:\n",
       "mean of x mean of y \n",
       "0.3149040 0.2988868 \n"
      ]
     },
     "metadata": {},
     "output_type": "display_data"
    }
   ],
   "source": [
    "## Estimating the ATE for each treatment\n",
    "\n",
    "#ATE for Civic Duty\n",
    "mean(Treatment_CivicDuty$Vote) - mean(Control$Vote)\n",
    "t.test(Treatment_CivicDuty$Vote,Control$Vote)"
   ]
  },
  {
   "cell_type": "code",
   "execution_count": 15,
   "metadata": {},
   "outputs": [
    {
     "data": {
      "text/html": [
       "0.0188810163686033"
      ],
      "text/latex": [
       "0.0188810163686033"
      ],
      "text/markdown": [
       "0.0188810163686033"
      ],
      "text/plain": [
       "[1] 0.01888102"
      ]
     },
     "metadata": {},
     "output_type": "display_data"
    },
    {
     "data": {
      "text/plain": [
       "\n",
       "\tWelch Two Sample t-test\n",
       "\n",
       "data:  Treatment_Hawthorne$Vote and Control$Vote\n",
       "t = 7.2563, df = 53979, p-value = 4.031e-13\n",
       "alternative hypothesis: true difference in means is not equal to 0\n",
       "95 percent confidence interval:\n",
       " 0.01378105 0.02398098\n",
       "sample estimates:\n",
       "mean of x mean of y \n",
       "0.3177678 0.2988868 \n"
      ]
     },
     "metadata": {},
     "output_type": "display_data"
    }
   ],
   "source": [
    "#ATE for Hawthorne\n",
    "mean(Treatment_Hawthorne$Vote) - mean(Control$Vote)\n",
    "t.test(Treatment_Hawthorne$Vote,Control$Vote)"
   ]
  },
  {
   "cell_type": "code",
   "execution_count": 16,
   "metadata": {},
   "outputs": [
    {
     "data": {
      "text/html": [
       "0.0481225060116481"
      ],
      "text/latex": [
       "0.0481225060116481"
      ],
      "text/markdown": [
       "0.0481225060116481"
      ],
      "text/plain": [
       "[1] 0.04812251"
      ]
     },
     "metadata": {},
     "output_type": "display_data"
    },
    {
     "data": {
      "text/plain": [
       "\n",
       "\tWelch Two Sample t-test\n",
       "\n",
       "data:  Treatment_Self$Vote and Control$Vote\n",
       "t = 18.156, df = 53284, p-value < 2.2e-16\n",
       "alternative hypothesis: true difference in means is not equal to 0\n",
       "95 percent confidence interval:\n",
       " 0.04292760 0.05331741\n",
       "sample estimates:\n",
       "mean of x mean of y \n",
       "0.3470093 0.2988868 \n"
      ]
     },
     "metadata": {},
     "output_type": "display_data"
    }
   ],
   "source": [
    "#ATE for Self\n",
    "mean(Treatment_Self$Vote) - mean(Control$Vote)\n",
    "t.test(Treatment_Self$Vote,Control$Vote)"
   ]
  },
  {
   "cell_type": "code",
   "execution_count": 17,
   "metadata": {},
   "outputs": [
    {
     "data": {
      "text/html": [
       "0.077569357074842"
      ],
      "text/latex": [
       "0.077569357074842"
      ],
      "text/markdown": [
       "0.077569357074842"
      ],
      "text/plain": [
       "[1] 0.07756936"
      ]
     },
     "metadata": {},
     "output_type": "display_data"
    },
    {
     "data": {
      "text/plain": [
       "\n",
       "\tWelch Two Sample t-test\n",
       "\n",
       "data:  Treatment_Neighbors$Vote and Control$Vote\n",
       "t = 28.827, df = 52703, p-value < 2.2e-16\n",
       "alternative hypothesis: true difference in means is not equal to 0\n",
       "95 percent confidence interval:\n",
       " 0.07229526 0.08284346\n",
       "sample estimates:\n",
       "mean of x mean of y \n",
       "0.3764561 0.2988868 \n"
      ]
     },
     "metadata": {},
     "output_type": "display_data"
    }
   ],
   "source": [
    "#ATE for Neighbors\n",
    "mean(Treatment_Neighbors$Vote) - mean(Control$Vote)\n",
    "t.test(Treatment_Neighbors$Vote,Control$Vote)"
   ]
  },
  {
   "cell_type": "code",
   "execution_count": 18,
   "metadata": {},
   "outputs": [
    {
     "data": {
      "text/plain": [
       "\n",
       "Call:\n",
       "lm(formula = Vote ~ CivicDuty + Hawthorne + Self + Neighbors, \n",
       "    data = SocialPressure)\n",
       "\n",
       "Residuals:\n",
       "    Min      1Q  Median      3Q     Max \n",
       "-0.3765 -0.3149 -0.2989  0.6530  0.7011 \n",
       "\n",
       "Coefficients:\n",
       "            Estimate Std. Error t value Pr(>|t|)    \n",
       "(Intercept) 0.298887   0.001062 281.409  < 2e-16 ***\n",
       "CivicDuty   0.016017   0.002602   6.155 7.54e-10 ***\n",
       "Hawthorne   0.018881   0.002603   7.254 4.06e-13 ***\n",
       "Self        0.048123   0.002602  18.491  < 2e-16 ***\n",
       "Neighbors   0.077569   0.002603  29.800  < 2e-16 ***\n",
       "---\n",
       "Signif. codes:  0 '***' 0.001 '**' 0.01 '*' 0.05 '.' 0.1 ' ' 1\n",
       "\n",
       "Residual standard error: 0.4645 on 344079 degrees of freedom\n",
       "Multiple R-squared:  0.003121,\tAdjusted R-squared:  0.003109 \n",
       "F-statistic: 269.3 on 4 and 344079 DF,  p-value: < 2.2e-16\n"
      ]
     },
     "metadata": {},
     "output_type": "display_data"
    }
   ],
   "source": [
    "##Regression analysis for causal inference with the social pressure experiment\n",
    "\n",
    "Regression_SP = lm(Vote~CivicDuty+Hawthorne+Self+Neighbors,data=SocialPressure)\n",
    "summary(Regression_SP)"
   ]
  },
  {
   "cell_type": "code",
   "execution_count": 24,
   "metadata": {},
   "outputs": [
    {
     "data": {
      "text/plain": [
       "\n",
       "\tWelch Two Sample t-test\n",
       "\n",
       "data:  Treatment_CivicDuty$hh_size and Control$hh_size\n",
       "t = -0.72589, df = 54657, p-value = 0.4679\n",
       "alternative hypothesis: true difference in means is not equal to 0\n",
       "95 percent confidence interval:\n",
       " -0.012654658  0.005814596\n",
       "sample estimates:\n",
       "mean of x mean of y \n",
       " 2.679366  2.682786 \n"
      ]
     },
     "metadata": {},
     "output_type": "display_data"
    },
    {
     "data": {
      "text/html": [
       "-0.00406427252346559"
      ],
      "text/latex": [
       "-0.00406427252346559"
      ],
      "text/markdown": [
       "-0.00406427252346559"
      ],
      "text/plain": [
       "[1] -0.004064273"
      ]
     },
     "metadata": {},
     "output_type": "display_data"
    }
   ],
   "source": [
    "## Balance Check for the different treatment goups\n",
    "\n",
    "##hh_size (Household size)\n",
    "\n",
    "t.test(Treatment_CivicDuty$hh_size,Control$hh_size)\n",
    "\n",
    "\n",
    "#Bias = Difference of mean/square root of average variance, balanced if this ratio is smaller than 3%-5%\n",
    "(mean(Treatment_CivicDuty$hh_size)-mean(Control$hh_size))/sqrt((sd(Treatment_CivicDuty$hh_size)^2+sd(Control$hh_size)^2)/2)\n",
    "\n",
    "##The other covariates and be checked similarly."
   ]
  },
  {
   "cell_type": "code",
   "execution_count": 25,
   "metadata": {},
   "outputs": [
    {
     "data": {
      "text/plain": [
       "\n",
       "Call:\n",
       "lm(formula = CivicDuty ~ hh_size + g2000 + g2002 + g2004 + p2000 + \n",
       "    p2002 + p2004 + gender + yob, data = SocialPressure)\n",
       "\n",
       "Residuals:\n",
       "    Min      1Q  Median      3Q     Max \n",
       "-0.1152 -0.1118 -0.1109 -0.1098  0.8932 \n",
       "\n",
       "Coefficients:\n",
       "              Estimate Std. Error t value Pr(>|t|)\n",
       "(Intercept)  7.017e-02  7.008e-02   1.001    0.317\n",
       "hh_size     -5.380e-04  6.363e-04  -0.846    0.398\n",
       "g2000       -7.505e-04  1.113e-03  -0.674    0.500\n",
       "g2002       -2.091e-04  1.097e-03  -0.191    0.849\n",
       "g2004        9.952e-04  1.155e-03   0.861    0.389\n",
       "p2000       -9.648e-04  1.121e-03  -0.860    0.390\n",
       "p2002        9.186e-05  1.102e-03   0.083    0.934\n",
       "p2004        7.658e-04  1.136e-03   0.674    0.500\n",
       "gender       1.431e-03  1.071e-03   1.335    0.182\n",
       "yob          2.126e-05  3.569e-05   0.596    0.551\n",
       "\n",
       "Residual standard error: 0.3142 on 344074 degrees of freedom\n",
       "Multiple R-squared:  1.532e-05,\tAdjusted R-squared:  -1.083e-05 \n",
       "F-statistic: 0.5859 on 9 and 344074 DF,  p-value: 0.8099\n"
      ]
     },
     "metadata": {},
     "output_type": "display_data"
    }
   ],
   "source": [
    "## Use Regression to do balance check\n",
    "\n",
    "BalanceCheck = lm(CivicDuty~hh_size+g2000+g2002+g2004+p2000+p2002+p2004+gender+yob,data = SocialPressure)\n",
    "summary(BalanceCheck)"
   ]
  },
  {
   "cell_type": "code",
   "execution_count": null,
   "metadata": {},
   "outputs": [],
   "source": []
  }
 ],
 "metadata": {
  "kernelspec": {
   "display_name": "R",
   "language": "R",
   "name": "ir"
  },
  "language_info": {
   "codemirror_mode": "r",
   "file_extension": ".r",
   "mimetype": "text/x-r-source",
   "name": "R",
   "pygments_lexer": "r",
   "version": "3.5.1"
  }
 },
 "nbformat": 4,
 "nbformat_minor": 2
}
