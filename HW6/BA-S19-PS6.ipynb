{
 "cells": [
  {
   "cell_type": "markdown",
   "metadata": {},
   "source": [
    "## Question 1\n",
    "\n",
    "### (A).\n",
    "$\\hat{ATE} = \\frac{3}{6}-\\frac{3}{6} = 0$\n",
    "\n",
    "### (B).\n",
    "$ATE = \\frac{6}{12} = 0.5$\n",
    "\n",
    "### (C).\n",
    "Because Assignment to treatment is not uncorrelated with outcomes,we have selection bias in this case. Therefore, ATE and $\\hat{ATE}$ is different.\n",
    "\n",
    "### (D).\n",
    "$ATT = \\frac{1+1-1}{6} = \\frac{1}{6}$\n",
    "\n",
    "$ATC = \\frac{0}{6} = 0$\n",
    "\n",
    "### (E).\n",
    "$SB(0) =\\frac{2}{6} - \\frac{3}{6} = -\\frac{1}{6}$\n",
    "\n",
    "$SB(1) =\\frac{3}{6} - \\frac{3}{6} = 0$\n",
    "\n",
    "## Question 2\n",
    "\n",
    "### (A)."
   ]
  },
  {
   "cell_type": "code",
   "execution_count": 2,
   "metadata": {},
   "outputs": [
    {
     "name": "stdout",
     "output_type": "stream",
     "text": [
      "'data.frame':\t344084 obs. of  14 variables:\n",
      " $ Vote     : int  0 0 1 0 1 0 1 1 0 1 ...\n",
      " $ CivicDuty: int  0 0 0 0 0 0 0 0 0 0 ...\n",
      " $ Hawthorne: int  0 0 0 0 0 0 0 0 0 0 ...\n",
      " $ Self     : int  0 0 0 0 0 0 0 0 0 0 ...\n",
      " $ Neighbors: int  0 0 0 0 0 0 0 0 0 0 ...\n",
      " $ hh_size  : int  3 3 4 3 4 4 2 2 4 4 ...\n",
      " $ g2000    : int  1 1 0 0 0 0 0 0 0 1 ...\n",
      " $ g2002    : int  0 1 1 1 0 0 1 1 1 1 ...\n",
      " $ g2004    : int  1 0 1 1 0 0 0 0 0 0 ...\n",
      " $ p2000    : int  0 0 0 0 0 1 0 1 0 0 ...\n",
      " $ p2002    : int  1 0 0 1 0 0 0 0 0 0 ...\n",
      " $ p2004    : int  0 0 1 0 1 1 1 1 1 1 ...\n",
      " $ gender   : int  0 0 1 1 0 0 1 1 1 1 ...\n",
      " $ yob      : int  1987 1967 1979 1951 1942 1954 1982 1985 1966 1968 ...\n"
     ]
    }
   ],
   "source": [
    "# Load the social pressure experiment results data\n",
    "SocialPressure = read.csv(\"D:/Study/Business Analytics/LA/HW6/SocialPressure.csv\")\n",
    "str(SocialPressure)Zz"
   ]
  },
  {
   "cell_type": "code",
   "execution_count": 3,
   "metadata": {},
   "outputs": [
    {
     "name": "stdout",
     "output_type": "stream",
     "text": [
      "'data.frame':\t191243 obs. of  14 variables:\n",
      " $ Vote     : int  0 0 1 0 1 0 1 1 0 1 ...\n",
      " $ CivicDuty: int  0 0 0 0 0 0 0 0 0 0 ...\n",
      " $ Hawthorne: int  0 0 0 0 0 0 0 0 0 0 ...\n",
      " $ Self     : int  0 0 0 0 0 0 0 0 0 0 ...\n",
      " $ Neighbors: int  0 0 0 0 0 0 0 0 0 0 ...\n",
      " $ hh_size  : int  3 3 4 3 4 4 2 2 4 4 ...\n",
      " $ g2000    : int  1 1 0 0 0 0 0 0 0 1 ...\n",
      " $ g2002    : int  0 1 1 1 0 0 1 1 1 1 ...\n",
      " $ g2004    : int  1 0 1 1 0 0 0 0 0 0 ...\n",
      " $ p2000    : int  0 0 0 0 0 1 0 1 0 0 ...\n",
      " $ p2002    : int  1 0 0 1 0 0 0 0 0 0 ...\n",
      " $ p2004    : int  0 0 1 0 1 1 1 1 1 1 ...\n",
      " $ gender   : int  0 0 1 1 0 0 1 1 1 1 ...\n",
      " $ yob      : int  1987 1967 1979 1951 1942 1954 1982 1985 1966 1968 ...\n"
     ]
    }
   ],
   "source": [
    "# Estimating the causal effect of different treatments\n",
    "#Control group\n",
    "Control = subset(subset(subset(subset(SocialPressure,CivicDuty==0),Hawthorne==0),Self==0),Neighbors==0)\n",
    "str(Control)"
   ]
  },
  {
   "cell_type": "code",
   "execution_count": 4,
   "metadata": {},
   "outputs": [
    {
     "name": "stdout",
     "output_type": "stream",
     "text": [
      "'data.frame':\t38218 obs. of  14 variables:\n",
      " $ Vote     : int  0 1 1 1 0 0 0 0 0 0 ...\n",
      " $ CivicDuty: int  1 1 1 1 1 1 1 1 1 1 ...\n",
      " $ Hawthorne: int  0 0 0 0 0 0 0 0 0 0 ...\n",
      " $ Self     : int  0 0 0 0 0 0 0 0 0 0 ...\n",
      " $ Neighbors: int  0 0 0 0 0 0 0 0 0 0 ...\n",
      " $ hh_size  : int  2 3 1 3 4 2 2 2 3 3 ...\n",
      " $ g2000    : int  1 0 1 0 1 0 0 0 0 0 ...\n",
      " $ g2002    : int  0 0 1 0 1 1 0 1 0 0 ...\n",
      " $ g2004    : int  0 1 0 0 0 0 1 0 0 0 ...\n",
      " $ p2000    : int  1 0 1 0 0 0 0 1 0 0 ...\n",
      " $ p2002    : int  0 0 0 0 0 1 1 0 1 0 ...\n",
      " $ p2004    : int  1 0 0 1 1 0 0 1 0 1 ...\n",
      " $ gender   : int  1 0 0 1 0 0 1 0 1 0 ...\n",
      " $ yob      : int  1964 1940 1937 1972 1980 1955 1953 1958 1956 1973 ...\n"
     ]
    }
   ],
   "source": [
    "#Treatment Group of Civic Duty\n",
    "Treatment_CivicDuty = subset(SocialPressure,CivicDuty==1)\n",
    "str(Treatment_CivicDuty)"
   ]
  },
  {
   "cell_type": "code",
   "execution_count": 5,
   "metadata": {},
   "outputs": [
    {
     "name": "stdout",
     "output_type": "stream",
     "text": [
      "'data.frame':\t38204 obs. of  14 variables:\n",
      " $ Vote     : int  1 1 0 0 0 0 1 0 0 0 ...\n",
      " $ CivicDuty: int  0 0 0 0 0 0 0 0 0 0 ...\n",
      " $ Hawthorne: int  1 1 1 1 1 1 1 1 1 1 ...\n",
      " $ Self     : int  0 0 0 0 0 0 0 0 0 0 ...\n",
      " $ Neighbors: int  0 0 0 0 0 0 0 0 0 0 ...\n",
      " $ hh_size  : int  2 1 3 3 4 3 1 2 3 3 ...\n",
      " $ g2000    : int  1 0 0 1 0 0 0 0 1 0 ...\n",
      " $ g2002    : int  1 1 0 0 1 1 0 1 1 1 ...\n",
      " $ g2004    : int  1 1 1 0 1 1 0 0 1 0 ...\n",
      " $ p2000    : int  0 0 1 0 1 0 1 1 0 1 ...\n",
      " $ p2002    : int  1 0 0 1 0 0 0 0 1 0 ...\n",
      " $ p2004    : int  0 1 0 1 0 1 1 0 0 0 ...\n",
      " $ gender   : int  1 0 0 1 1 0 0 1 0 1 ...\n",
      " $ yob      : int  1986 1945 1941 1976 1942 1944 1975 1949 1952 1940 ...\n"
     ]
    }
   ],
   "source": [
    "#Treatment Group of Hawthorne\n",
    "Treatment_Hawthorne = subset(SocialPressure,Hawthorne==1)\n",
    "str(Treatment_Hawthorne)"
   ]
  },
  {
   "cell_type": "code",
   "execution_count": 6,
   "metadata": {},
   "outputs": [
    {
     "name": "stdout",
     "output_type": "stream",
     "text": [
      "'data.frame':\t38218 obs. of  14 variables:\n",
      " $ Vote     : int  0 0 1 0 1 1 1 0 0 1 ...\n",
      " $ CivicDuty: int  0 0 0 0 0 0 0 0 0 0 ...\n",
      " $ Hawthorne: int  0 0 0 0 0 0 0 0 0 0 ...\n",
      " $ Self     : int  1 1 1 1 1 1 1 1 1 1 ...\n",
      " $ Neighbors: int  0 0 0 0 0 0 0 0 0 0 ...\n",
      " $ hh_size  : int  4 3 2 3 2 2 3 2 2 3 ...\n",
      " $ g2000    : int  1 0 0 1 0 0 1 1 0 1 ...\n",
      " $ g2002    : int  1 0 0 0 0 0 0 1 0 0 ...\n",
      " $ g2004    : int  0 0 0 1 1 1 0 1 0 0 ...\n",
      " $ p2000    : int  0 0 0 1 0 1 0 0 0 0 ...\n",
      " $ p2002    : int  0 1 0 0 0 0 1 0 1 0 ...\n",
      " $ p2004    : int  1 0 0 0 0 0 1 0 0 0 ...\n",
      " $ gender   : int  0 0 1 1 1 1 1 1 0 1 ...\n",
      " $ yob      : int  1976 1954 1966 1969 1941 1988 1942 1938 1945 1981 ...\n"
     ]
    }
   ],
   "source": [
    "#Treatment Group of Self\n",
    "Treatment_Self = subset(SocialPressure,Self==1)\n",
    "str(Treatment_Self)"
   ]
  },
  {
   "cell_type": "code",
   "execution_count": 7,
   "metadata": {},
   "outputs": [
    {
     "name": "stdout",
     "output_type": "stream",
     "text": [
      "'data.frame':\t38201 obs. of  14 variables:\n",
      " $ Vote     : int  1 0 1 1 1 0 0 0 0 0 ...\n",
      " $ CivicDuty: int  0 0 0 0 0 0 0 0 0 0 ...\n",
      " $ Hawthorne: int  0 0 0 0 0 0 0 0 0 0 ...\n",
      " $ Self     : int  0 0 0 0 0 0 0 0 0 0 ...\n",
      " $ Neighbors: int  1 1 1 1 1 1 1 1 1 1 ...\n",
      " $ hh_size  : int  2 2 2 3 2 1 2 3 2 3 ...\n",
      " $ g2000    : int  0 1 0 0 0 1 1 1 1 0 ...\n",
      " $ g2002    : int  0 1 0 0 1 0 0 0 1 1 ...\n",
      " $ g2004    : int  1 0 0 0 0 0 0 0 1 0 ...\n",
      " $ p2000    : int  1 0 1 1 1 0 0 1 0 1 ...\n",
      " $ p2002    : int  0 0 0 0 0 0 0 1 0 0 ...\n",
      " $ p2004    : int  1 0 0 0 0 1 0 0 0 0 ...\n",
      " $ gender   : int  1 0 0 1 1 0 1 1 0 1 ...\n",
      " $ yob      : int  1979 1950 1939 1956 1979 1986 1937 1949 1965 1948 ...\n"
     ]
    }
   ],
   "source": [
    "#Treatment Group of Neighbors\n",
    "Treatment_Neighbors = subset(SocialPressure,Neighbors==1)\n",
    "str(Treatment_Neighbors)"
   ]
  },
  {
   "cell_type": "code",
   "execution_count": null,
   "metadata": {},
   "outputs": [],
   "source": [
    "## Use Regression to do balance check\n",
    "BalanceCheck1 = lm(CivicDuty~hh_size+g2000+g2002+g2004+p2000+p2002+p2004+gender+yob,data = SocialPressure)\n",
    "summary(BalanceCheck1)\n",
    "\n",
    "BalanceCheck2 = lm(Hawthorne~hh_size+g2000+g2002+g2004+p2000+p2002+p2004+gender+yob,data = SocialPressure)\n",
    "summary(BalanceCheck2)\n",
    "\n",
    "BalanceCheck3 = lm(Self~hh_size+g2000+g2002+g2004+p2000+p2002+p2004+gender+yob,data = SocialPressure)\n",
    "summary(BalanceCheck3)\n",
    "\n",
    "BalanceCheck4 = lm(Neighbors~hh_size+g2000+g2002+g2004+p2000+p2002+p2004+gender+yob,data = SocialPressure)\n",
    "summary(BalanceCheck4)"
   ]
  },
  {
   "cell_type": "markdown",
   "metadata": {},
   "source": [
    "We check the t-values of the independent variables in the regressions. We found that in most of the cases the variables are not statistically significant, so we consider the sample to be balanced."
   ]
  },
  {
   "cell_type": "markdown",
   "metadata": {},
   "source": [
    "## Question 3"
   ]
  },
  {
   "cell_type": "code",
   "execution_count": 1,
   "metadata": {},
   "outputs": [
    {
     "name": "stdout",
     "output_type": "stream",
     "text": [
      "'data.frame':\t472 obs. of  7 variables:\n",
      " $ id          : int  1 2 3 4 5 6 7 8 9 10 ...\n",
      " $ treat.invite: int  0 1 1 1 0 1 0 1 1 0 ...\n",
      " $ pct.missing : num  0.3853 -0.0957 0.1477 -0.1826 -0.293 ...\n",
      " $ head.edu    : int  6 14 12 9 9 9 12 16 12 12 ...\n",
      " $ mosques     : num  0.908 1.067 0.712 0.949 1.623 ...\n",
      " $ pct.poor    : num  0.4 0.186 0.4 0.438 0.313 ...\n",
      " $ total.budget: num  40.6 69.3 41.1 17.1 72.1 ...\n"
     ]
    }
   ],
   "source": [
    "Corruption = read.csv(\"D:/Study/Business Analytics/LA/HW6/CorruptionExperiment.csv\")\n",
    "str(Corruption)"
   ]
  },
  {
   "cell_type": "markdown",
   "metadata": {},
   "source": [
    "## (A)."
   ]
  },
  {
   "cell_type": "code",
   "execution_count": 2,
   "metadata": {},
   "outputs": [
    {
     "data": {
      "text/plain": [
       "\n",
       "Call:\n",
       "lm(formula = treat.invite ~ head.edu + mosques + pct.poor + total.budget, \n",
       "    data = Corruption)\n",
       "\n",
       "Residuals:\n",
       "    Min      1Q  Median      3Q     Max \n",
       "-0.7075 -0.6474  0.3263  0.3449  0.4480 \n",
       "\n",
       "Coefficients:\n",
       "               Estimate Std. Error t value Pr(>|t|)    \n",
       "(Intercept)   6.767e-01  1.172e-01   5.772 1.43e-08 ***\n",
       "head.edu     -8.972e-04  8.099e-03  -0.111    0.912    \n",
       "mosques      -1.871e-02  2.646e-02  -0.707    0.480    \n",
       "pct.poor      5.744e-02  1.044e-01   0.550    0.582    \n",
       "total.budget -4.698e-05  4.013e-04  -0.117    0.907    \n",
       "---\n",
       "Signif. codes:  0 '***' 0.001 '**' 0.01 '*' 0.05 '.' 0.1 ' ' 1\n",
       "\n",
       "Residual standard error: 0.4762 on 467 degrees of freedom\n",
       "Multiple R-squared:  0.00163,\tAdjusted R-squared:  -0.006921 \n",
       "F-statistic: 0.1906 on 4 and 467 DF,  p-value: 0.9433\n"
      ]
     },
     "metadata": {},
     "output_type": "display_data"
    }
   ],
   "source": [
    "BalanceCheck = lm(treat.invite~head.edu +mosques+pct.poor+total.budget,data = Corruption)\n",
    "summary(BalanceCheck)"
   ]
  },
  {
   "cell_type": "markdown",
   "metadata": {},
   "source": [
    "The independent variables are not statistically significant, so the sample can be considered as balanced."
   ]
  },
  {
   "cell_type": "markdown",
   "metadata": {},
   "source": [
    "## (B)."
   ]
  },
  {
   "cell_type": "code",
   "execution_count": 3,
   "metadata": {},
   "outputs": [
    {
     "data": {
      "text/html": [
       "-0.0249495273729704"
      ],
      "text/latex": [
       "-0.0249495273729704"
      ],
      "text/markdown": [
       "-0.0249495273729704"
      ],
      "text/plain": [
       "[1] -0.02494953"
      ]
     },
     "metadata": {},
     "output_type": "display_data"
    },
    {
     "data": {
      "text/html": [
       "0.0399268444748012"
      ],
      "text/latex": [
       "0.0399268444748012"
      ],
      "text/markdown": [
       "0.0399268444748012"
      ],
      "text/plain": [
       "[1] 0.03992684"
      ]
     },
     "metadata": {},
     "output_type": "display_data"
    },
    {
     "data": {
      "text/html": [
       "-0.0898258992207419"
      ],
      "text/latex": [
       "-0.0898258992207419"
      ],
      "text/markdown": [
       "-0.0898258992207419"
      ],
      "text/plain": [
       "[1] -0.0898259"
      ]
     },
     "metadata": {},
     "output_type": "display_data"
    }
   ],
   "source": [
    "# Calculate the estimated ATE and the standard deviation of ATE\n",
    "\n",
    "Control = subset(Corruption,treat.invite==0)\n",
    "Treatment = subset(Corruption,treat.invite==1)\n",
    "\n",
    "n1 = nrow(Treatment)\n",
    "n0 = nrow(Control)\n",
    "\n",
    "ATE = mean(Treatment$pct.missing)-mean(Control$pct.missing)\n",
    "ATE.STD=sqrt(sd(Treatment$pct.missing)^2/n1+sd(Control$pct.missing)^2/n0)\n",
    "\n",
    "UCB_95 = ATE+1.96*ATE.STD\n",
    "LCB_95 = ATE-1.96*ATE.STD\n",
    "\n",
    "\n",
    "ATE\n",
    "UCB_95\n",
    "LCB_95"
   ]
  },
  {
   "cell_type": "code",
   "execution_count": 4,
   "metadata": {},
   "outputs": [
    {
     "data": {
      "text/plain": [
       "\n",
       "Call:\n",
       "lm(formula = pct.missing ~ treat.invite, data = Corruption)\n",
       "\n",
       "Residuals:\n",
       "     Min       1Q   Median       3Q      Max \n",
       "-1.33064 -0.21249 -0.01284  0.18281  1.42154 \n",
       "\n",
       "Coefficients:\n",
       "             Estimate Std. Error t value Pr(>|t|)    \n",
       "(Intercept)   0.25277    0.02716   9.306   <2e-16 ***\n",
       "treat.invite -0.02495    0.03346  -0.746    0.456    \n",
       "---\n",
       "Signif. codes:  0 '***' 0.001 '**' 0.01 '*' 0.05 '.' 0.1 ' ' 1\n",
       "\n",
       "Residual standard error: 0.3447 on 470 degrees of freedom\n",
       "Multiple R-squared:  0.001181,\tAdjusted R-squared:  -0.0009438 \n",
       "F-statistic: 0.5559 on 1 and 470 DF,  p-value: 0.4563\n"
      ]
     },
     "metadata": {},
     "output_type": "display_data"
    }
   ],
   "source": [
    "# And usinng regression\n",
    "Regression1 = lm(pct.missing~treat.invite,data=Corruption)\n",
    "summary(Regression1)"
   ]
  },
  {
   "cell_type": "markdown",
   "metadata": {},
   "source": [
    "The treatment is not statistically significant with 95% Confidence Interval\n",
    "\n",
    "## (C）"
   ]
  },
  {
   "cell_type": "code",
   "execution_count": 2,
   "metadata": {},
   "outputs": [
    {
     "data": {
      "text/plain": [
       "\n",
       "Call:\n",
       "lm(formula = pct.missing ~ treat.invite + head.edu + mosques + \n",
       "    pct.poor + total.budget, data = Corruption)\n",
       "\n",
       "Residuals:\n",
       "     Min       1Q   Median       3Q      Max \n",
       "-1.28605 -0.21411 -0.01291  0.18932  1.42530 \n",
       "\n",
       "Coefficients:\n",
       "               Estimate Std. Error t value Pr(>|t|)    \n",
       "(Intercept)   0.3904455  0.0869471   4.491 8.96e-06 ***\n",
       "treat.invite -0.0264183  0.0331558  -0.797   0.4260    \n",
       "head.edu     -0.0055082  0.0058032  -0.949   0.3430    \n",
       "mosques      -0.0481914  0.0189702  -2.540   0.0114 *  \n",
       "pct.poor     -0.1177125  0.0747921  -1.574   0.1162    \n",
       "total.budget  0.0005307  0.0002875   1.846   0.0655 .  \n",
       "---\n",
       "Signif. codes:  0 '***' 0.001 '**' 0.01 '*' 0.05 '.' 0.1 ' ' 1\n",
       "\n",
       "Residual standard error: 0.3412 on 466 degrees of freedom\n",
       "Multiple R-squared:  0.0294,\tAdjusted R-squared:  0.01898 \n",
       "F-statistic: 2.823 on 5 and 466 DF,  p-value: 0.01594\n"
      ]
     },
     "metadata": {},
     "output_type": "display_data"
    }
   ],
   "source": [
    "# And usinng regression\n",
    "Regression1 = lm(pct.missing~treat.invite+head.edu +mosques+pct.poor+total.budget,data=Corruption)\n",
    "summary(Regression1)"
   ]
  },
  {
   "cell_type": "markdown",
   "metadata": {},
   "source": [
    "The estimated coefficient is -0.0264183. As we see from question 3(A), the ATE estimate is -0.0249495273729704.\n",
    "These are not significantly."
   ]
  },
  {
   "cell_type": "code",
   "execution_count": null,
   "metadata": {},
   "outputs": [],
   "source": []
  }
 ],
 "metadata": {
  "kernelspec": {
   "display_name": "R",
   "language": "R",
   "name": "ir"
  },
  "language_info": {
   "codemirror_mode": "r",
   "file_extension": ".r",
   "mimetype": "text/x-r-source",
   "name": "R",
   "pygments_lexer": "r",
   "version": "3.5.1"
  }
 },
 "nbformat": 4,
 "nbformat_minor": 2
}
